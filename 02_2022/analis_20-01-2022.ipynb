{
 "cells": [
  {
   "cell_type": "markdown",
   "id": "c92a651e",
   "metadata": {
    "toc": true
   },
   "source": [
    "<h1>Содержание<span class=\"tocSkip\"></span></h1>\n",
    "<div class=\"toc\"><ul class=\"toc-item\"><li><span><a href=\"#Описание-проекта\" data-toc-modified-id=\"Описание-проекта-1\"><span class=\"toc-item-num\">1&nbsp;&nbsp;</span>Описание проекта</a></span><ul class=\"toc-item\"><li><span><a href=\"#Основные-положения\" data-toc-modified-id=\"Основные-положения-1.1\"><span class=\"toc-item-num\">1.1&nbsp;&nbsp;</span>Основные положения</a></span></li><li><span><a href=\"#План-работы,-декомпозиция\" data-toc-modified-id=\"План-работы,-декомпозиция-1.2\"><span class=\"toc-item-num\">1.2&nbsp;&nbsp;</span>План работы, декомпозиция</a></span></li></ul></li><li><span><a href=\"#Загрузка-и-открытие-данных\" data-toc-modified-id=\"Загрузка-и-открытие-данных-2\"><span class=\"toc-item-num\">2&nbsp;&nbsp;</span>Загрузка и открытие данных</a></span><ul class=\"toc-item\"><li><span><a href=\"#Библиотеки\" data-toc-modified-id=\"Библиотеки-2.1\"><span class=\"toc-item-num\">2.1&nbsp;&nbsp;</span>Библиотеки</a></span><ul class=\"toc-item\"><li><span><a href=\"#Загрузка-данных\" data-toc-modified-id=\"Загрузка-данных-2.1.1\"><span class=\"toc-item-num\">2.1.1&nbsp;&nbsp;</span>Загрузка данных</a></span></li></ul></li><li><span><a href=\"#Вывод\" data-toc-modified-id=\"Вывод-2.2\"><span class=\"toc-item-num\">2.2&nbsp;&nbsp;</span>Вывод</a></span></li></ul></li><li><span><a href=\"#Предобработка-данных\" data-toc-modified-id=\"Предобработка-данных-3\"><span class=\"toc-item-num\">3&nbsp;&nbsp;</span>Предобработка данных</a></span><ul class=\"toc-item\"><li><span><a href=\"#Работа-с-пропусками\" data-toc-modified-id=\"Работа-с-пропусками-3.1\"><span class=\"toc-item-num\">3.1&nbsp;&nbsp;</span>Работа с пропусками</a></span></li><li><span><a href=\"#Работа-с-типами-данных\" data-toc-modified-id=\"Работа-с-типами-данных-3.2\"><span class=\"toc-item-num\">3.2&nbsp;&nbsp;</span>Работа с типами данных</a></span></li><li><span><a href=\"#Проверим-наши-данные\" data-toc-modified-id=\"Проверим-наши-данные-3.3\"><span class=\"toc-item-num\">3.3&nbsp;&nbsp;</span>Проверим наши данные</a></span></li><li><span><a href=\"#Поиск-дубликатов\" data-toc-modified-id=\"Поиск-дубликатов-3.4\"><span class=\"toc-item-num\">3.4&nbsp;&nbsp;</span>Поиск дубликатов</a></span></li><li><span><a href=\"#Изучение-данных-на-корректность\" data-toc-modified-id=\"Изучение-данных-на-корректность-3.5\"><span class=\"toc-item-num\">3.5&nbsp;&nbsp;</span>Изучение данных на корректность</a></span></li><li><span><a href=\"#Вывод\" data-toc-modified-id=\"Вывод-3.6\"><span class=\"toc-item-num\">3.6&nbsp;&nbsp;</span>Вывод</a></span></li></ul></li><li><span><a href=\"#Анализ-данных\" data-toc-modified-id=\"Анализ-данных-4\"><span class=\"toc-item-num\">4&nbsp;&nbsp;</span>Анализ данных</a></span><ul class=\"toc-item\"><li><span><a href=\"#Изучим-таблиу-accounts\" data-toc-modified-id=\"Изучим-таблиу-accounts-4.1\"><span class=\"toc-item-num\">4.1&nbsp;&nbsp;</span>Изучим таблиу accounts</a></span></li><li><span><a href=\"#Изучим-таблицу-jobs\" data-toc-modified-id=\"Изучим-таблицу-jobs-4.2\"><span class=\"toc-item-num\">4.2&nbsp;&nbsp;</span>Изучим таблицу jobs</a></span><ul class=\"toc-item\"><li><span><a href=\"#Список-не-активных-заказчиков\" data-toc-modified-id=\"Список-не-активных-заказчиков-4.2.1\"><span class=\"toc-item-num\">4.2.1&nbsp;&nbsp;</span>Список не активных заказчиков</a></span></li><li><span><a href=\"#Посмотрим-средние-показатели-кол-ва-заказов-по-заказчикам-и-месяцам\" data-toc-modified-id=\"Посмотрим-средние-показатели-кол-ва-заказов-по-заказчикам-и-месяцам-4.2.2\"><span class=\"toc-item-num\">4.2.2&nbsp;&nbsp;</span>Посмотрим средние показатели кол-ва заказов по заказчикам и месяцам</a></span></li><li><span><a href=\"#Графики-по-кол-ву-заказов,-среднее-и-скользящее\" data-toc-modified-id=\"Графики-по-кол-ву-заказов,-среднее-и-скользящее-4.2.3\"><span class=\"toc-item-num\">4.2.3&nbsp;&nbsp;</span>Графики по кол-ву заказов, среднее и скользящее</a></span></li><li><span><a href=\"#Расчёт-задержки-публикаций-заданий\" data-toc-modified-id=\"Расчёт-задержки-публикаций-заданий-4.2.4\"><span class=\"toc-item-num\">4.2.4&nbsp;&nbsp;</span>Расчёт задержки публикаций заданий</a></span></li><li><span><a href=\"#Сколько-времени-нужно-на-выполнение-заданий\" data-toc-modified-id=\"Сколько-времени-нужно-на-выполнение-заданий-4.2.5\"><span class=\"toc-item-num\">4.2.5&nbsp;&nbsp;</span>Сколько времени нужно на выполнение заданий</a></span></li><li><span><a href=\"#Посмотрим-средний-чек\" data-toc-modified-id=\"Посмотрим-средний-чек-4.2.6\"><span class=\"toc-item-num\">4.2.6&nbsp;&nbsp;</span>Посмотрим средний чек</a></span></li><li><span><a href=\"#Сколько-исполнители-получают-от-заказчиков-в-месяц,-их-зарплата\" data-toc-modified-id=\"Сколько-исполнители-получают-от-заказчиков-в-месяц,-их-зарплата-4.2.7\"><span class=\"toc-item-num\">4.2.7&nbsp;&nbsp;</span>Сколько исполнители получают от заказчиков в месяц, их зарплата</a></span></li><li><span><a href=\"#Вывод\" data-toc-modified-id=\"Вывод-4.2.8\"><span class=\"toc-item-num\">4.2.8&nbsp;&nbsp;</span>Вывод</a></span></li></ul></li><li><span><a href=\"#Изучим-таблицу-jobOffers\" data-toc-modified-id=\"Изучим-таблицу-jobOffers-4.3\"><span class=\"toc-item-num\">4.3&nbsp;&nbsp;</span>Изучим таблицу jobOffers</a></span></li></ul></li></ul></div>"
   ]
  },
  {
   "cell_type": "markdown",
   "id": "d5e15035",
   "metadata": {},
   "source": [
    "Свои комментарии вы можете оставить таким образом:"
   ]
  },
  {
   "cell_type": "markdown",
   "id": "c1e1c928",
   "metadata": {},
   "source": [
    "<div class=\"alert alert-warning\">\n",
    "<b>если что то непонятно или какие то недочёты </b>\n",
    "</div>"
   ]
  },
  {
   "cell_type": "markdown",
   "id": "4b6b8ff8",
   "metadata": {},
   "source": [
    "<div class=\"alert alert-success\">\n",
    "<b>если всё оk </b>\n",
    "</div>"
   ]
  },
  {
   "cell_type": "markdown",
   "id": "52ad7c51",
   "metadata": {},
   "source": [
    "<div class=\"alert alert-danger\">\n",
    "<b>если критичная ошибка </b>\n",
    "</div>"
   ]
  },
  {
   "cell_type": "markdown",
   "id": "ca1ce996",
   "metadata": {},
   "source": [
    "# Описание проекта"
   ]
  },
  {
   "cell_type": "markdown",
   "id": "ebd8cc3b",
   "metadata": {},
   "source": [
    "Для кампании Qugo провести анализ и исследование пяти таблиц: \n",
    "\n",
    "1. **a__accounts_view**\n",
    "2. **a__jobOffers_view**\n",
    "3. **a__jobs_view**\n",
    "4. **a__users_view**\n",
    "5. **a__workmans_view**\n",
    "\n",
    "В кампании для анализа бизнеса есть различные графики, которые загружаются в *google_study*, желательно найти дополнительные параметры, которые можно оценить."
   ]
  },
  {
   "cell_type": "markdown",
   "id": "5f012c19",
   "metadata": {},
   "source": [
    "## Основные положения"
   ]
  },
  {
   "cell_type": "markdown",
   "id": "a6c6e73f",
   "metadata": {},
   "source": [
    "Заказчик - продакт менеджер Антон\n",
    "\n",
    "Цель исследования - найти интересные параметры\n",
    "\n",
    "Исходные данные - пять таблиц  об аккаунтах заказчиков, предложениях работы, о согласиях на работу, всех пользователях и исполнителях."
   ]
  },
  {
   "cell_type": "markdown",
   "id": "29567383",
   "metadata": {},
   "source": [
    "## План работы, декомпозиция"
   ]
  },
  {
   "cell_type": "markdown",
   "id": "35606432",
   "metadata": {},
   "source": [
    "1. Загрузка и открытие данных\n",
    "    - предварительная оценка\n",
    "2. Предобработка данных\n",
    "    - Работа с типами данных\n",
    "    - Изучение данных на корректность\n",
    "    - Обработка дубликатов\n",
    "    - Обработка пропущенных значений\n",
    "3. Анализ данных\n",
    "    - Сколько у нас заказчиков? Какова их активность по различным параметрам?\n",
    "        - Анализ по времени кол-ва заказов, средних        \n",
    "        - Задержки между публикациями заданий\n",
    "        - Анализ по городам\n",
    "    - Сколько у нас исполнителей? Какова их активность по различным параметрам?\n",
    "        - Проанализировать их пол, возраст, активность по времени\n",
    "        - Оценить различные параметры относительно городов\n",
    "        - Частота выплат, месячный доход, месячный налог. Доля исполнителей за кого мы платим налог\n",
    "    - Проанализировать выполнение заказов в различных городах, их стоимость, скорость выполнения"
   ]
  },
  {
   "cell_type": "markdown",
   "id": "54c964a5",
   "metadata": {},
   "source": [
    "# Загрузка и открытие данных"
   ]
  },
  {
   "cell_type": "markdown",
   "id": "eeb9f51c",
   "metadata": {},
   "source": [
    "## Библиотеки"
   ]
  },
  {
   "cell_type": "code",
   "execution_count": 1,
   "id": "9350d0e7",
   "metadata": {},
   "outputs": [],
   "source": [
    "# достаём библиотеки\n",
    "import matplotlib.pyplot as plt\n",
    "import pandas as pd\n",
    "from scipy import stats as st\n",
    "\n",
    "# библиотека сиборн для визуализации на Питоне поверх matplotlib\n",
    "import seaborn as sns"
   ]
  },
  {
   "cell_type": "code",
   "execution_count": 2,
   "id": "479db1ca",
   "metadata": {},
   "outputs": [],
   "source": [
    "# format вывода значений в виде числа с 2-мя знаками после запятой\n",
    "pd.options.display.float_format = '{:,.2f}'.format"
   ]
  },
  {
   "cell_type": "code",
   "execution_count": 3,
   "id": "4870fa8a",
   "metadata": {},
   "outputs": [],
   "source": [
    "# уберём warnings\n",
    "import sys\n",
    "import warnings\n",
    "if not sys.warnoptions:\n",
    "       warnings.simplefilter(\"ignore\")"
   ]
  },
  {
   "cell_type": "markdown",
   "id": "40972ab9",
   "metadata": {},
   "source": [
    "### Загрузка данных"
   ]
  },
  {
   "cell_type": "code",
   "execution_count": 4,
   "id": "cb191a63",
   "metadata": {},
   "outputs": [],
   "source": [
    "accounts = pd.read_csv('C:/Users/Mikhail.DESKTOP-Q8U96GO/my_datasets/a__accounts_view.csv', sep=';')"
   ]
  },
  {
   "cell_type": "code",
   "execution_count": 5,
   "id": "9cdb43a7",
   "metadata": {},
   "outputs": [
    {
     "data": {
      "text/html": [
       "<div>\n",
       "<style scoped>\n",
       "    .dataframe tbody tr th:only-of-type {\n",
       "        vertical-align: middle;\n",
       "    }\n",
       "\n",
       "    .dataframe tbody tr th {\n",
       "        vertical-align: top;\n",
       "    }\n",
       "\n",
       "    .dataframe thead th {\n",
       "        text-align: right;\n",
       "    }\n",
       "</style>\n",
       "<table border=\"1\" class=\"dataframe\">\n",
       "  <thead>\n",
       "    <tr style=\"text-align: right;\">\n",
       "      <th></th>\n",
       "      <th>id</th>\n",
       "      <th>createDate</th>\n",
       "      <th>companyDetailsName</th>\n",
       "      <th>typeID</th>\n",
       "      <th>ownerUserID</th>\n",
       "      <th>lastLoginDate</th>\n",
       "      <th>ga_cid</th>\n",
       "      <th>registration_source</th>\n",
       "    </tr>\n",
       "  </thead>\n",
       "  <tbody>\n",
       "    <tr>\n",
       "      <td>0</td>\n",
       "      <td>6</td>\n",
       "      <td>2020-10-27 14:23:58</td>\n",
       "      <td>Михайлов Сергей Сергеевич</td>\n",
       "      <td>IP</td>\n",
       "      <td>1</td>\n",
       "      <td>2022-01-27 10:54:36</td>\n",
       "      <td>1,946,822,606.16</td>\n",
       "      <td>WEB</td>\n",
       "    </tr>\n",
       "    <tr>\n",
       "      <td>1</td>\n",
       "      <td>7</td>\n",
       "      <td>2020-10-28 11:28:48</td>\n",
       "      <td>Знак Игорь Леонидович</td>\n",
       "      <td>IP</td>\n",
       "      <td>4</td>\n",
       "      <td>2021-12-16 11:54:14</td>\n",
       "      <td>903,703,811.16</td>\n",
       "      <td>WEB</td>\n",
       "    </tr>\n",
       "    <tr>\n",
       "      <td>2</td>\n",
       "      <td>8</td>\n",
       "      <td>2020-10-29 14:27:43</td>\n",
       "      <td>Чахидзе Георгий Виссарионович</td>\n",
       "      <td>IP</td>\n",
       "      <td>3</td>\n",
       "      <td>2021-03-25 18:35:49</td>\n",
       "      <td>1,573,962,662.16</td>\n",
       "      <td>WEB</td>\n",
       "    </tr>\n",
       "    <tr>\n",
       "      <td>3</td>\n",
       "      <td>9</td>\n",
       "      <td>2020-11-18 14:43:29</td>\n",
       "      <td>Ровнова Екатерина Александровна</td>\n",
       "      <td>IP</td>\n",
       "      <td>43</td>\n",
       "      <td>2021-07-02 10:41:19</td>\n",
       "      <td>nan</td>\n",
       "      <td>WEB</td>\n",
       "    </tr>\n",
       "    <tr>\n",
       "      <td>4</td>\n",
       "      <td>10</td>\n",
       "      <td>2020-11-29 13:07:03</td>\n",
       "      <td>Сухорученко Дмитрий Алексеевич</td>\n",
       "      <td>IP</td>\n",
       "      <td>81</td>\n",
       "      <td>2021-12-07 19:33:00</td>\n",
       "      <td>244,096,378.16</td>\n",
       "      <td>WEB</td>\n",
       "    </tr>\n",
       "    <tr>\n",
       "      <td>5</td>\n",
       "      <td>11</td>\n",
       "      <td>2020-11-30 10:21:27</td>\n",
       "      <td>Чистота и Порядок</td>\n",
       "      <td>OOO</td>\n",
       "      <td>85</td>\n",
       "      <td>2021-12-06 18:32:59</td>\n",
       "      <td>629,614,999.16</td>\n",
       "      <td>WEB</td>\n",
       "    </tr>\n",
       "    <tr>\n",
       "      <td>6</td>\n",
       "      <td>12</td>\n",
       "      <td>2020-11-30 10:30:40</td>\n",
       "      <td>ВБК СЕРВИСЕС</td>\n",
       "      <td>OOO</td>\n",
       "      <td>86</td>\n",
       "      <td>2022-01-12 09:14:13</td>\n",
       "      <td>629,614,999.16</td>\n",
       "      <td>WEB</td>\n",
       "    </tr>\n",
       "    <tr>\n",
       "      <td>7</td>\n",
       "      <td>13</td>\n",
       "      <td>2020-11-30 10:39:17</td>\n",
       "      <td>ВБК СЕРВИСЕС</td>\n",
       "      <td>OOO</td>\n",
       "      <td>86</td>\n",
       "      <td>2022-01-12 09:14:13</td>\n",
       "      <td>629,614,999.16</td>\n",
       "      <td>WEB</td>\n",
       "    </tr>\n",
       "    <tr>\n",
       "      <td>8</td>\n",
       "      <td>14</td>\n",
       "      <td>2020-12-02 14:47:45</td>\n",
       "      <td>Агаджанов Армен Тигранович</td>\n",
       "      <td>IP</td>\n",
       "      <td>82</td>\n",
       "      <td>2020-12-02 14:30:01</td>\n",
       "      <td>523,748,350.16</td>\n",
       "      <td>WEB</td>\n",
       "    </tr>\n",
       "    <tr>\n",
       "      <td>9</td>\n",
       "      <td>15</td>\n",
       "      <td>2020-12-07 21:50:25</td>\n",
       "      <td>ИЗИ ЛОДЖИСТИК</td>\n",
       "      <td>OOO</td>\n",
       "      <td>127</td>\n",
       "      <td>2022-02-07 10:30:48</td>\n",
       "      <td>1,702,446,055.16</td>\n",
       "      <td>WEB</td>\n",
       "    </tr>\n",
       "  </tbody>\n",
       "</table>\n",
       "</div>"
      ],
      "text/plain": [
       "   id           createDate               companyDetailsName typeID  \\\n",
       "0   6  2020-10-27 14:23:58        Михайлов Сергей Сергеевич     IP   \n",
       "1   7  2020-10-28 11:28:48            Знак Игорь Леонидович     IP   \n",
       "2   8  2020-10-29 14:27:43    Чахидзе Георгий Виссарионович     IP   \n",
       "3   9  2020-11-18 14:43:29  Ровнова Екатерина Александровна     IP   \n",
       "4  10  2020-11-29 13:07:03   Сухорученко Дмитрий Алексеевич     IP   \n",
       "5  11  2020-11-30 10:21:27                Чистота и Порядок    OOO   \n",
       "6  12  2020-11-30 10:30:40                     ВБК СЕРВИСЕС    OOO   \n",
       "7  13  2020-11-30 10:39:17                     ВБК СЕРВИСЕС    OOO   \n",
       "8  14  2020-12-02 14:47:45       Агаджанов Армен Тигранович     IP   \n",
       "9  15  2020-12-07 21:50:25                    ИЗИ ЛОДЖИСТИК    OOO   \n",
       "\n",
       "   ownerUserID        lastLoginDate           ga_cid registration_source  \n",
       "0            1  2022-01-27 10:54:36 1,946,822,606.16                 WEB  \n",
       "1            4  2021-12-16 11:54:14   903,703,811.16                 WEB  \n",
       "2            3  2021-03-25 18:35:49 1,573,962,662.16                 WEB  \n",
       "3           43  2021-07-02 10:41:19              nan                 WEB  \n",
       "4           81  2021-12-07 19:33:00   244,096,378.16                 WEB  \n",
       "5           85  2021-12-06 18:32:59   629,614,999.16                 WEB  \n",
       "6           86  2022-01-12 09:14:13   629,614,999.16                 WEB  \n",
       "7           86  2022-01-12 09:14:13   629,614,999.16                 WEB  \n",
       "8           82  2020-12-02 14:30:01   523,748,350.16                 WEB  \n",
       "9          127  2022-02-07 10:30:48 1,702,446,055.16                 WEB  "
      ]
     },
     "metadata": {},
     "output_type": "display_data"
    }
   ],
   "source": [
    "display(accounts.head(10))"
   ]
  },
  {
   "cell_type": "code",
   "execution_count": 6,
   "id": "c0a8b254",
   "metadata": {},
   "outputs": [
    {
     "name": "stdout",
     "output_type": "stream",
     "text": [
      "<class 'pandas.core.frame.DataFrame'>\n",
      "RangeIndex: 163 entries, 0 to 162\n",
      "Data columns (total 8 columns):\n",
      "id                     163 non-null int64\n",
      "createDate             163 non-null object\n",
      "companyDetailsName     163 non-null object\n",
      "typeID                 163 non-null object\n",
      "ownerUserID            163 non-null int64\n",
      "lastLoginDate          163 non-null object\n",
      "ga_cid                 133 non-null float64\n",
      "registration_source    163 non-null object\n",
      "dtypes: float64(1), int64(2), object(5)\n",
      "memory usage: 10.3+ KB\n"
     ]
    }
   ],
   "source": [
    "accounts.info()"
   ]
  },
  {
   "cell_type": "code",
   "execution_count": 7,
   "id": "471fa417",
   "metadata": {},
   "outputs": [],
   "source": [
    "jobOffers = pd.read_csv('C:/Users/Mikhail.DESKTOP-Q8U96GO/my_datasets/a__jobOffers_view.csv', sep=';')"
   ]
  },
  {
   "cell_type": "code",
   "execution_count": 8,
   "id": "698514fe",
   "metadata": {},
   "outputs": [
    {
     "data": {
      "text/html": [
       "<div>\n",
       "<style scoped>\n",
       "    .dataframe tbody tr th:only-of-type {\n",
       "        vertical-align: middle;\n",
       "    }\n",
       "\n",
       "    .dataframe tbody tr th {\n",
       "        vertical-align: top;\n",
       "    }\n",
       "\n",
       "    .dataframe thead th {\n",
       "        text-align: right;\n",
       "    }\n",
       "</style>\n",
       "<table border=\"1\" class=\"dataframe\">\n",
       "  <thead>\n",
       "    <tr style=\"text-align: right;\">\n",
       "      <th></th>\n",
       "      <th>id</th>\n",
       "      <th>jobID</th>\n",
       "      <th>offerPrice</th>\n",
       "      <th>workmanID</th>\n",
       "      <th>stateID</th>\n",
       "      <th>createDate</th>\n",
       "      <th>updateDate</th>\n",
       "      <th>cancelDate</th>\n",
       "      <th>finishExecuteDate</th>\n",
       "      <th>accountID</th>\n",
       "    </tr>\n",
       "  </thead>\n",
       "  <tbody>\n",
       "    <tr>\n",
       "      <td>0</td>\n",
       "      <td>1</td>\n",
       "      <td>1</td>\n",
       "      <td>120.00</td>\n",
       "      <td>3</td>\n",
       "      <td>COMPLETED</td>\n",
       "      <td>2020-10-28 15:00:31</td>\n",
       "      <td>2021-10-07 19:28:05</td>\n",
       "      <td>NaN</td>\n",
       "      <td>2020-10-28 15:03:18</td>\n",
       "      <td>7</td>\n",
       "    </tr>\n",
       "    <tr>\n",
       "      <td>1</td>\n",
       "      <td>2</td>\n",
       "      <td>2</td>\n",
       "      <td>210.00</td>\n",
       "      <td>19</td>\n",
       "      <td>COMPLETED</td>\n",
       "      <td>2020-10-30 11:15:32</td>\n",
       "      <td>2021-10-07 19:28:05</td>\n",
       "      <td>NaN</td>\n",
       "      <td>2020-10-30 11:55:24</td>\n",
       "      <td>8</td>\n",
       "    </tr>\n",
       "    <tr>\n",
       "      <td>2</td>\n",
       "      <td>3</td>\n",
       "      <td>3</td>\n",
       "      <td>100.00</td>\n",
       "      <td>31</td>\n",
       "      <td>COMPLETED</td>\n",
       "      <td>2020-11-11 10:38:50</td>\n",
       "      <td>2021-10-07 19:28:05</td>\n",
       "      <td>NaN</td>\n",
       "      <td>2020-11-11 10:41:43</td>\n",
       "      <td>7</td>\n",
       "    </tr>\n",
       "    <tr>\n",
       "      <td>3</td>\n",
       "      <td>4</td>\n",
       "      <td>5</td>\n",
       "      <td>100.00</td>\n",
       "      <td>31</td>\n",
       "      <td>COMPLETED</td>\n",
       "      <td>2020-11-13 15:37:33</td>\n",
       "      <td>2021-10-07 19:28:05</td>\n",
       "      <td>NaN</td>\n",
       "      <td>2020-11-13 15:54:05</td>\n",
       "      <td>7</td>\n",
       "    </tr>\n",
       "    <tr>\n",
       "      <td>4</td>\n",
       "      <td>5</td>\n",
       "      <td>6</td>\n",
       "      <td>100.00</td>\n",
       "      <td>31</td>\n",
       "      <td>COMPLETED</td>\n",
       "      <td>2020-11-13 15:48:01</td>\n",
       "      <td>2021-10-07 19:28:05</td>\n",
       "      <td>NaN</td>\n",
       "      <td>2020-11-13 15:54:19</td>\n",
       "      <td>7</td>\n",
       "    </tr>\n",
       "    <tr>\n",
       "      <td>5</td>\n",
       "      <td>6</td>\n",
       "      <td>4</td>\n",
       "      <td>1,000.00</td>\n",
       "      <td>1</td>\n",
       "      <td>PUBLISHED</td>\n",
       "      <td>2020-11-19 21:40:41</td>\n",
       "      <td>2021-04-18 22:11:20</td>\n",
       "      <td>NaN</td>\n",
       "      <td>NaN</td>\n",
       "      <td>7</td>\n",
       "    </tr>\n",
       "    <tr>\n",
       "      <td>6</td>\n",
       "      <td>7</td>\n",
       "      <td>7</td>\n",
       "      <td>1,000.00</td>\n",
       "      <td>31</td>\n",
       "      <td>COMPLETED</td>\n",
       "      <td>2020-11-23 12:12:14</td>\n",
       "      <td>2021-10-07 19:28:05</td>\n",
       "      <td>NaN</td>\n",
       "      <td>2020-11-23 12:13:52</td>\n",
       "      <td>7</td>\n",
       "    </tr>\n",
       "    <tr>\n",
       "      <td>7</td>\n",
       "      <td>8</td>\n",
       "      <td>9</td>\n",
       "      <td>1,000.00</td>\n",
       "      <td>31</td>\n",
       "      <td>COMPLETED</td>\n",
       "      <td>2020-12-01 16:50:28</td>\n",
       "      <td>2021-10-07 19:28:05</td>\n",
       "      <td>NaN</td>\n",
       "      <td>2020-12-09 10:52:59</td>\n",
       "      <td>7</td>\n",
       "    </tr>\n",
       "    <tr>\n",
       "      <td>8</td>\n",
       "      <td>9</td>\n",
       "      <td>19</td>\n",
       "      <td>500.00</td>\n",
       "      <td>72</td>\n",
       "      <td>COMPLETED</td>\n",
       "      <td>2020-12-04 19:51:56</td>\n",
       "      <td>2021-10-07 19:28:05</td>\n",
       "      <td>NaN</td>\n",
       "      <td>2020-12-04 20:19:00</td>\n",
       "      <td>10</td>\n",
       "    </tr>\n",
       "    <tr>\n",
       "      <td>9</td>\n",
       "      <td>10</td>\n",
       "      <td>19</td>\n",
       "      <td>200.00</td>\n",
       "      <td>3</td>\n",
       "      <td>PUBLISHED</td>\n",
       "      <td>2020-12-04 19:55:00</td>\n",
       "      <td>2021-04-18 22:11:20</td>\n",
       "      <td>NaN</td>\n",
       "      <td>NaN</td>\n",
       "      <td>10</td>\n",
       "    </tr>\n",
       "  </tbody>\n",
       "</table>\n",
       "</div>"
      ],
      "text/plain": [
       "   id  jobID  offerPrice  workmanID    stateID           createDate  \\\n",
       "0   1      1      120.00          3  COMPLETED  2020-10-28 15:00:31   \n",
       "1   2      2      210.00         19  COMPLETED  2020-10-30 11:15:32   \n",
       "2   3      3      100.00         31  COMPLETED  2020-11-11 10:38:50   \n",
       "3   4      5      100.00         31  COMPLETED  2020-11-13 15:37:33   \n",
       "4   5      6      100.00         31  COMPLETED  2020-11-13 15:48:01   \n",
       "5   6      4    1,000.00          1  PUBLISHED  2020-11-19 21:40:41   \n",
       "6   7      7    1,000.00         31  COMPLETED  2020-11-23 12:12:14   \n",
       "7   8      9    1,000.00         31  COMPLETED  2020-12-01 16:50:28   \n",
       "8   9     19      500.00         72  COMPLETED  2020-12-04 19:51:56   \n",
       "9  10     19      200.00          3  PUBLISHED  2020-12-04 19:55:00   \n",
       "\n",
       "            updateDate cancelDate    finishExecuteDate  accountID  \n",
       "0  2021-10-07 19:28:05        NaN  2020-10-28 15:03:18          7  \n",
       "1  2021-10-07 19:28:05        NaN  2020-10-30 11:55:24          8  \n",
       "2  2021-10-07 19:28:05        NaN  2020-11-11 10:41:43          7  \n",
       "3  2021-10-07 19:28:05        NaN  2020-11-13 15:54:05          7  \n",
       "4  2021-10-07 19:28:05        NaN  2020-11-13 15:54:19          7  \n",
       "5  2021-04-18 22:11:20        NaN                  NaN          7  \n",
       "6  2021-10-07 19:28:05        NaN  2020-11-23 12:13:52          7  \n",
       "7  2021-10-07 19:28:05        NaN  2020-12-09 10:52:59          7  \n",
       "8  2021-10-07 19:28:05        NaN  2020-12-04 20:19:00         10  \n",
       "9  2021-04-18 22:11:20        NaN                  NaN         10  "
      ]
     },
     "metadata": {},
     "output_type": "display_data"
    }
   ],
   "source": [
    "display(jobOffers.head(10))"
   ]
  },
  {
   "cell_type": "code",
   "execution_count": 9,
   "id": "e5ec5537",
   "metadata": {},
   "outputs": [
    {
     "name": "stdout",
     "output_type": "stream",
     "text": [
      "<class 'pandas.core.frame.DataFrame'>\n",
      "RangeIndex: 162731 entries, 0 to 162730\n",
      "Data columns (total 10 columns):\n",
      "id                   162731 non-null int64\n",
      "jobID                162731 non-null int64\n",
      "offerPrice           162731 non-null float64\n",
      "workmanID            162731 non-null int64\n",
      "stateID              162731 non-null object\n",
      "createDate           162731 non-null object\n",
      "updateDate           162731 non-null object\n",
      "cancelDate           650 non-null object\n",
      "finishExecuteDate    146991 non-null object\n",
      "accountID            162731 non-null int64\n",
      "dtypes: float64(1), int64(4), object(5)\n",
      "memory usage: 12.4+ MB\n"
     ]
    }
   ],
   "source": [
    "jobOffers.info()"
   ]
  },
  {
   "cell_type": "code",
   "execution_count": 10,
   "id": "5c5e0820",
   "metadata": {},
   "outputs": [],
   "source": [
    "jobs = pd.read_csv('C:/Users/Mikhail.DESKTOP-Q8U96GO/my_datasets/a__jobs_view.csv', sep=';')"
   ]
  },
  {
   "cell_type": "code",
   "execution_count": 11,
   "id": "8a363c04",
   "metadata": {},
   "outputs": [
    {
     "data": {
      "text/html": [
       "<div>\n",
       "<style scoped>\n",
       "    .dataframe tbody tr th:only-of-type {\n",
       "        vertical-align: middle;\n",
       "    }\n",
       "\n",
       "    .dataframe tbody tr th {\n",
       "        vertical-align: top;\n",
       "    }\n",
       "\n",
       "    .dataframe thead th {\n",
       "        text-align: right;\n",
       "    }\n",
       "</style>\n",
       "<table border=\"1\" class=\"dataframe\">\n",
       "  <thead>\n",
       "    <tr style=\"text-align: right;\">\n",
       "      <th></th>\n",
       "      <th>id</th>\n",
       "      <th>createDate</th>\n",
       "      <th>updateDate</th>\n",
       "      <th>title</th>\n",
       "      <th>stateID</th>\n",
       "      <th>accountID</th>\n",
       "      <th>companyDetailsName</th>\n",
       "      <th>workmanID</th>\n",
       "      <th>price</th>\n",
       "      <th>npd</th>\n",
       "      <th>commission</th>\n",
       "      <th>paymentDate</th>\n",
       "    </tr>\n",
       "  </thead>\n",
       "  <tbody>\n",
       "    <tr>\n",
       "      <td>0</td>\n",
       "      <td>156687</td>\n",
       "      <td>2022-02-07 12:33:59</td>\n",
       "      <td>2022-02-07 12:34:41</td>\n",
       "      <td>Погрузо-разгрузочные работы</td>\n",
       "      <td>INPROGRESS</td>\n",
       "      <td>110.00</td>\n",
       "      <td>ГРУЗОТЕМА-СИБИРЬ</td>\n",
       "      <td>27,000.00</td>\n",
       "      <td>4,280.00</td>\n",
       "      <td>0.00</td>\n",
       "      <td>85.60</td>\n",
       "      <td>NaN</td>\n",
       "    </tr>\n",
       "    <tr>\n",
       "      <td>1</td>\n",
       "      <td>156686</td>\n",
       "      <td>2022-02-07 12:33:59</td>\n",
       "      <td>2022-02-07 12:34:39</td>\n",
       "      <td>Погрузо-разгрузочные работы</td>\n",
       "      <td>INPROGRESS</td>\n",
       "      <td>110.00</td>\n",
       "      <td>ГРУЗОТЕМА-СИБИРЬ</td>\n",
       "      <td>27,583.00</td>\n",
       "      <td>8,640.00</td>\n",
       "      <td>518.40</td>\n",
       "      <td>172.80</td>\n",
       "      <td>NaN</td>\n",
       "    </tr>\n",
       "    <tr>\n",
       "      <td>2</td>\n",
       "      <td>156685</td>\n",
       "      <td>2022-02-07 12:33:59</td>\n",
       "      <td>2022-02-07 12:34:40</td>\n",
       "      <td>Погрузо-разгрузочные работы</td>\n",
       "      <td>INPROGRESS</td>\n",
       "      <td>110.00</td>\n",
       "      <td>ГРУЗОТЕМА-СИБИРЬ</td>\n",
       "      <td>28,152.00</td>\n",
       "      <td>8,520.00</td>\n",
       "      <td>511.20</td>\n",
       "      <td>170.40</td>\n",
       "      <td>NaN</td>\n",
       "    </tr>\n",
       "    <tr>\n",
       "      <td>3</td>\n",
       "      <td>156684</td>\n",
       "      <td>2022-02-07 12:33:58</td>\n",
       "      <td>2022-02-07 12:34:37</td>\n",
       "      <td>Погрузо-разгрузочные работы</td>\n",
       "      <td>INPROGRESS</td>\n",
       "      <td>110.00</td>\n",
       "      <td>ГРУЗОТЕМА-СИБИРЬ</td>\n",
       "      <td>27,756.00</td>\n",
       "      <td>9,000.00</td>\n",
       "      <td>540.00</td>\n",
       "      <td>180.00</td>\n",
       "      <td>NaN</td>\n",
       "    </tr>\n",
       "    <tr>\n",
       "      <td>4</td>\n",
       "      <td>156683</td>\n",
       "      <td>2022-02-07 12:33:58</td>\n",
       "      <td>2022-02-07 12:34:38</td>\n",
       "      <td>Погрузо-разгрузочные работы</td>\n",
       "      <td>INPROGRESS</td>\n",
       "      <td>110.00</td>\n",
       "      <td>ГРУЗОТЕМА-СИБИРЬ</td>\n",
       "      <td>27,026.00</td>\n",
       "      <td>7,300.00</td>\n",
       "      <td>438.00</td>\n",
       "      <td>146.00</td>\n",
       "      <td>NaN</td>\n",
       "    </tr>\n",
       "  </tbody>\n",
       "</table>\n",
       "</div>"
      ],
      "text/plain": [
       "       id           createDate           updateDate  \\\n",
       "0  156687  2022-02-07 12:33:59  2022-02-07 12:34:41   \n",
       "1  156686  2022-02-07 12:33:59  2022-02-07 12:34:39   \n",
       "2  156685  2022-02-07 12:33:59  2022-02-07 12:34:40   \n",
       "3  156684  2022-02-07 12:33:58  2022-02-07 12:34:37   \n",
       "4  156683  2022-02-07 12:33:58  2022-02-07 12:34:38   \n",
       "\n",
       "                         title     stateID  accountID companyDetailsName  \\\n",
       "0  Погрузо-разгрузочные работы  INPROGRESS     110.00   ГРУЗОТЕМА-СИБИРЬ   \n",
       "1  Погрузо-разгрузочные работы  INPROGRESS     110.00   ГРУЗОТЕМА-СИБИРЬ   \n",
       "2  Погрузо-разгрузочные работы  INPROGRESS     110.00   ГРУЗОТЕМА-СИБИРЬ   \n",
       "3  Погрузо-разгрузочные работы  INPROGRESS     110.00   ГРУЗОТЕМА-СИБИРЬ   \n",
       "4  Погрузо-разгрузочные работы  INPROGRESS     110.00   ГРУЗОТЕМА-СИБИРЬ   \n",
       "\n",
       "   workmanID    price    npd  commission paymentDate  \n",
       "0  27,000.00 4,280.00   0.00       85.60         NaN  \n",
       "1  27,583.00 8,640.00 518.40      172.80         NaN  \n",
       "2  28,152.00 8,520.00 511.20      170.40         NaN  \n",
       "3  27,756.00 9,000.00 540.00      180.00         NaN  \n",
       "4  27,026.00 7,300.00 438.00      146.00         NaN  "
      ]
     },
     "metadata": {},
     "output_type": "display_data"
    }
   ],
   "source": [
    "display(jobs.head())"
   ]
  },
  {
   "cell_type": "code",
   "execution_count": 12,
   "id": "4347f68a",
   "metadata": {},
   "outputs": [
    {
     "data": {
      "text/html": [
       "<div>\n",
       "<style scoped>\n",
       "    .dataframe tbody tr th:only-of-type {\n",
       "        vertical-align: middle;\n",
       "    }\n",
       "\n",
       "    .dataframe tbody tr th {\n",
       "        vertical-align: top;\n",
       "    }\n",
       "\n",
       "    .dataframe thead th {\n",
       "        text-align: right;\n",
       "    }\n",
       "</style>\n",
       "<table border=\"1\" class=\"dataframe\">\n",
       "  <thead>\n",
       "    <tr style=\"text-align: right;\">\n",
       "      <th></th>\n",
       "      <th>id</th>\n",
       "      <th>createDate</th>\n",
       "      <th>updateDate</th>\n",
       "      <th>title</th>\n",
       "      <th>stateID</th>\n",
       "      <th>accountID</th>\n",
       "      <th>companyDetailsName</th>\n",
       "      <th>workmanID</th>\n",
       "      <th>price</th>\n",
       "      <th>npd</th>\n",
       "      <th>commission</th>\n",
       "      <th>paymentDate</th>\n",
       "    </tr>\n",
       "  </thead>\n",
       "  <tbody>\n",
       "    <tr>\n",
       "      <td>156437</td>\n",
       "      <td>5</td>\n",
       "      <td>2020-11-13 15:30:44</td>\n",
       "      <td>2021-05-20 02:34:15</td>\n",
       "      <td>Нарисовать логотип Бегемота</td>\n",
       "      <td>COMPLETED</td>\n",
       "      <td>7.00</td>\n",
       "      <td>Знак Игорь Леонидович</td>\n",
       "      <td>31.00</td>\n",
       "      <td>100.00</td>\n",
       "      <td>6.00</td>\n",
       "      <td>1.00</td>\n",
       "      <td>NaN</td>\n",
       "    </tr>\n",
       "    <tr>\n",
       "      <td>156438</td>\n",
       "      <td>4</td>\n",
       "      <td>2020-11-12 16:43:27</td>\n",
       "      <td>2021-05-20 02:34:15</td>\n",
       "      <td>Вынести мусор из кухни 4-х ресторанов в ЦАО</td>\n",
       "      <td>COMPLETED</td>\n",
       "      <td>7.00</td>\n",
       "      <td>Знак Игорь Леонидович</td>\n",
       "      <td>31.00</td>\n",
       "      <td>250.00</td>\n",
       "      <td>15.00</td>\n",
       "      <td>2.50</td>\n",
       "      <td>NaN</td>\n",
       "    </tr>\n",
       "    <tr>\n",
       "      <td>156439</td>\n",
       "      <td>3</td>\n",
       "      <td>2020-11-11 10:35:56</td>\n",
       "      <td>2021-05-20 02:34:15</td>\n",
       "      <td>Доставить посылку по адресу</td>\n",
       "      <td>COMPLETED</td>\n",
       "      <td>7.00</td>\n",
       "      <td>Знак Игорь Леонидович</td>\n",
       "      <td>31.00</td>\n",
       "      <td>100.00</td>\n",
       "      <td>6.00</td>\n",
       "      <td>1.00</td>\n",
       "      <td>NaN</td>\n",
       "    </tr>\n",
       "    <tr>\n",
       "      <td>156440</td>\n",
       "      <td>2</td>\n",
       "      <td>2020-10-29 18:53:28</td>\n",
       "      <td>2021-05-20 02:34:15</td>\n",
       "      <td>Покрасить потолок в апельсиновый колор</td>\n",
       "      <td>COMPLETED</td>\n",
       "      <td>8.00</td>\n",
       "      <td>Чахидзе Георгий Виссарионович</td>\n",
       "      <td>19.00</td>\n",
       "      <td>210.00</td>\n",
       "      <td>0.00</td>\n",
       "      <td>12.60</td>\n",
       "      <td>NaN</td>\n",
       "    </tr>\n",
       "    <tr>\n",
       "      <td>156441</td>\n",
       "      <td>1</td>\n",
       "      <td>2020-10-28 14:55:02</td>\n",
       "      <td>2021-05-20 02:34:15</td>\n",
       "      <td>Забрать кошку у бабушки, привезти в Ясенево</td>\n",
       "      <td>COMPLETED</td>\n",
       "      <td>7.00</td>\n",
       "      <td>Знак Игорь Леонидович</td>\n",
       "      <td>3.00</td>\n",
       "      <td>120.00</td>\n",
       "      <td>0.00</td>\n",
       "      <td>1.20</td>\n",
       "      <td>NaN</td>\n",
       "    </tr>\n",
       "  </tbody>\n",
       "</table>\n",
       "</div>"
      ],
      "text/plain": [
       "        id           createDate           updateDate  \\\n",
       "156437   5  2020-11-13 15:30:44  2021-05-20 02:34:15   \n",
       "156438   4  2020-11-12 16:43:27  2021-05-20 02:34:15   \n",
       "156439   3  2020-11-11 10:35:56  2021-05-20 02:34:15   \n",
       "156440   2  2020-10-29 18:53:28  2021-05-20 02:34:15   \n",
       "156441   1  2020-10-28 14:55:02  2021-05-20 02:34:15   \n",
       "\n",
       "                                              title    stateID  accountID  \\\n",
       "156437                  Нарисовать логотип Бегемота  COMPLETED       7.00   \n",
       "156438  Вынести мусор из кухни 4-х ресторанов в ЦАО  COMPLETED       7.00   \n",
       "156439                  Доставить посылку по адресу  COMPLETED       7.00   \n",
       "156440       Покрасить потолок в апельсиновый колор  COMPLETED       8.00   \n",
       "156441  Забрать кошку у бабушки, привезти в Ясенево  COMPLETED       7.00   \n",
       "\n",
       "                   companyDetailsName  workmanID  price   npd  commission  \\\n",
       "156437          Знак Игорь Леонидович      31.00 100.00  6.00        1.00   \n",
       "156438          Знак Игорь Леонидович      31.00 250.00 15.00        2.50   \n",
       "156439          Знак Игорь Леонидович      31.00 100.00  6.00        1.00   \n",
       "156440  Чахидзе Георгий Виссарионович      19.00 210.00  0.00       12.60   \n",
       "156441          Знак Игорь Леонидович       3.00 120.00  0.00        1.20   \n",
       "\n",
       "       paymentDate  \n",
       "156437         NaN  \n",
       "156438         NaN  \n",
       "156439         NaN  \n",
       "156440         NaN  \n",
       "156441         NaN  "
      ]
     },
     "metadata": {},
     "output_type": "display_data"
    }
   ],
   "source": [
    "display(jobs.tail())"
   ]
  },
  {
   "cell_type": "code",
   "execution_count": 13,
   "id": "d8726424",
   "metadata": {},
   "outputs": [
    {
     "name": "stdout",
     "output_type": "stream",
     "text": [
      "<class 'pandas.core.frame.DataFrame'>\n",
      "RangeIndex: 156442 entries, 0 to 156441\n",
      "Data columns (total 12 columns):\n",
      "id                    156442 non-null int64\n",
      "createDate            156442 non-null object\n",
      "updateDate            156442 non-null object\n",
      "title                 156442 non-null object\n",
      "stateID               156442 non-null object\n",
      "accountID             156427 non-null float64\n",
      "companyDetailsName    156427 non-null object\n",
      "workmanID             152207 non-null float64\n",
      "price                 152207 non-null float64\n",
      "npd                   152207 non-null float64\n",
      "commission            152207 non-null float64\n",
      "paymentDate           136737 non-null object\n",
      "dtypes: float64(5), int64(1), object(6)\n",
      "memory usage: 14.3+ MB\n"
     ]
    }
   ],
   "source": [
    "jobs.info()"
   ]
  },
  {
   "cell_type": "code",
   "execution_count": 14,
   "id": "8640b95d",
   "metadata": {},
   "outputs": [],
   "source": [
    "# подтянем адреса\n",
    "job_address = pd.read_csv('C:/Users/Mikhail.DESKTOP-Q8U96GO/my_datasets/job_address.csv', sep=';')"
   ]
  },
  {
   "cell_type": "code",
   "execution_count": 15,
   "id": "47418a65",
   "metadata": {},
   "outputs": [
    {
     "data": {
      "text/html": [
       "<div>\n",
       "<style scoped>\n",
       "    .dataframe tbody tr th:only-of-type {\n",
       "        vertical-align: middle;\n",
       "    }\n",
       "\n",
       "    .dataframe tbody tr th {\n",
       "        vertical-align: top;\n",
       "    }\n",
       "\n",
       "    .dataframe thead th {\n",
       "        text-align: right;\n",
       "    }\n",
       "</style>\n",
       "<table border=\"1\" class=\"dataframe\">\n",
       "  <thead>\n",
       "    <tr style=\"text-align: right;\">\n",
       "      <th></th>\n",
       "      <th>id</th>\n",
       "      <th>cityID</th>\n",
       "      <th>address</th>\n",
       "    </tr>\n",
       "  </thead>\n",
       "  <tbody>\n",
       "    <tr>\n",
       "      <td>0</td>\n",
       "      <td>1</td>\n",
       "      <td>nan</td>\n",
       "      <td>Россия, Москва, Тверская улица, 5А</td>\n",
       "    </tr>\n",
       "    <tr>\n",
       "      <td>1</td>\n",
       "      <td>2</td>\n",
       "      <td>nan</td>\n",
       "      <td>Россия, Москва, Пресненская набережная</td>\n",
       "    </tr>\n",
       "    <tr>\n",
       "      <td>2</td>\n",
       "      <td>3</td>\n",
       "      <td>nan</td>\n",
       "      <td>Россия, Москва, улица Поляны, 5</td>\n",
       "    </tr>\n",
       "    <tr>\n",
       "      <td>3</td>\n",
       "      <td>4</td>\n",
       "      <td>nan</td>\n",
       "      <td>Россия, Москва, Кремль, Троицкая улица</td>\n",
       "    </tr>\n",
       "    <tr>\n",
       "      <td>4</td>\n",
       "      <td>5</td>\n",
       "      <td>nan</td>\n",
       "      <td>Россия, Москва, Красная площадь</td>\n",
       "    </tr>\n",
       "  </tbody>\n",
       "</table>\n",
       "</div>"
      ],
      "text/plain": [
       "   id  cityID                                 address\n",
       "0   1     nan      Россия, Москва, Тверская улица, 5А\n",
       "1   2     nan  Россия, Москва, Пресненская набережная\n",
       "2   3     nan         Россия, Москва, улица Поляны, 5\n",
       "3   4     nan  Россия, Москва, Кремль, Троицкая улица\n",
       "4   5     nan         Россия, Москва, Красная площадь"
      ]
     },
     "metadata": {},
     "output_type": "display_data"
    }
   ],
   "source": [
    "display(job_address.head())"
   ]
  },
  {
   "cell_type": "code",
   "execution_count": 16,
   "id": "4108ca6b",
   "metadata": {},
   "outputs": [
    {
     "name": "stdout",
     "output_type": "stream",
     "text": [
      "<class 'pandas.core.frame.DataFrame'>\n",
      "RangeIndex: 156442 entries, 0 to 156441\n",
      "Data columns (total 3 columns):\n",
      "id         156442 non-null int64\n",
      "cityID     10811 non-null float64\n",
      "address    20254 non-null object\n",
      "dtypes: float64(1), int64(1), object(1)\n",
      "memory usage: 3.6+ MB\n"
     ]
    }
   ],
   "source": [
    "job_address.info()"
   ]
  },
  {
   "cell_type": "code",
   "execution_count": 17,
   "id": "2a4a6779",
   "metadata": {},
   "outputs": [],
   "source": [
    "users = pd.read_csv('C:/Users/Mikhail.DESKTOP-Q8U96GO/my_datasets/a__users_view.csv', sep='*')"
   ]
  },
  {
   "cell_type": "code",
   "execution_count": 18,
   "id": "de6374ce",
   "metadata": {},
   "outputs": [
    {
     "data": {
      "text/html": [
       "<div>\n",
       "<style scoped>\n",
       "    .dataframe tbody tr th:only-of-type {\n",
       "        vertical-align: middle;\n",
       "    }\n",
       "\n",
       "    .dataframe tbody tr th {\n",
       "        vertical-align: top;\n",
       "    }\n",
       "\n",
       "    .dataframe thead th {\n",
       "        text-align: right;\n",
       "    }\n",
       "</style>\n",
       "<table border=\"1\" class=\"dataframe\">\n",
       "  <thead>\n",
       "    <tr style=\"text-align: right;\">\n",
       "      <th></th>\n",
       "      <th>id</th>\n",
       "      <th>disabled</th>\n",
       "      <th>lastLoginDate</th>\n",
       "      <th>createDate</th>\n",
       "      <th>updateDate</th>\n",
       "      <th>cityID</th>\n",
       "      <th>cityTitle</th>\n",
       "      <th>workmanID</th>\n",
       "      <th>ga_cid</th>\n",
       "      <th>ua</th>\n",
       "      <th>lastActivityDate</th>\n",
       "      <th>utm</th>\n",
       "      <th>registration_source</th>\n",
       "    </tr>\n",
       "  </thead>\n",
       "  <tbody>\n",
       "    <tr>\n",
       "      <td>0</td>\n",
       "      <td>1</td>\n",
       "      <td>0</td>\n",
       "      <td>2022-01-27 10:54:36</td>\n",
       "      <td>2020-10-27 14:15:44</td>\n",
       "      <td>2022-01-27 11:04:21</td>\n",
       "      <td>nan</td>\n",
       "      <td>NaN</td>\n",
       "      <td>1.00</td>\n",
       "      <td>1,946,822,606.16</td>\n",
       "      <td>Mozilla/5.0 (Macintosh; Intel Mac OS X 10_15_6...</td>\n",
       "      <td>2022-01-27 11:04:21</td>\n",
       "      <td>NaN</td>\n",
       "      <td>WEB</td>\n",
       "    </tr>\n",
       "    <tr>\n",
       "      <td>1</td>\n",
       "      <td>2</td>\n",
       "      <td>0</td>\n",
       "      <td>2022-02-07 10:53:51</td>\n",
       "      <td>2020-10-28 10:19:16</td>\n",
       "      <td>2022-02-07 12:35:48</td>\n",
       "      <td>nan</td>\n",
       "      <td>NaN</td>\n",
       "      <td>16.00</td>\n",
       "      <td>390,111,297.16</td>\n",
       "      <td>Mozilla/5.0 (Windows NT 6.3; Win64; x64) Apple...</td>\n",
       "      <td>2022-02-07 12:35:48</td>\n",
       "      <td>NaN</td>\n",
       "      <td>WEB</td>\n",
       "    </tr>\n",
       "    <tr>\n",
       "      <td>2</td>\n",
       "      <td>3</td>\n",
       "      <td>0</td>\n",
       "      <td>2021-03-25 18:35:49</td>\n",
       "      <td>2020-10-28 11:11:47</td>\n",
       "      <td>2021-06-24 21:17:42</td>\n",
       "      <td>1.00</td>\n",
       "      <td>Москва</td>\n",
       "      <td>3.00</td>\n",
       "      <td>1,573,962,662.16</td>\n",
       "      <td>Mozilla/5.0 (Macintosh; Intel Mac OS X 10_15_7...</td>\n",
       "      <td>2021-05-19 18:33:58</td>\n",
       "      <td>NaN</td>\n",
       "      <td>WEB</td>\n",
       "    </tr>\n",
       "    <tr>\n",
       "      <td>3</td>\n",
       "      <td>4</td>\n",
       "      <td>0</td>\n",
       "      <td>2021-12-16 11:54:14</td>\n",
       "      <td>2020-10-28 11:12:55</td>\n",
       "      <td>2021-12-16 19:54:10</td>\n",
       "      <td>nan</td>\n",
       "      <td>NaN</td>\n",
       "      <td>19.00</td>\n",
       "      <td>903,703,811.16</td>\n",
       "      <td>Mozilla/5.0 (Macintosh; Intel Mac OS X 10_15_2...</td>\n",
       "      <td>2021-12-16 19:54:10</td>\n",
       "      <td>NaN</td>\n",
       "      <td>WEB</td>\n",
       "    </tr>\n",
       "    <tr>\n",
       "      <td>4</td>\n",
       "      <td>5</td>\n",
       "      <td>0</td>\n",
       "      <td>2021-12-22 15:39:02</td>\n",
       "      <td>2020-10-28 19:15:36</td>\n",
       "      <td>2021-12-22 16:59:32</td>\n",
       "      <td>nan</td>\n",
       "      <td>NaN</td>\n",
       "      <td>17.00</td>\n",
       "      <td>1,974,491,222.16</td>\n",
       "      <td>Mozilla/5.0 (Macintosh; Intel Mac OS X 10_15_7...</td>\n",
       "      <td>2021-12-22 16:59:32</td>\n",
       "      <td>NaN</td>\n",
       "      <td>WEB</td>\n",
       "    </tr>\n",
       "  </tbody>\n",
       "</table>\n",
       "</div>"
      ],
      "text/plain": [
       "   id  disabled        lastLoginDate           createDate  \\\n",
       "0   1         0  2022-01-27 10:54:36  2020-10-27 14:15:44   \n",
       "1   2         0  2022-02-07 10:53:51  2020-10-28 10:19:16   \n",
       "2   3         0  2021-03-25 18:35:49  2020-10-28 11:11:47   \n",
       "3   4         0  2021-12-16 11:54:14  2020-10-28 11:12:55   \n",
       "4   5         0  2021-12-22 15:39:02  2020-10-28 19:15:36   \n",
       "\n",
       "            updateDate  cityID cityTitle  workmanID           ga_cid  \\\n",
       "0  2022-01-27 11:04:21     nan       NaN       1.00 1,946,822,606.16   \n",
       "1  2022-02-07 12:35:48     nan       NaN      16.00   390,111,297.16   \n",
       "2  2021-06-24 21:17:42    1.00    Москва       3.00 1,573,962,662.16   \n",
       "3  2021-12-16 19:54:10     nan       NaN      19.00   903,703,811.16   \n",
       "4  2021-12-22 16:59:32     nan       NaN      17.00 1,974,491,222.16   \n",
       "\n",
       "                                                  ua     lastActivityDate  \\\n",
       "0  Mozilla/5.0 (Macintosh; Intel Mac OS X 10_15_6...  2022-01-27 11:04:21   \n",
       "1  Mozilla/5.0 (Windows NT 6.3; Win64; x64) Apple...  2022-02-07 12:35:48   \n",
       "2  Mozilla/5.0 (Macintosh; Intel Mac OS X 10_15_7...  2021-05-19 18:33:58   \n",
       "3  Mozilla/5.0 (Macintosh; Intel Mac OS X 10_15_2...  2021-12-16 19:54:10   \n",
       "4  Mozilla/5.0 (Macintosh; Intel Mac OS X 10_15_7...  2021-12-22 16:59:32   \n",
       "\n",
       "   utm registration_source  \n",
       "0  NaN                 WEB  \n",
       "1  NaN                 WEB  \n",
       "2  NaN                 WEB  \n",
       "3  NaN                 WEB  \n",
       "4  NaN                 WEB  "
      ]
     },
     "metadata": {},
     "output_type": "display_data"
    }
   ],
   "source": [
    "display(users.head())"
   ]
  },
  {
   "cell_type": "code",
   "execution_count": 19,
   "id": "81869713",
   "metadata": {},
   "outputs": [
    {
     "data": {
      "text/html": [
       "<div>\n",
       "<style scoped>\n",
       "    .dataframe tbody tr th:only-of-type {\n",
       "        vertical-align: middle;\n",
       "    }\n",
       "\n",
       "    .dataframe tbody tr th {\n",
       "        vertical-align: top;\n",
       "    }\n",
       "\n",
       "    .dataframe thead th {\n",
       "        text-align: right;\n",
       "    }\n",
       "</style>\n",
       "<table border=\"1\" class=\"dataframe\">\n",
       "  <thead>\n",
       "    <tr style=\"text-align: right;\">\n",
       "      <th></th>\n",
       "      <th>id</th>\n",
       "      <th>disabled</th>\n",
       "      <th>lastLoginDate</th>\n",
       "      <th>createDate</th>\n",
       "      <th>updateDate</th>\n",
       "      <th>cityID</th>\n",
       "      <th>cityTitle</th>\n",
       "      <th>workmanID</th>\n",
       "      <th>ga_cid</th>\n",
       "      <th>ua</th>\n",
       "      <th>lastActivityDate</th>\n",
       "      <th>utm</th>\n",
       "      <th>registration_source</th>\n",
       "    </tr>\n",
       "  </thead>\n",
       "  <tbody>\n",
       "    <tr>\n",
       "      <td>29284</td>\n",
       "      <td>29304</td>\n",
       "      <td>0</td>\n",
       "      <td>2022-02-07 12:14:29</td>\n",
       "      <td>2022-02-07 12:14:28</td>\n",
       "      <td>2022-02-07 12:46:49</td>\n",
       "      <td>nan</td>\n",
       "      <td>NaN</td>\n",
       "      <td>28,930.00</td>\n",
       "      <td>nan</td>\n",
       "      <td>NaN</td>\n",
       "      <td>2022-02-07 12:46:49</td>\n",
       "      <td>NaN</td>\n",
       "      <td>OTHER</td>\n",
       "    </tr>\n",
       "    <tr>\n",
       "      <td>29285</td>\n",
       "      <td>29305</td>\n",
       "      <td>0</td>\n",
       "      <td>2022-02-07 12:19:33</td>\n",
       "      <td>2022-02-07 12:19:32</td>\n",
       "      <td>2022-02-07 12:37:54</td>\n",
       "      <td>nan</td>\n",
       "      <td>NaN</td>\n",
       "      <td>28,931.00</td>\n",
       "      <td>1,458,863,245.16</td>\n",
       "      <td>Mozilla/5.0 (Linux; Android 11; SAMSUNG SM-A32...</td>\n",
       "      <td>2022-02-07 12:37:54</td>\n",
       "      <td>[]</td>\n",
       "      <td>WEB</td>\n",
       "    </tr>\n",
       "    <tr>\n",
       "      <td>29286</td>\n",
       "      <td>29306</td>\n",
       "      <td>0</td>\n",
       "      <td>2022-02-07 12:24:49</td>\n",
       "      <td>2022-02-07 12:24:49</td>\n",
       "      <td>2022-02-07 12:31:58</td>\n",
       "      <td>nan</td>\n",
       "      <td>NaN</td>\n",
       "      <td>28,932.00</td>\n",
       "      <td>nan</td>\n",
       "      <td>NaN</td>\n",
       "      <td>2022-02-07 12:31:58</td>\n",
       "      <td>NaN</td>\n",
       "      <td>OTHER</td>\n",
       "    </tr>\n",
       "    <tr>\n",
       "      <td>29287</td>\n",
       "      <td>29307</td>\n",
       "      <td>0</td>\n",
       "      <td>2022-02-07 12:25:38</td>\n",
       "      <td>2022-02-07 12:25:37</td>\n",
       "      <td>2022-02-07 12:42:25</td>\n",
       "      <td>nan</td>\n",
       "      <td>NaN</td>\n",
       "      <td>28,933.00</td>\n",
       "      <td>977,314,521.16</td>\n",
       "      <td>Mozilla/5.0 (iPhone; CPU iPhone OS 14_8_1 like...</td>\n",
       "      <td>2022-02-07 12:42:25</td>\n",
       "      <td>[]</td>\n",
       "      <td>WEB</td>\n",
       "    </tr>\n",
       "    <tr>\n",
       "      <td>29288</td>\n",
       "      <td>29308</td>\n",
       "      <td>0</td>\n",
       "      <td>2022-02-07 12:26:19</td>\n",
       "      <td>2022-02-07 12:26:19</td>\n",
       "      <td>2022-02-07 12:41:14</td>\n",
       "      <td>nan</td>\n",
       "      <td>NaN</td>\n",
       "      <td>28,934.00</td>\n",
       "      <td>nan</td>\n",
       "      <td>Mozilla/5.0 (Linux; Android 11; SAMSUNG SM-M32...</td>\n",
       "      <td>2022-02-07 12:41:14</td>\n",
       "      <td>[]</td>\n",
       "      <td>WEB</td>\n",
       "    </tr>\n",
       "  </tbody>\n",
       "</table>\n",
       "</div>"
      ],
      "text/plain": [
       "          id  disabled        lastLoginDate           createDate  \\\n",
       "29284  29304         0  2022-02-07 12:14:29  2022-02-07 12:14:28   \n",
       "29285  29305         0  2022-02-07 12:19:33  2022-02-07 12:19:32   \n",
       "29286  29306         0  2022-02-07 12:24:49  2022-02-07 12:24:49   \n",
       "29287  29307         0  2022-02-07 12:25:38  2022-02-07 12:25:37   \n",
       "29288  29308         0  2022-02-07 12:26:19  2022-02-07 12:26:19   \n",
       "\n",
       "                updateDate  cityID cityTitle  workmanID           ga_cid  \\\n",
       "29284  2022-02-07 12:46:49     nan       NaN  28,930.00              nan   \n",
       "29285  2022-02-07 12:37:54     nan       NaN  28,931.00 1,458,863,245.16   \n",
       "29286  2022-02-07 12:31:58     nan       NaN  28,932.00              nan   \n",
       "29287  2022-02-07 12:42:25     nan       NaN  28,933.00   977,314,521.16   \n",
       "29288  2022-02-07 12:41:14     nan       NaN  28,934.00              nan   \n",
       "\n",
       "                                                      ua     lastActivityDate  \\\n",
       "29284                                                NaN  2022-02-07 12:46:49   \n",
       "29285  Mozilla/5.0 (Linux; Android 11; SAMSUNG SM-A32...  2022-02-07 12:37:54   \n",
       "29286                                                NaN  2022-02-07 12:31:58   \n",
       "29287  Mozilla/5.0 (iPhone; CPU iPhone OS 14_8_1 like...  2022-02-07 12:42:25   \n",
       "29288  Mozilla/5.0 (Linux; Android 11; SAMSUNG SM-M32...  2022-02-07 12:41:14   \n",
       "\n",
       "       utm registration_source  \n",
       "29284  NaN               OTHER  \n",
       "29285   []                 WEB  \n",
       "29286  NaN               OTHER  \n",
       "29287   []                 WEB  \n",
       "29288   []                 WEB  "
      ]
     },
     "metadata": {},
     "output_type": "display_data"
    }
   ],
   "source": [
    "display(users.tail())"
   ]
  },
  {
   "cell_type": "code",
   "execution_count": 20,
   "id": "9df2a6db",
   "metadata": {},
   "outputs": [
    {
     "name": "stdout",
     "output_type": "stream",
     "text": [
      "<class 'pandas.core.frame.DataFrame'>\n",
      "RangeIndex: 29289 entries, 0 to 29288\n",
      "Data columns (total 13 columns):\n",
      "id                     29289 non-null int64\n",
      "disabled               29289 non-null int64\n",
      "lastLoginDate          29264 non-null object\n",
      "createDate             29289 non-null object\n",
      "updateDate             29289 non-null object\n",
      "cityID                 3072 non-null float64\n",
      "cityTitle              3072 non-null object\n",
      "workmanID              23826 non-null float64\n",
      "ga_cid                 15842 non-null float64\n",
      "ua                     18054 non-null object\n",
      "lastActivityDate       29255 non-null object\n",
      "utm                    3286 non-null object\n",
      "registration_source    29289 non-null object\n",
      "dtypes: float64(3), int64(2), object(8)\n",
      "memory usage: 2.9+ MB\n"
     ]
    }
   ],
   "source": [
    "users.info()"
   ]
  },
  {
   "cell_type": "code",
   "execution_count": 21,
   "id": "52148698",
   "metadata": {},
   "outputs": [],
   "source": [
    "workmans = pd.read_csv('C:/Users/Mikhail.DESKTOP-Q8U96GO/my_datasets/a__workmans_view.csv', sep=';')"
   ]
  },
  {
   "cell_type": "code",
   "execution_count": 22,
   "id": "29d67811",
   "metadata": {},
   "outputs": [
    {
     "data": {
      "text/html": [
       "<div>\n",
       "<style scoped>\n",
       "    .dataframe tbody tr th:only-of-type {\n",
       "        vertical-align: middle;\n",
       "    }\n",
       "\n",
       "    .dataframe tbody tr th {\n",
       "        vertical-align: top;\n",
       "    }\n",
       "\n",
       "    .dataframe thead th {\n",
       "        text-align: right;\n",
       "    }\n",
       "</style>\n",
       "<table border=\"1\" class=\"dataframe\">\n",
       "  <thead>\n",
       "    <tr style=\"text-align: right;\">\n",
       "      <th></th>\n",
       "      <th>id</th>\n",
       "      <th>createDate</th>\n",
       "      <th>lastLoginDate</th>\n",
       "      <th>lastName</th>\n",
       "      <th>firstName</th>\n",
       "      <th>middleName</th>\n",
       "      <th>stateID</th>\n",
       "      <th>smzStateID</th>\n",
       "      <th>accessTaxPayment</th>\n",
       "      <th>taxpayerTypeID</th>\n",
       "      <th>ga_cid</th>\n",
       "      <th>registration_source</th>\n",
       "    </tr>\n",
       "  </thead>\n",
       "  <tbody>\n",
       "    <tr>\n",
       "      <td>0</td>\n",
       "      <td>1</td>\n",
       "      <td>2020-10-27 14:24:51</td>\n",
       "      <td>2022-01-27 10:54:36</td>\n",
       "      <td>Михайлов</td>\n",
       "      <td>Сергей</td>\n",
       "      <td>Сергеевич</td>\n",
       "      <td>REJECTED</td>\n",
       "      <td>OK</td>\n",
       "      <td>0</td>\n",
       "      <td>IP</td>\n",
       "      <td>1,946,822,606.16</td>\n",
       "      <td>WEB</td>\n",
       "    </tr>\n",
       "    <tr>\n",
       "      <td>1</td>\n",
       "      <td>3</td>\n",
       "      <td>2020-10-28 11:24:42</td>\n",
       "      <td>2021-03-25 18:35:49</td>\n",
       "      <td>Чахидзе</td>\n",
       "      <td>Георгий</td>\n",
       "      <td>Виссарионович</td>\n",
       "      <td>REJECTED</td>\n",
       "      <td>OK</td>\n",
       "      <td>0</td>\n",
       "      <td>IP</td>\n",
       "      <td>1,573,962,662.16</td>\n",
       "      <td>WEB</td>\n",
       "    </tr>\n",
       "    <tr>\n",
       "      <td>2</td>\n",
       "      <td>16</td>\n",
       "      <td>2020-10-28 13:29:18</td>\n",
       "      <td>2022-02-07 10:53:51</td>\n",
       "      <td>Папандопуло</td>\n",
       "      <td>Янис</td>\n",
       "      <td>Константинович</td>\n",
       "      <td>REJECTED</td>\n",
       "      <td>OK</td>\n",
       "      <td>0</td>\n",
       "      <td>IP</td>\n",
       "      <td>390,111,297.16</td>\n",
       "      <td>WEB</td>\n",
       "    </tr>\n",
       "    <tr>\n",
       "      <td>3</td>\n",
       "      <td>17</td>\n",
       "      <td>2020-10-28 19:17:22</td>\n",
       "      <td>2021-12-22 15:39:02</td>\n",
       "      <td>Комов</td>\n",
       "      <td>Михаил</td>\n",
       "      <td>Владимирович</td>\n",
       "      <td>ACTIVE</td>\n",
       "      <td>OK</td>\n",
       "      <td>0</td>\n",
       "      <td>IP</td>\n",
       "      <td>1,974,491,222.16</td>\n",
       "      <td>WEB</td>\n",
       "    </tr>\n",
       "    <tr>\n",
       "      <td>4</td>\n",
       "      <td>19</td>\n",
       "      <td>2020-10-30 10:21:55</td>\n",
       "      <td>2021-12-16 11:54:14</td>\n",
       "      <td>Знак</td>\n",
       "      <td>Игорь</td>\n",
       "      <td>Леонидович</td>\n",
       "      <td>REJECTED</td>\n",
       "      <td>OK</td>\n",
       "      <td>0</td>\n",
       "      <td>IP</td>\n",
       "      <td>903,703,811.16</td>\n",
       "      <td>WEB</td>\n",
       "    </tr>\n",
       "  </tbody>\n",
       "</table>\n",
       "</div>"
      ],
      "text/plain": [
       "   id           createDate        lastLoginDate     lastName firstName  \\\n",
       "0   1  2020-10-27 14:24:51  2022-01-27 10:54:36     Михайлов    Сергей   \n",
       "1   3  2020-10-28 11:24:42  2021-03-25 18:35:49      Чахидзе   Георгий   \n",
       "2  16  2020-10-28 13:29:18  2022-02-07 10:53:51  Папандопуло      Янис   \n",
       "3  17  2020-10-28 19:17:22  2021-12-22 15:39:02        Комов    Михаил   \n",
       "4  19  2020-10-30 10:21:55  2021-12-16 11:54:14         Знак     Игорь   \n",
       "\n",
       "       middleName   stateID smzStateID  accessTaxPayment taxpayerTypeID  \\\n",
       "0       Сергеевич  REJECTED         OK                 0             IP   \n",
       "1   Виссарионович  REJECTED         OK                 0             IP   \n",
       "2  Константинович  REJECTED         OK                 0             IP   \n",
       "3    Владимирович    ACTIVE         OK                 0             IP   \n",
       "4      Леонидович  REJECTED         OK                 0             IP   \n",
       "\n",
       "            ga_cid registration_source  \n",
       "0 1,946,822,606.16                 WEB  \n",
       "1 1,573,962,662.16                 WEB  \n",
       "2   390,111,297.16                 WEB  \n",
       "3 1,974,491,222.16                 WEB  \n",
       "4   903,703,811.16                 WEB  "
      ]
     },
     "metadata": {},
     "output_type": "display_data"
    }
   ],
   "source": [
    "display(workmans.head())"
   ]
  },
  {
   "cell_type": "code",
   "execution_count": 23,
   "id": "2a3d249d",
   "metadata": {},
   "outputs": [
    {
     "data": {
      "text/html": [
       "<div>\n",
       "<style scoped>\n",
       "    .dataframe tbody tr th:only-of-type {\n",
       "        vertical-align: middle;\n",
       "    }\n",
       "\n",
       "    .dataframe tbody tr th {\n",
       "        vertical-align: top;\n",
       "    }\n",
       "\n",
       "    .dataframe thead th {\n",
       "        text-align: right;\n",
       "    }\n",
       "</style>\n",
       "<table border=\"1\" class=\"dataframe\">\n",
       "  <thead>\n",
       "    <tr style=\"text-align: right;\">\n",
       "      <th></th>\n",
       "      <th>id</th>\n",
       "      <th>createDate</th>\n",
       "      <th>lastLoginDate</th>\n",
       "      <th>lastName</th>\n",
       "      <th>firstName</th>\n",
       "      <th>middleName</th>\n",
       "      <th>stateID</th>\n",
       "      <th>smzStateID</th>\n",
       "      <th>accessTaxPayment</th>\n",
       "      <th>taxpayerTypeID</th>\n",
       "      <th>ga_cid</th>\n",
       "      <th>registration_source</th>\n",
       "    </tr>\n",
       "  </thead>\n",
       "  <tbody>\n",
       "    <tr>\n",
       "      <td>23822</td>\n",
       "      <td>28930</td>\n",
       "      <td>2022-02-07 12:17:00</td>\n",
       "      <td>2022-02-07 12:14:29</td>\n",
       "      <td>Игнатько</td>\n",
       "      <td>Андрей</td>\n",
       "      <td>Владимирович</td>\n",
       "      <td>MODERATION</td>\n",
       "      <td>UNKNOWN</td>\n",
       "      <td>0</td>\n",
       "      <td>SMZ</td>\n",
       "      <td>nan</td>\n",
       "      <td>OTHER</td>\n",
       "    </tr>\n",
       "    <tr>\n",
       "      <td>23823</td>\n",
       "      <td>28931</td>\n",
       "      <td>2022-02-07 12:22:08</td>\n",
       "      <td>2022-02-07 12:19:33</td>\n",
       "      <td>МОРОЗОВ</td>\n",
       "      <td>ДМИТРИЙ</td>\n",
       "      <td>ВАСИЛЬЕВИЧ</td>\n",
       "      <td>MODERATION</td>\n",
       "      <td>CHECKING</td>\n",
       "      <td>0</td>\n",
       "      <td>SMZ</td>\n",
       "      <td>1,458,863,245.16</td>\n",
       "      <td>WEB</td>\n",
       "    </tr>\n",
       "    <tr>\n",
       "      <td>23824</td>\n",
       "      <td>28932</td>\n",
       "      <td>2022-02-07 12:26:04</td>\n",
       "      <td>2022-02-07 12:24:49</td>\n",
       "      <td>Палатовская</td>\n",
       "      <td>Олеся</td>\n",
       "      <td>Дмитриевна</td>\n",
       "      <td>DRAFT</td>\n",
       "      <td>UNKNOWN</td>\n",
       "      <td>0</td>\n",
       "      <td>SMZ</td>\n",
       "      <td>nan</td>\n",
       "      <td>OTHER</td>\n",
       "    </tr>\n",
       "    <tr>\n",
       "      <td>23825</td>\n",
       "      <td>28933</td>\n",
       "      <td>2022-02-07 12:31:35</td>\n",
       "      <td>2022-02-07 12:25:38</td>\n",
       "      <td>БАРКОВА</td>\n",
       "      <td>МАРИЯ</td>\n",
       "      <td>АЛЕКСАНДРОВНА</td>\n",
       "      <td>MODERATION</td>\n",
       "      <td>UNKNOWN</td>\n",
       "      <td>0</td>\n",
       "      <td>SMZ</td>\n",
       "      <td>977,314,521.16</td>\n",
       "      <td>WEB</td>\n",
       "    </tr>\n",
       "    <tr>\n",
       "      <td>23826</td>\n",
       "      <td>28934</td>\n",
       "      <td>2022-02-07 12:32:35</td>\n",
       "      <td>2022-02-07 12:26:19</td>\n",
       "      <td>МОДЕЛИКОВ</td>\n",
       "      <td>ДМИТРИЙ</td>\n",
       "      <td>СЕРГЕЕВИЧ</td>\n",
       "      <td>DRAFT</td>\n",
       "      <td>UNKNOWN</td>\n",
       "      <td>0</td>\n",
       "      <td>SMZ</td>\n",
       "      <td>nan</td>\n",
       "      <td>WEB</td>\n",
       "    </tr>\n",
       "  </tbody>\n",
       "</table>\n",
       "</div>"
      ],
      "text/plain": [
       "          id           createDate        lastLoginDate     lastName firstName  \\\n",
       "23822  28930  2022-02-07 12:17:00  2022-02-07 12:14:29     Игнатько    Андрей   \n",
       "23823  28931  2022-02-07 12:22:08  2022-02-07 12:19:33      МОРОЗОВ   ДМИТРИЙ   \n",
       "23824  28932  2022-02-07 12:26:04  2022-02-07 12:24:49  Палатовская     Олеся   \n",
       "23825  28933  2022-02-07 12:31:35  2022-02-07 12:25:38      БАРКОВА     МАРИЯ   \n",
       "23826  28934  2022-02-07 12:32:35  2022-02-07 12:26:19    МОДЕЛИКОВ   ДМИТРИЙ   \n",
       "\n",
       "          middleName     stateID smzStateID  accessTaxPayment taxpayerTypeID  \\\n",
       "23822   Владимирович  MODERATION    UNKNOWN                 0            SMZ   \n",
       "23823     ВАСИЛЬЕВИЧ  MODERATION   CHECKING                 0            SMZ   \n",
       "23824     Дмитриевна       DRAFT    UNKNOWN                 0            SMZ   \n",
       "23825  АЛЕКСАНДРОВНА  MODERATION    UNKNOWN                 0            SMZ   \n",
       "23826      СЕРГЕЕВИЧ       DRAFT    UNKNOWN                 0            SMZ   \n",
       "\n",
       "                ga_cid registration_source  \n",
       "23822              nan               OTHER  \n",
       "23823 1,458,863,245.16                 WEB  \n",
       "23824              nan               OTHER  \n",
       "23825   977,314,521.16                 WEB  \n",
       "23826              nan                 WEB  "
      ]
     },
     "metadata": {},
     "output_type": "display_data"
    }
   ],
   "source": [
    "display(workmans.tail())"
   ]
  },
  {
   "cell_type": "code",
   "execution_count": 24,
   "id": "d00862da",
   "metadata": {},
   "outputs": [
    {
     "name": "stdout",
     "output_type": "stream",
     "text": [
      "<class 'pandas.core.frame.DataFrame'>\n",
      "RangeIndex: 23827 entries, 0 to 23826\n",
      "Data columns (total 12 columns):\n",
      "id                     23827 non-null int64\n",
      "createDate             23827 non-null object\n",
      "lastLoginDate          23827 non-null object\n",
      "lastName               23597 non-null object\n",
      "firstName              23600 non-null object\n",
      "middleName             22724 non-null object\n",
      "stateID                23827 non-null object\n",
      "smzStateID             23827 non-null object\n",
      "accessTaxPayment       23827 non-null int64\n",
      "taxpayerTypeID         23827 non-null object\n",
      "ga_cid                 13072 non-null float64\n",
      "registration_source    23827 non-null object\n",
      "dtypes: float64(1), int64(2), object(9)\n",
      "memory usage: 2.2+ MB\n"
     ]
    }
   ],
   "source": [
    "workmans.info()"
   ]
  },
  {
   "cell_type": "markdown",
   "id": "f94ba1d6",
   "metadata": {},
   "source": [
    "## Вывод"
   ]
  },
  {
   "cell_type": "markdown",
   "id": "8d5739ce",
   "metadata": {},
   "source": [
    "Мы вывели 5 таблиц с данными.\n",
    "\n",
    "В **accounts** к нужному формату необходимо привести столбцы:\n",
    "- createDate\n",
    "- lastLoginDate\n",
    "- ga_cid\n",
    "\n",
    "В **jobOffers**:\n",
    "- createDate\n",
    "- updateDate\n",
    "- cancelDate\n",
    "- finishExecuteDate\n",
    "\n",
    "В **jobs**:\n",
    "- createDate\n",
    "- updateDate\n",
    "- accountID\n",
    "- workmanID\n",
    "- paymentDate\n",
    "\n",
    "В **users**:\n",
    "- lastLoginDate\n",
    "- createDate\n",
    "- updateDate\n",
    "- cityID\n",
    "- workmanID\n",
    "- ga_cid\n",
    "- lastActivityDate\n",
    "- utm ???\n",
    "\n",
    "В **workmans**:\n",
    "- createDate\n",
    "- lastLoginDate\n",
    "- ga_cid ???"
   ]
  },
  {
   "cell_type": "markdown",
   "id": "ce22a23b",
   "metadata": {},
   "source": [
    "# Предобработка данных"
   ]
  },
  {
   "cell_type": "markdown",
   "id": "514033d6",
   "metadata": {},
   "source": [
    "## Работа с пропусками"
   ]
  },
  {
   "cell_type": "markdown",
   "id": "9f8311bd",
   "metadata": {},
   "source": [
    "В таблице jobs есть пропущенные значения в полях *workmanID* и *accountID*. Они не дают нам поставить тип integer, но мы поставим Int64. Пропуски в *workmanID* это ещё не принятые заказы и их немного, но удалять мы их не будем (а то далее не сможем посчитать не активные кампании, у которых не приняли заказы). В *accountID* заказы, которые ещё формируются, их ещё меньше"
   ]
  },
  {
   "cell_type": "code",
   "execution_count": 25,
   "id": "abf585c4",
   "metadata": {},
   "outputs": [
    {
     "data": {
      "text/plain": [
       "15"
      ]
     },
     "execution_count": 25,
     "metadata": {},
     "output_type": "execute_result"
    }
   ],
   "source": [
    "# сумма пропусков\n",
    "jobs['accountID'].isna().sum()"
   ]
  },
  {
   "cell_type": "code",
   "execution_count": 26,
   "id": "05d42a35",
   "metadata": {},
   "outputs": [
    {
     "data": {
      "text/plain": [
       "4235"
      ]
     },
     "execution_count": 26,
     "metadata": {},
     "output_type": "execute_result"
    }
   ],
   "source": [
    "# сумма пропусков\n",
    "jobs['workmanID'].isna().sum()"
   ]
  },
  {
   "cell_type": "code",
   "execution_count": 27,
   "id": "88c37396",
   "metadata": {},
   "outputs": [],
   "source": [
    "# удалим пропущенные id заказчиков\n",
    "jobs.dropna(subset=['accountID'], inplace=True)\n",
    "\n",
    "# так же удалим пропущенные id исполнителей\n",
    "#jobs.dropna(subset=['workmanID'], inplace=True)"
   ]
  },
  {
   "cell_type": "code",
   "execution_count": 28,
   "id": "889c7026",
   "metadata": {},
   "outputs": [
    {
     "data": {
      "text/html": [
       "<div>\n",
       "<style scoped>\n",
       "    .dataframe tbody tr th:only-of-type {\n",
       "        vertical-align: middle;\n",
       "    }\n",
       "\n",
       "    .dataframe tbody tr th {\n",
       "        vertical-align: top;\n",
       "    }\n",
       "\n",
       "    .dataframe thead th {\n",
       "        text-align: right;\n",
       "    }\n",
       "</style>\n",
       "<table border=\"1\" class=\"dataframe\">\n",
       "  <thead>\n",
       "    <tr style=\"text-align: right;\">\n",
       "      <th></th>\n",
       "      <th>id</th>\n",
       "      <th>createDate</th>\n",
       "      <th>updateDate</th>\n",
       "      <th>title</th>\n",
       "      <th>stateID</th>\n",
       "      <th>accountID</th>\n",
       "      <th>companyDetailsName</th>\n",
       "      <th>workmanID</th>\n",
       "      <th>price</th>\n",
       "      <th>npd</th>\n",
       "      <th>commission</th>\n",
       "      <th>paymentDate</th>\n",
       "    </tr>\n",
       "  </thead>\n",
       "  <tbody>\n",
       "    <tr>\n",
       "      <td>156422</td>\n",
       "      <td>5</td>\n",
       "      <td>2020-11-13 15:30:44</td>\n",
       "      <td>2021-05-20 02:34:15</td>\n",
       "      <td>Нарисовать логотип Бегемота</td>\n",
       "      <td>COMPLETED</td>\n",
       "      <td>7.00</td>\n",
       "      <td>Знак Игорь Леонидович</td>\n",
       "      <td>31.00</td>\n",
       "      <td>100.00</td>\n",
       "      <td>6.00</td>\n",
       "      <td>1.00</td>\n",
       "      <td>NaN</td>\n",
       "    </tr>\n",
       "    <tr>\n",
       "      <td>156423</td>\n",
       "      <td>4</td>\n",
       "      <td>2020-11-12 16:43:27</td>\n",
       "      <td>2021-05-20 02:34:15</td>\n",
       "      <td>Вынести мусор из кухни 4-х ресторанов в ЦАО</td>\n",
       "      <td>COMPLETED</td>\n",
       "      <td>7.00</td>\n",
       "      <td>Знак Игорь Леонидович</td>\n",
       "      <td>31.00</td>\n",
       "      <td>250.00</td>\n",
       "      <td>15.00</td>\n",
       "      <td>2.50</td>\n",
       "      <td>NaN</td>\n",
       "    </tr>\n",
       "    <tr>\n",
       "      <td>156424</td>\n",
       "      <td>3</td>\n",
       "      <td>2020-11-11 10:35:56</td>\n",
       "      <td>2021-05-20 02:34:15</td>\n",
       "      <td>Доставить посылку по адресу</td>\n",
       "      <td>COMPLETED</td>\n",
       "      <td>7.00</td>\n",
       "      <td>Знак Игорь Леонидович</td>\n",
       "      <td>31.00</td>\n",
       "      <td>100.00</td>\n",
       "      <td>6.00</td>\n",
       "      <td>1.00</td>\n",
       "      <td>NaN</td>\n",
       "    </tr>\n",
       "    <tr>\n",
       "      <td>156425</td>\n",
       "      <td>2</td>\n",
       "      <td>2020-10-29 18:53:28</td>\n",
       "      <td>2021-05-20 02:34:15</td>\n",
       "      <td>Покрасить потолок в апельсиновый колор</td>\n",
       "      <td>COMPLETED</td>\n",
       "      <td>8.00</td>\n",
       "      <td>Чахидзе Георгий Виссарионович</td>\n",
       "      <td>19.00</td>\n",
       "      <td>210.00</td>\n",
       "      <td>0.00</td>\n",
       "      <td>12.60</td>\n",
       "      <td>NaN</td>\n",
       "    </tr>\n",
       "    <tr>\n",
       "      <td>156426</td>\n",
       "      <td>1</td>\n",
       "      <td>2020-10-28 14:55:02</td>\n",
       "      <td>2021-05-20 02:34:15</td>\n",
       "      <td>Забрать кошку у бабушки, привезти в Ясенево</td>\n",
       "      <td>COMPLETED</td>\n",
       "      <td>7.00</td>\n",
       "      <td>Знак Игорь Леонидович</td>\n",
       "      <td>3.00</td>\n",
       "      <td>120.00</td>\n",
       "      <td>0.00</td>\n",
       "      <td>1.20</td>\n",
       "      <td>NaN</td>\n",
       "    </tr>\n",
       "  </tbody>\n",
       "</table>\n",
       "</div>"
      ],
      "text/plain": [
       "        id           createDate           updateDate  \\\n",
       "156422   5  2020-11-13 15:30:44  2021-05-20 02:34:15   \n",
       "156423   4  2020-11-12 16:43:27  2021-05-20 02:34:15   \n",
       "156424   3  2020-11-11 10:35:56  2021-05-20 02:34:15   \n",
       "156425   2  2020-10-29 18:53:28  2021-05-20 02:34:15   \n",
       "156426   1  2020-10-28 14:55:02  2021-05-20 02:34:15   \n",
       "\n",
       "                                              title    stateID  accountID  \\\n",
       "156422                  Нарисовать логотип Бегемота  COMPLETED       7.00   \n",
       "156423  Вынести мусор из кухни 4-х ресторанов в ЦАО  COMPLETED       7.00   \n",
       "156424                  Доставить посылку по адресу  COMPLETED       7.00   \n",
       "156425       Покрасить потолок в апельсиновый колор  COMPLETED       8.00   \n",
       "156426  Забрать кошку у бабушки, привезти в Ясенево  COMPLETED       7.00   \n",
       "\n",
       "                   companyDetailsName  workmanID  price   npd  commission  \\\n",
       "156422          Знак Игорь Леонидович      31.00 100.00  6.00        1.00   \n",
       "156423          Знак Игорь Леонидович      31.00 250.00 15.00        2.50   \n",
       "156424          Знак Игорь Леонидович      31.00 100.00  6.00        1.00   \n",
       "156425  Чахидзе Георгий Виссарионович      19.00 210.00  0.00       12.60   \n",
       "156426          Знак Игорь Леонидович       3.00 120.00  0.00        1.20   \n",
       "\n",
       "       paymentDate  \n",
       "156422         NaN  \n",
       "156423         NaN  \n",
       "156424         NaN  \n",
       "156425         NaN  \n",
       "156426         NaN  "
      ]
     },
     "execution_count": 28,
     "metadata": {},
     "output_type": "execute_result"
    }
   ],
   "source": [
    "# сбросим индекс\n",
    "jobs = jobs.reset_index(drop=True)\n",
    "jobs.tail()"
   ]
  },
  {
   "cell_type": "code",
   "execution_count": 29,
   "id": "5ae12ae2",
   "metadata": {},
   "outputs": [
    {
     "data": {
      "text/plain": [
       "0"
      ]
     },
     "execution_count": 29,
     "metadata": {},
     "output_type": "execute_result"
    }
   ],
   "source": [
    "# сумма пропусков\n",
    "jobs['accountID'].isna().sum()"
   ]
  },
  {
   "cell_type": "code",
   "execution_count": 30,
   "id": "9a3cb888",
   "metadata": {},
   "outputs": [
    {
     "data": {
      "text/plain": [
       "4220"
      ]
     },
     "execution_count": 30,
     "metadata": {},
     "output_type": "execute_result"
    }
   ],
   "source": [
    "# сумма пропусков\n",
    "jobs['workmanID'].isna().sum()"
   ]
  },
  {
   "cell_type": "markdown",
   "id": "1bb268fc",
   "metadata": {},
   "source": [
    "## Работа с типами данных"
   ]
  },
  {
   "cell_type": "code",
   "execution_count": 31,
   "id": "18dd2851",
   "metadata": {},
   "outputs": [],
   "source": [
    "# для таблицы \"accounts\"\n",
    "accounts['createDate'] = pd.to_datetime(accounts['createDate'], format=\"%Y-%m-%d %H:%M:%S\")\n",
    "accounts['lastLoginDate'] = pd.to_datetime(accounts['lastLoginDate'], format=\"%Y-%m-%d %H:%M:%S\")\n",
    "accounts['ga_cid'] = accounts['ga_cid'].astype('str')\n",
    "accounts['companyDetailsName'] = accounts['companyDetailsName'].astype('str')"
   ]
  },
  {
   "cell_type": "code",
   "execution_count": 32,
   "id": "932037c3",
   "metadata": {},
   "outputs": [
    {
     "data": {
      "text/html": [
       "<div>\n",
       "<style scoped>\n",
       "    .dataframe tbody tr th:only-of-type {\n",
       "        vertical-align: middle;\n",
       "    }\n",
       "\n",
       "    .dataframe tbody tr th {\n",
       "        vertical-align: top;\n",
       "    }\n",
       "\n",
       "    .dataframe thead th {\n",
       "        text-align: right;\n",
       "    }\n",
       "</style>\n",
       "<table border=\"1\" class=\"dataframe\">\n",
       "  <thead>\n",
       "    <tr style=\"text-align: right;\">\n",
       "      <th></th>\n",
       "      <th>id</th>\n",
       "      <th>createDate</th>\n",
       "      <th>companyDetailsName</th>\n",
       "      <th>typeID</th>\n",
       "      <th>ownerUserID</th>\n",
       "      <th>lastLoginDate</th>\n",
       "      <th>ga_cid</th>\n",
       "      <th>registration_source</th>\n",
       "      <th>createDay</th>\n",
       "      <th>lastLoginDay</th>\n",
       "    </tr>\n",
       "  </thead>\n",
       "  <tbody>\n",
       "    <tr>\n",
       "      <td>0</td>\n",
       "      <td>6</td>\n",
       "      <td>2020-10-27 14:23:58</td>\n",
       "      <td>Михайлов Сергей Сергеевич</td>\n",
       "      <td>IP</td>\n",
       "      <td>1</td>\n",
       "      <td>2022-01-27 10:54:36</td>\n",
       "      <td>1946822606.1600435</td>\n",
       "      <td>WEB</td>\n",
       "      <td>2020-10-27</td>\n",
       "      <td>2022-01-27</td>\n",
       "    </tr>\n",
       "    <tr>\n",
       "      <td>1</td>\n",
       "      <td>7</td>\n",
       "      <td>2020-10-28 11:28:48</td>\n",
       "      <td>Знак Игорь Леонидович</td>\n",
       "      <td>IP</td>\n",
       "      <td>4</td>\n",
       "      <td>2021-12-16 11:54:14</td>\n",
       "      <td>903703811.1587043</td>\n",
       "      <td>WEB</td>\n",
       "      <td>2020-10-28</td>\n",
       "      <td>2021-12-16</td>\n",
       "    </tr>\n",
       "    <tr>\n",
       "      <td>2</td>\n",
       "      <td>8</td>\n",
       "      <td>2020-10-29 14:27:43</td>\n",
       "      <td>Чахидзе Георгий Виссарионович</td>\n",
       "      <td>IP</td>\n",
       "      <td>3</td>\n",
       "      <td>2021-03-25 18:35:49</td>\n",
       "      <td>1573962662.1599066</td>\n",
       "      <td>WEB</td>\n",
       "      <td>2020-10-29</td>\n",
       "      <td>2021-03-25</td>\n",
       "    </tr>\n",
       "  </tbody>\n",
       "</table>\n",
       "</div>"
      ],
      "text/plain": [
       "   id          createDate             companyDetailsName typeID  ownerUserID  \\\n",
       "0   6 2020-10-27 14:23:58      Михайлов Сергей Сергеевич     IP            1   \n",
       "1   7 2020-10-28 11:28:48          Знак Игорь Леонидович     IP            4   \n",
       "2   8 2020-10-29 14:27:43  Чахидзе Георгий Виссарионович     IP            3   \n",
       "\n",
       "        lastLoginDate              ga_cid registration_source  createDay  \\\n",
       "0 2022-01-27 10:54:36  1946822606.1600435                 WEB 2020-10-27   \n",
       "1 2021-12-16 11:54:14   903703811.1587043                 WEB 2020-10-28   \n",
       "2 2021-03-25 18:35:49  1573962662.1599066                 WEB 2020-10-29   \n",
       "\n",
       "  lastLoginDay  \n",
       "0   2022-01-27  \n",
       "1   2021-12-16  \n",
       "2   2021-03-25  "
      ]
     },
     "execution_count": 32,
     "metadata": {},
     "output_type": "execute_result"
    }
   ],
   "source": [
    "# создадим даты \n",
    "accounts['createDay'] = accounts['createDate'].dt.date\n",
    "accounts['createDay'] = pd.to_datetime(accounts['createDay'], format=\"%Y-%m-%d\")\n",
    "accounts['lastLoginDay'] = accounts['lastLoginDate'].dt.date\n",
    "accounts['lastLoginDay'] = pd.to_datetime(accounts['lastLoginDay'], format=\"%Y-%m-%d\")\n",
    "accounts.head(3)"
   ]
  },
  {
   "cell_type": "code",
   "execution_count": 33,
   "id": "1f2ade28",
   "metadata": {},
   "outputs": [],
   "source": [
    "# для таблицы \"jobOffers\"\n",
    "jobOffers['createDate'] = pd.to_datetime(jobOffers['createDate'], format=\"%Y-%m-%d %H:%M:%S\")\n",
    "jobOffers['updateDate'] = pd.to_datetime(jobOffers['updateDate'], format=\"%Y-%m-%d %H:%M:%S\")\n",
    "jobOffers['cancelDate'] = pd.to_datetime(jobOffers['cancelDate'], format=\"%Y-%m-%d %H:%M:%S\")\n",
    "jobOffers['finishExecuteDate'] = pd.to_datetime(jobOffers['finishExecuteDate'], format=\"%Y-%m-%d %H:%M:%S\")"
   ]
  },
  {
   "cell_type": "markdown",
   "id": "b6d2eab4",
   "metadata": {},
   "source": [
    "Создадим даты как отдельный столбец"
   ]
  },
  {
   "cell_type": "code",
   "execution_count": 34,
   "id": "6f4fa8f3",
   "metadata": {},
   "outputs": [
    {
     "data": {
      "text/html": [
       "<div>\n",
       "<style scoped>\n",
       "    .dataframe tbody tr th:only-of-type {\n",
       "        vertical-align: middle;\n",
       "    }\n",
       "\n",
       "    .dataframe tbody tr th {\n",
       "        vertical-align: top;\n",
       "    }\n",
       "\n",
       "    .dataframe thead th {\n",
       "        text-align: right;\n",
       "    }\n",
       "</style>\n",
       "<table border=\"1\" class=\"dataframe\">\n",
       "  <thead>\n",
       "    <tr style=\"text-align: right;\">\n",
       "      <th></th>\n",
       "      <th>id</th>\n",
       "      <th>jobID</th>\n",
       "      <th>offerPrice</th>\n",
       "      <th>workmanID</th>\n",
       "      <th>stateID</th>\n",
       "      <th>createDate</th>\n",
       "      <th>updateDate</th>\n",
       "      <th>cancelDate</th>\n",
       "      <th>finishExecuteDate</th>\n",
       "      <th>accountID</th>\n",
       "      <th>createDay</th>\n",
       "      <th>updateDay</th>\n",
       "      <th>cancelDay</th>\n",
       "      <th>finishExecuteDay</th>\n",
       "    </tr>\n",
       "  </thead>\n",
       "  <tbody>\n",
       "    <tr>\n",
       "      <td>0</td>\n",
       "      <td>1</td>\n",
       "      <td>1</td>\n",
       "      <td>120.00</td>\n",
       "      <td>3</td>\n",
       "      <td>COMPLETED</td>\n",
       "      <td>2020-10-28 15:00:31</td>\n",
       "      <td>2021-10-07 19:28:05</td>\n",
       "      <td>NaT</td>\n",
       "      <td>2020-10-28 15:03:18</td>\n",
       "      <td>7</td>\n",
       "      <td>2020-10-28</td>\n",
       "      <td>2021-10-07</td>\n",
       "      <td>NaT</td>\n",
       "      <td>2020-10-28</td>\n",
       "    </tr>\n",
       "    <tr>\n",
       "      <td>1</td>\n",
       "      <td>2</td>\n",
       "      <td>2</td>\n",
       "      <td>210.00</td>\n",
       "      <td>19</td>\n",
       "      <td>COMPLETED</td>\n",
       "      <td>2020-10-30 11:15:32</td>\n",
       "      <td>2021-10-07 19:28:05</td>\n",
       "      <td>NaT</td>\n",
       "      <td>2020-10-30 11:55:24</td>\n",
       "      <td>8</td>\n",
       "      <td>2020-10-30</td>\n",
       "      <td>2021-10-07</td>\n",
       "      <td>NaT</td>\n",
       "      <td>2020-10-30</td>\n",
       "    </tr>\n",
       "    <tr>\n",
       "      <td>2</td>\n",
       "      <td>3</td>\n",
       "      <td>3</td>\n",
       "      <td>100.00</td>\n",
       "      <td>31</td>\n",
       "      <td>COMPLETED</td>\n",
       "      <td>2020-11-11 10:38:50</td>\n",
       "      <td>2021-10-07 19:28:05</td>\n",
       "      <td>NaT</td>\n",
       "      <td>2020-11-11 10:41:43</td>\n",
       "      <td>7</td>\n",
       "      <td>2020-11-11</td>\n",
       "      <td>2021-10-07</td>\n",
       "      <td>NaT</td>\n",
       "      <td>2020-11-11</td>\n",
       "    </tr>\n",
       "  </tbody>\n",
       "</table>\n",
       "</div>"
      ],
      "text/plain": [
       "   id  jobID  offerPrice  workmanID    stateID          createDate  \\\n",
       "0   1      1      120.00          3  COMPLETED 2020-10-28 15:00:31   \n",
       "1   2      2      210.00         19  COMPLETED 2020-10-30 11:15:32   \n",
       "2   3      3      100.00         31  COMPLETED 2020-11-11 10:38:50   \n",
       "\n",
       "           updateDate cancelDate   finishExecuteDate  accountID  createDay  \\\n",
       "0 2021-10-07 19:28:05        NaT 2020-10-28 15:03:18          7 2020-10-28   \n",
       "1 2021-10-07 19:28:05        NaT 2020-10-30 11:55:24          8 2020-10-30   \n",
       "2 2021-10-07 19:28:05        NaT 2020-11-11 10:41:43          7 2020-11-11   \n",
       "\n",
       "   updateDay cancelDay finishExecuteDay  \n",
       "0 2021-10-07       NaT       2020-10-28  \n",
       "1 2021-10-07       NaT       2020-10-30  \n",
       "2 2021-10-07       NaT       2020-11-11  "
      ]
     },
     "execution_count": 34,
     "metadata": {},
     "output_type": "execute_result"
    }
   ],
   "source": [
    "# создадим даты \n",
    "jobOffers['createDay'] = jobOffers['createDate'].dt.date\n",
    "jobOffers['createDay'] = pd.to_datetime(jobOffers['createDay'], format=\"%Y-%m-%d\")\n",
    "jobOffers['updateDay'] = jobOffers['updateDate'].dt.date\n",
    "jobOffers['updateDay'] = pd.to_datetime(jobOffers['updateDay'], format=\"%Y-%m-%d\")\n",
    "\n",
    "jobOffers['cancelDay'] = jobOffers['cancelDate'].dt.date\n",
    "jobOffers['cancelDay'] = pd.to_datetime(jobOffers['cancelDay'], format=\"%Y-%m-%d\")\n",
    "jobOffers['finishExecuteDay'] = jobOffers['finishExecuteDate'].dt.date\n",
    "jobOffers['finishExecuteDay'] = pd.to_datetime(jobOffers['finishExecuteDay'], format=\"%Y-%m-%d\")\n",
    "jobOffers.head(3)"
   ]
  },
  {
   "cell_type": "code",
   "execution_count": 35,
   "id": "fc71ddc3",
   "metadata": {},
   "outputs": [],
   "source": [
    "# для таблицы \"jobs\"\n",
    "jobs['createDate'] = pd.to_datetime(jobs['createDate'], format=\"%Y-%m-%d %H:%M:%S\")\n",
    "jobs['updateDate'] = pd.to_datetime(jobs['updateDate'], format=\"%Y-%m-%d %H:%M:%S\")\n",
    "jobs['accountID'] = jobs['accountID'].astype('Int64')\n",
    "jobs['workmanID'] = jobs['workmanID'].astype('Int64')\n",
    "jobs['paymentDate'] = pd.to_datetime(jobs['paymentDate'], format=\"%Y-%m-%d %H:%M:%S\")\n",
    "\n",
    "jobs['title'] = jobs['title'].astype('str')\n",
    "jobs['companyDetailsName'] = jobs['companyDetailsName'].astype('str')"
   ]
  },
  {
   "cell_type": "code",
   "execution_count": 36,
   "id": "55ae381d",
   "metadata": {},
   "outputs": [],
   "source": [
    "# создадим даты \n",
    "jobs['createDay'] = jobs['createDate'].dt.date\n",
    "jobs['createDay'] = pd.to_datetime(jobs['createDay'], format=\"%Y-%m-%d\")\n",
    "jobs['updateDay'] = jobs['updateDate'].dt.date\n",
    "jobs['updateDay'] = pd.to_datetime(jobs['updateDay'], format=\"%Y-%m-%d\")\n",
    "jobs['paymentDay'] = jobs['paymentDate'].dt.date\n",
    "jobs['paymentDay'] = pd.to_datetime(jobs['paymentDay'], format=\"%Y-%m-%d\")"
   ]
  },
  {
   "cell_type": "code",
   "execution_count": 37,
   "id": "bdbd34bd",
   "metadata": {},
   "outputs": [],
   "source": [
    "job_address['cityID'] = job_address['cityID'].astype('Int64')"
   ]
  },
  {
   "cell_type": "code",
   "execution_count": null,
   "id": "f06f1442",
   "metadata": {},
   "outputs": [],
   "source": []
  },
  {
   "cell_type": "code",
   "execution_count": 38,
   "id": "3418ef69",
   "metadata": {},
   "outputs": [],
   "source": [
    "# приведём к нужному формату для \"users\"\n",
    "users['createDate'] = pd.to_datetime(users['createDate'], format=\"%Y-%m-%d %H:%M:%S\")\n",
    "users['updateDate'] = pd.to_datetime(users['updateDate'], format=\"%Y-%m-%d %H:%M:%S\")\n",
    "\n",
    "# применим тип Int64, т.к. в столбце есть значения NaN\n",
    "users['workmanID'] = users['workmanID'].astype('Int64')\n",
    "# users['ga_cid'] = users['ga_cid'].astype('str')\n",
    "# users['cityID'] = users['cityID'].astype('Int64')\n",
    "users['lastActivityDate'] = pd.to_datetime(users['lastActivityDate'], format=\"%Y-%m-%d %H:%M:%S\")"
   ]
  },
  {
   "cell_type": "code",
   "execution_count": 39,
   "id": "5bb31519",
   "metadata": {},
   "outputs": [],
   "source": [
    "# создадим даты \n",
    "users['createDay'] = users['createDate'].dt.date\n",
    "users['createDay'] = pd.to_datetime(users['createDay'], format=\"%Y-%m-%d\")\n",
    "users['updateDay'] = users['updateDate'].dt.date\n",
    "users['updateDay'] = pd.to_datetime(users['updateDay'], format=\"%Y-%m-%d\")\n",
    "users['lastActivityDay'] = users['lastActivityDate'].dt.date\n",
    "users['lastActivityDay'] = pd.to_datetime(users['lastActivityDay'], format=\"%Y-%m-%d\")"
   ]
  },
  {
   "cell_type": "code",
   "execution_count": 40,
   "id": "a75e5aa7",
   "metadata": {},
   "outputs": [],
   "source": [
    "# приведём к нужным типам данные для \"workmans\"\n",
    "workmans['createDate'] = pd.to_datetime(workmans['createDate'], format=\"%Y-%m-%d %H:%M:%S\")\n",
    "workmans['lastLoginDate'] = pd.to_datetime(workmans['lastLoginDate'], format=\"%Y-%m-%d %H:%M:%S\")\n",
    "workmans['ga_cid'] = workmans['ga_cid'].astype('str')"
   ]
  },
  {
   "cell_type": "code",
   "execution_count": 41,
   "id": "64873462",
   "metadata": {},
   "outputs": [],
   "source": [
    "# добавим даты как отдельный столбец\n",
    "workmans['createDay'] = workmans['createDate'].dt.date\n",
    "workmans['createDay'] = pd.to_datetime(workmans['createDay'], format=\"%Y-%m-%d\")\n",
    "workmans['lastLoginDay'] = workmans['lastLoginDate'].dt.date\n",
    "workmans['lastLoginDay'] = pd.to_datetime(workmans['lastLoginDay'], format=\"%Y-%m-%d\")"
   ]
  },
  {
   "cell_type": "markdown",
   "id": "8ef5cfb9",
   "metadata": {},
   "source": [
    "## Проверим наши данные"
   ]
  },
  {
   "cell_type": "code",
   "execution_count": 42,
   "id": "119c64df",
   "metadata": {},
   "outputs": [
    {
     "data": {
      "text/html": [
       "<div>\n",
       "<style scoped>\n",
       "    .dataframe tbody tr th:only-of-type {\n",
       "        vertical-align: middle;\n",
       "    }\n",
       "\n",
       "    .dataframe tbody tr th {\n",
       "        vertical-align: top;\n",
       "    }\n",
       "\n",
       "    .dataframe thead th {\n",
       "        text-align: right;\n",
       "    }\n",
       "</style>\n",
       "<table border=\"1\" class=\"dataframe\">\n",
       "  <thead>\n",
       "    <tr style=\"text-align: right;\">\n",
       "      <th></th>\n",
       "      <th>id</th>\n",
       "      <th>createDate</th>\n",
       "      <th>companyDetailsName</th>\n",
       "      <th>typeID</th>\n",
       "      <th>ownerUserID</th>\n",
       "      <th>lastLoginDate</th>\n",
       "      <th>ga_cid</th>\n",
       "      <th>registration_source</th>\n",
       "      <th>createDay</th>\n",
       "      <th>lastLoginDay</th>\n",
       "    </tr>\n",
       "  </thead>\n",
       "  <tbody>\n",
       "    <tr>\n",
       "      <td>0</td>\n",
       "      <td>6</td>\n",
       "      <td>2020-10-27 14:23:58</td>\n",
       "      <td>Михайлов Сергей Сергеевич</td>\n",
       "      <td>IP</td>\n",
       "      <td>1</td>\n",
       "      <td>2022-01-27 10:54:36</td>\n",
       "      <td>1946822606.1600435</td>\n",
       "      <td>WEB</td>\n",
       "      <td>2020-10-27</td>\n",
       "      <td>2022-01-27</td>\n",
       "    </tr>\n",
       "    <tr>\n",
       "      <td>1</td>\n",
       "      <td>7</td>\n",
       "      <td>2020-10-28 11:28:48</td>\n",
       "      <td>Знак Игорь Леонидович</td>\n",
       "      <td>IP</td>\n",
       "      <td>4</td>\n",
       "      <td>2021-12-16 11:54:14</td>\n",
       "      <td>903703811.1587043</td>\n",
       "      <td>WEB</td>\n",
       "      <td>2020-10-28</td>\n",
       "      <td>2021-12-16</td>\n",
       "    </tr>\n",
       "    <tr>\n",
       "      <td>2</td>\n",
       "      <td>8</td>\n",
       "      <td>2020-10-29 14:27:43</td>\n",
       "      <td>Чахидзе Георгий Виссарионович</td>\n",
       "      <td>IP</td>\n",
       "      <td>3</td>\n",
       "      <td>2021-03-25 18:35:49</td>\n",
       "      <td>1573962662.1599066</td>\n",
       "      <td>WEB</td>\n",
       "      <td>2020-10-29</td>\n",
       "      <td>2021-03-25</td>\n",
       "    </tr>\n",
       "  </tbody>\n",
       "</table>\n",
       "</div>"
      ],
      "text/plain": [
       "   id          createDate             companyDetailsName typeID  ownerUserID  \\\n",
       "0   6 2020-10-27 14:23:58      Михайлов Сергей Сергеевич     IP            1   \n",
       "1   7 2020-10-28 11:28:48          Знак Игорь Леонидович     IP            4   \n",
       "2   8 2020-10-29 14:27:43  Чахидзе Георгий Виссарионович     IP            3   \n",
       "\n",
       "        lastLoginDate              ga_cid registration_source  createDay  \\\n",
       "0 2022-01-27 10:54:36  1946822606.1600435                 WEB 2020-10-27   \n",
       "1 2021-12-16 11:54:14   903703811.1587043                 WEB 2020-10-28   \n",
       "2 2021-03-25 18:35:49  1573962662.1599066                 WEB 2020-10-29   \n",
       "\n",
       "  lastLoginDay  \n",
       "0   2022-01-27  \n",
       "1   2021-12-16  \n",
       "2   2021-03-25  "
      ]
     },
     "execution_count": 42,
     "metadata": {},
     "output_type": "execute_result"
    }
   ],
   "source": [
    "accounts.head(3)"
   ]
  },
  {
   "cell_type": "code",
   "execution_count": 43,
   "id": "dc941055",
   "metadata": {},
   "outputs": [
    {
     "name": "stdout",
     "output_type": "stream",
     "text": [
      "<class 'pandas.core.frame.DataFrame'>\n",
      "RangeIndex: 163 entries, 0 to 162\n",
      "Data columns (total 10 columns):\n",
      "id                     163 non-null int64\n",
      "createDate             163 non-null datetime64[ns]\n",
      "companyDetailsName     163 non-null object\n",
      "typeID                 163 non-null object\n",
      "ownerUserID            163 non-null int64\n",
      "lastLoginDate          163 non-null datetime64[ns]\n",
      "ga_cid                 163 non-null object\n",
      "registration_source    163 non-null object\n",
      "createDay              163 non-null datetime64[ns]\n",
      "lastLoginDay           163 non-null datetime64[ns]\n",
      "dtypes: datetime64[ns](4), int64(2), object(4)\n",
      "memory usage: 12.9+ KB\n"
     ]
    }
   ],
   "source": [
    "accounts.info()"
   ]
  },
  {
   "cell_type": "code",
   "execution_count": 44,
   "id": "5be4212f",
   "metadata": {},
   "outputs": [
    {
     "data": {
      "text/html": [
       "<div>\n",
       "<style scoped>\n",
       "    .dataframe tbody tr th:only-of-type {\n",
       "        vertical-align: middle;\n",
       "    }\n",
       "\n",
       "    .dataframe tbody tr th {\n",
       "        vertical-align: top;\n",
       "    }\n",
       "\n",
       "    .dataframe thead th {\n",
       "        text-align: right;\n",
       "    }\n",
       "</style>\n",
       "<table border=\"1\" class=\"dataframe\">\n",
       "  <thead>\n",
       "    <tr style=\"text-align: right;\">\n",
       "      <th></th>\n",
       "      <th>id</th>\n",
       "      <th>jobID</th>\n",
       "      <th>offerPrice</th>\n",
       "      <th>workmanID</th>\n",
       "      <th>stateID</th>\n",
       "      <th>createDate</th>\n",
       "      <th>updateDate</th>\n",
       "      <th>cancelDate</th>\n",
       "      <th>finishExecuteDate</th>\n",
       "      <th>accountID</th>\n",
       "      <th>createDay</th>\n",
       "      <th>updateDay</th>\n",
       "      <th>cancelDay</th>\n",
       "      <th>finishExecuteDay</th>\n",
       "    </tr>\n",
       "  </thead>\n",
       "  <tbody>\n",
       "    <tr>\n",
       "      <td>0</td>\n",
       "      <td>1</td>\n",
       "      <td>1</td>\n",
       "      <td>120.00</td>\n",
       "      <td>3</td>\n",
       "      <td>COMPLETED</td>\n",
       "      <td>2020-10-28 15:00:31</td>\n",
       "      <td>2021-10-07 19:28:05</td>\n",
       "      <td>NaT</td>\n",
       "      <td>2020-10-28 15:03:18</td>\n",
       "      <td>7</td>\n",
       "      <td>2020-10-28</td>\n",
       "      <td>2021-10-07</td>\n",
       "      <td>NaT</td>\n",
       "      <td>2020-10-28</td>\n",
       "    </tr>\n",
       "    <tr>\n",
       "      <td>1</td>\n",
       "      <td>2</td>\n",
       "      <td>2</td>\n",
       "      <td>210.00</td>\n",
       "      <td>19</td>\n",
       "      <td>COMPLETED</td>\n",
       "      <td>2020-10-30 11:15:32</td>\n",
       "      <td>2021-10-07 19:28:05</td>\n",
       "      <td>NaT</td>\n",
       "      <td>2020-10-30 11:55:24</td>\n",
       "      <td>8</td>\n",
       "      <td>2020-10-30</td>\n",
       "      <td>2021-10-07</td>\n",
       "      <td>NaT</td>\n",
       "      <td>2020-10-30</td>\n",
       "    </tr>\n",
       "    <tr>\n",
       "      <td>2</td>\n",
       "      <td>3</td>\n",
       "      <td>3</td>\n",
       "      <td>100.00</td>\n",
       "      <td>31</td>\n",
       "      <td>COMPLETED</td>\n",
       "      <td>2020-11-11 10:38:50</td>\n",
       "      <td>2021-10-07 19:28:05</td>\n",
       "      <td>NaT</td>\n",
       "      <td>2020-11-11 10:41:43</td>\n",
       "      <td>7</td>\n",
       "      <td>2020-11-11</td>\n",
       "      <td>2021-10-07</td>\n",
       "      <td>NaT</td>\n",
       "      <td>2020-11-11</td>\n",
       "    </tr>\n",
       "  </tbody>\n",
       "</table>\n",
       "</div>"
      ],
      "text/plain": [
       "   id  jobID  offerPrice  workmanID    stateID          createDate  \\\n",
       "0   1      1      120.00          3  COMPLETED 2020-10-28 15:00:31   \n",
       "1   2      2      210.00         19  COMPLETED 2020-10-30 11:15:32   \n",
       "2   3      3      100.00         31  COMPLETED 2020-11-11 10:38:50   \n",
       "\n",
       "           updateDate cancelDate   finishExecuteDate  accountID  createDay  \\\n",
       "0 2021-10-07 19:28:05        NaT 2020-10-28 15:03:18          7 2020-10-28   \n",
       "1 2021-10-07 19:28:05        NaT 2020-10-30 11:55:24          8 2020-10-30   \n",
       "2 2021-10-07 19:28:05        NaT 2020-11-11 10:41:43          7 2020-11-11   \n",
       "\n",
       "   updateDay cancelDay finishExecuteDay  \n",
       "0 2021-10-07       NaT       2020-10-28  \n",
       "1 2021-10-07       NaT       2020-10-30  \n",
       "2 2021-10-07       NaT       2020-11-11  "
      ]
     },
     "execution_count": 44,
     "metadata": {},
     "output_type": "execute_result"
    }
   ],
   "source": [
    "jobOffers.head(3)"
   ]
  },
  {
   "cell_type": "code",
   "execution_count": 45,
   "id": "1b87c693",
   "metadata": {},
   "outputs": [
    {
     "name": "stdout",
     "output_type": "stream",
     "text": [
      "<class 'pandas.core.frame.DataFrame'>\n",
      "RangeIndex: 162731 entries, 0 to 162730\n",
      "Data columns (total 14 columns):\n",
      "id                   162731 non-null int64\n",
      "jobID                162731 non-null int64\n",
      "offerPrice           162731 non-null float64\n",
      "workmanID            162731 non-null int64\n",
      "stateID              162731 non-null object\n",
      "createDate           162731 non-null datetime64[ns]\n",
      "updateDate           162731 non-null datetime64[ns]\n",
      "cancelDate           650 non-null datetime64[ns]\n",
      "finishExecuteDate    146991 non-null datetime64[ns]\n",
      "accountID            162731 non-null int64\n",
      "createDay            162731 non-null datetime64[ns]\n",
      "updateDay            162731 non-null datetime64[ns]\n",
      "cancelDay            650 non-null datetime64[ns]\n",
      "finishExecuteDay     146991 non-null datetime64[ns]\n",
      "dtypes: datetime64[ns](8), float64(1), int64(4), object(1)\n",
      "memory usage: 17.4+ MB\n"
     ]
    }
   ],
   "source": [
    "jobOffers.info()"
   ]
  },
  {
   "cell_type": "code",
   "execution_count": 46,
   "id": "a5934d66",
   "metadata": {},
   "outputs": [
    {
     "data": {
      "text/html": [
       "<div>\n",
       "<style scoped>\n",
       "    .dataframe tbody tr th:only-of-type {\n",
       "        vertical-align: middle;\n",
       "    }\n",
       "\n",
       "    .dataframe tbody tr th {\n",
       "        vertical-align: top;\n",
       "    }\n",
       "\n",
       "    .dataframe thead th {\n",
       "        text-align: right;\n",
       "    }\n",
       "</style>\n",
       "<table border=\"1\" class=\"dataframe\">\n",
       "  <thead>\n",
       "    <tr style=\"text-align: right;\">\n",
       "      <th></th>\n",
       "      <th>id</th>\n",
       "      <th>createDate</th>\n",
       "      <th>updateDate</th>\n",
       "      <th>title</th>\n",
       "      <th>stateID</th>\n",
       "      <th>accountID</th>\n",
       "      <th>companyDetailsName</th>\n",
       "      <th>workmanID</th>\n",
       "      <th>price</th>\n",
       "      <th>npd</th>\n",
       "      <th>commission</th>\n",
       "      <th>paymentDate</th>\n",
       "      <th>createDay</th>\n",
       "      <th>updateDay</th>\n",
       "      <th>paymentDay</th>\n",
       "    </tr>\n",
       "  </thead>\n",
       "  <tbody>\n",
       "    <tr>\n",
       "      <td>0</td>\n",
       "      <td>156687</td>\n",
       "      <td>2022-02-07 12:33:59</td>\n",
       "      <td>2022-02-07 12:34:41</td>\n",
       "      <td>Погрузо-разгрузочные работы</td>\n",
       "      <td>INPROGRESS</td>\n",
       "      <td>110</td>\n",
       "      <td>ГРУЗОТЕМА-СИБИРЬ</td>\n",
       "      <td>27000</td>\n",
       "      <td>4,280.00</td>\n",
       "      <td>0.00</td>\n",
       "      <td>85.60</td>\n",
       "      <td>NaT</td>\n",
       "      <td>2022-02-07</td>\n",
       "      <td>2022-02-07</td>\n",
       "      <td>NaT</td>\n",
       "    </tr>\n",
       "    <tr>\n",
       "      <td>1</td>\n",
       "      <td>156686</td>\n",
       "      <td>2022-02-07 12:33:59</td>\n",
       "      <td>2022-02-07 12:34:39</td>\n",
       "      <td>Погрузо-разгрузочные работы</td>\n",
       "      <td>INPROGRESS</td>\n",
       "      <td>110</td>\n",
       "      <td>ГРУЗОТЕМА-СИБИРЬ</td>\n",
       "      <td>27583</td>\n",
       "      <td>8,640.00</td>\n",
       "      <td>518.40</td>\n",
       "      <td>172.80</td>\n",
       "      <td>NaT</td>\n",
       "      <td>2022-02-07</td>\n",
       "      <td>2022-02-07</td>\n",
       "      <td>NaT</td>\n",
       "    </tr>\n",
       "    <tr>\n",
       "      <td>2</td>\n",
       "      <td>156685</td>\n",
       "      <td>2022-02-07 12:33:59</td>\n",
       "      <td>2022-02-07 12:34:40</td>\n",
       "      <td>Погрузо-разгрузочные работы</td>\n",
       "      <td>INPROGRESS</td>\n",
       "      <td>110</td>\n",
       "      <td>ГРУЗОТЕМА-СИБИРЬ</td>\n",
       "      <td>28152</td>\n",
       "      <td>8,520.00</td>\n",
       "      <td>511.20</td>\n",
       "      <td>170.40</td>\n",
       "      <td>NaT</td>\n",
       "      <td>2022-02-07</td>\n",
       "      <td>2022-02-07</td>\n",
       "      <td>NaT</td>\n",
       "    </tr>\n",
       "  </tbody>\n",
       "</table>\n",
       "</div>"
      ],
      "text/plain": [
       "       id          createDate          updateDate  \\\n",
       "0  156687 2022-02-07 12:33:59 2022-02-07 12:34:41   \n",
       "1  156686 2022-02-07 12:33:59 2022-02-07 12:34:39   \n",
       "2  156685 2022-02-07 12:33:59 2022-02-07 12:34:40   \n",
       "\n",
       "                         title     stateID  accountID companyDetailsName  \\\n",
       "0  Погрузо-разгрузочные работы  INPROGRESS        110   ГРУЗОТЕМА-СИБИРЬ   \n",
       "1  Погрузо-разгрузочные работы  INPROGRESS        110   ГРУЗОТЕМА-СИБИРЬ   \n",
       "2  Погрузо-разгрузочные работы  INPROGRESS        110   ГРУЗОТЕМА-СИБИРЬ   \n",
       "\n",
       "   workmanID    price    npd  commission paymentDate  createDay  updateDay  \\\n",
       "0      27000 4,280.00   0.00       85.60         NaT 2022-02-07 2022-02-07   \n",
       "1      27583 8,640.00 518.40      172.80         NaT 2022-02-07 2022-02-07   \n",
       "2      28152 8,520.00 511.20      170.40         NaT 2022-02-07 2022-02-07   \n",
       "\n",
       "  paymentDay  \n",
       "0        NaT  \n",
       "1        NaT  \n",
       "2        NaT  "
      ]
     },
     "execution_count": 46,
     "metadata": {},
     "output_type": "execute_result"
    }
   ],
   "source": [
    "jobs.head(3)"
   ]
  },
  {
   "cell_type": "code",
   "execution_count": 47,
   "id": "2ee4bca4",
   "metadata": {},
   "outputs": [
    {
     "name": "stdout",
     "output_type": "stream",
     "text": [
      "<class 'pandas.core.frame.DataFrame'>\n",
      "RangeIndex: 156427 entries, 0 to 156426\n",
      "Data columns (total 15 columns):\n",
      "id                    156427 non-null int64\n",
      "createDate            156427 non-null datetime64[ns]\n",
      "updateDate            156427 non-null datetime64[ns]\n",
      "title                 156427 non-null object\n",
      "stateID               156427 non-null object\n",
      "accountID             156427 non-null Int64\n",
      "companyDetailsName    156427 non-null object\n",
      "workmanID             152207 non-null Int64\n",
      "price                 152207 non-null float64\n",
      "npd                   152207 non-null float64\n",
      "commission            152207 non-null float64\n",
      "paymentDate           136737 non-null datetime64[ns]\n",
      "createDay             156427 non-null datetime64[ns]\n",
      "updateDay             156427 non-null datetime64[ns]\n",
      "paymentDay            136737 non-null datetime64[ns]\n",
      "dtypes: Int64(2), datetime64[ns](6), float64(3), int64(1), object(3)\n",
      "memory usage: 18.2+ MB\n"
     ]
    }
   ],
   "source": [
    "jobs.info()"
   ]
  },
  {
   "cell_type": "code",
   "execution_count": 48,
   "id": "e63615e2",
   "metadata": {},
   "outputs": [
    {
     "data": {
      "text/html": [
       "<div>\n",
       "<style scoped>\n",
       "    .dataframe tbody tr th:only-of-type {\n",
       "        vertical-align: middle;\n",
       "    }\n",
       "\n",
       "    .dataframe tbody tr th {\n",
       "        vertical-align: top;\n",
       "    }\n",
       "\n",
       "    .dataframe thead th {\n",
       "        text-align: right;\n",
       "    }\n",
       "</style>\n",
       "<table border=\"1\" class=\"dataframe\">\n",
       "  <thead>\n",
       "    <tr style=\"text-align: right;\">\n",
       "      <th></th>\n",
       "      <th>id</th>\n",
       "      <th>cityID</th>\n",
       "      <th>address</th>\n",
       "    </tr>\n",
       "  </thead>\n",
       "  <tbody>\n",
       "    <tr>\n",
       "      <td>156439</td>\n",
       "      <td>156685</td>\n",
       "      <td>NaN</td>\n",
       "      <td>NaN</td>\n",
       "    </tr>\n",
       "    <tr>\n",
       "      <td>156440</td>\n",
       "      <td>156686</td>\n",
       "      <td>NaN</td>\n",
       "      <td>NaN</td>\n",
       "    </tr>\n",
       "    <tr>\n",
       "      <td>156441</td>\n",
       "      <td>156687</td>\n",
       "      <td>NaN</td>\n",
       "      <td>NaN</td>\n",
       "    </tr>\n",
       "  </tbody>\n",
       "</table>\n",
       "</div>"
      ],
      "text/plain": [
       "            id  cityID address\n",
       "156439  156685     NaN     NaN\n",
       "156440  156686     NaN     NaN\n",
       "156441  156687     NaN     NaN"
      ]
     },
     "execution_count": 48,
     "metadata": {},
     "output_type": "execute_result"
    }
   ],
   "source": [
    "job_address.tail(3)"
   ]
  },
  {
   "cell_type": "code",
   "execution_count": null,
   "id": "be2b6906",
   "metadata": {},
   "outputs": [],
   "source": []
  },
  {
   "cell_type": "code",
   "execution_count": 49,
   "id": "162df486",
   "metadata": {},
   "outputs": [
    {
     "data": {
      "text/html": [
       "<div>\n",
       "<style scoped>\n",
       "    .dataframe tbody tr th:only-of-type {\n",
       "        vertical-align: middle;\n",
       "    }\n",
       "\n",
       "    .dataframe tbody tr th {\n",
       "        vertical-align: top;\n",
       "    }\n",
       "\n",
       "    .dataframe thead th {\n",
       "        text-align: right;\n",
       "    }\n",
       "</style>\n",
       "<table border=\"1\" class=\"dataframe\">\n",
       "  <thead>\n",
       "    <tr style=\"text-align: right;\">\n",
       "      <th></th>\n",
       "      <th>id</th>\n",
       "      <th>disabled</th>\n",
       "      <th>lastLoginDate</th>\n",
       "      <th>createDate</th>\n",
       "      <th>updateDate</th>\n",
       "      <th>cityID</th>\n",
       "      <th>cityTitle</th>\n",
       "      <th>workmanID</th>\n",
       "      <th>ga_cid</th>\n",
       "      <th>ua</th>\n",
       "      <th>lastActivityDate</th>\n",
       "      <th>utm</th>\n",
       "      <th>registration_source</th>\n",
       "      <th>createDay</th>\n",
       "      <th>updateDay</th>\n",
       "      <th>lastActivityDay</th>\n",
       "    </tr>\n",
       "  </thead>\n",
       "  <tbody>\n",
       "    <tr>\n",
       "      <td>0</td>\n",
       "      <td>1</td>\n",
       "      <td>0</td>\n",
       "      <td>2022-01-27 10:54:36</td>\n",
       "      <td>2020-10-27 14:15:44</td>\n",
       "      <td>2022-01-27 11:04:21</td>\n",
       "      <td>nan</td>\n",
       "      <td>NaN</td>\n",
       "      <td>1</td>\n",
       "      <td>1,946,822,606.16</td>\n",
       "      <td>Mozilla/5.0 (Macintosh; Intel Mac OS X 10_15_6...</td>\n",
       "      <td>2022-01-27 11:04:21</td>\n",
       "      <td>NaN</td>\n",
       "      <td>WEB</td>\n",
       "      <td>2020-10-27</td>\n",
       "      <td>2022-01-27</td>\n",
       "      <td>2022-01-27</td>\n",
       "    </tr>\n",
       "    <tr>\n",
       "      <td>1</td>\n",
       "      <td>2</td>\n",
       "      <td>0</td>\n",
       "      <td>2022-02-07 10:53:51</td>\n",
       "      <td>2020-10-28 10:19:16</td>\n",
       "      <td>2022-02-07 12:35:48</td>\n",
       "      <td>nan</td>\n",
       "      <td>NaN</td>\n",
       "      <td>16</td>\n",
       "      <td>390,111,297.16</td>\n",
       "      <td>Mozilla/5.0 (Windows NT 6.3; Win64; x64) Apple...</td>\n",
       "      <td>2022-02-07 12:35:48</td>\n",
       "      <td>NaN</td>\n",
       "      <td>WEB</td>\n",
       "      <td>2020-10-28</td>\n",
       "      <td>2022-02-07</td>\n",
       "      <td>2022-02-07</td>\n",
       "    </tr>\n",
       "    <tr>\n",
       "      <td>2</td>\n",
       "      <td>3</td>\n",
       "      <td>0</td>\n",
       "      <td>2021-03-25 18:35:49</td>\n",
       "      <td>2020-10-28 11:11:47</td>\n",
       "      <td>2021-06-24 21:17:42</td>\n",
       "      <td>1.00</td>\n",
       "      <td>Москва</td>\n",
       "      <td>3</td>\n",
       "      <td>1,573,962,662.16</td>\n",
       "      <td>Mozilla/5.0 (Macintosh; Intel Mac OS X 10_15_7...</td>\n",
       "      <td>2021-05-19 18:33:58</td>\n",
       "      <td>NaN</td>\n",
       "      <td>WEB</td>\n",
       "      <td>2020-10-28</td>\n",
       "      <td>2021-06-24</td>\n",
       "      <td>2021-05-19</td>\n",
       "    </tr>\n",
       "  </tbody>\n",
       "</table>\n",
       "</div>"
      ],
      "text/plain": [
       "   id  disabled        lastLoginDate          createDate          updateDate  \\\n",
       "0   1         0  2022-01-27 10:54:36 2020-10-27 14:15:44 2022-01-27 11:04:21   \n",
       "1   2         0  2022-02-07 10:53:51 2020-10-28 10:19:16 2022-02-07 12:35:48   \n",
       "2   3         0  2021-03-25 18:35:49 2020-10-28 11:11:47 2021-06-24 21:17:42   \n",
       "\n",
       "   cityID cityTitle  workmanID           ga_cid  \\\n",
       "0     nan       NaN          1 1,946,822,606.16   \n",
       "1     nan       NaN         16   390,111,297.16   \n",
       "2    1.00    Москва          3 1,573,962,662.16   \n",
       "\n",
       "                                                  ua    lastActivityDate  utm  \\\n",
       "0  Mozilla/5.0 (Macintosh; Intel Mac OS X 10_15_6... 2022-01-27 11:04:21  NaN   \n",
       "1  Mozilla/5.0 (Windows NT 6.3; Win64; x64) Apple... 2022-02-07 12:35:48  NaN   \n",
       "2  Mozilla/5.0 (Macintosh; Intel Mac OS X 10_15_7... 2021-05-19 18:33:58  NaN   \n",
       "\n",
       "  registration_source  createDay  updateDay lastActivityDay  \n",
       "0                 WEB 2020-10-27 2022-01-27      2022-01-27  \n",
       "1                 WEB 2020-10-28 2022-02-07      2022-02-07  \n",
       "2                 WEB 2020-10-28 2021-06-24      2021-05-19  "
      ]
     },
     "execution_count": 49,
     "metadata": {},
     "output_type": "execute_result"
    }
   ],
   "source": [
    "users.head(3)"
   ]
  },
  {
   "cell_type": "code",
   "execution_count": 50,
   "id": "65e87432",
   "metadata": {},
   "outputs": [
    {
     "name": "stdout",
     "output_type": "stream",
     "text": [
      "<class 'pandas.core.frame.DataFrame'>\n",
      "RangeIndex: 29289 entries, 0 to 29288\n",
      "Data columns (total 16 columns):\n",
      "id                     29289 non-null int64\n",
      "disabled               29289 non-null int64\n",
      "lastLoginDate          29264 non-null object\n",
      "createDate             29289 non-null datetime64[ns]\n",
      "updateDate             29289 non-null datetime64[ns]\n",
      "cityID                 3072 non-null float64\n",
      "cityTitle              3072 non-null object\n",
      "workmanID              23826 non-null Int64\n",
      "ga_cid                 15842 non-null float64\n",
      "ua                     18054 non-null object\n",
      "lastActivityDate       29255 non-null datetime64[ns]\n",
      "utm                    3286 non-null object\n",
      "registration_source    29289 non-null object\n",
      "createDay              29289 non-null datetime64[ns]\n",
      "updateDay              29289 non-null datetime64[ns]\n",
      "lastActivityDay        29255 non-null datetime64[ns]\n",
      "dtypes: Int64(1), datetime64[ns](6), float64(2), int64(2), object(5)\n",
      "memory usage: 3.6+ MB\n"
     ]
    }
   ],
   "source": [
    "users.info()"
   ]
  },
  {
   "cell_type": "code",
   "execution_count": 51,
   "id": "2f64801f",
   "metadata": {},
   "outputs": [
    {
     "data": {
      "text/html": [
       "<div>\n",
       "<style scoped>\n",
       "    .dataframe tbody tr th:only-of-type {\n",
       "        vertical-align: middle;\n",
       "    }\n",
       "\n",
       "    .dataframe tbody tr th {\n",
       "        vertical-align: top;\n",
       "    }\n",
       "\n",
       "    .dataframe thead th {\n",
       "        text-align: right;\n",
       "    }\n",
       "</style>\n",
       "<table border=\"1\" class=\"dataframe\">\n",
       "  <thead>\n",
       "    <tr style=\"text-align: right;\">\n",
       "      <th></th>\n",
       "      <th>id</th>\n",
       "      <th>createDate</th>\n",
       "      <th>lastLoginDate</th>\n",
       "      <th>lastName</th>\n",
       "      <th>firstName</th>\n",
       "      <th>middleName</th>\n",
       "      <th>stateID</th>\n",
       "      <th>smzStateID</th>\n",
       "      <th>accessTaxPayment</th>\n",
       "      <th>taxpayerTypeID</th>\n",
       "      <th>ga_cid</th>\n",
       "      <th>registration_source</th>\n",
       "      <th>createDay</th>\n",
       "      <th>lastLoginDay</th>\n",
       "    </tr>\n",
       "  </thead>\n",
       "  <tbody>\n",
       "    <tr>\n",
       "      <td>0</td>\n",
       "      <td>1</td>\n",
       "      <td>2020-10-27 14:24:51</td>\n",
       "      <td>2022-01-27 10:54:36</td>\n",
       "      <td>Михайлов</td>\n",
       "      <td>Сергей</td>\n",
       "      <td>Сергеевич</td>\n",
       "      <td>REJECTED</td>\n",
       "      <td>OK</td>\n",
       "      <td>0</td>\n",
       "      <td>IP</td>\n",
       "      <td>1946822606.1600435</td>\n",
       "      <td>WEB</td>\n",
       "      <td>2020-10-27</td>\n",
       "      <td>2022-01-27</td>\n",
       "    </tr>\n",
       "    <tr>\n",
       "      <td>1</td>\n",
       "      <td>3</td>\n",
       "      <td>2020-10-28 11:24:42</td>\n",
       "      <td>2021-03-25 18:35:49</td>\n",
       "      <td>Чахидзе</td>\n",
       "      <td>Георгий</td>\n",
       "      <td>Виссарионович</td>\n",
       "      <td>REJECTED</td>\n",
       "      <td>OK</td>\n",
       "      <td>0</td>\n",
       "      <td>IP</td>\n",
       "      <td>1573962662.1599066</td>\n",
       "      <td>WEB</td>\n",
       "      <td>2020-10-28</td>\n",
       "      <td>2021-03-25</td>\n",
       "    </tr>\n",
       "    <tr>\n",
       "      <td>2</td>\n",
       "      <td>16</td>\n",
       "      <td>2020-10-28 13:29:18</td>\n",
       "      <td>2022-02-07 10:53:51</td>\n",
       "      <td>Папандопуло</td>\n",
       "      <td>Янис</td>\n",
       "      <td>Константинович</td>\n",
       "      <td>REJECTED</td>\n",
       "      <td>OK</td>\n",
       "      <td>0</td>\n",
       "      <td>IP</td>\n",
       "      <td>390111297.1603284</td>\n",
       "      <td>WEB</td>\n",
       "      <td>2020-10-28</td>\n",
       "      <td>2022-02-07</td>\n",
       "    </tr>\n",
       "  </tbody>\n",
       "</table>\n",
       "</div>"
      ],
      "text/plain": [
       "   id          createDate       lastLoginDate     lastName firstName  \\\n",
       "0   1 2020-10-27 14:24:51 2022-01-27 10:54:36     Михайлов    Сергей   \n",
       "1   3 2020-10-28 11:24:42 2021-03-25 18:35:49      Чахидзе   Георгий   \n",
       "2  16 2020-10-28 13:29:18 2022-02-07 10:53:51  Папандопуло      Янис   \n",
       "\n",
       "       middleName   stateID smzStateID  accessTaxPayment taxpayerTypeID  \\\n",
       "0       Сергеевич  REJECTED         OK                 0             IP   \n",
       "1   Виссарионович  REJECTED         OK                 0             IP   \n",
       "2  Константинович  REJECTED         OK                 0             IP   \n",
       "\n",
       "               ga_cid registration_source  createDay lastLoginDay  \n",
       "0  1946822606.1600435                 WEB 2020-10-27   2022-01-27  \n",
       "1  1573962662.1599066                 WEB 2020-10-28   2021-03-25  \n",
       "2   390111297.1603284                 WEB 2020-10-28   2022-02-07  "
      ]
     },
     "execution_count": 51,
     "metadata": {},
     "output_type": "execute_result"
    }
   ],
   "source": [
    "workmans.head(3)"
   ]
  },
  {
   "cell_type": "code",
   "execution_count": 52,
   "id": "d1ac5e3b",
   "metadata": {},
   "outputs": [
    {
     "name": "stdout",
     "output_type": "stream",
     "text": [
      "<class 'pandas.core.frame.DataFrame'>\n",
      "RangeIndex: 23827 entries, 0 to 23826\n",
      "Data columns (total 14 columns):\n",
      "id                     23827 non-null int64\n",
      "createDate             23827 non-null datetime64[ns]\n",
      "lastLoginDate          23827 non-null datetime64[ns]\n",
      "lastName               23597 non-null object\n",
      "firstName              23600 non-null object\n",
      "middleName             22724 non-null object\n",
      "stateID                23827 non-null object\n",
      "smzStateID             23827 non-null object\n",
      "accessTaxPayment       23827 non-null int64\n",
      "taxpayerTypeID         23827 non-null object\n",
      "ga_cid                 23827 non-null object\n",
      "registration_source    23827 non-null object\n",
      "createDay              23827 non-null datetime64[ns]\n",
      "lastLoginDay           23827 non-null datetime64[ns]\n",
      "dtypes: datetime64[ns](4), int64(2), object(8)\n",
      "memory usage: 2.5+ MB\n"
     ]
    }
   ],
   "source": [
    "workmans.info()"
   ]
  },
  {
   "cell_type": "markdown",
   "id": "c66bd7f2",
   "metadata": {},
   "source": [
    "Мы привели к нужным форматам и добавили отдельные столбцы с датами"
   ]
  },
  {
   "cell_type": "markdown",
   "id": "84800094",
   "metadata": {},
   "source": [
    "## Поиск дубликатов"
   ]
  },
  {
   "cell_type": "code",
   "execution_count": 53,
   "id": "6859f649",
   "metadata": {},
   "outputs": [
    {
     "data": {
      "text/plain": [
       "0"
      ]
     },
     "execution_count": 53,
     "metadata": {},
     "output_type": "execute_result"
    }
   ],
   "source": [
    "accounts.duplicated().sum()"
   ]
  },
  {
   "cell_type": "code",
   "execution_count": 54,
   "id": "ad700b50",
   "metadata": {},
   "outputs": [
    {
     "data": {
      "text/plain": [
       "0"
      ]
     },
     "execution_count": 54,
     "metadata": {},
     "output_type": "execute_result"
    }
   ],
   "source": [
    "jobOffers.duplicated().sum()"
   ]
  },
  {
   "cell_type": "code",
   "execution_count": 55,
   "id": "9f291547",
   "metadata": {},
   "outputs": [
    {
     "data": {
      "text/plain": [
       "0"
      ]
     },
     "execution_count": 55,
     "metadata": {},
     "output_type": "execute_result"
    }
   ],
   "source": [
    "jobs.duplicated().sum()"
   ]
  },
  {
   "cell_type": "code",
   "execution_count": 56,
   "id": "6a81db85",
   "metadata": {},
   "outputs": [
    {
     "data": {
      "text/plain": [
       "0"
      ]
     },
     "execution_count": 56,
     "metadata": {},
     "output_type": "execute_result"
    }
   ],
   "source": [
    "users.duplicated().sum()"
   ]
  },
  {
   "cell_type": "code",
   "execution_count": 57,
   "id": "0ec99307",
   "metadata": {},
   "outputs": [
    {
     "data": {
      "text/plain": [
       "0"
      ]
     },
     "execution_count": 57,
     "metadata": {},
     "output_type": "execute_result"
    }
   ],
   "source": [
    "workmans.duplicated().sum()"
   ]
  },
  {
   "cell_type": "markdown",
   "id": "1e5441b0",
   "metadata": {},
   "source": [
    "Поиск дубликатов во всех таблицах не дал результатов. Всё норм"
   ]
  },
  {
   "cell_type": "markdown",
   "id": "a3de7286",
   "metadata": {},
   "source": [
    "## Изучение данных на корректность"
   ]
  },
  {
   "cell_type": "code",
   "execution_count": 58,
   "id": "9cac77bb",
   "metadata": {},
   "outputs": [
    {
     "name": "stdout",
     "output_type": "stream",
     "text": [
      "id\n"
     ]
    },
    {
     "data": {
      "text/plain": [
       "255    1\n",
       "45     1\n",
       "64     1\n",
       "63     1\n",
       "62     1\n",
       "      ..\n",
       "262    1\n",
       "141    1\n",
       "135    1\n",
       "134    1\n",
       "260    1\n",
       "Name: id, Length: 163, dtype: int64"
      ]
     },
     "metadata": {},
     "output_type": "display_data"
    },
    {
     "name": "stdout",
     "output_type": "stream",
     "text": [
      "createDate\n"
     ]
    },
    {
     "data": {
      "text/plain": [
       "2021-12-14 11:40:31    1\n",
       "2021-04-27 16:02:21    1\n",
       "2021-02-11 12:54:32    1\n",
       "2021-03-17 17:52:31    1\n",
       "2021-11-26 14:56:15    1\n",
       "                      ..\n",
       "2021-03-24 10:06:08    1\n",
       "2021-12-21 11:17:08    1\n",
       "2021-04-08 16:36:06    1\n",
       "2021-10-08 07:59:07    1\n",
       "2021-05-05 06:32:38    1\n",
       "Name: createDate, Length: 163, dtype: int64"
      ]
     },
     "metadata": {},
     "output_type": "display_data"
    },
    {
     "name": "stdout",
     "output_type": "stream",
     "text": [
      "companyDetailsName\n"
     ]
    },
    {
     "data": {
      "text/plain": [
       "ВБК СЕРВИСЕС                      2\n",
       "Матвечук Максим Геннадьевич       1\n",
       "АВТОРИТЕТ ПЛЮС                    1\n",
       "ЮИК                               1\n",
       "КЕЛЛИ СЕРВИСЕЗ СИ-АЙ-ЭС           1\n",
       "                                 ..\n",
       "ТЕХНОЛОГИИ БИЗНЕСА                1\n",
       "Боровой Евгений Дмитриевич        1\n",
       "Грищенко Даниил Вадимович         1\n",
       "Кулагин Геннадий Александрович    1\n",
       "ОП                                1\n",
       "Name: companyDetailsName, Length: 162, dtype: int64"
      ]
     },
     "metadata": {},
     "output_type": "display_data"
    },
    {
     "name": "stdout",
     "output_type": "stream",
     "text": [
      "typeID\n"
     ]
    },
    {
     "data": {
      "text/plain": [
       "OOO    102\n",
       "IP      57\n",
       "PAO      4\n",
       "Name: typeID, dtype: int64"
      ]
     },
     "metadata": {},
     "output_type": "display_data"
    },
    {
     "name": "stdout",
     "output_type": "stream",
     "text": [
      "ownerUserID\n"
     ]
    },
    {
     "data": {
      "text/plain": [
       "86       2\n",
       "12543    1\n",
       "17631    1\n",
       "610      1\n",
       "25185    1\n",
       "        ..\n",
       "18605    1\n",
       "10666    1\n",
       "25747    1\n",
       "28431    1\n",
       "1        1\n",
       "Name: ownerUserID, Length: 162, dtype: int64"
      ]
     },
     "metadata": {},
     "output_type": "display_data"
    },
    {
     "name": "stdout",
     "output_type": "stream",
     "text": [
      "lastLoginDate\n"
     ]
    },
    {
     "data": {
      "text/plain": [
       "2022-01-12 09:14:13    2\n",
       "2021-12-20 17:15:48    1\n",
       "2021-05-05 06:29:37    1\n",
       "2022-01-27 14:07:40    1\n",
       "2021-09-03 10:21:16    1\n",
       "                      ..\n",
       "2021-05-05 18:48:12    1\n",
       "2020-12-23 13:24:14    1\n",
       "2022-01-20 21:34:53    1\n",
       "2022-02-04 16:12:57    1\n",
       "2021-12-13 13:37:22    1\n",
       "Name: lastLoginDate, Length: 162, dtype: int64"
      ]
     },
     "metadata": {},
     "output_type": "display_data"
    },
    {
     "name": "stdout",
     "output_type": "stream",
     "text": [
      "ga_cid\n"
     ]
    },
    {
     "data": {
      "text/plain": [
       "nan                   30\n",
       "629614999.1592561      3\n",
       "1702446055.160736      2\n",
       "437819629.1639408      2\n",
       "1212878934.1629725     2\n",
       "                      ..\n",
       "1877222612.1637926     1\n",
       "1919034272.1639385     1\n",
       "160558115.16158068     1\n",
       "1315847723.163972      1\n",
       "986425144.1635952      1\n",
       "Name: ga_cid, Length: 125, dtype: int64"
      ]
     },
     "metadata": {},
     "output_type": "display_data"
    },
    {
     "name": "stdout",
     "output_type": "stream",
     "text": [
      "registration_source\n"
     ]
    },
    {
     "data": {
      "text/plain": [
       "WEB        149\n",
       "ANDROID     13\n",
       "OTHER        1\n",
       "Name: registration_source, dtype: int64"
      ]
     },
     "metadata": {},
     "output_type": "display_data"
    },
    {
     "name": "stdout",
     "output_type": "stream",
     "text": [
      "createDay\n"
     ]
    },
    {
     "data": {
      "text/plain": [
       "2021-04-08    5\n",
       "2021-04-07    4\n",
       "2021-08-23    4\n",
       "2021-03-15    3\n",
       "2021-11-19    3\n",
       "             ..\n",
       "2021-08-31    1\n",
       "2021-12-01    1\n",
       "2020-11-18    1\n",
       "2021-11-15    1\n",
       "2021-12-14    1\n",
       "Name: createDay, Length: 111, dtype: int64"
      ]
     },
     "metadata": {},
     "output_type": "display_data"
    },
    {
     "name": "stdout",
     "output_type": "stream",
     "text": [
      "lastLoginDay\n"
     ]
    },
    {
     "data": {
      "text/plain": [
       "2022-02-07    18\n",
       "2022-02-02     8\n",
       "2022-02-03     8\n",
       "2022-02-01     6\n",
       "2022-02-04     6\n",
       "              ..\n",
       "2021-11-29     1\n",
       "2021-09-28     1\n",
       "2022-02-06     1\n",
       "2021-12-06     1\n",
       "2022-01-21     1\n",
       "Name: lastLoginDay, Length: 97, dtype: int64"
      ]
     },
     "metadata": {},
     "output_type": "display_data"
    }
   ],
   "source": [
    "# в цикле выводим `value_counts()` для каждого столбца\n",
    "\n",
    "for col in accounts.columns:\n",
    "    print(str(col))\n",
    "    display(accounts[col].value_counts())"
   ]
  },
  {
   "cell_type": "markdown",
   "id": "3b6e50db",
   "metadata": {},
   "source": [
    "Два аккаунта привязаны к одному пользователю 86. Два аккаунта умудрились последний раз зайти секунда в секунду 2022-01-12 09:14:13. ga_cid дали тройное совпадение. \"Чистота и Порядок\" и два \"ВБК СЕРВИСЕС\". Считаю ВБК дубликатом, его бы удалить, у id = 12 нет заказов, в отличие от 13"
   ]
  },
  {
   "cell_type": "code",
   "execution_count": 59,
   "id": "11203192",
   "metadata": {},
   "outputs": [],
   "source": [
    "# сделаем срез без id = 12, а то 12 и 13 одна кампания\n",
    "accounts = accounts.query('id != 12')"
   ]
  },
  {
   "cell_type": "code",
   "execution_count": 60,
   "id": "4d0628ef",
   "metadata": {},
   "outputs": [
    {
     "name": "stdout",
     "output_type": "stream",
     "text": [
      "id\n"
     ]
    },
    {
     "data": {
      "text/plain": [
       "2047     1\n",
       "91398    1\n",
       "81165    1\n",
       "79116    1\n",
       "68875    1\n",
       "        ..\n",
       "49869    1\n",
       "51916    1\n",
       "62155    1\n",
       "64202    1\n",
       "2049     1\n",
       "Name: id, Length: 162731, dtype: int64"
      ]
     },
     "metadata": {},
     "output_type": "display_data"
    },
    {
     "name": "stdout",
     "output_type": "stream",
     "text": [
      "jobID\n"
     ]
    },
    {
     "data": {
      "text/plain": [
       "58092     29\n",
       "32136     26\n",
       "70080     26\n",
       "32138     25\n",
       "11230     24\n",
       "          ..\n",
       "144530     1\n",
       "142481     1\n",
       "140432     1\n",
       "89215      1\n",
       "2049       1\n",
       "Name: jobID, Length: 153685, dtype: int64"
      ]
     },
     "metadata": {},
     "output_type": "display_data"
    },
    {
     "name": "stdout",
     "output_type": "stream",
     "text": [
      "offerPrice\n"
     ]
    },
    {
     "data": {
      "text/plain": [
       "0.00         4205\n",
       "4,255.32     1858\n",
       "12,766.00    1546\n",
       "17,021.00    1149\n",
       "500.00       1116\n",
       "             ... \n",
       "21,294.68       1\n",
       "4,562.55        1\n",
       "5,642.00        1\n",
       "1,697.87        1\n",
       "7,842.55        1\n",
       "Name: offerPrice, Length: 26966, dtype: int64"
      ]
     },
     "metadata": {},
     "output_type": "display_data"
    },
    {
     "name": "stdout",
     "output_type": "stream",
     "text": [
      "workmanID\n"
     ]
    },
    {
     "data": {
      "text/plain": [
       "16415    1024\n",
       "18940     635\n",
       "13831     617\n",
       "6652      553\n",
       "18276     494\n",
       "         ... \n",
       "16751       1\n",
       "16668       1\n",
       "26905       1\n",
       "24856       1\n",
       "16283       1\n",
       "Name: workmanID, Length: 15501, dtype: int64"
      ]
     },
     "metadata": {},
     "output_type": "display_data"
    },
    {
     "name": "stdout",
     "output_type": "stream",
     "text": [
      "stateID\n"
     ]
    },
    {
     "data": {
      "text/plain": [
       "COMPLETED          141460\n",
       "PUBLISHED            9580\n",
       "INPROGRESS           5338\n",
       "ACCEPTANCE           5191\n",
       "CANCELED              579\n",
       "DECLINED              235\n",
       "FINISHED              200\n",
       "PAYMENT_WAITING        88\n",
       "ACT_REQUIRED           34\n",
       "ARBITRATION            18\n",
       "ACCEPTED                8\n",
       "Name: stateID, dtype: int64"
      ]
     },
     "metadata": {},
     "output_type": "display_data"
    },
    {
     "name": "stdout",
     "output_type": "stream",
     "text": [
      "createDate\n"
     ]
    },
    {
     "data": {
      "text/plain": [
       "2022-01-19 00:06:11    7\n",
       "2021-12-18 11:37:01    7\n",
       "2021-07-09 15:13:36    7\n",
       "2022-01-31 19:09:08    6\n",
       "2021-12-12 10:21:03    6\n",
       "                      ..\n",
       "2022-01-26 16:04:47    1\n",
       "2021-09-28 17:48:19    1\n",
       "2021-12-21 11:28:12    1\n",
       "2021-11-05 12:18:09    1\n",
       "2021-10-11 13:10:43    1\n",
       "Name: createDate, Length: 142172, dtype: int64"
      ]
     },
     "metadata": {},
     "output_type": "display_data"
    },
    {
     "name": "stdout",
     "output_type": "stream",
     "text": [
      "updateDate\n"
     ]
    },
    {
     "data": {
      "text/plain": [
       "2021-04-18 22:11:20    1781\n",
       "2021-10-07 19:29:21     180\n",
       "2021-10-07 19:28:49     178\n",
       "2021-10-07 19:29:28     177\n",
       "2021-10-07 19:33:57     177\n",
       "                       ... \n",
       "2022-01-31 12:53:33       1\n",
       "2022-02-04 12:16:23       1\n",
       "2021-12-04 12:16:49       1\n",
       "2022-01-26 10:50:09       1\n",
       "2021-09-08 13:34:35       1\n",
       "Name: updateDate, Length: 34195, dtype: int64"
      ]
     },
     "metadata": {},
     "output_type": "display_data"
    },
    {
     "name": "stdout",
     "output_type": "stream",
     "text": [
      "cancelDate\n"
     ]
    },
    {
     "data": {
      "text/plain": [
       "2021-05-01 05:41:41    1\n",
       "2021-05-29 10:58:03    1\n",
       "2021-09-07 15:11:57    1\n",
       "2021-03-20 11:03:07    1\n",
       "2021-12-22 17:18:42    1\n",
       "                      ..\n",
       "2021-03-20 11:05:23    1\n",
       "2021-12-17 12:15:01    1\n",
       "2022-01-21 02:54:53    1\n",
       "2021-04-29 08:08:15    1\n",
       "2021-03-20 11:02:50    1\n",
       "Name: cancelDate, Length: 650, dtype: int64"
      ]
     },
     "metadata": {},
     "output_type": "display_data"
    },
    {
     "name": "stdout",
     "output_type": "stream",
     "text": [
      "finishExecuteDate\n"
     ]
    },
    {
     "data": {
      "text/plain": [
       "2022-01-11 13:54:42    133\n",
       "2021-10-04 13:49:24    130\n",
       "2022-01-17 12:01:40    129\n",
       "2021-10-11 12:42:56    129\n",
       "2021-10-11 12:42:55    129\n",
       "                      ... \n",
       "2021-09-07 20:52:21      1\n",
       "2021-08-06 14:20:03      1\n",
       "2021-11-07 00:54:35      1\n",
       "2021-09-17 13:00:27      1\n",
       "2022-01-14 14:03:46      1\n",
       "Name: finishExecuteDate, Length: 101499, dtype: int64"
      ]
     },
     "metadata": {},
     "output_type": "display_data"
    },
    {
     "name": "stdout",
     "output_type": "stream",
     "text": [
      "accountID\n"
     ]
    },
    {
     "data": {
      "text/plain": [
       "15     79179\n",
       "80     18989\n",
       "25     15374\n",
       "32      8579\n",
       "23      6141\n",
       "       ...  \n",
       "91         2\n",
       "220        2\n",
       "152        1\n",
       "8          1\n",
       "178        1\n",
       "Name: accountID, Length: 71, dtype: int64"
      ]
     },
     "metadata": {},
     "output_type": "display_data"
    },
    {
     "name": "stdout",
     "output_type": "stream",
     "text": [
      "createDay\n"
     ]
    },
    {
     "data": {
      "text/plain": [
       "2022-01-11    3535\n",
       "2021-12-29    3498\n",
       "2022-01-28    3041\n",
       "2021-12-10    3002\n",
       "2021-12-24    2762\n",
       "              ... \n",
       "2020-12-07       1\n",
       "2020-10-30       1\n",
       "2020-12-01       1\n",
       "2021-01-23       1\n",
       "2020-11-11       1\n",
       "Name: createDay, Length: 406, dtype: int64"
      ]
     },
     "metadata": {},
     "output_type": "display_data"
    },
    {
     "name": "stdout",
     "output_type": "stream",
     "text": [
      "updateDay\n"
     ]
    },
    {
     "data": {
      "text/plain": [
       "2021-10-07    49854\n",
       "2021-12-29     4394\n",
       "2022-01-31     3641\n",
       "2022-01-11     3554\n",
       "2021-12-13     3020\n",
       "              ...  \n",
       "2021-09-28        1\n",
       "2021-08-25        1\n",
       "2021-09-09        1\n",
       "2021-09-07        1\n",
       "2021-09-11        1\n",
       "Name: updateDay, Length: 291, dtype: int64"
      ]
     },
     "metadata": {},
     "output_type": "display_data"
    },
    {
     "name": "stdout",
     "output_type": "stream",
     "text": [
      "cancelDay\n"
     ]
    },
    {
     "data": {
      "text/plain": [
       "2021-03-20    83\n",
       "2022-01-11    12\n",
       "2022-01-03    12\n",
       "2022-01-28    12\n",
       "2021-06-11    11\n",
       "              ..\n",
       "2021-04-25     1\n",
       "2021-06-16     1\n",
       "2021-06-09     1\n",
       "2021-02-19     1\n",
       "2021-05-31     1\n",
       "Name: cancelDay, Length: 229, dtype: int64"
      ]
     },
     "metadata": {},
     "output_type": "display_data"
    },
    {
     "name": "stdout",
     "output_type": "stream",
     "text": [
      "finishExecuteDay\n"
     ]
    },
    {
     "data": {
      "text/plain": [
       "2021-12-29    3749\n",
       "2022-01-11    3312\n",
       "2021-12-10    2446\n",
       "2021-12-24    2070\n",
       "2022-01-21    2003\n",
       "              ... \n",
       "2020-12-11       1\n",
       "2020-11-23       1\n",
       "2020-11-11       1\n",
       "2020-10-28       1\n",
       "2020-12-04       1\n",
       "Name: finishExecuteDay, Length: 398, dtype: int64"
      ]
     },
     "metadata": {},
     "output_type": "display_data"
    }
   ],
   "source": [
    "# в цикле выводим `value_counts()` для каждого столбца\n",
    "\n",
    "for col in jobOffers.columns:\n",
    "    print(str(col))\n",
    "    display(jobOffers[col].value_counts())"
   ]
  },
  {
   "cell_type": "markdown",
   "id": "2c9156a8",
   "metadata": {},
   "source": [
    "Максимальное количество откликов на заказ - 29. Офферов без указания стоимости заказа 3990. Самый популярный отклик на заказ с ценой 4255,32 , ее выбрали 2150 раз. Чаще всех откликается исполнитель с id = 16415, кол-во его откликов 1007. С помощью платформы завершено и оплачено 131195. 2021-04-18 22:11:20 возможно были какие то работы, обновление получили 1781 офферов. Хотя при этом 2021-10-07 получили обновление 49953 офферов.\n",
    "\n",
    "\n",
    "Наши рекордсмены по количеству принятых офферов это (id заказчиков):\n",
    "\n",
    "- 15, получено 72458 офферов\n",
    "- 80, получено 16822 оффера\n",
    "- 25, получено 15370 оффера\n",
    "\n",
    "Если не считать 11 января 2022 года с 3535 откликов на заказы, то в декабре 2021 три дня лидера: 29-12 с 3498 откликов, 10-12 с 3002 откликами и 24-12 с 2762 откликами на заказы.\n",
    "\n",
    "2021-03-20 отменилось 83 заказа"
   ]
  },
  {
   "cell_type": "code",
   "execution_count": 61,
   "id": "f7896d65",
   "metadata": {},
   "outputs": [
    {
     "name": "stdout",
     "output_type": "stream",
     "text": [
      "id\n"
     ]
    },
    {
     "data": {
      "text/plain": [
       "2047      1\n",
       "79244     1\n",
       "118163    1\n",
       "116114    1\n",
       "122257    1\n",
       "         ..\n",
       "148125    1\n",
       "150172    1\n",
       "156313    1\n",
       "135831    1\n",
       "2049      1\n",
       "Name: id, Length: 156427, dtype: int64"
      ]
     },
     "metadata": {},
     "output_type": "display_data"
    },
    {
     "name": "stdout",
     "output_type": "stream",
     "text": [
      "createDate\n"
     ]
    },
    {
     "data": {
      "text/plain": [
       "2021-03-15 17:37:48    21\n",
       "2021-03-05 19:18:07    19\n",
       "2021-03-30 09:52:54    19\n",
       "2021-03-22 16:43:00    18\n",
       "2021-10-06 20:05:57    17\n",
       "                       ..\n",
       "2022-01-13 14:11:05     1\n",
       "2021-11-29 19:06:49     1\n",
       "2022-01-13 19:05:01     1\n",
       "2021-11-03 17:37:13     1\n",
       "2022-01-26 14:22:54     1\n",
       "Name: createDate, Length: 124748, dtype: int64"
      ]
     },
     "metadata": {},
     "output_type": "display_data"
    },
    {
     "name": "stdout",
     "output_type": "stream",
     "text": [
      "updateDate\n"
     ]
    },
    {
     "data": {
      "text/plain": [
       "2021-04-18 22:11:32    505\n",
       "2022-01-17 18:31:14     85\n",
       "2022-01-19 15:58:19     84\n",
       "2021-09-20 16:31:57     83\n",
       "2021-11-15 18:13:54     81\n",
       "                      ... \n",
       "2021-11-03 16:45:02      1\n",
       "2022-02-04 13:07:58      1\n",
       "2021-12-10 14:20:18      1\n",
       "2022-01-12 18:33:25      1\n",
       "2022-01-15 04:47:26      1\n",
       "Name: updateDate, Length: 29086, dtype: int64"
      ]
     },
     "metadata": {},
     "output_type": "display_data"
    },
    {
     "name": "stdout",
     "output_type": "stream",
     "text": [
      "title\n"
     ]
    },
    {
     "data": {
      "text/plain": [
       "Доставка заказов                                               63024\n",
       "Доставка товара                                                 5765\n",
       "Помощь в заправке автомобилей                                   4327\n",
       "Этикетирование продукции                                        2257\n",
       "Доставка заказов в период с 2 по 8 августа                      2211\n",
       "                                                               ...  \n",
       "Редакция полногоотчета (46 слайдов)                                1\n",
       "Разработка ПО по проекту Деловая среда.Отчет №3 от 13.12.21        1\n",
       "Установка радиатора отопления                                      1\n",
       "Услуги по укладке-упаковке 2225кг готовой продукции                1\n",
       "Услуги электрика                                                   1\n",
       "Name: title, Length: 2258, dtype: int64"
      ]
     },
     "metadata": {},
     "output_type": "display_data"
    },
    {
     "name": "stdout",
     "output_type": "stream",
     "text": [
      "stateID\n"
     ]
    },
    {
     "data": {
      "text/plain": [
       "COMPLETED         141460\n",
       "INPROGRESS         10547\n",
       "CANCELED            3035\n",
       "PUBLISHED           1043\n",
       "FINISHED             322\n",
       "DRAFT                 10\n",
       "WORKMANPENDING         8\n",
       "REJECTED               1\n",
       "MODERATION             1\n",
       "Name: stateID, dtype: int64"
      ]
     },
     "metadata": {},
     "output_type": "display_data"
    },
    {
     "name": "stdout",
     "output_type": "stream",
     "text": [
      "accountID\n"
     ]
    },
    {
     "data": {
      "text/plain": [
       "15     77529\n",
       "80     18177\n",
       "25     14407\n",
       "32      8409\n",
       "23      5758\n",
       "       ...  \n",
       "29         1\n",
       "48         1\n",
       "178        1\n",
       "49         1\n",
       "152        1\n",
       "Name: accountID, Length: 80, dtype: int64"
      ]
     },
     "metadata": {},
     "output_type": "display_data"
    },
    {
     "name": "stdout",
     "output_type": "stream",
     "text": [
      "companyDetailsName\n"
     ]
    },
    {
     "data": {
      "text/plain": [
       "ИЗИ ЛОДЖИСТИК                  77529\n",
       "ЗАОЧНИК.КОМ.                   18177\n",
       "АДЕПТС                         14407\n",
       "Глобал Трейд-Логистикс          8409\n",
       "АККОРД                          5758\n",
       "                               ...  \n",
       "Горелов Сергей Николаевич          1\n",
       "ЛИКВИД                             1\n",
       "Горбунов Артемий Викторович        1\n",
       "ООО \"МОСДОК\"                       1\n",
       "Исламов Артем Данисович            1\n",
       "Name: companyDetailsName, Length: 80, dtype: int64"
      ]
     },
     "metadata": {},
     "output_type": "display_data"
    },
    {
     "name": "stdout",
     "output_type": "stream",
     "text": [
      "workmanID\n"
     ]
    },
    {
     "data": {
      "text/plain": [
       "16415    1024\n",
       "18276     494\n",
       "18655     367\n",
       "18265     309\n",
       "2663      285\n",
       "         ... \n",
       "16777       1\n",
       "22922       1\n",
       "4026        1\n",
       "21299       1\n",
       "26880       1\n",
       "Name: workmanID, Length: 15168, dtype: int64"
      ]
     },
     "metadata": {},
     "output_type": "display_data"
    },
    {
     "name": "stdout",
     "output_type": "stream",
     "text": [
      "price\n"
     ]
    },
    {
     "data": {
      "text/plain": [
       "0.00         4205\n",
       "12,766.00    1530\n",
       "17,021.00    1149\n",
       "500.00        795\n",
       "400.00        703\n",
       "             ... \n",
       "30,372.00       1\n",
       "19,223.83       1\n",
       "19,862.00       1\n",
       "12,612.00       1\n",
       "10,207.00       1\n",
       "Name: price, Length: 26883, dtype: int64"
      ]
     },
     "metadata": {},
     "output_type": "display_data"
    },
    {
     "name": "stdout",
     "output_type": "stream",
     "text": [
      "npd\n"
     ]
    },
    {
     "data": {
      "text/plain": [
       "0.00        35581\n",
       "765.96       1067\n",
       "1,021.26      826\n",
       "30.00         532\n",
       "574.44        484\n",
       "            ...  \n",
       "626.55          1\n",
       "69.30           1\n",
       "6.77            1\n",
       "450.33          1\n",
       "1,058.34        1\n",
       "Name: npd, Length: 22327, dtype: int64"
      ]
     },
     "metadata": {},
     "output_type": "display_data"
    },
    {
     "name": "stdout",
     "output_type": "stream",
     "text": [
      "commission\n"
     ]
    },
    {
     "data": {
      "text/plain": [
       "0.00      4205\n",
       "255.32    1503\n",
       "340.42    1149\n",
       "12.50      769\n",
       "10.00      725\n",
       "          ... \n",
       "46.62        1\n",
       "404.90       1\n",
       "407.10       1\n",
       "711.27       1\n",
       "491.28       1\n",
       "Name: commission, Length: 27798, dtype: int64"
      ]
     },
     "metadata": {},
     "output_type": "display_data"
    },
    {
     "name": "stdout",
     "output_type": "stream",
     "text": [
      "paymentDate\n"
     ]
    },
    {
     "data": {
      "text/plain": [
       "2021-11-24 10:49:18    3\n",
       "2022-02-02 12:27:20    3\n",
       "2021-10-05 11:05:35    3\n",
       "2022-01-04 12:57:16    3\n",
       "2021-10-18 12:28:42    3\n",
       "                      ..\n",
       "2022-01-27 14:42:27    1\n",
       "2021-08-30 12:30:46    1\n",
       "2021-09-27 15:34:23    1\n",
       "2021-05-07 09:47:17    1\n",
       "2022-01-17 16:35:07    1\n",
       "Name: paymentDate, Length: 105258, dtype: int64"
      ]
     },
     "metadata": {},
     "output_type": "display_data"
    },
    {
     "name": "stdout",
     "output_type": "stream",
     "text": [
      "createDay\n"
     ]
    },
    {
     "data": {
      "text/plain": [
       "2022-01-11    4259\n",
       "2021-12-29    3425\n",
       "2021-12-10    3175\n",
       "2022-01-28    3003\n",
       "2022-01-21    2757\n",
       "              ... \n",
       "2020-12-01       1\n",
       "2020-12-04       1\n",
       "2021-02-20       1\n",
       "2020-11-25       1\n",
       "2021-02-08       1\n",
       "Name: createDay, Length: 330, dtype: int64"
      ]
     },
     "metadata": {},
     "output_type": "display_data"
    },
    {
     "name": "stdout",
     "output_type": "stream",
     "text": [
      "updateDay\n"
     ]
    },
    {
     "data": {
      "text/plain": [
       "2021-08-25    17371\n",
       "2021-09-20    16697\n",
       "2021-12-29     4168\n",
       "2022-01-31     4160\n",
       "2022-01-11     3575\n",
       "              ...  \n",
       "2021-10-02        1\n",
       "2021-05-29        1\n",
       "2021-07-14        1\n",
       "2021-07-07        1\n",
       "2021-07-23        1\n",
       "Name: updateDay, Length: 235, dtype: int64"
      ]
     },
     "metadata": {},
     "output_type": "display_data"
    },
    {
     "name": "stdout",
     "output_type": "stream",
     "text": [
      "paymentDay\n"
     ]
    },
    {
     "data": {
      "text/plain": [
       "2021-12-29    4147\n",
       "2021-12-13    3615\n",
       "2022-01-11    3450\n",
       "2022-01-31    3131\n",
       "2021-12-27    3101\n",
       "              ... \n",
       "2021-07-18       1\n",
       "2021-05-09       1\n",
       "2021-06-13       1\n",
       "2021-10-03       1\n",
       "2021-07-17       1\n",
       "Name: paymentDay, Length: 327, dtype: int64"
      ]
     },
     "metadata": {},
     "output_type": "display_data"
    }
   ],
   "source": [
    "# в цикле выводим `value_counts()` для каждого столбца\n",
    "\n",
    "for col in jobs.columns:\n",
    "    print(str(col))\n",
    "    display(jobs[col].value_counts())"
   ]
  },
  {
   "cell_type": "markdown",
   "id": "94ce84cc",
   "metadata": {},
   "source": [
    "Максимальная загрузка в одну секунду доходила до 19. В 2021-04-18 22:11:32 обновилось 313 заказов, второй идёт только с 85. \n",
    "\n",
    "| Самые популярные виды виды работ | количество публикаций |\n",
    "|:---------------------------------|:----------------------:|\n",
    "| Доставка заказов                 | 57433 |\n",
    "| Доставка товара | 5315 |\n",
    "| Помощь в заправке автомобилей | 3974 |\n",
    "| Уборка нежилых помещений | 2153 |\n",
    "| Доставка заказов в период с 2 по 8 августа | 2075 |\n",
    "\n",
    "У нас два \"Платонов Илья Андреевич\", размещающих заказы. Больше всего у нас размещено работ со стоимостью в 12766.00, 1415 заказов, а так же 17021.00, 1048 заказов. Думаю они в рублях. При этом самый частый НПД мы платим 765.96, около 981 заказов, и 1021.26, 751 заказ.\n",
    "\n",
    "Самая частая комиссия, которую мы получаем:\n",
    "- 255.320,    1391 раз\n",
    "- 340.420,    1048 раз\n",
    "- 12.500,      678 раз\n",
    "- 191.480,     662 раз\n",
    "\n",
    "Рекордсмен по выплатам у нас 2021-12-29, 4147 раз"
   ]
  },
  {
   "cell_type": "code",
   "execution_count": 62,
   "id": "1bc82103",
   "metadata": {},
   "outputs": [
    {
     "name": "stdout",
     "output_type": "stream",
     "text": [
      "id\n"
     ]
    },
    {
     "data": {
      "text/plain": [
       "2047      1\n",
       "69003     1\n",
       "116114    1\n",
       "122257    1\n",
       "120208    1\n",
       "         ..\n",
       "156313    1\n",
       "135831    1\n",
       "137878    1\n",
       "131733    1\n",
       "2049      1\n",
       "Name: id, Length: 156442, dtype: int64"
      ]
     },
     "metadata": {},
     "output_type": "display_data"
    },
    {
     "name": "stdout",
     "output_type": "stream",
     "text": [
      "cityID\n"
     ]
    },
    {
     "data": {
      "text/plain": [
       "1      4016\n",
       "17     1595\n",
       "177     708\n",
       "19      633\n",
       "2       327\n",
       "       ... \n",
       "324       1\n",
       "129       1\n",
       "9         1\n",
       "195       1\n",
       "154       1\n",
       "Name: cityID, Length: 92, dtype: int64"
      ]
     },
     "metadata": {},
     "output_type": "display_data"
    },
    {
     "name": "stdout",
     "output_type": "stream",
     "text": [
      "address\n"
     ]
    },
    {
     "data": {
      "text/plain": [
       "не указан                                                                      5528\n",
       "Краснодар                                                                      1235\n",
       "Россия, Удмуртская Республика, Ижевск, Салютовская улица, 43                    612\n",
       "142050, Московская область, город Домодедово, Белые столбы, вл.3, стр.3         608\n",
       "Москва                                                                          595\n",
       "                                                                               ... \n",
       "Ватутинки                                                                         1\n",
       "Ростовская обл, Каменский р-он, х. Старая Станица а/д М-4 «Дон», 924,278 км       1\n",
       "142050, Московская область, город Домодедово, Белые столбы, вл.3, стр.40          1\n",
       "Россия, Калужская область, Боровский район, Балабаново                            1\n",
       "Волгоградская область, р.п. Средняя Ахтуба ул.Степная 14                          1\n",
       "Name: address, Length: 1287, dtype: int64"
      ]
     },
     "metadata": {},
     "output_type": "display_data"
    }
   ],
   "source": [
    "# в цикле выводим `value_counts()` для каждого столбца\n",
    "\n",
    "for col in job_address.columns:\n",
    "    print(str(col))\n",
    "    display(job_address[col].value_counts())"
   ]
  },
  {
   "cell_type": "code",
   "execution_count": 63,
   "id": "adc6b825",
   "metadata": {},
   "outputs": [
    {
     "name": "stdout",
     "output_type": "stream",
     "text": [
      "id\n"
     ]
    },
    {
     "data": {
      "text/plain": [
       "2047     1\n",
       "5416     1\n",
       "1322     1\n",
       "3371     1\n",
       "13612    1\n",
       "        ..\n",
       "6806     1\n",
       "4759     1\n",
       "27288    1\n",
       "25241    1\n",
       "2049     1\n",
       "Name: id, Length: 29289, dtype: int64"
      ]
     },
     "metadata": {},
     "output_type": "display_data"
    },
    {
     "name": "stdout",
     "output_type": "stream",
     "text": [
      "disabled\n"
     ]
    },
    {
     "data": {
      "text/plain": [
       "0    29288\n",
       "1        1\n",
       "Name: disabled, dtype: int64"
      ]
     },
     "metadata": {},
     "output_type": "display_data"
    },
    {
     "name": "stdout",
     "output_type": "stream",
     "text": [
      "lastLoginDate\n"
     ]
    },
    {
     "data": {
      "text/plain": [
       "2022-02-07 12:24:58    3\n",
       "2021-12-27 18:45:04    2\n",
       "2022-02-07 09:45:34    2\n",
       "2021-12-28 18:54:07    2\n",
       "2022-01-19 19:53:26    2\n",
       "                      ..\n",
       "2021-10-27 13:14:21    1\n",
       "2022-01-31 17:23:58    1\n",
       "2022-01-09 07:14:36    1\n",
       "2022-02-04 14:46:53    1\n",
       "2021-04-07 17:19:13    1\n",
       "Name: lastLoginDate, Length: 29166, dtype: int64"
      ]
     },
     "metadata": {},
     "output_type": "display_data"
    },
    {
     "name": "stdout",
     "output_type": "stream",
     "text": [
      "createDate\n"
     ]
    },
    {
     "data": {
      "text/plain": [
       "2022-01-11 13:30:54    2\n",
       "2021-04-07 22:23:24    2\n",
       "2021-11-18 09:47:01    2\n",
       "2021-12-07 16:49:57    2\n",
       "2021-03-18 14:50:51    2\n",
       "                      ..\n",
       "2021-06-16 18:30:49    1\n",
       "2021-05-27 14:44:05    1\n",
       "2021-04-27 13:56:47    1\n",
       "2021-12-22 21:04:06    1\n",
       "2021-03-13 09:59:40    1\n",
       "Name: createDate, Length: 29253, dtype: int64"
      ]
     },
     "metadata": {},
     "output_type": "display_data"
    },
    {
     "name": "stdout",
     "output_type": "stream",
     "text": [
      "updateDate\n"
     ]
    },
    {
     "data": {
      "text/plain": [
       "2021-06-24 21:17:42    3673\n",
       "2022-02-03 17:40:51       3\n",
       "2022-02-07 12:49:27       3\n",
       "2022-02-07 11:24:40       3\n",
       "2022-01-31 16:08:28       3\n",
       "                       ... \n",
       "2022-02-05 12:26:17       1\n",
       "2021-09-01 21:28:10       1\n",
       "2021-11-02 15:14:09       1\n",
       "2021-07-14 11:05:29       1\n",
       "2022-01-31 23:53:04       1\n",
       "Name: updateDate, Length: 25483, dtype: int64"
      ]
     },
     "metadata": {},
     "output_type": "display_data"
    },
    {
     "name": "stdout",
     "output_type": "stream",
     "text": [
      "cityID\n"
     ]
    },
    {
     "data": {
      "text/plain": [
       "1.00      696\n",
       "2.00      349\n",
       "17.00     230\n",
       "4.00      135\n",
       "3.00      133\n",
       "         ... \n",
       "223.00      1\n",
       "147.00      1\n",
       "294.00      1\n",
       "322.00      1\n",
       "68.00       1\n",
       "Name: cityID, Length: 168, dtype: int64"
      ]
     },
     "metadata": {},
     "output_type": "display_data"
    },
    {
     "name": "stdout",
     "output_type": "stream",
     "text": [
      "cityTitle\n"
     ]
    },
    {
     "data": {
      "text/plain": [
       "Москва             696\n",
       "Санкт-Петербург    349\n",
       "Краснодар          230\n",
       "Екатеринбург       135\n",
       "Новосибирск        133\n",
       "                  ... \n",
       "Армавир              1\n",
       "Элиста               1\n",
       "Берёзовский          1\n",
       "Александров          1\n",
       "Сосновый Бор         1\n",
       "Name: cityTitle, Length: 168, dtype: int64"
      ]
     },
     "metadata": {},
     "output_type": "display_data"
    },
    {
     "name": "stdout",
     "output_type": "stream",
     "text": [
      "workmanID\n"
     ]
    },
    {
     "data": {
      "text/plain": [
       "2049     1\n",
       "16392    1\n",
       "26653    1\n",
       "24604    1\n",
       "22555    1\n",
       "        ..\n",
       "26611    1\n",
       "24564    1\n",
       "22517    1\n",
       "18423    1\n",
       "10235    1\n",
       "Name: workmanID, Length: 23826, dtype: int64"
      ]
     },
     "metadata": {},
     "output_type": "display_data"
    },
    {
     "name": "stdout",
     "output_type": "stream",
     "text": [
      "ga_cid\n"
     ]
    },
    {
     "data": {
      "text/plain": [
       "917,221,251.16      70\n",
       "1,999,913,307.16    36\n",
       "413,221,900.16      36\n",
       "1,373,375,195.16    25\n",
       "130,532,563.16      23\n",
       "                    ..\n",
       "1,302,720,505.16     1\n",
       "384,430,288.16       1\n",
       "1,080,091,241.16     1\n",
       "1,811,462,037.16     1\n",
       "1,937,883,214.16     1\n",
       "Name: ga_cid, Length: 15087, dtype: int64"
      ]
     },
     "metadata": {},
     "output_type": "display_data"
    },
    {
     "name": "stdout",
     "output_type": "stream",
     "text": [
      "ua\n"
     ]
    },
    {
     "data": {
      "text/plain": [
       "Mozilla/5.0 (iPhone; CPU iPhone OS 15_1 like Mac OS X) AppleWebKit/605.1.15 (KHTML, like Gecko) Version/15.1 Mobile/15E148 Safari/604.1                                                                    514\n",
       "Mozilla/5.0 (iPhone; CPU iPhone OS 14_7_1 like Mac OS X) AppleWebKit/605.1.15 (KHTML, like Gecko) Version/14.1.2 Mobile/15E148 Safari/604.1                                                                509\n",
       "Mozilla/5.0 (iPhone; CPU iPhone OS 14_6 like Mac OS X) AppleWebKit/605.1.15 (KHTML, like Gecko) Version/14.1.1 Mobile/15E148 Safari/604.1                                                                  462\n",
       "Mozilla/5.0 (iPhone; CPU iPhone OS 14_4_2 like Mac OS X) AppleWebKit/605.1.15 (KHTML, like Gecko) Version/14.0.3 Mobile/15E148 Safari/604.1                                                                391\n",
       "Mozilla/5.0 (iPhone; CPU iPhone OS 15_0_2 like Mac OS X) AppleWebKit/605.1.15 (KHTML, like Gecko) Version/15.0 Mobile/15E148 Safari/604.1                                                                  243\n",
       "                                                                                                                                                                                                          ... \n",
       "Mozilla/5.0 (Linux; arm_64; Android 11; Redmi Note 9 Pro) AppleWebKit/537.36 (KHTML, like Gecko) Chrome/96.0.4664.116 YaApp_Android/22.12.1 YaSearchBrowser/22.12.1 BroPP/1.0 SA/3 Mobile Safari/537.36      1\n",
       "Mozilla/5.0 (Linux; arm_64; Android 8.1.0; ASUS_X00TDB) AppleWebKit/537.36 (KHTML, like Gecko) Chrome/94.0.4606.85 YaBrowser/21.11.2.101.00 SA/3 Mobile Safari/537.36                                        1\n",
       "Mozilla/5.0 (Linux; arm_64; Android 11; M2101K7AG) AppleWebKit/537.36 (KHTML, like Gecko) Chrome/94.0.4606.85 YaBrowser/21.11.4.115.00 SA/3 Mobile Safari/537.36                                             1\n",
       "Mozilla/5.0 (Linux; Android 11; SM-A325F) AppleWebKit/537.36 (KHTML, like Gecko) Chrome/90.0.4430.85 Atom/1.5.1.30 Mobile Safari/537.36                                                                      1\n",
       "Mozilla/5.0 (Linux; Android 8.1.0; LG-M700) AppleWebKit/537.36 (KHTML, like Gecko) Chrome/89.0.4389.105 Mobile Safari/537.36                                                                                 1\n",
       "Name: ua, Length: 8320, dtype: int64"
      ]
     },
     "metadata": {},
     "output_type": "display_data"
    },
    {
     "name": "stdout",
     "output_type": "stream",
     "text": [
      "lastActivityDate\n"
     ]
    },
    {
     "data": {
      "text/plain": [
       "2022-02-03 17:40:51    3\n",
       "2022-02-07 12:49:27    3\n",
       "2022-02-07 11:24:40    3\n",
       "2022-01-31 16:08:28    3\n",
       "2022-02-06 20:00:57    2\n",
       "                      ..\n",
       "2022-01-31 01:07:48    1\n",
       "2021-08-04 16:11:24    1\n",
       "2022-01-31 17:16:19    1\n",
       "2021-12-30 20:30:49    1\n",
       "2021-11-08 20:10:25    1\n",
       "Name: lastActivityDate, Length: 29117, dtype: int64"
      ]
     },
     "metadata": {},
     "output_type": "display_data"
    },
    {
     "name": "stdout",
     "output_type": "stream",
     "text": [
      "utm\n"
     ]
    },
    {
     "data": {
      "text/plain": [
       "[]                                                                                                                                                         2899\n",
       "{\"utm_source\":\"instagram\",\"utm_medium\":\"cpa\",\"utm_campaign\":\"smz_site_cpa_instagram_msk_i_obl\",\"utm_content\":\"auto_interes_2\"}                               47\n",
       "{\"utm_source\":\"instagram\",\"utm_medium\":\"cpa\",\"utm_campaign\":\"smz_site_cpa_instagram_msk_i_obl\",\"utm_content\":\"velo_interes_3\"}                               33\n",
       "{\"utm_source\":\"yandex\",\"utm_medium\":\"cpc\",\"utm_campaign\":\"samozanyatye_rsya_msk_i_obl_na_sayt\",\"utm_content\":10973428603,\"utm_term\":\"---autotargeting\"}      32\n",
       "{\"utm_source\":\"instagram\",\"utm_medium\":\"cpa\",\"utm_campaign\":\"smz_site_cpa_instagram_msk_i_obl\",\"utm_content\":\"velo_interes_1\"}                               26\n",
       "                                                                                                                                                           ... \n",
       "{\"utm_source\":\"instagram\",\"utm_medium\":\"cpa\",\"utm_campaign\":\"smz_site_cpa_instagram_msk_i_obl\",\"utm_content\":\"auto_interes_4\"}                                1\n",
       "{\"utm_medium\":\"listovka\",\"utm_source\":\"czn\"}                                                                                                                  1\n",
       "{\"utm_term\":918401259713596300,\"utm_medium\":\"carrotquest\",\"utm_source\":\"email\",\"utm_content\":\"2021-05-21\",\"utm_campaign\":\"confirmemail\"}                      1\n",
       "{\"utm_campaign\":\"samozanyatye_rsya_msk_i_obl_desktop\",\"utm_content\":10981621964,\"utm_medium\":\"cpc\",\"utm_source\":\"yandex\",\"utm_term\":\"---autotargeting\"}       1\n",
       "{\"utm_term\":972827324070235000,\"utm_medium\":\"carrotquest\",\"utm_source\":\"email\",\"utm_content\":\"2021-08-04\",\"utm_campaign\":\"confirmemail\"}                      1\n",
       "Name: utm, Length: 61, dtype: int64"
      ]
     },
     "metadata": {},
     "output_type": "display_data"
    },
    {
     "name": "stdout",
     "output_type": "stream",
     "text": [
      "registration_source\n"
     ]
    },
    {
     "data": {
      "text/plain": [
       "WEB        17907\n",
       "ANDROID     6048\n",
       "OTHER       5334\n",
       "Name: registration_source, dtype: int64"
      ]
     },
     "metadata": {},
     "output_type": "display_data"
    },
    {
     "name": "stdout",
     "output_type": "stream",
     "text": [
      "createDay\n"
     ]
    },
    {
     "data": {
      "text/plain": [
       "2022-02-01    291\n",
       "2021-04-07    269\n",
       "2022-02-02    266\n",
       "2021-11-18    251\n",
       "2022-02-03    248\n",
       "             ... \n",
       "2020-11-03      1\n",
       "2020-12-24      1\n",
       "2020-12-31      1\n",
       "2020-10-30      1\n",
       "2020-11-06      1\n",
       "Name: createDay, Length: 454, dtype: int64"
      ]
     },
     "metadata": {},
     "output_type": "display_data"
    },
    {
     "name": "stdout",
     "output_type": "stream",
     "text": [
      "updateDay\n"
     ]
    },
    {
     "data": {
      "text/plain": [
       "2021-06-24    3675\n",
       "2022-02-07    1462\n",
       "2022-02-03    1259\n",
       "2022-02-04    1173\n",
       "2022-02-06    1098\n",
       "              ... \n",
       "2021-07-17      16\n",
       "2021-08-07      16\n",
       "2021-07-04      14\n",
       "2021-07-31      13\n",
       "2021-08-01       8\n",
       "Name: updateDay, Length: 229, dtype: int64"
      ]
     },
     "metadata": {},
     "output_type": "display_data"
    },
    {
     "name": "stdout",
     "output_type": "stream",
     "text": [
      "lastActivityDay\n"
     ]
    },
    {
     "data": {
      "text/plain": [
       "2022-02-07    1462\n",
       "2022-02-03    1258\n",
       "2022-02-04    1168\n",
       "2022-02-06    1098\n",
       "2022-02-02     958\n",
       "              ... \n",
       "2021-01-06       1\n",
       "2020-11-14       1\n",
       "2020-11-29       1\n",
       "2020-11-15       1\n",
       "2020-12-29       1\n",
       "Name: lastActivityDay, Length: 447, dtype: int64"
      ]
     },
     "metadata": {},
     "output_type": "display_data"
    }
   ],
   "source": [
    "# в цикле выводим `value_counts()` для каждого столбца\n",
    "\n",
    "for col in users.columns:\n",
    "    print(str(col))\n",
    "    display(users[col].value_counts())"
   ]
  },
  {
   "cell_type": "code",
   "execution_count": 64,
   "id": "e04f8474",
   "metadata": {},
   "outputs": [
    {
     "name": "stdout",
     "output_type": "stream",
     "text": [
      "id\n"
     ]
    },
    {
     "data": {
      "text/plain": [
       "10235    1\n",
       "27224    1\n",
       "23118    1\n",
       "21071    1\n",
       "10832    1\n",
       "        ..\n",
       "17682    1\n",
       "19731    1\n",
       "25878    1\n",
       "27927    1\n",
       "2049     1\n",
       "Name: id, Length: 23827, dtype: int64"
      ]
     },
     "metadata": {},
     "output_type": "display_data"
    },
    {
     "name": "stdout",
     "output_type": "stream",
     "text": [
      "createDate\n"
     ]
    },
    {
     "data": {
      "text/plain": [
       "2022-01-17 14:47:22    2\n",
       "2022-02-03 14:10:37    2\n",
       "2021-11-16 14:32:27    2\n",
       "2021-06-02 17:39:39    2\n",
       "2022-01-25 14:23:29    2\n",
       "                      ..\n",
       "2022-01-08 14:55:48    1\n",
       "2021-10-06 15:14:18    1\n",
       "2021-06-09 10:14:02    1\n",
       "2021-07-25 06:58:19    1\n",
       "2021-03-04 10:12:11    1\n",
       "Name: createDate, Length: 23806, dtype: int64"
      ]
     },
     "metadata": {},
     "output_type": "display_data"
    },
    {
     "name": "stdout",
     "output_type": "stream",
     "text": [
      "lastLoginDate\n"
     ]
    },
    {
     "data": {
      "text/plain": [
       "2022-02-07 12:24:58    3\n",
       "2022-02-02 12:31:20    2\n",
       "2022-02-02 13:29:23    2\n",
       "2022-01-19 19:53:26    2\n",
       "2022-02-02 13:37:54    2\n",
       "                      ..\n",
       "2021-04-18 14:40:04    1\n",
       "2021-12-28 13:10:29    1\n",
       "2021-05-15 00:43:47    1\n",
       "2021-09-12 01:27:25    1\n",
       "2022-01-22 02:51:50    1\n",
       "Name: lastLoginDate, Length: 23739, dtype: int64"
      ]
     },
     "metadata": {},
     "output_type": "display_data"
    },
    {
     "name": "stdout",
     "output_type": "stream",
     "text": [
      "lastName\n"
     ]
    },
    {
     "data": {
      "text/plain": [
       "Иванов       127\n",
       "Кузнецов      69\n",
       "Попов         67\n",
       "Петров        58\n",
       "Смирнов       51\n",
       "            ... \n",
       "Былов          1\n",
       "Алыкова        1\n",
       "Ниговорин      1\n",
       "Хурасев        1\n",
       "Жученко        1\n",
       "Name: lastName, Length: 14427, dtype: int64"
      ]
     },
     "metadata": {},
     "output_type": "display_data"
    },
    {
     "name": "stdout",
     "output_type": "stream",
     "text": [
      "firstName\n"
     ]
    },
    {
     "data": {
      "text/plain": [
       "Александр    1186\n",
       "Дмитрий       869\n",
       "Сергей        856\n",
       "Алексей       732\n",
       "Андрей        683\n",
       "             ... \n",
       "Гулсара         1\n",
       "Исхак           1\n",
       "Араз            1\n",
       "Джамбул         1\n",
       "ДАВИД           1\n",
       "Name: firstName, Length: 2549, dtype: int64"
      ]
     },
     "metadata": {},
     "output_type": "display_data"
    },
    {
     "name": "stdout",
     "output_type": "stream",
     "text": [
      "middleName\n"
     ]
    },
    {
     "data": {
      "text/plain": [
       "Сергеевич             1702\n",
       "Александрович         1685\n",
       "Владимирович          1082\n",
       "Андреевич              872\n",
       "Алексеевич             788\n",
       "                      ... \n",
       "Махаматибрагимович       1\n",
       "рудольфович              1\n",
       "Аскатбековна             1\n",
       "Серёжаевич               1\n",
       "АКБАРАЛИЕВИЧ             1\n",
       "Name: middleName, Length: 2792, dtype: int64"
      ]
     },
     "metadata": {},
     "output_type": "display_data"
    },
    {
     "name": "stdout",
     "output_type": "stream",
     "text": [
      "stateID\n"
     ]
    },
    {
     "data": {
      "text/plain": [
       "ACTIVE        17334\n",
       "REJECTED       5300\n",
       "DRAFT          1017\n",
       "MODERATION      176\n",
       "Name: stateID, dtype: int64"
      ]
     },
     "metadata": {},
     "output_type": "display_data"
    },
    {
     "name": "stdout",
     "output_type": "stream",
     "text": [
      "smzStateID\n"
     ]
    },
    {
     "data": {
      "text/plain": [
       "OK                  19881\n",
       "NOACCESS             1624\n",
       "UNKNOWN              1158\n",
       "CHECKING              797\n",
       "NOTSE                 336\n",
       "VALIDATION_ERROR       31\n",
       "Name: smzStateID, dtype: int64"
      ]
     },
     "metadata": {},
     "output_type": "display_data"
    },
    {
     "name": "stdout",
     "output_type": "stream",
     "text": [
      "accessTaxPayment\n"
     ]
    },
    {
     "data": {
      "text/plain": [
       "1    17003\n",
       "0     6824\n",
       "Name: accessTaxPayment, dtype: int64"
      ]
     },
     "metadata": {},
     "output_type": "display_data"
    },
    {
     "name": "stdout",
     "output_type": "stream",
     "text": [
      "taxpayerTypeID\n"
     ]
    },
    {
     "data": {
      "text/plain": [
       "SMZ    23674\n",
       "IP       138\n",
       "OOO       13\n",
       "PAO        2\n",
       "Name: taxpayerTypeID, dtype: int64"
      ]
     },
     "metadata": {},
     "output_type": "display_data"
    },
    {
     "name": "stdout",
     "output_type": "stream",
     "text": [
      "ga_cid\n"
     ]
    },
    {
     "data": {
      "text/plain": [
       "nan                   10755\n",
       "917221251.1614586        69\n",
       "413221900.161428         35\n",
       "1999913307.1619008       35\n",
       "1373375195.161823        25\n",
       "                      ...  \n",
       "393223412.1611728         1\n",
       "952371327.1633596         1\n",
       "732809569.1637594         1\n",
       "353023924.1632816         1\n",
       "240610939.16389635        1\n",
       "Name: ga_cid, Length: 12543, dtype: int64"
      ]
     },
     "metadata": {},
     "output_type": "display_data"
    },
    {
     "name": "stdout",
     "output_type": "stream",
     "text": [
      "registration_source\n"
     ]
    },
    {
     "data": {
      "text/plain": [
       "WEB        14868\n",
       "OTHER       4597\n",
       "ANDROID     4362\n",
       "Name: registration_source, dtype: int64"
      ]
     },
     "metadata": {},
     "output_type": "display_data"
    },
    {
     "name": "stdout",
     "output_type": "stream",
     "text": [
      "createDay\n"
     ]
    },
    {
     "data": {
      "text/plain": [
       "2022-02-01    261\n",
       "2022-02-02    239\n",
       "2022-01-31    226\n",
       "2021-11-18    226\n",
       "2022-01-25    223\n",
       "             ... \n",
       "2020-11-20      1\n",
       "2020-11-26      1\n",
       "2020-11-11      1\n",
       "2021-01-16      1\n",
       "2021-02-06      1\n",
       "Name: createDay, Length: 430, dtype: int64"
      ]
     },
     "metadata": {},
     "output_type": "display_data"
    },
    {
     "name": "stdout",
     "output_type": "stream",
     "text": [
      "lastLoginDay\n"
     ]
    },
    {
     "data": {
      "text/plain": [
       "2022-02-07    1179\n",
       "2021-12-29    1162\n",
       "2022-02-03     939\n",
       "2022-02-06     906\n",
       "2022-02-04     882\n",
       "              ... \n",
       "2021-02-12       1\n",
       "2020-12-28       1\n",
       "2021-02-10       1\n",
       "2020-11-15       1\n",
       "2021-02-06       1\n",
       "Name: lastLoginDay, Length: 401, dtype: int64"
      ]
     },
     "metadata": {},
     "output_type": "display_data"
    }
   ],
   "source": [
    "# в цикле выводим `value_counts()` для каждого столбца\n",
    "\n",
    "for col in workmans.columns:\n",
    "    print(str(col))\n",
    "    display(workmans[col].value_counts())"
   ]
  },
  {
   "cell_type": "markdown",
   "id": "3052146c",
   "metadata": {},
   "source": [
    "Больше всего у нас:\n",
    "- Иванов         126\n",
    "\n",
    "Имя:\n",
    "- Александр    1124\n",
    "\n",
    "stateID\n",
    "- ACTIVE        15571\n",
    "- REJECTED       5329\n",
    "- DRAFT           852\n",
    "- MODERATION       99\n",
    "\n",
    "smzStateID\n",
    "- OK                  18075\n",
    "- NOACCESS             1654\n",
    "- UNKNOWN               952\n",
    "- CHECKING              802\n",
    "- NOTSE                 338\n",
    "- VALIDATION_ERROR       30\n",
    "\n",
    "Дата создания профилей самозанятых:\n",
    "- 2021-11-18,    226"
   ]
  },
  {
   "cell_type": "markdown",
   "id": "5fd2b60c",
   "metadata": {},
   "source": [
    "## Вывод"
   ]
  },
  {
   "cell_type": "markdown",
   "id": "73ded2f5",
   "metadata": {},
   "source": [
    "В таблице **jobs** мы удали пропуски в id исполнителей и заказачких, т.к. по сути это не сформированные заказы и/или ещё не выполненые. Информация по ним нам не нужна.\n",
    "\n",
    "Так же мы установили нужные типы данных во всех таблицах и полях, с которыми собираемся работать.\n",
    "\n",
    "Поиск дубликатов во всех таблицах не дал результатов, все id заполняются корректно.\n",
    "\n",
    "Максимальное количество откликов на заказ - 29. Офферов без указания стоимости заказа 3990. Самый популярный отклик на заказ с ценой 4255,32 , ее выбрали 2150 раз. Чаще всех откликается исполнитель с id = 16415, кол-во его откликов 1007. С помощью платформы завершено и оплачено 131195. 2021-04-18 22:11:20 возможно были какие то работы, обновление получили 1781 офферов. Хотя при этом 2021-10-07 получили обновление 49953 офферов.\n",
    "\n",
    "\n",
    "Наши рекордсмены по количеству принятых офферов это (id заказчиков):\n",
    "\n",
    "- 15, получено 72458 офферов\n",
    "- 80, получено 16822 оффера\n",
    "- 25, получено 15370 оффера\n",
    "\n",
    "Если не считать 11 января 2022 года с 3535 откликов на заказы, то в декабре 2021 три дня лидера: 29-12 с 3498 откликов, 10-12 с 3002 откликами и 24-12 с 2762 откликами на заказы.\n",
    "\n",
    "2021-03-20 отменилось 83 заказа\n",
    "\n",
    "Максимальная загрузка в одну секунду доходила до 19. В 2021-04-18 22:11:32 обновилось 313 заказов, второй идёт только с 85. \n",
    "\n",
    "| Самые популярные виды виды работ | количество публикаций |\n",
    "|:---------------------------------|:----------------------:|\n",
    "| Доставка заказов                 | 57433 |\n",
    "| Доставка товара | 5315 |\n",
    "| Помощь в заправке автомобилей | 3974 |\n",
    "| Уборка нежилых помещений | 2153 |\n",
    "| Доставка заказов в период с 2 по 8 августа | 2075 |\n",
    "\n",
    "У нас два \"Платонов Илья Андреевич\", размещающих заказы. Больше всего у нас размещено работ со стоимостью в 12766.00, 1415 заказов, а так же 17021.00, 1048 заказов. Думаю они в рублях. При этом самый частый НПД мы платим 765.96, около 981 заказов, и 1021.26, 751 заказ.\n",
    "\n",
    "Самая частая комиссия, которую мы получаем:\n",
    "- 255.32,    1391 раз\n",
    "- 340.42,    1048 раз\n",
    "- 12.50,      678 раз\n",
    "- 191.48,     662 раз\n",
    "\n",
    "Рекордсмен по выплатам у нас 2021-12-29, 4147 раз\n",
    "\n",
    "Больше всего у нас:\n",
    "- Иванов         126\n",
    "\n",
    "Имя:\n",
    "- Александр    1124\n",
    "\n",
    "stateID\n",
    "- ACTIVE        15571\n",
    "- REJECTED       5329\n",
    "- DRAFT           852\n",
    "- MODERATION       99\n",
    "\n",
    "smzStateID\n",
    "- OK                  18075\n",
    "- NOACCESS             1654\n",
    "- UNKNOWN               952\n",
    "- CHECKING              802\n",
    "- NOTSE                 338\n",
    "- VALIDATION_ERROR       30\n",
    "\n",
    "Дата создания профилей самозанятых:\n",
    "- 2021-11-18,    226"
   ]
  },
  {
   "cell_type": "markdown",
   "id": "5d7068b4",
   "metadata": {},
   "source": [
    "# Анализ данных"
   ]
  },
  {
   "cell_type": "markdown",
   "id": "e65d7d39",
   "metadata": {},
   "source": [
    "## Изучим таблиу accounts"
   ]
  },
  {
   "cell_type": "code",
   "execution_count": 65,
   "id": "d4e1d0b1",
   "metadata": {},
   "outputs": [
    {
     "data": {
      "text/plain": [
       "0      457\n",
       "1      414\n",
       "2      147\n",
       "3      226\n",
       "4      373\n",
       "      ... \n",
       "158      4\n",
       "159      0\n",
       "160      4\n",
       "161      0\n",
       "162      0\n",
       "Name: active_day, Length: 162, dtype: int64"
      ]
     },
     "execution_count": 65,
     "metadata": {},
     "output_type": "execute_result"
    }
   ],
   "source": [
    "accounts['active_day'] = (accounts['lastLoginDay'] - accounts['createDay']).dt.days\n",
    "accounts['active_day']"
   ]
  },
  {
   "cell_type": "code",
   "execution_count": 66,
   "id": "c4283c9e",
   "metadata": {},
   "outputs": [
    {
     "data": {
      "image/png": "[encoded data removed]",
      "text/plain": [
       "<Figure size 864x432 with 1 Axes>"
      ]
     },
     "metadata": {
      "needs_background": "light"
     },
     "output_type": "display_data"
    }
   ],
   "source": [
    "# построим график по времени пользования платформой заказчиками (от даты регистрации до последней даты захода)\n",
    "accounts['active_day'].hist(bins=30, figsize=(12,6))\n",
    "plt.title('Кол-во аккаунтов заказчиков по времени пользования')\n",
    "plt.ylabel('Кол-во аккаунтов, ед.')\n",
    "plt.xlabel('Время пользования платформы, дни')\n",
    "plt.show()"
   ]
  },
  {
   "cell_type": "code",
   "execution_count": 67,
   "id": "7cb51829",
   "metadata": {},
   "outputs": [
    {
     "data": {
      "image/png": "[encoded data removed]",
      "text/plain": [
       "<Figure size 864x432 with 1 Axes>"
      ]
     },
     "metadata": {
      "needs_background": "light"
     },
     "output_type": "display_data"
    }
   ],
   "source": [
    "# добавим часы пользования платформой\n",
    "accounts['active_hours'] = (accounts['lastLoginDate'] - accounts['createDate']).dt.days\n",
    "accounts['active_hours']\n",
    "\n",
    "# построим гистограмму распределения для аккаунтов активных менее дня и не заходивших с начала декабря\n",
    "accounts.query('0 <= active_hours <= 100 and lastLoginDay < \"2021-12-01\"')['active_hours'].hist(bins=30, figsize=(12,6))\n",
    "plt.title('Кол-во аккаунтов заказчиков по времени пользования, которые отвалились в первый день')\n",
    "plt.ylabel('Кол-во аккаунтов, ед.')\n",
    "plt.xlabel('Время пользования платформы, часы')\n",
    "plt.show()"
   ]
  },
  {
   "cell_type": "code",
   "execution_count": 68,
   "id": "7375f05c",
   "metadata": {},
   "outputs": [
    {
     "data": {
      "text/html": [
       "<div>\n",
       "<style scoped>\n",
       "    .dataframe tbody tr th:only-of-type {\n",
       "        vertical-align: middle;\n",
       "    }\n",
       "\n",
       "    .dataframe tbody tr th {\n",
       "        vertical-align: top;\n",
       "    }\n",
       "\n",
       "    .dataframe thead th {\n",
       "        text-align: right;\n",
       "    }\n",
       "</style>\n",
       "<table border=\"1\" class=\"dataframe\">\n",
       "  <thead>\n",
       "    <tr style=\"text-align: right;\">\n",
       "      <th></th>\n",
       "      <th>id</th>\n",
       "      <th>createDate</th>\n",
       "      <th>companyDetailsName</th>\n",
       "      <th>typeID</th>\n",
       "      <th>ownerUserID</th>\n",
       "      <th>lastLoginDate</th>\n",
       "      <th>ga_cid</th>\n",
       "      <th>registration_source</th>\n",
       "      <th>createDay</th>\n",
       "      <th>lastLoginDay</th>\n",
       "      <th>active_day</th>\n",
       "      <th>active_hours</th>\n",
       "    </tr>\n",
       "  </thead>\n",
       "  <tbody>\n",
       "    <tr>\n",
       "      <td>14</td>\n",
       "      <td>21</td>\n",
       "      <td>2020-12-23 12:58:15</td>\n",
       "      <td>КЬЮГО ТЕК</td>\n",
       "      <td>OOO</td>\n",
       "      <td>287</td>\n",
       "      <td>2020-12-23 13:24:14</td>\n",
       "      <td>nan</td>\n",
       "      <td>WEB</td>\n",
       "      <td>2020-12-23</td>\n",
       "      <td>2020-12-23</td>\n",
       "      <td>0</td>\n",
       "      <td>0</td>\n",
       "    </tr>\n",
       "    <tr>\n",
       "      <td>21</td>\n",
       "      <td>28</td>\n",
       "      <td>2021-03-12 10:39:58</td>\n",
       "      <td>БИГ КОНСАЛТИНГ ЭНД МЕНЕДЖМЕНТ</td>\n",
       "      <td>OOO</td>\n",
       "      <td>1310</td>\n",
       "      <td>2021-04-08 17:16:19</td>\n",
       "      <td>1884057293.1615536</td>\n",
       "      <td>WEB</td>\n",
       "      <td>2021-03-12</td>\n",
       "      <td>2021-04-08</td>\n",
       "      <td>27</td>\n",
       "      <td>27</td>\n",
       "    </tr>\n",
       "    <tr>\n",
       "      <td>23</td>\n",
       "      <td>30</td>\n",
       "      <td>2021-03-15 14:36:43</td>\n",
       "      <td>АЛЬЯНС ГРУПП</td>\n",
       "      <td>OOO</td>\n",
       "      <td>1436</td>\n",
       "      <td>2021-03-18 12:24:26</td>\n",
       "      <td>160558115.16158068</td>\n",
       "      <td>WEB</td>\n",
       "      <td>2021-03-15</td>\n",
       "      <td>2021-03-18</td>\n",
       "      <td>3</td>\n",
       "      <td>2</td>\n",
       "    </tr>\n",
       "    <tr>\n",
       "      <td>26</td>\n",
       "      <td>33</td>\n",
       "      <td>2021-03-17 17:52:31</td>\n",
       "      <td>ФАВОРИТ-КЛИН</td>\n",
       "      <td>OOO</td>\n",
       "      <td>1604</td>\n",
       "      <td>2021-03-19 12:41:01</td>\n",
       "      <td>1413110413.1615992</td>\n",
       "      <td>WEB</td>\n",
       "      <td>2021-03-17</td>\n",
       "      <td>2021-03-19</td>\n",
       "      <td>2</td>\n",
       "      <td>1</td>\n",
       "    </tr>\n",
       "    <tr>\n",
       "      <td>27</td>\n",
       "      <td>34</td>\n",
       "      <td>2021-03-17 17:58:18</td>\n",
       "      <td>АТМОСФЕРА</td>\n",
       "      <td>OOO</td>\n",
       "      <td>1605</td>\n",
       "      <td>2021-03-19 12:39:44</td>\n",
       "      <td>1491164319.1615996</td>\n",
       "      <td>WEB</td>\n",
       "      <td>2021-03-17</td>\n",
       "      <td>2021-03-19</td>\n",
       "      <td>2</td>\n",
       "      <td>1</td>\n",
       "    </tr>\n",
       "  </tbody>\n",
       "</table>\n",
       "</div>"
      ],
      "text/plain": [
       "    id          createDate             companyDetailsName typeID  ownerUserID  \\\n",
       "14  21 2020-12-23 12:58:15                      КЬЮГО ТЕК    OOO          287   \n",
       "21  28 2021-03-12 10:39:58  БИГ КОНСАЛТИНГ ЭНД МЕНЕДЖМЕНТ    OOO         1310   \n",
       "23  30 2021-03-15 14:36:43                   АЛЬЯНС ГРУПП    OOO         1436   \n",
       "26  33 2021-03-17 17:52:31                   ФАВОРИТ-КЛИН    OOO         1604   \n",
       "27  34 2021-03-17 17:58:18                      АТМОСФЕРА    OOO         1605   \n",
       "\n",
       "         lastLoginDate              ga_cid registration_source  createDay  \\\n",
       "14 2020-12-23 13:24:14                 nan                 WEB 2020-12-23   \n",
       "21 2021-04-08 17:16:19  1884057293.1615536                 WEB 2021-03-12   \n",
       "23 2021-03-18 12:24:26  160558115.16158068                 WEB 2021-03-15   \n",
       "26 2021-03-19 12:41:01  1413110413.1615992                 WEB 2021-03-17   \n",
       "27 2021-03-19 12:39:44  1491164319.1615996                 WEB 2021-03-17   \n",
       "\n",
       "   lastLoginDay  active_day  active_hours  \n",
       "14   2020-12-23           0             0  \n",
       "21   2021-04-08          27            27  \n",
       "23   2021-03-18           3             2  \n",
       "26   2021-03-19           2             1  \n",
       "27   2021-03-19           2             1  "
      ]
     },
     "execution_count": 68,
     "metadata": {},
     "output_type": "execute_result"
    }
   ],
   "source": [
    "accounts.query('0 <= active_hours <= 30 and lastLoginDay < \"2021-12-01\"').head()"
   ]
  },
  {
   "cell_type": "markdown",
   "id": "2dfc2fa3",
   "metadata": {},
   "source": [
    "Судя по срезу, параметр **lastLoginDate** в таблице **accounts** не является показательным, задания могут давать не заходя в аккаунт заказчика, или при этом просто не фиксируется заход"
   ]
  },
  {
   "cell_type": "code",
   "execution_count": 69,
   "id": "c025dd52",
   "metadata": {},
   "outputs": [
    {
     "data": {
      "text/html": [
       "<div>\n",
       "<style scoped>\n",
       "    .dataframe tbody tr th:only-of-type {\n",
       "        vertical-align: middle;\n",
       "    }\n",
       "\n",
       "    .dataframe tbody tr th {\n",
       "        vertical-align: top;\n",
       "    }\n",
       "\n",
       "    .dataframe thead th {\n",
       "        text-align: right;\n",
       "    }\n",
       "</style>\n",
       "<table border=\"1\" class=\"dataframe\">\n",
       "  <thead>\n",
       "    <tr style=\"text-align: right;\">\n",
       "      <th></th>\n",
       "      <th>createDay</th>\n",
       "      <th>id</th>\n",
       "      <th>week</th>\n",
       "    </tr>\n",
       "  </thead>\n",
       "  <tbody>\n",
       "    <tr>\n",
       "      <td>27</td>\n",
       "      <td>2021-04-08</td>\n",
       "      <td>5</td>\n",
       "      <td>14</td>\n",
       "    </tr>\n",
       "    <tr>\n",
       "      <td>44</td>\n",
       "      <td>2021-08-23</td>\n",
       "      <td>4</td>\n",
       "      <td>34</td>\n",
       "    </tr>\n",
       "    <tr>\n",
       "      <td>26</td>\n",
       "      <td>2021-04-07</td>\n",
       "      <td>4</td>\n",
       "      <td>14</td>\n",
       "    </tr>\n",
       "    <tr>\n",
       "      <td>34</td>\n",
       "      <td>2021-04-29</td>\n",
       "      <td>3</td>\n",
       "      <td>17</td>\n",
       "    </tr>\n",
       "    <tr>\n",
       "      <td>93</td>\n",
       "      <td>2021-12-21</td>\n",
       "      <td>3</td>\n",
       "      <td>51</td>\n",
       "    </tr>\n",
       "  </tbody>\n",
       "</table>\n",
       "</div>"
      ],
      "text/plain": [
       "    createDay  id  week\n",
       "27 2021-04-08   5    14\n",
       "44 2021-08-23   4    34\n",
       "26 2021-04-07   4    14\n",
       "34 2021-04-29   3    17\n",
       "93 2021-12-21   3    51"
      ]
     },
     "execution_count": 69,
     "metadata": {},
     "output_type": "execute_result"
    }
   ],
   "source": [
    "count_accounts = accounts.groupby('createDay').agg({'id':'nunique'}).reset_index()\n",
    "count_accounts['week'] = count_accounts['createDay'].dt.week \n",
    "count_accounts.sort_values('id', ascending=False).head()"
   ]
  },
  {
   "cell_type": "code",
   "execution_count": 70,
   "id": "154dc123",
   "metadata": {},
   "outputs": [
    {
     "data": {
      "image/png": "[encoded data removed]",
      "text/plain": [
       "<Figure size 1584x432 with 1 Axes>"
      ]
     },
     "metadata": {
      "needs_background": "light"
     },
     "output_type": "display_data"
    }
   ],
   "source": [
    "# построим столбчатый график по регистрации аккаунтов\n",
    "count_accounts['week'].hist(bins=40, figsize=(22,6))\n",
    "plt.title('График по регистрации аккаунтов')\n",
    "plt.ylabel('Кол-во аккаунтов')\n",
    "plt.xlabel('Время пользования платформы в неделях')\n",
    "plt.show()"
   ]
  },
  {
   "cell_type": "markdown",
   "id": "ca90e411",
   "metadata": {},
   "source": [
    "Вывод:\n",
    "    \n",
    "Параметр **lastLoginDate** в таблице **accounts** не является показательным, задания могут давать не заходя в аккаунт заказчика, или при этом просто не фиксируется заход.\n",
    "\n",
    "Первая волна регистраций закончилась к 20 недели. Втоорая началась с 32 и идёт до сих пор"
   ]
  },
  {
   "cell_type": "markdown",
   "id": "2609ca48",
   "metadata": {},
   "source": [
    "## Изучим таблицу jobs"
   ]
  },
  {
   "cell_type": "code",
   "execution_count": 71,
   "id": "741dba6c",
   "metadata": {},
   "outputs": [
    {
     "data": {
      "text/html": [
       "<div>\n",
       "<style scoped>\n",
       "    .dataframe tbody tr th:only-of-type {\n",
       "        vertical-align: middle;\n",
       "    }\n",
       "\n",
       "    .dataframe tbody tr th {\n",
       "        vertical-align: top;\n",
       "    }\n",
       "\n",
       "    .dataframe thead th {\n",
       "        text-align: right;\n",
       "    }\n",
       "</style>\n",
       "<table border=\"1\" class=\"dataframe\">\n",
       "  <thead>\n",
       "    <tr style=\"text-align: right;\">\n",
       "      <th></th>\n",
       "      <th>id</th>\n",
       "      <th>createDate</th>\n",
       "      <th>updateDate</th>\n",
       "      <th>title</th>\n",
       "      <th>stateID</th>\n",
       "      <th>accountID</th>\n",
       "      <th>companyDetailsName</th>\n",
       "      <th>workmanID</th>\n",
       "      <th>price</th>\n",
       "      <th>npd</th>\n",
       "      <th>commission</th>\n",
       "      <th>paymentDate</th>\n",
       "      <th>createDay</th>\n",
       "      <th>updateDay</th>\n",
       "      <th>paymentDay</th>\n",
       "    </tr>\n",
       "  </thead>\n",
       "  <tbody>\n",
       "    <tr>\n",
       "      <td>0</td>\n",
       "      <td>156687</td>\n",
       "      <td>2022-02-07 12:33:59</td>\n",
       "      <td>2022-02-07 12:34:41</td>\n",
       "      <td>Погрузо-разгрузочные работы</td>\n",
       "      <td>INPROGRESS</td>\n",
       "      <td>110</td>\n",
       "      <td>ГРУЗОТЕМА-СИБИРЬ</td>\n",
       "      <td>27000</td>\n",
       "      <td>4,280.00</td>\n",
       "      <td>0.00</td>\n",
       "      <td>85.60</td>\n",
       "      <td>NaT</td>\n",
       "      <td>2022-02-07</td>\n",
       "      <td>2022-02-07</td>\n",
       "      <td>NaT</td>\n",
       "    </tr>\n",
       "    <tr>\n",
       "      <td>1</td>\n",
       "      <td>156686</td>\n",
       "      <td>2022-02-07 12:33:59</td>\n",
       "      <td>2022-02-07 12:34:39</td>\n",
       "      <td>Погрузо-разгрузочные работы</td>\n",
       "      <td>INPROGRESS</td>\n",
       "      <td>110</td>\n",
       "      <td>ГРУЗОТЕМА-СИБИРЬ</td>\n",
       "      <td>27583</td>\n",
       "      <td>8,640.00</td>\n",
       "      <td>518.40</td>\n",
       "      <td>172.80</td>\n",
       "      <td>NaT</td>\n",
       "      <td>2022-02-07</td>\n",
       "      <td>2022-02-07</td>\n",
       "      <td>NaT</td>\n",
       "    </tr>\n",
       "    <tr>\n",
       "      <td>2</td>\n",
       "      <td>156685</td>\n",
       "      <td>2022-02-07 12:33:59</td>\n",
       "      <td>2022-02-07 12:34:40</td>\n",
       "      <td>Погрузо-разгрузочные работы</td>\n",
       "      <td>INPROGRESS</td>\n",
       "      <td>110</td>\n",
       "      <td>ГРУЗОТЕМА-СИБИРЬ</td>\n",
       "      <td>28152</td>\n",
       "      <td>8,520.00</td>\n",
       "      <td>511.20</td>\n",
       "      <td>170.40</td>\n",
       "      <td>NaT</td>\n",
       "      <td>2022-02-07</td>\n",
       "      <td>2022-02-07</td>\n",
       "      <td>NaT</td>\n",
       "    </tr>\n",
       "    <tr>\n",
       "      <td>3</td>\n",
       "      <td>156684</td>\n",
       "      <td>2022-02-07 12:33:58</td>\n",
       "      <td>2022-02-07 12:34:37</td>\n",
       "      <td>Погрузо-разгрузочные работы</td>\n",
       "      <td>INPROGRESS</td>\n",
       "      <td>110</td>\n",
       "      <td>ГРУЗОТЕМА-СИБИРЬ</td>\n",
       "      <td>27756</td>\n",
       "      <td>9,000.00</td>\n",
       "      <td>540.00</td>\n",
       "      <td>180.00</td>\n",
       "      <td>NaT</td>\n",
       "      <td>2022-02-07</td>\n",
       "      <td>2022-02-07</td>\n",
       "      <td>NaT</td>\n",
       "    </tr>\n",
       "    <tr>\n",
       "      <td>4</td>\n",
       "      <td>156683</td>\n",
       "      <td>2022-02-07 12:33:58</td>\n",
       "      <td>2022-02-07 12:34:38</td>\n",
       "      <td>Погрузо-разгрузочные работы</td>\n",
       "      <td>INPROGRESS</td>\n",
       "      <td>110</td>\n",
       "      <td>ГРУЗОТЕМА-СИБИРЬ</td>\n",
       "      <td>27026</td>\n",
       "      <td>7,300.00</td>\n",
       "      <td>438.00</td>\n",
       "      <td>146.00</td>\n",
       "      <td>NaT</td>\n",
       "      <td>2022-02-07</td>\n",
       "      <td>2022-02-07</td>\n",
       "      <td>NaT</td>\n",
       "    </tr>\n",
       "    <tr>\n",
       "      <td>...</td>\n",
       "      <td>...</td>\n",
       "      <td>...</td>\n",
       "      <td>...</td>\n",
       "      <td>...</td>\n",
       "      <td>...</td>\n",
       "      <td>...</td>\n",
       "      <td>...</td>\n",
       "      <td>...</td>\n",
       "      <td>...</td>\n",
       "      <td>...</td>\n",
       "      <td>...</td>\n",
       "      <td>...</td>\n",
       "      <td>...</td>\n",
       "      <td>...</td>\n",
       "      <td>...</td>\n",
       "    </tr>\n",
       "    <tr>\n",
       "      <td>156422</td>\n",
       "      <td>5</td>\n",
       "      <td>2020-11-13 15:30:44</td>\n",
       "      <td>2021-05-20 02:34:15</td>\n",
       "      <td>Нарисовать логотип Бегемота</td>\n",
       "      <td>COMPLETED</td>\n",
       "      <td>7</td>\n",
       "      <td>Знак Игорь Леонидович</td>\n",
       "      <td>31</td>\n",
       "      <td>100.00</td>\n",
       "      <td>6.00</td>\n",
       "      <td>1.00</td>\n",
       "      <td>NaT</td>\n",
       "      <td>2020-11-13</td>\n",
       "      <td>2021-05-20</td>\n",
       "      <td>NaT</td>\n",
       "    </tr>\n",
       "    <tr>\n",
       "      <td>156423</td>\n",
       "      <td>4</td>\n",
       "      <td>2020-11-12 16:43:27</td>\n",
       "      <td>2021-05-20 02:34:15</td>\n",
       "      <td>Вынести мусор из кухни 4-х ресторанов в ЦАО</td>\n",
       "      <td>COMPLETED</td>\n",
       "      <td>7</td>\n",
       "      <td>Знак Игорь Леонидович</td>\n",
       "      <td>31</td>\n",
       "      <td>250.00</td>\n",
       "      <td>15.00</td>\n",
       "      <td>2.50</td>\n",
       "      <td>NaT</td>\n",
       "      <td>2020-11-12</td>\n",
       "      <td>2021-05-20</td>\n",
       "      <td>NaT</td>\n",
       "    </tr>\n",
       "    <tr>\n",
       "      <td>156424</td>\n",
       "      <td>3</td>\n",
       "      <td>2020-11-11 10:35:56</td>\n",
       "      <td>2021-05-20 02:34:15</td>\n",
       "      <td>Доставить посылку по адресу</td>\n",
       "      <td>COMPLETED</td>\n",
       "      <td>7</td>\n",
       "      <td>Знак Игорь Леонидович</td>\n",
       "      <td>31</td>\n",
       "      <td>100.00</td>\n",
       "      <td>6.00</td>\n",
       "      <td>1.00</td>\n",
       "      <td>NaT</td>\n",
       "      <td>2020-11-11</td>\n",
       "      <td>2021-05-20</td>\n",
       "      <td>NaT</td>\n",
       "    </tr>\n",
       "    <tr>\n",
       "      <td>156425</td>\n",
       "      <td>2</td>\n",
       "      <td>2020-10-29 18:53:28</td>\n",
       "      <td>2021-05-20 02:34:15</td>\n",
       "      <td>Покрасить потолок в апельсиновый колор</td>\n",
       "      <td>COMPLETED</td>\n",
       "      <td>8</td>\n",
       "      <td>Чахидзе Георгий Виссарионович</td>\n",
       "      <td>19</td>\n",
       "      <td>210.00</td>\n",
       "      <td>0.00</td>\n",
       "      <td>12.60</td>\n",
       "      <td>NaT</td>\n",
       "      <td>2020-10-29</td>\n",
       "      <td>2021-05-20</td>\n",
       "      <td>NaT</td>\n",
       "    </tr>\n",
       "    <tr>\n",
       "      <td>156426</td>\n",
       "      <td>1</td>\n",
       "      <td>2020-10-28 14:55:02</td>\n",
       "      <td>2021-05-20 02:34:15</td>\n",
       "      <td>Забрать кошку у бабушки, привезти в Ясенево</td>\n",
       "      <td>COMPLETED</td>\n",
       "      <td>7</td>\n",
       "      <td>Знак Игорь Леонидович</td>\n",
       "      <td>3</td>\n",
       "      <td>120.00</td>\n",
       "      <td>0.00</td>\n",
       "      <td>1.20</td>\n",
       "      <td>NaT</td>\n",
       "      <td>2020-10-28</td>\n",
       "      <td>2021-05-20</td>\n",
       "      <td>NaT</td>\n",
       "    </tr>\n",
       "  </tbody>\n",
       "</table>\n",
       "<p>156427 rows × 15 columns</p>\n",
       "</div>"
      ],
      "text/plain": [
       "            id          createDate          updateDate  \\\n",
       "0       156687 2022-02-07 12:33:59 2022-02-07 12:34:41   \n",
       "1       156686 2022-02-07 12:33:59 2022-02-07 12:34:39   \n",
       "2       156685 2022-02-07 12:33:59 2022-02-07 12:34:40   \n",
       "3       156684 2022-02-07 12:33:58 2022-02-07 12:34:37   \n",
       "4       156683 2022-02-07 12:33:58 2022-02-07 12:34:38   \n",
       "...        ...                 ...                 ...   \n",
       "156422       5 2020-11-13 15:30:44 2021-05-20 02:34:15   \n",
       "156423       4 2020-11-12 16:43:27 2021-05-20 02:34:15   \n",
       "156424       3 2020-11-11 10:35:56 2021-05-20 02:34:15   \n",
       "156425       2 2020-10-29 18:53:28 2021-05-20 02:34:15   \n",
       "156426       1 2020-10-28 14:55:02 2021-05-20 02:34:15   \n",
       "\n",
       "                                              title     stateID  accountID  \\\n",
       "0                       Погрузо-разгрузочные работы  INPROGRESS        110   \n",
       "1                       Погрузо-разгрузочные работы  INPROGRESS        110   \n",
       "2                       Погрузо-разгрузочные работы  INPROGRESS        110   \n",
       "3                       Погрузо-разгрузочные работы  INPROGRESS        110   \n",
       "4                       Погрузо-разгрузочные работы  INPROGRESS        110   \n",
       "...                                             ...         ...        ...   \n",
       "156422                  Нарисовать логотип Бегемота   COMPLETED          7   \n",
       "156423  Вынести мусор из кухни 4-х ресторанов в ЦАО   COMPLETED          7   \n",
       "156424                  Доставить посылку по адресу   COMPLETED          7   \n",
       "156425       Покрасить потолок в апельсиновый колор   COMPLETED          8   \n",
       "156426  Забрать кошку у бабушки, привезти в Ясенево   COMPLETED          7   \n",
       "\n",
       "                   companyDetailsName  workmanID    price    npd  commission  \\\n",
       "0                    ГРУЗОТЕМА-СИБИРЬ      27000 4,280.00   0.00       85.60   \n",
       "1                    ГРУЗОТЕМА-СИБИРЬ      27583 8,640.00 518.40      172.80   \n",
       "2                    ГРУЗОТЕМА-СИБИРЬ      28152 8,520.00 511.20      170.40   \n",
       "3                    ГРУЗОТЕМА-СИБИРЬ      27756 9,000.00 540.00      180.00   \n",
       "4                    ГРУЗОТЕМА-СИБИРЬ      27026 7,300.00 438.00      146.00   \n",
       "...                               ...        ...      ...    ...         ...   \n",
       "156422          Знак Игорь Леонидович         31   100.00   6.00        1.00   \n",
       "156423          Знак Игорь Леонидович         31   250.00  15.00        2.50   \n",
       "156424          Знак Игорь Леонидович         31   100.00   6.00        1.00   \n",
       "156425  Чахидзе Георгий Виссарионович         19   210.00   0.00       12.60   \n",
       "156426          Знак Игорь Леонидович          3   120.00   0.00        1.20   \n",
       "\n",
       "       paymentDate  createDay  updateDay paymentDay  \n",
       "0              NaT 2022-02-07 2022-02-07        NaT  \n",
       "1              NaT 2022-02-07 2022-02-07        NaT  \n",
       "2              NaT 2022-02-07 2022-02-07        NaT  \n",
       "3              NaT 2022-02-07 2022-02-07        NaT  \n",
       "4              NaT 2022-02-07 2022-02-07        NaT  \n",
       "...            ...        ...        ...        ...  \n",
       "156422         NaT 2020-11-13 2021-05-20        NaT  \n",
       "156423         NaT 2020-11-12 2021-05-20        NaT  \n",
       "156424         NaT 2020-11-11 2021-05-20        NaT  \n",
       "156425         NaT 2020-10-29 2021-05-20        NaT  \n",
       "156426         NaT 2020-10-28 2021-05-20        NaT  \n",
       "\n",
       "[156427 rows x 15 columns]"
      ]
     },
     "execution_count": 71,
     "metadata": {},
     "output_type": "execute_result"
    }
   ],
   "source": [
    "jobs"
   ]
  },
  {
   "cell_type": "code",
   "execution_count": 72,
   "id": "cf707cc9",
   "metadata": {},
   "outputs": [],
   "source": [
    "# сделаем срез с марта 2021 по конец года\n",
    "jobs = jobs.query('createDay > \"2021-03-01\"')"
   ]
  },
  {
   "cell_type": "code",
   "execution_count": 73,
   "id": "f2c6490f",
   "metadata": {},
   "outputs": [
    {
     "data": {
      "text/plain": [
       "array(['INPROGRESS', 'FINISHED', 'PUBLISHED', 'COMPLETED', 'CANCELED',\n",
       "       'MODERATION', 'DRAFT', 'WORKMANPENDING', 'REJECTED'], dtype=object)"
      ]
     },
     "execution_count": 73,
     "metadata": {},
     "output_type": "execute_result"
    }
   ],
   "source": [
    "jobs['stateID'].unique()"
   ]
  },
  {
   "cell_type": "markdown",
   "id": "fef14b06",
   "metadata": {},
   "source": [
    "Мы сделали срез только по времени, все статусы оставили. Первые графики будут считать все задания со всеми статусами. Создать задание, потом его отменить - тоже активность. Или его не принял модератор, а заказчик после этого решил не пользоваться сервисом"
   ]
  },
  {
   "cell_type": "markdown",
   "id": "b4b0bc82",
   "metadata": {},
   "source": [
    "### Список не активных заказчиков"
   ]
  },
  {
   "cell_type": "markdown",
   "id": "83636cf0",
   "metadata": {},
   "source": [
    "Нужно обязательно считать с заданиями, которые не приняли исполнители, иначе выпадут id заказчиков"
   ]
  },
  {
   "cell_type": "code",
   "execution_count": 74,
   "id": "ac133503",
   "metadata": {},
   "outputs": [
    {
     "data": {
      "text/plain": [
       "<IntegerArray>\n",
       "[110,  80, 199, 229, 184,  23, 118, 143,  26,  60,  65, 171,  69, 169, 100,\n",
       "  53,  55,  18, 187,  15,  32, 179, 220, 253, 112, 260,  59, 274, 134, 190,\n",
       "  38, 167, 225,  98,  75,  76,  25, 145,  35, 254, 223,  16, 146, 262, 188,\n",
       " 152, 201,  99, 175, 219, 228, 216, 181, 242,  30,  33,  34, 176,   7,  58,\n",
       "  17,  11]\n",
       "Length: 62, dtype: Int64"
      ]
     },
     "execution_count": 74,
     "metadata": {},
     "output_type": "execute_result"
    }
   ],
   "source": [
    "# список id заказчиков, которые публикуют задания после 1 января\n",
    "active = jobs.query('updateDate >= \"2022-01-01\"')['accountID'].unique()\n",
    "active"
   ]
  },
  {
   "cell_type": "code",
   "execution_count": 75,
   "id": "b3bd2592",
   "metadata": {},
   "outputs": [
    {
     "data": {
      "text/plain": [
       "array([  6,   7,   8,   9,  10,  11,  13,  14,  15,  16,  17,  18,  20,\n",
       "        21,  22,  23,  24,  25,  26,  27,  28,  29,  30,  31,  32,  33,\n",
       "        34,  35,  36,  37,  38,  39,  40,  41,  42,  43,  44,  45,  46,\n",
       "        47,  48,  49,  50,  51,  52,  53,  54,  55,  57,  58,  59,  60,\n",
       "        61,  62,  63,  64,  65,  66,  68,  69,  70,  71,  72,  73,  74,\n",
       "        75,  76,  77,  78,  79,  80,  81,  87,  91,  96,  97,  98,  99,\n",
       "       100, 101, 102, 103, 105, 106, 107, 108, 109, 110, 112, 113, 114,\n",
       "       118, 121, 122, 123, 125, 128, 129, 131, 132, 134, 135, 141, 143,\n",
       "       145, 146, 147, 152, 156, 159, 160, 165, 167, 169, 171, 174, 175,\n",
       "       176, 178, 179, 181, 182, 184, 187, 188, 189, 190, 191, 193, 195,\n",
       "       197, 199, 201, 208, 211, 215, 216, 219, 220, 222, 223, 225, 226,\n",
       "       228, 229, 242, 246, 248, 252, 253, 254, 255, 260, 262, 267, 274,\n",
       "       275, 276, 277, 278, 279, 280], dtype=int64)"
      ]
     },
     "execution_count": 75,
     "metadata": {},
     "output_type": "execute_result"
    }
   ],
   "source": [
    "# вообще все наши заказчики\n",
    "all_acc = accounts['id'].unique()\n",
    "all_acc"
   ]
  },
  {
   "cell_type": "code",
   "execution_count": 76,
   "id": "f58849c8",
   "metadata": {},
   "outputs": [
    {
     "data": {
      "text/plain": [
       "[6,\n",
       " 8,\n",
       " 9,\n",
       " 10,\n",
       " 13,\n",
       " 14,\n",
       " 20,\n",
       " 21,\n",
       " 22,\n",
       " 24,\n",
       " 27,\n",
       " 28,\n",
       " 29,\n",
       " 31,\n",
       " 36,\n",
       " 37,\n",
       " 39,\n",
       " 40,\n",
       " 41,\n",
       " 42,\n",
       " 43,\n",
       " 44,\n",
       " 45,\n",
       " 46,\n",
       " 47,\n",
       " 48,\n",
       " 49,\n",
       " 50,\n",
       " 51,\n",
       " 52,\n",
       " 54,\n",
       " 57,\n",
       " 61,\n",
       " 62,\n",
       " 63,\n",
       " 64,\n",
       " 66,\n",
       " 68,\n",
       " 70,\n",
       " 71,\n",
       " 72,\n",
       " 73,\n",
       " 74,\n",
       " 77,\n",
       " 78,\n",
       " 79,\n",
       " 81,\n",
       " 87,\n",
       " 91,\n",
       " 96,\n",
       " 97,\n",
       " 101,\n",
       " 102,\n",
       " 103,\n",
       " 105,\n",
       " 106,\n",
       " 107,\n",
       " 108,\n",
       " 109,\n",
       " 113,\n",
       " 114,\n",
       " 121,\n",
       " 122,\n",
       " 123,\n",
       " 125,\n",
       " 128,\n",
       " 129,\n",
       " 131,\n",
       " 132,\n",
       " 135,\n",
       " 141,\n",
       " 147,\n",
       " 156,\n",
       " 159,\n",
       " 160,\n",
       " 165,\n",
       " 174,\n",
       " 178,\n",
       " 182,\n",
       " 189,\n",
       " 191,\n",
       " 193,\n",
       " 195,\n",
       " 197,\n",
       " 208,\n",
       " 211,\n",
       " 215,\n",
       " 222,\n",
       " 226,\n",
       " 246,\n",
       " 248,\n",
       " 252,\n",
       " 255,\n",
       " 267,\n",
       " 275,\n",
       " 276,\n",
       " 277,\n",
       " 278,\n",
       " 279,\n",
       " 280]"
      ]
     },
     "execution_count": 76,
     "metadata": {},
     "output_type": "execute_result"
    }
   ],
   "source": [
    "# сравниваем два наших списка и выводит недостающих\n",
    "not_active = (list(filter(lambda i: i not in active, all_acc)))\n",
    "not_active"
   ]
  },
  {
   "cell_type": "code",
   "execution_count": 77,
   "id": "f2d49738",
   "metadata": {},
   "outputs": [
    {
     "data": {
      "text/html": [
       "<div>\n",
       "<style scoped>\n",
       "    .dataframe tbody tr th:only-of-type {\n",
       "        vertical-align: middle;\n",
       "    }\n",
       "\n",
       "    .dataframe tbody tr th {\n",
       "        vertical-align: top;\n",
       "    }\n",
       "\n",
       "    .dataframe thead th {\n",
       "        text-align: right;\n",
       "    }\n",
       "</style>\n",
       "<table border=\"1\" class=\"dataframe\">\n",
       "  <thead>\n",
       "    <tr style=\"text-align: right;\">\n",
       "      <th></th>\n",
       "      <th>id</th>\n",
       "      <th>createDate</th>\n",
       "      <th>updateDate</th>\n",
       "      <th>title</th>\n",
       "      <th>stateID</th>\n",
       "      <th>accountID</th>\n",
       "      <th>companyDetailsName</th>\n",
       "      <th>workmanID</th>\n",
       "      <th>price</th>\n",
       "      <th>npd</th>\n",
       "      <th>commission</th>\n",
       "      <th>paymentDate</th>\n",
       "      <th>createDay</th>\n",
       "      <th>updateDay</th>\n",
       "      <th>paymentDay</th>\n",
       "    </tr>\n",
       "  </thead>\n",
       "  <tbody>\n",
       "    <tr>\n",
       "      <td>40620</td>\n",
       "      <td>116015</td>\n",
       "      <td>2021-12-28 17:05:55</td>\n",
       "      <td>2021-12-28 17:29:25</td>\n",
       "      <td>Услуги по договору</td>\n",
       "      <td>COMPLETED</td>\n",
       "      <td>129</td>\n",
       "      <td>Градус</td>\n",
       "      <td>17674</td>\n",
       "      <td>52,128.00</td>\n",
       "      <td>3,127.68</td>\n",
       "      <td>625.54</td>\n",
       "      <td>2021-12-28 17:27:16</td>\n",
       "      <td>2021-12-28</td>\n",
       "      <td>2021-12-28</td>\n",
       "      <td>2021-12-28</td>\n",
       "    </tr>\n",
       "    <tr>\n",
       "      <td>48449</td>\n",
       "      <td>108172</td>\n",
       "      <td>2021-12-21 15:41:46</td>\n",
       "      <td>2021-12-21 20:00:19</td>\n",
       "      <td>Услуги по договору</td>\n",
       "      <td>COMPLETED</td>\n",
       "      <td>129</td>\n",
       "      <td>Градус</td>\n",
       "      <td>17674</td>\n",
       "      <td>5,319.00</td>\n",
       "      <td>319.14</td>\n",
       "      <td>63.83</td>\n",
       "      <td>2021-12-21 19:51:13</td>\n",
       "      <td>2021-12-21</td>\n",
       "      <td>2021-12-21</td>\n",
       "      <td>2021-12-21</td>\n",
       "    </tr>\n",
       "    <tr>\n",
       "      <td>52716</td>\n",
       "      <td>103903</td>\n",
       "      <td>2021-12-16 18:12:31</td>\n",
       "      <td>2021-12-16 20:14:19</td>\n",
       "      <td>Услуги по договору</td>\n",
       "      <td>COMPLETED</td>\n",
       "      <td>129</td>\n",
       "      <td>Градус</td>\n",
       "      <td>17689</td>\n",
       "      <td>10,106.00</td>\n",
       "      <td>606.36</td>\n",
       "      <td>121.27</td>\n",
       "      <td>2021-12-16 20:07:28</td>\n",
       "      <td>2021-12-16</td>\n",
       "      <td>2021-12-16</td>\n",
       "      <td>2021-12-16</td>\n",
       "    </tr>\n",
       "    <tr>\n",
       "      <td>52760</td>\n",
       "      <td>103859</td>\n",
       "      <td>2021-12-16 16:29:37</td>\n",
       "      <td>2021-12-17 06:39:09</td>\n",
       "      <td>Погрузо-разгрузочные работы</td>\n",
       "      <td>COMPLETED</td>\n",
       "      <td>193</td>\n",
       "      <td>Меняйлов Виталий Сергеевич</td>\n",
       "      <td>20854</td>\n",
       "      <td>16,500.00</td>\n",
       "      <td>990.00</td>\n",
       "      <td>330.00</td>\n",
       "      <td>2021-12-17 06:30:29</td>\n",
       "      <td>2021-12-16</td>\n",
       "      <td>2021-12-17</td>\n",
       "      <td>2021-12-17</td>\n",
       "    </tr>\n",
       "    <tr>\n",
       "      <td>53349</td>\n",
       "      <td>103266</td>\n",
       "      <td>2021-12-15 10:55:54</td>\n",
       "      <td>2021-12-15 12:28:45</td>\n",
       "      <td>Услуги по договору</td>\n",
       "      <td>COMPLETED</td>\n",
       "      <td>129</td>\n",
       "      <td>Градус</td>\n",
       "      <td>17674</td>\n",
       "      <td>5,319.00</td>\n",
       "      <td>319.14</td>\n",
       "      <td>63.83</td>\n",
       "      <td>2021-12-15 12:03:05</td>\n",
       "      <td>2021-12-15</td>\n",
       "      <td>2021-12-15</td>\n",
       "      <td>2021-12-15</td>\n",
       "    </tr>\n",
       "    <tr>\n",
       "      <td>...</td>\n",
       "      <td>...</td>\n",
       "      <td>...</td>\n",
       "      <td>...</td>\n",
       "      <td>...</td>\n",
       "      <td>...</td>\n",
       "      <td>...</td>\n",
       "      <td>...</td>\n",
       "      <td>...</td>\n",
       "      <td>...</td>\n",
       "      <td>...</td>\n",
       "      <td>...</td>\n",
       "      <td>...</td>\n",
       "      <td>...</td>\n",
       "      <td>...</td>\n",
       "      <td>...</td>\n",
       "    </tr>\n",
       "    <tr>\n",
       "      <td>155279</td>\n",
       "      <td>1198</td>\n",
       "      <td>2021-03-14 17:01:10</td>\n",
       "      <td>2021-08-25 15:13:31</td>\n",
       "      <td>Уборка нежилых помещений</td>\n",
       "      <td>COMPLETED</td>\n",
       "      <td>13</td>\n",
       "      <td>ВБК СЕРВИСЕС</td>\n",
       "      <td>163</td>\n",
       "      <td>13,404.26</td>\n",
       "      <td>804.26</td>\n",
       "      <td>268.08</td>\n",
       "      <td>2021-03-16 14:44:11</td>\n",
       "      <td>2021-03-14</td>\n",
       "      <td>2021-08-25</td>\n",
       "      <td>2021-03-16</td>\n",
       "    </tr>\n",
       "    <tr>\n",
       "      <td>155280</td>\n",
       "      <td>1197</td>\n",
       "      <td>2021-03-14 17:01:10</td>\n",
       "      <td>2021-08-25 15:13:31</td>\n",
       "      <td>Уборка нежилых помещений</td>\n",
       "      <td>COMPLETED</td>\n",
       "      <td>13</td>\n",
       "      <td>ВБК СЕРВИСЕС</td>\n",
       "      <td>156</td>\n",
       "      <td>20,425.53</td>\n",
       "      <td>1,225.53</td>\n",
       "      <td>408.51</td>\n",
       "      <td>2021-03-17 15:26:17</td>\n",
       "      <td>2021-03-14</td>\n",
       "      <td>2021-08-25</td>\n",
       "      <td>2021-03-17</td>\n",
       "    </tr>\n",
       "    <tr>\n",
       "      <td>155281</td>\n",
       "      <td>1196</td>\n",
       "      <td>2021-03-14 17:01:09</td>\n",
       "      <td>2021-08-25 15:13:31</td>\n",
       "      <td>Уборка нежилых помещений</td>\n",
       "      <td>COMPLETED</td>\n",
       "      <td>13</td>\n",
       "      <td>ВБК СЕРВИСЕС</td>\n",
       "      <td>265</td>\n",
       "      <td>48,744.68</td>\n",
       "      <td>2,924.68</td>\n",
       "      <td>974.89</td>\n",
       "      <td>2021-03-17 18:41:13</td>\n",
       "      <td>2021-03-14</td>\n",
       "      <td>2021-08-25</td>\n",
       "      <td>2021-03-17</td>\n",
       "    </tr>\n",
       "    <tr>\n",
       "      <td>155282</td>\n",
       "      <td>1195</td>\n",
       "      <td>2021-03-14 17:01:09</td>\n",
       "      <td>2021-08-25 15:13:31</td>\n",
       "      <td>Уборка нежилых помещений</td>\n",
       "      <td>COMPLETED</td>\n",
       "      <td>13</td>\n",
       "      <td>ВБК СЕРВИСЕС</td>\n",
       "      <td>243</td>\n",
       "      <td>40,042.55</td>\n",
       "      <td>2,402.55</td>\n",
       "      <td>800.85</td>\n",
       "      <td>2021-03-16 13:46:14</td>\n",
       "      <td>2021-03-14</td>\n",
       "      <td>2021-08-25</td>\n",
       "      <td>2021-03-16</td>\n",
       "    </tr>\n",
       "    <tr>\n",
       "      <td>155283</td>\n",
       "      <td>1194</td>\n",
       "      <td>2021-03-14 17:01:08</td>\n",
       "      <td>2021-08-25 15:13:31</td>\n",
       "      <td>Уборка нежилых помещений</td>\n",
       "      <td>COMPLETED</td>\n",
       "      <td>13</td>\n",
       "      <td>ВБК СЕРВИСЕС</td>\n",
       "      <td>228</td>\n",
       "      <td>36,042.55</td>\n",
       "      <td>2,162.55</td>\n",
       "      <td>720.85</td>\n",
       "      <td>2021-03-16 13:46:13</td>\n",
       "      <td>2021-03-14</td>\n",
       "      <td>2021-08-25</td>\n",
       "      <td>2021-03-16</td>\n",
       "    </tr>\n",
       "  </tbody>\n",
       "</table>\n",
       "<p>184 rows × 15 columns</p>\n",
       "</div>"
      ],
      "text/plain": [
       "            id          createDate          updateDate  \\\n",
       "40620   116015 2021-12-28 17:05:55 2021-12-28 17:29:25   \n",
       "48449   108172 2021-12-21 15:41:46 2021-12-21 20:00:19   \n",
       "52716   103903 2021-12-16 18:12:31 2021-12-16 20:14:19   \n",
       "52760   103859 2021-12-16 16:29:37 2021-12-17 06:39:09   \n",
       "53349   103266 2021-12-15 10:55:54 2021-12-15 12:28:45   \n",
       "...        ...                 ...                 ...   \n",
       "155279    1198 2021-03-14 17:01:10 2021-08-25 15:13:31   \n",
       "155280    1197 2021-03-14 17:01:10 2021-08-25 15:13:31   \n",
       "155281    1196 2021-03-14 17:01:09 2021-08-25 15:13:31   \n",
       "155282    1195 2021-03-14 17:01:09 2021-08-25 15:13:31   \n",
       "155283    1194 2021-03-14 17:01:08 2021-08-25 15:13:31   \n",
       "\n",
       "                              title    stateID  accountID  \\\n",
       "40620            Услуги по договору  COMPLETED        129   \n",
       "48449            Услуги по договору  COMPLETED        129   \n",
       "52716            Услуги по договору  COMPLETED        129   \n",
       "52760   Погрузо-разгрузочные работы  COMPLETED        193   \n",
       "53349            Услуги по договору  COMPLETED        129   \n",
       "...                             ...        ...        ...   \n",
       "155279     Уборка нежилых помещений  COMPLETED         13   \n",
       "155280     Уборка нежилых помещений  COMPLETED         13   \n",
       "155281     Уборка нежилых помещений  COMPLETED         13   \n",
       "155282     Уборка нежилых помещений  COMPLETED         13   \n",
       "155283     Уборка нежилых помещений  COMPLETED         13   \n",
       "\n",
       "                companyDetailsName  workmanID     price      npd  commission  \\\n",
       "40620                       Градус      17674 52,128.00 3,127.68      625.54   \n",
       "48449                       Градус      17674  5,319.00   319.14       63.83   \n",
       "52716                       Градус      17689 10,106.00   606.36      121.27   \n",
       "52760   Меняйлов Виталий Сергеевич      20854 16,500.00   990.00      330.00   \n",
       "53349                       Градус      17674  5,319.00   319.14       63.83   \n",
       "...                            ...        ...       ...      ...         ...   \n",
       "155279                ВБК СЕРВИСЕС        163 13,404.26   804.26      268.08   \n",
       "155280                ВБК СЕРВИСЕС        156 20,425.53 1,225.53      408.51   \n",
       "155281                ВБК СЕРВИСЕС        265 48,744.68 2,924.68      974.89   \n",
       "155282                ВБК СЕРВИСЕС        243 40,042.55 2,402.55      800.85   \n",
       "155283                ВБК СЕРВИСЕС        228 36,042.55 2,162.55      720.85   \n",
       "\n",
       "               paymentDate  createDay  updateDay paymentDay  \n",
       "40620  2021-12-28 17:27:16 2021-12-28 2021-12-28 2021-12-28  \n",
       "48449  2021-12-21 19:51:13 2021-12-21 2021-12-21 2021-12-21  \n",
       "52716  2021-12-16 20:07:28 2021-12-16 2021-12-16 2021-12-16  \n",
       "52760  2021-12-17 06:30:29 2021-12-16 2021-12-17 2021-12-17  \n",
       "53349  2021-12-15 12:03:05 2021-12-15 2021-12-15 2021-12-15  \n",
       "...                    ...        ...        ...        ...  \n",
       "155279 2021-03-16 14:44:11 2021-03-14 2021-08-25 2021-03-16  \n",
       "155280 2021-03-17 15:26:17 2021-03-14 2021-08-25 2021-03-17  \n",
       "155281 2021-03-17 18:41:13 2021-03-14 2021-08-25 2021-03-17  \n",
       "155282 2021-03-16 13:46:14 2021-03-14 2021-08-25 2021-03-16  \n",
       "155283 2021-03-16 13:46:13 2021-03-14 2021-08-25 2021-03-16  \n",
       "\n",
       "[184 rows x 15 columns]"
      ]
     },
     "execution_count": 77,
     "metadata": {},
     "output_type": "execute_result"
    }
   ],
   "source": [
    "# выведем таблицу заказов с этими заказчиками\n",
    "not_active_acc = jobs.query('accountID in @not_active')\n",
    "not_active_acc"
   ]
  },
  {
   "cell_type": "code",
   "execution_count": 78,
   "id": "8fe606fd",
   "metadata": {},
   "outputs": [],
   "source": [
    "# оставим в нашей таблице по заданиям последние даты\n",
    "not_active_acc = not_active_acc.groupby(['accountID',\n",
    "                       'companyDetailsName']).agg(\n",
    "                        {'updateDate':'max','createDate':'max', 'id':'count'}\n",
    "                        ).reset_index()\n",
    "not_active_acc = not_active_acc.rename(columns={'updateDate':'lastupdateDate',\n",
    "                                                'createDate':'lastcreateDate',\n",
    "                                               'id':'amountjobs'})"
   ]
  },
  {
   "cell_type": "code",
   "execution_count": 79,
   "id": "10a4c6d3",
   "metadata": {},
   "outputs": [],
   "source": [
    "not_active_acc.to_csv('not_active_acc.csv')"
   ]
  },
  {
   "cell_type": "code",
   "execution_count": 80,
   "id": "3bc79af2",
   "metadata": {},
   "outputs": [
    {
     "data": {
      "text/html": [
       "<div>\n",
       "<style scoped>\n",
       "    .dataframe tbody tr th:only-of-type {\n",
       "        vertical-align: middle;\n",
       "    }\n",
       "\n",
       "    .dataframe tbody tr th {\n",
       "        vertical-align: top;\n",
       "    }\n",
       "\n",
       "    .dataframe thead th {\n",
       "        text-align: right;\n",
       "    }\n",
       "</style>\n",
       "<table border=\"1\" class=\"dataframe\">\n",
       "  <thead>\n",
       "    <tr style=\"text-align: right;\">\n",
       "      <th></th>\n",
       "      <th>accountID</th>\n",
       "      <th>companyDetailsName</th>\n",
       "      <th>lastupdateDate</th>\n",
       "      <th>lastcreateDate</th>\n",
       "      <th>amountjobs</th>\n",
       "    </tr>\n",
       "  </thead>\n",
       "  <tbody>\n",
       "    <tr>\n",
       "      <td>0</td>\n",
       "      <td>13</td>\n",
       "      <td>ВБК СЕРВИСЕС</td>\n",
       "      <td>2021-09-20 13:37:32</td>\n",
       "      <td>2021-08-03 16:20:44</td>\n",
       "      <td>63</td>\n",
       "    </tr>\n",
       "    <tr>\n",
       "      <td>1</td>\n",
       "      <td>20</td>\n",
       "      <td>ПИК СЗ</td>\n",
       "      <td>2021-08-25 15:22:20</td>\n",
       "      <td>2021-07-23 17:20:41</td>\n",
       "      <td>5</td>\n",
       "    </tr>\n",
       "    <tr>\n",
       "      <td>2</td>\n",
       "      <td>29</td>\n",
       "      <td>Горелов Сергей Николаевич</td>\n",
       "      <td>2021-08-02 13:05:14</td>\n",
       "      <td>2021-05-11 15:46:09</td>\n",
       "      <td>1</td>\n",
       "    </tr>\n",
       "    <tr>\n",
       "      <td>3</td>\n",
       "      <td>37</td>\n",
       "      <td>ПСК\" СТРОЙВЕК\"</td>\n",
       "      <td>2021-09-20 13:34:16</td>\n",
       "      <td>2021-06-29 16:02:40</td>\n",
       "      <td>43</td>\n",
       "    </tr>\n",
       "    <tr>\n",
       "      <td>4</td>\n",
       "      <td>41</td>\n",
       "      <td>ПЛАТФОРМА ЦИФРОВОГО РАЗВИТИЯ БИЗНЕСА</td>\n",
       "      <td>2021-04-18 22:11:32</td>\n",
       "      <td>2021-04-12 11:03:07</td>\n",
       "      <td>1</td>\n",
       "    </tr>\n",
       "    <tr>\n",
       "      <td>5</td>\n",
       "      <td>46</td>\n",
       "      <td>ИНТЕРНЕТ ЛОГИСТИКА</td>\n",
       "      <td>2021-04-18 22:11:32</td>\n",
       "      <td>2021-04-14 16:41:14</td>\n",
       "      <td>1</td>\n",
       "    </tr>\n",
       "    <tr>\n",
       "      <td>6</td>\n",
       "      <td>48</td>\n",
       "      <td>Сухотин Дмитрий Константинович</td>\n",
       "      <td>2021-04-18 22:11:32</td>\n",
       "      <td>2021-04-12 12:44:01</td>\n",
       "      <td>1</td>\n",
       "    </tr>\n",
       "    <tr>\n",
       "      <td>7</td>\n",
       "      <td>49</td>\n",
       "      <td>Горбунов Артемий Викторович</td>\n",
       "      <td>2021-04-18 22:11:32</td>\n",
       "      <td>2021-04-08 18:32:51</td>\n",
       "      <td>1</td>\n",
       "    </tr>\n",
       "    <tr>\n",
       "      <td>8</td>\n",
       "      <td>91</td>\n",
       "      <td>ИНСТАФФ</td>\n",
       "      <td>2021-12-01 02:50:39</td>\n",
       "      <td>2021-10-01 13:28:59</td>\n",
       "      <td>2</td>\n",
       "    </tr>\n",
       "    <tr>\n",
       "      <td>9</td>\n",
       "      <td>106</td>\n",
       "      <td>Матвечук Максим Геннадьевич</td>\n",
       "      <td>2021-12-24 12:11:36</td>\n",
       "      <td>2021-11-02 19:09:58</td>\n",
       "      <td>1</td>\n",
       "    </tr>\n",
       "    <tr>\n",
       "      <td>10</td>\n",
       "      <td>108</td>\n",
       "      <td>Исламов Артем Данисович</td>\n",
       "      <td>2021-10-20 12:25:18</td>\n",
       "      <td>2021-10-20 12:25:18</td>\n",
       "      <td>1</td>\n",
       "    </tr>\n",
       "    <tr>\n",
       "      <td>11</td>\n",
       "      <td>129</td>\n",
       "      <td>Градус</td>\n",
       "      <td>2021-12-28 17:29:25</td>\n",
       "      <td>2021-12-28 17:05:55</td>\n",
       "      <td>23</td>\n",
       "    </tr>\n",
       "    <tr>\n",
       "      <td>12</td>\n",
       "      <td>132</td>\n",
       "      <td>ООО \"МОСДОК\"</td>\n",
       "      <td>2021-11-03 19:12:14</td>\n",
       "      <td>2021-11-03 19:12:14</td>\n",
       "      <td>1</td>\n",
       "    </tr>\n",
       "    <tr>\n",
       "      <td>13</td>\n",
       "      <td>159</td>\n",
       "      <td>ЛайТач</td>\n",
       "      <td>2021-12-07 21:57:05</td>\n",
       "      <td>2021-12-06 22:19:18</td>\n",
       "      <td>18</td>\n",
       "    </tr>\n",
       "    <tr>\n",
       "      <td>14</td>\n",
       "      <td>178</td>\n",
       "      <td>ЛИКВИД</td>\n",
       "      <td>2021-12-03 17:48:07</td>\n",
       "      <td>2021-12-03 17:47:31</td>\n",
       "      <td>1</td>\n",
       "    </tr>\n",
       "    <tr>\n",
       "      <td>15</td>\n",
       "      <td>193</td>\n",
       "      <td>Меняйлов Виталий Сергеевич</td>\n",
       "      <td>2021-12-20 04:12:01</td>\n",
       "      <td>2021-12-16 16:29:37</td>\n",
       "      <td>21</td>\n",
       "    </tr>\n",
       "  </tbody>\n",
       "</table>\n",
       "</div>"
      ],
      "text/plain": [
       "    accountID                    companyDetailsName      lastupdateDate  \\\n",
       "0          13                          ВБК СЕРВИСЕС 2021-09-20 13:37:32   \n",
       "1          20                                ПИК СЗ 2021-08-25 15:22:20   \n",
       "2          29             Горелов Сергей Николаевич 2021-08-02 13:05:14   \n",
       "3          37                        ПСК\" СТРОЙВЕК\" 2021-09-20 13:34:16   \n",
       "4          41  ПЛАТФОРМА ЦИФРОВОГО РАЗВИТИЯ БИЗНЕСА 2021-04-18 22:11:32   \n",
       "5          46                    ИНТЕРНЕТ ЛОГИСТИКА 2021-04-18 22:11:32   \n",
       "6          48        Сухотин Дмитрий Константинович 2021-04-18 22:11:32   \n",
       "7          49           Горбунов Артемий Викторович 2021-04-18 22:11:32   \n",
       "8          91                               ИНСТАФФ 2021-12-01 02:50:39   \n",
       "9         106           Матвечук Максим Геннадьевич 2021-12-24 12:11:36   \n",
       "10        108               Исламов Артем Данисович 2021-10-20 12:25:18   \n",
       "11        129                                Градус 2021-12-28 17:29:25   \n",
       "12        132                          ООО \"МОСДОК\" 2021-11-03 19:12:14   \n",
       "13        159                                ЛайТач 2021-12-07 21:57:05   \n",
       "14        178                                ЛИКВИД 2021-12-03 17:48:07   \n",
       "15        193            Меняйлов Виталий Сергеевич 2021-12-20 04:12:01   \n",
       "\n",
       "        lastcreateDate  amountjobs  \n",
       "0  2021-08-03 16:20:44          63  \n",
       "1  2021-07-23 17:20:41           5  \n",
       "2  2021-05-11 15:46:09           1  \n",
       "3  2021-06-29 16:02:40          43  \n",
       "4  2021-04-12 11:03:07           1  \n",
       "5  2021-04-14 16:41:14           1  \n",
       "6  2021-04-12 12:44:01           1  \n",
       "7  2021-04-08 18:32:51           1  \n",
       "8  2021-10-01 13:28:59           2  \n",
       "9  2021-11-02 19:09:58           1  \n",
       "10 2021-10-20 12:25:18           1  \n",
       "11 2021-12-28 17:05:55          23  \n",
       "12 2021-11-03 19:12:14           1  \n",
       "13 2021-12-06 22:19:18          18  \n",
       "14 2021-12-03 17:47:31           1  \n",
       "15 2021-12-16 16:29:37          21  "
      ]
     },
     "execution_count": 80,
     "metadata": {},
     "output_type": "execute_result"
    }
   ],
   "source": [
    "not_active_acc"
   ]
  },
  {
   "cell_type": "markdown",
   "id": "c02e05d8",
   "metadata": {},
   "source": [
    "**Вывод:**\n",
    "\n",
    "Мы вывели список аккаунтов заказчиков с последними заданиями и сохранили его в файле"
   ]
  },
  {
   "cell_type": "markdown",
   "id": "18afabc8",
   "metadata": {},
   "source": [
    "### Посмотрим средние показатели кол-ва заказов по заказчикам и месяцам"
   ]
  },
  {
   "cell_type": "markdown",
   "id": "3b770ba4",
   "metadata": {},
   "source": [
    "Т.к. наша платформа началась активно использоваться с начала 2021 года, сделаем срез с марта, чтобы начальные тестовые данные не сильно искажали результаты"
   ]
  },
  {
   "cell_type": "code",
   "execution_count": 81,
   "id": "d8b92349",
   "metadata": {},
   "outputs": [
    {
     "data": {
      "text/html": [
       "<div>\n",
       "<style scoped>\n",
       "    .dataframe tbody tr th:only-of-type {\n",
       "        vertical-align: middle;\n",
       "    }\n",
       "\n",
       "    .dataframe tbody tr th {\n",
       "        vertical-align: top;\n",
       "    }\n",
       "\n",
       "    .dataframe thead th {\n",
       "        text-align: right;\n",
       "    }\n",
       "</style>\n",
       "<table border=\"1\" class=\"dataframe\">\n",
       "  <thead>\n",
       "    <tr style=\"text-align: right;\">\n",
       "      <th></th>\n",
       "      <th>accountID</th>\n",
       "      <th>createDay</th>\n",
       "      <th>count_job</th>\n",
       "      <th>createMonth</th>\n",
       "    </tr>\n",
       "  </thead>\n",
       "  <tbody>\n",
       "    <tr>\n",
       "      <td>205</td>\n",
       "      <td>15</td>\n",
       "      <td>2022-01-11</td>\n",
       "      <td>3021</td>\n",
       "      <td>2022-01</td>\n",
       "    </tr>\n",
       "    <tr>\n",
       "      <td>188</td>\n",
       "      <td>15</td>\n",
       "      <td>2021-12-10</td>\n",
       "      <td>2896</td>\n",
       "      <td>2021-12</td>\n",
       "    </tr>\n",
       "    <tr>\n",
       "      <td>201</td>\n",
       "      <td>15</td>\n",
       "      <td>2021-12-29</td>\n",
       "      <td>2468</td>\n",
       "      <td>2021-12</td>\n",
       "    </tr>\n",
       "    <tr>\n",
       "      <td>223</td>\n",
       "      <td>15</td>\n",
       "      <td>2022-02-04</td>\n",
       "      <td>2431</td>\n",
       "      <td>2022-02</td>\n",
       "    </tr>\n",
       "    <tr>\n",
       "      <td>213</td>\n",
       "      <td>15</td>\n",
       "      <td>2022-01-21</td>\n",
       "      <td>2246</td>\n",
       "      <td>2022-01</td>\n",
       "    </tr>\n",
       "    <tr>\n",
       "      <td>...</td>\n",
       "      <td>...</td>\n",
       "      <td>...</td>\n",
       "      <td>...</td>\n",
       "      <td>...</td>\n",
       "    </tr>\n",
       "    <tr>\n",
       "      <td>1316</td>\n",
       "      <td>58</td>\n",
       "      <td>2021-07-23</td>\n",
       "      <td>1</td>\n",
       "      <td>2021-07</td>\n",
       "    </tr>\n",
       "    <tr>\n",
       "      <td>1323</td>\n",
       "      <td>58</td>\n",
       "      <td>2021-08-06</td>\n",
       "      <td>1</td>\n",
       "      <td>2021-08</td>\n",
       "    </tr>\n",
       "    <tr>\n",
       "      <td>1337</td>\n",
       "      <td>58</td>\n",
       "      <td>2021-09-22</td>\n",
       "      <td>1</td>\n",
       "      <td>2021-09</td>\n",
       "    </tr>\n",
       "    <tr>\n",
       "      <td>1340</td>\n",
       "      <td>58</td>\n",
       "      <td>2021-10-06</td>\n",
       "      <td>1</td>\n",
       "      <td>2021-10</td>\n",
       "    </tr>\n",
       "    <tr>\n",
       "      <td>1073</td>\n",
       "      <td>35</td>\n",
       "      <td>2021-12-02</td>\n",
       "      <td>1</td>\n",
       "      <td>2021-12</td>\n",
       "    </tr>\n",
       "  </tbody>\n",
       "</table>\n",
       "<p>2146 rows × 4 columns</p>\n",
       "</div>"
      ],
      "text/plain": [
       "      accountID  createDay  count_job createMonth\n",
       "205          15 2022-01-11       3021     2022-01\n",
       "188          15 2021-12-10       2896     2021-12\n",
       "201          15 2021-12-29       2468     2021-12\n",
       "223          15 2022-02-04       2431     2022-02\n",
       "213          15 2022-01-21       2246     2022-01\n",
       "...         ...        ...        ...         ...\n",
       "1316         58 2021-07-23          1     2021-07\n",
       "1323         58 2021-08-06          1     2021-08\n",
       "1337         58 2021-09-22          1     2021-09\n",
       "1340         58 2021-10-06          1     2021-10\n",
       "1073         35 2021-12-02          1     2021-12\n",
       "\n",
       "[2146 rows x 4 columns]"
      ]
     },
     "execution_count": 81,
     "metadata": {},
     "output_type": "execute_result"
    }
   ],
   "source": [
    "# сгруппируем по датам и id заказчиков кол-во заказов\n",
    "jobs_group_acc = jobs.groupby(['accountID','createDay'])['id'].count().reset_index()\n",
    "\n",
    "# добавим месяц\n",
    "jobs_group_acc['createMonth'] = jobs_group_acc['createDay'].dt.to_period('M')\n",
    "\n",
    "jobs_group_acc = jobs_group_acc.rename(columns={'id':'count_job'})\n",
    "jobs_group_acc.sort_values('count_job', ascending=False)"
   ]
  },
  {
   "cell_type": "code",
   "execution_count": 82,
   "id": "5b793ca2",
   "metadata": {},
   "outputs": [
    {
     "data": {
      "text/html": [
       "<div>\n",
       "<style scoped>\n",
       "    .dataframe tbody tr th:only-of-type {\n",
       "        vertical-align: middle;\n",
       "    }\n",
       "\n",
       "    .dataframe tbody tr th {\n",
       "        vertical-align: top;\n",
       "    }\n",
       "\n",
       "    .dataframe thead th {\n",
       "        text-align: right;\n",
       "    }\n",
       "</style>\n",
       "<table border=\"1\" class=\"dataframe\">\n",
       "  <thead>\n",
       "    <tr style=\"text-align: right;\">\n",
       "      <th></th>\n",
       "      <th>accountID</th>\n",
       "      <th>createDay</th>\n",
       "      <th>count_job</th>\n",
       "      <th>createMonth</th>\n",
       "      <th>mean_all</th>\n",
       "    </tr>\n",
       "  </thead>\n",
       "  <tbody>\n",
       "    <tr>\n",
       "      <td>0</td>\n",
       "      <td>7</td>\n",
       "      <td>2021-04-06</td>\n",
       "      <td>1</td>\n",
       "      <td>2021-04</td>\n",
       "      <td>3.56</td>\n",
       "    </tr>\n",
       "    <tr>\n",
       "      <td>1</td>\n",
       "      <td>7</td>\n",
       "      <td>2021-08-24</td>\n",
       "      <td>8</td>\n",
       "      <td>2021-08</td>\n",
       "      <td>3.56</td>\n",
       "    </tr>\n",
       "    <tr>\n",
       "      <td>2</td>\n",
       "      <td>7</td>\n",
       "      <td>2021-09-07</td>\n",
       "      <td>2</td>\n",
       "      <td>2021-09</td>\n",
       "      <td>3.56</td>\n",
       "    </tr>\n",
       "    <tr>\n",
       "      <td>3</td>\n",
       "      <td>7</td>\n",
       "      <td>2021-09-28</td>\n",
       "      <td>6</td>\n",
       "      <td>2021-09</td>\n",
       "      <td>3.56</td>\n",
       "    </tr>\n",
       "    <tr>\n",
       "      <td>4</td>\n",
       "      <td>7</td>\n",
       "      <td>2021-10-13</td>\n",
       "      <td>3</td>\n",
       "      <td>2021-10</td>\n",
       "      <td>3.56</td>\n",
       "    </tr>\n",
       "    <tr>\n",
       "      <td>...</td>\n",
       "      <td>...</td>\n",
       "      <td>...</td>\n",
       "      <td>...</td>\n",
       "      <td>...</td>\n",
       "      <td>...</td>\n",
       "    </tr>\n",
       "    <tr>\n",
       "      <td>2141</td>\n",
       "      <td>254</td>\n",
       "      <td>2022-02-01</td>\n",
       "      <td>3</td>\n",
       "      <td>2022-02</td>\n",
       "      <td>3.00</td>\n",
       "    </tr>\n",
       "    <tr>\n",
       "      <td>2142</td>\n",
       "      <td>260</td>\n",
       "      <td>2022-02-02</td>\n",
       "      <td>1</td>\n",
       "      <td>2022-02</td>\n",
       "      <td>1.00</td>\n",
       "    </tr>\n",
       "    <tr>\n",
       "      <td>2143</td>\n",
       "      <td>260</td>\n",
       "      <td>2022-02-03</td>\n",
       "      <td>1</td>\n",
       "      <td>2022-02</td>\n",
       "      <td>1.00</td>\n",
       "    </tr>\n",
       "    <tr>\n",
       "      <td>2144</td>\n",
       "      <td>262</td>\n",
       "      <td>2022-01-31</td>\n",
       "      <td>2</td>\n",
       "      <td>2022-01</td>\n",
       "      <td>2.00</td>\n",
       "    </tr>\n",
       "    <tr>\n",
       "      <td>2145</td>\n",
       "      <td>274</td>\n",
       "      <td>2022-02-03</td>\n",
       "      <td>5</td>\n",
       "      <td>2022-02</td>\n",
       "      <td>5.00</td>\n",
       "    </tr>\n",
       "  </tbody>\n",
       "</table>\n",
       "<p>2146 rows × 5 columns</p>\n",
       "</div>"
      ],
      "text/plain": [
       "      accountID  createDay  count_job createMonth  mean_all\n",
       "0             7 2021-04-06          1     2021-04      3.56\n",
       "1             7 2021-08-24          8     2021-08      3.56\n",
       "2             7 2021-09-07          2     2021-09      3.56\n",
       "3             7 2021-09-28          6     2021-09      3.56\n",
       "4             7 2021-10-13          3     2021-10      3.56\n",
       "...         ...        ...        ...         ...       ...\n",
       "2141        254 2022-02-01          3     2022-02      3.00\n",
       "2142        260 2022-02-02          1     2022-02      1.00\n",
       "2143        260 2022-02-03          1     2022-02      1.00\n",
       "2144        262 2022-01-31          2     2022-01      2.00\n",
       "2145        274 2022-02-03          5     2022-02      5.00\n",
       "\n",
       "[2146 rows x 5 columns]"
      ]
     },
     "execution_count": 82,
     "metadata": {},
     "output_type": "execute_result"
    }
   ],
   "source": [
    "# найдём среднее значения кол-ва заказов для каждого заказчика и добавим к таблице\n",
    "mean_jobs = jobs_group_acc.groupby('accountID')['count_job'].mean().reset_index()\n",
    "mean_jobs = mean_jobs.rename(columns={'count_job':'mean_all'})\n",
    "\n",
    "# создадим новую табличку в которой мы соединим наши данные\n",
    "jobs_group_acc_count = jobs_group_acc.merge(mean_jobs, on='accountID')\n",
    "jobs_group_acc_count"
   ]
  },
  {
   "cell_type": "code",
   "execution_count": 83,
   "id": "2a2eb664",
   "metadata": {},
   "outputs": [],
   "source": [
    "# найдём среднее значения кол-ва заказов за месяца для каждого заказчика и добавим к таблице\n",
    "mean_jobs = jobs_group_acc_count.groupby(['accountID','createMonth'])['count_job'].mean().reset_index()\n",
    "mean_jobs = mean_jobs.rename(columns={'count_job':'mean_month'})\n",
    "jobs_group_acc_count = jobs_group_acc_count.merge(mean_jobs, on=['accountID','createMonth'])\n"
   ]
  },
  {
   "cell_type": "code",
   "execution_count": 84,
   "id": "a83676af",
   "metadata": {},
   "outputs": [
    {
     "data": {
      "text/html": [
       "<div>\n",
       "<style scoped>\n",
       "    .dataframe tbody tr th:only-of-type {\n",
       "        vertical-align: middle;\n",
       "    }\n",
       "\n",
       "    .dataframe tbody tr th {\n",
       "        vertical-align: top;\n",
       "    }\n",
       "\n",
       "    .dataframe thead th {\n",
       "        text-align: right;\n",
       "    }\n",
       "</style>\n",
       "<table border=\"1\" class=\"dataframe\">\n",
       "  <thead>\n",
       "    <tr style=\"text-align: right;\">\n",
       "      <th></th>\n",
       "      <th>accountID</th>\n",
       "      <th>createDay</th>\n",
       "      <th>count_job</th>\n",
       "      <th>createMonth</th>\n",
       "      <th>mean_all</th>\n",
       "      <th>mean_month</th>\n",
       "    </tr>\n",
       "  </thead>\n",
       "  <tbody>\n",
       "    <tr>\n",
       "      <td>223</td>\n",
       "      <td>15</td>\n",
       "      <td>2022-02-04</td>\n",
       "      <td>2431</td>\n",
       "      <td>2022-02</td>\n",
       "      <td>393.23</td>\n",
       "      <td>1,005.75</td>\n",
       "    </tr>\n",
       "    <tr>\n",
       "      <td>222</td>\n",
       "      <td>15</td>\n",
       "      <td>2022-02-03</td>\n",
       "      <td>454</td>\n",
       "      <td>2022-02</td>\n",
       "      <td>393.23</td>\n",
       "      <td>1,005.75</td>\n",
       "    </tr>\n",
       "    <tr>\n",
       "      <td>221</td>\n",
       "      <td>15</td>\n",
       "      <td>2022-02-02</td>\n",
       "      <td>501</td>\n",
       "      <td>2022-02</td>\n",
       "      <td>393.23</td>\n",
       "      <td>1,005.75</td>\n",
       "    </tr>\n",
       "    <tr>\n",
       "      <td>220</td>\n",
       "      <td>15</td>\n",
       "      <td>2022-02-01</td>\n",
       "      <td>637</td>\n",
       "      <td>2022-02</td>\n",
       "      <td>393.23</td>\n",
       "      <td>1,005.75</td>\n",
       "    </tr>\n",
       "    <tr>\n",
       "      <td>219</td>\n",
       "      <td>15</td>\n",
       "      <td>2022-01-31</td>\n",
       "      <td>11</td>\n",
       "      <td>2022-01</td>\n",
       "      <td>393.23</td>\n",
       "      <td>825.47</td>\n",
       "    </tr>\n",
       "    <tr>\n",
       "      <td>218</td>\n",
       "      <td>15</td>\n",
       "      <td>2022-01-28</td>\n",
       "      <td>2020</td>\n",
       "      <td>2022-01</td>\n",
       "      <td>393.23</td>\n",
       "      <td>825.47</td>\n",
       "    </tr>\n",
       "    <tr>\n",
       "      <td>217</td>\n",
       "      <td>15</td>\n",
       "      <td>2022-01-27</td>\n",
       "      <td>706</td>\n",
       "      <td>2022-01</td>\n",
       "      <td>393.23</td>\n",
       "      <td>825.47</td>\n",
       "    </tr>\n",
       "    <tr>\n",
       "      <td>216</td>\n",
       "      <td>15</td>\n",
       "      <td>2022-01-26</td>\n",
       "      <td>226</td>\n",
       "      <td>2022-01</td>\n",
       "      <td>393.23</td>\n",
       "      <td>825.47</td>\n",
       "    </tr>\n",
       "    <tr>\n",
       "      <td>215</td>\n",
       "      <td>15</td>\n",
       "      <td>2022-01-25</td>\n",
       "      <td>826</td>\n",
       "      <td>2022-01</td>\n",
       "      <td>393.23</td>\n",
       "      <td>825.47</td>\n",
       "    </tr>\n",
       "    <tr>\n",
       "      <td>214</td>\n",
       "      <td>15</td>\n",
       "      <td>2022-01-24</td>\n",
       "      <td>16</td>\n",
       "      <td>2022-01</td>\n",
       "      <td>393.23</td>\n",
       "      <td>825.47</td>\n",
       "    </tr>\n",
       "  </tbody>\n",
       "</table>\n",
       "</div>"
      ],
      "text/plain": [
       "     accountID  createDay  count_job createMonth  mean_all  mean_month\n",
       "223         15 2022-02-04       2431     2022-02    393.23    1,005.75\n",
       "222         15 2022-02-03        454     2022-02    393.23    1,005.75\n",
       "221         15 2022-02-02        501     2022-02    393.23    1,005.75\n",
       "220         15 2022-02-01        637     2022-02    393.23    1,005.75\n",
       "219         15 2022-01-31         11     2022-01    393.23      825.47\n",
       "218         15 2022-01-28       2020     2022-01    393.23      825.47\n",
       "217         15 2022-01-27        706     2022-01    393.23      825.47\n",
       "216         15 2022-01-26        226     2022-01    393.23      825.47\n",
       "215         15 2022-01-25        826     2022-01    393.23      825.47\n",
       "214         15 2022-01-24         16     2022-01    393.23      825.47"
      ]
     },
     "execution_count": 84,
     "metadata": {},
     "output_type": "execute_result"
    }
   ],
   "source": [
    "jobs_group_acc_count.query('accountID == 15').sort_values('createDay', ascending=False).head(10)"
   ]
  },
  {
   "cell_type": "code",
   "execution_count": 85,
   "id": "ad720578",
   "metadata": {},
   "outputs": [
    {
     "data": {
      "text/html": [
       "<div>\n",
       "<style scoped>\n",
       "    .dataframe tbody tr th:only-of-type {\n",
       "        vertical-align: middle;\n",
       "    }\n",
       "\n",
       "    .dataframe tbody tr th {\n",
       "        vertical-align: top;\n",
       "    }\n",
       "\n",
       "    .dataframe thead th {\n",
       "        text-align: right;\n",
       "    }\n",
       "</style>\n",
       "<table border=\"1\" class=\"dataframe\">\n",
       "  <thead>\n",
       "    <tr style=\"text-align: right;\">\n",
       "      <th></th>\n",
       "      <th>accountID</th>\n",
       "      <th>createMonth</th>\n",
       "      <th>mean_month</th>\n",
       "    </tr>\n",
       "  </thead>\n",
       "  <tbody>\n",
       "    <tr>\n",
       "      <td>0</td>\n",
       "      <td>7</td>\n",
       "      <td>2021-04</td>\n",
       "      <td>1.00</td>\n",
       "    </tr>\n",
       "    <tr>\n",
       "      <td>1</td>\n",
       "      <td>7</td>\n",
       "      <td>2021-08</td>\n",
       "      <td>8.00</td>\n",
       "    </tr>\n",
       "    <tr>\n",
       "      <td>2</td>\n",
       "      <td>7</td>\n",
       "      <td>2021-09</td>\n",
       "      <td>4.00</td>\n",
       "    </tr>\n",
       "    <tr>\n",
       "      <td>3</td>\n",
       "      <td>7</td>\n",
       "      <td>2021-10</td>\n",
       "      <td>2.33</td>\n",
       "    </tr>\n",
       "    <tr>\n",
       "      <td>4</td>\n",
       "      <td>7</td>\n",
       "      <td>2021-11</td>\n",
       "      <td>4.00</td>\n",
       "    </tr>\n",
       "    <tr>\n",
       "      <td>...</td>\n",
       "      <td>...</td>\n",
       "      <td>...</td>\n",
       "      <td>...</td>\n",
       "    </tr>\n",
       "    <tr>\n",
       "      <td>345</td>\n",
       "      <td>253</td>\n",
       "      <td>2022-02</td>\n",
       "      <td>11.00</td>\n",
       "    </tr>\n",
       "    <tr>\n",
       "      <td>346</td>\n",
       "      <td>254</td>\n",
       "      <td>2022-02</td>\n",
       "      <td>3.00</td>\n",
       "    </tr>\n",
       "    <tr>\n",
       "      <td>347</td>\n",
       "      <td>260</td>\n",
       "      <td>2022-02</td>\n",
       "      <td>1.00</td>\n",
       "    </tr>\n",
       "    <tr>\n",
       "      <td>348</td>\n",
       "      <td>262</td>\n",
       "      <td>2022-01</td>\n",
       "      <td>2.00</td>\n",
       "    </tr>\n",
       "    <tr>\n",
       "      <td>349</td>\n",
       "      <td>274</td>\n",
       "      <td>2022-02</td>\n",
       "      <td>5.00</td>\n",
       "    </tr>\n",
       "  </tbody>\n",
       "</table>\n",
       "<p>350 rows × 3 columns</p>\n",
       "</div>"
      ],
      "text/plain": [
       "     accountID createMonth  mean_month\n",
       "0            7     2021-04        1.00\n",
       "1            7     2021-08        8.00\n",
       "2            7     2021-09        4.00\n",
       "3            7     2021-10        2.33\n",
       "4            7     2021-11        4.00\n",
       "..         ...         ...         ...\n",
       "345        253     2022-02       11.00\n",
       "346        254     2022-02        3.00\n",
       "347        260     2022-02        1.00\n",
       "348        262     2022-01        2.00\n",
       "349        274     2022-02        5.00\n",
       "\n",
       "[350 rows x 3 columns]"
      ]
     },
     "execution_count": 85,
     "metadata": {},
     "output_type": "execute_result"
    }
   ],
   "source": [
    "mean_jobs"
   ]
  },
  {
   "cell_type": "code",
   "execution_count": 86,
   "id": "428efcb3",
   "metadata": {},
   "outputs": [],
   "source": [
    "# посчитаем скользящее среднее за три месяца по заказчикам. Пустые значения заменим на ноль\n",
    "mean_jobs_mov_avg = mean_jobs.groupby(['accountID'])['mean_month'].rolling(3).mean().fillna(0).reset_index()\n",
    "\n",
    "# появился уровень порядка операций, я так понимаю он будет совпадать по порядку с createMonth\n",
    "# на его значения и заменим\n",
    "mean_jobs_mov_avg['level_1'] = mean_jobs['createMonth']"
   ]
  },
  {
   "cell_type": "code",
   "execution_count": 87,
   "id": "dff82695",
   "metadata": {},
   "outputs": [
    {
     "data": {
      "text/html": [
       "<div>\n",
       "<style scoped>\n",
       "    .dataframe tbody tr th:only-of-type {\n",
       "        vertical-align: middle;\n",
       "    }\n",
       "\n",
       "    .dataframe tbody tr th {\n",
       "        vertical-align: top;\n",
       "    }\n",
       "\n",
       "    .dataframe thead th {\n",
       "        text-align: right;\n",
       "    }\n",
       "</style>\n",
       "<table border=\"1\" class=\"dataframe\">\n",
       "  <thead>\n",
       "    <tr style=\"text-align: right;\">\n",
       "      <th></th>\n",
       "      <th>accountID</th>\n",
       "      <th>createMonth</th>\n",
       "      <th>movig_avg</th>\n",
       "    </tr>\n",
       "  </thead>\n",
       "  <tbody>\n",
       "    <tr>\n",
       "      <td>0</td>\n",
       "      <td>7</td>\n",
       "      <td>2021-04</td>\n",
       "      <td>0.00</td>\n",
       "    </tr>\n",
       "    <tr>\n",
       "      <td>1</td>\n",
       "      <td>7</td>\n",
       "      <td>2021-08</td>\n",
       "      <td>0.00</td>\n",
       "    </tr>\n",
       "    <tr>\n",
       "      <td>2</td>\n",
       "      <td>7</td>\n",
       "      <td>2021-09</td>\n",
       "      <td>4.33</td>\n",
       "    </tr>\n",
       "    <tr>\n",
       "      <td>3</td>\n",
       "      <td>7</td>\n",
       "      <td>2021-10</td>\n",
       "      <td>4.78</td>\n",
       "    </tr>\n",
       "    <tr>\n",
       "      <td>4</td>\n",
       "      <td>7</td>\n",
       "      <td>2021-11</td>\n",
       "      <td>3.44</td>\n",
       "    </tr>\n",
       "    <tr>\n",
       "      <td>...</td>\n",
       "      <td>...</td>\n",
       "      <td>...</td>\n",
       "      <td>...</td>\n",
       "    </tr>\n",
       "    <tr>\n",
       "      <td>345</td>\n",
       "      <td>253</td>\n",
       "      <td>2022-02</td>\n",
       "      <td>0.00</td>\n",
       "    </tr>\n",
       "    <tr>\n",
       "      <td>346</td>\n",
       "      <td>254</td>\n",
       "      <td>2022-02</td>\n",
       "      <td>0.00</td>\n",
       "    </tr>\n",
       "    <tr>\n",
       "      <td>347</td>\n",
       "      <td>260</td>\n",
       "      <td>2022-02</td>\n",
       "      <td>0.00</td>\n",
       "    </tr>\n",
       "    <tr>\n",
       "      <td>348</td>\n",
       "      <td>262</td>\n",
       "      <td>2022-01</td>\n",
       "      <td>0.00</td>\n",
       "    </tr>\n",
       "    <tr>\n",
       "      <td>349</td>\n",
       "      <td>274</td>\n",
       "      <td>2022-02</td>\n",
       "      <td>0.00</td>\n",
       "    </tr>\n",
       "  </tbody>\n",
       "</table>\n",
       "<p>350 rows × 3 columns</p>\n",
       "</div>"
      ],
      "text/plain": [
       "     accountID createMonth  movig_avg\n",
       "0            7     2021-04       0.00\n",
       "1            7     2021-08       0.00\n",
       "2            7     2021-09       4.33\n",
       "3            7     2021-10       4.78\n",
       "4            7     2021-11       3.44\n",
       "..         ...         ...        ...\n",
       "345        253     2022-02       0.00\n",
       "346        254     2022-02       0.00\n",
       "347        260     2022-02       0.00\n",
       "348        262     2022-01       0.00\n",
       "349        274     2022-02       0.00\n",
       "\n",
       "[350 rows x 3 columns]"
      ]
     },
     "execution_count": 87,
     "metadata": {},
     "output_type": "execute_result"
    }
   ],
   "source": [
    "# заменим названия столбцов и выведем\n",
    "mean_jobs_mov_avg = mean_jobs_mov_avg.rename(columns={'mean_month':'movig_avg','level_1':'createMonth'})\n",
    "mean_jobs_mov_avg"
   ]
  },
  {
   "cell_type": "code",
   "execution_count": 88,
   "id": "5c61c471",
   "metadata": {},
   "outputs": [],
   "source": [
    "# соединим данные со средним со скользящими по кол-ву\n",
    "mean_jobs = mean_jobs.merge(mean_jobs_mov_avg, on=['accountID','createMonth'])"
   ]
  },
  {
   "cell_type": "code",
   "execution_count": 89,
   "id": "57f75dcb",
   "metadata": {},
   "outputs": [
    {
     "data": {
      "text/html": [
       "<div>\n",
       "<style scoped>\n",
       "    .dataframe tbody tr th:only-of-type {\n",
       "        vertical-align: middle;\n",
       "    }\n",
       "\n",
       "    .dataframe tbody tr th {\n",
       "        vertical-align: top;\n",
       "    }\n",
       "\n",
       "    .dataframe thead th {\n",
       "        text-align: right;\n",
       "    }\n",
       "</style>\n",
       "<table border=\"1\" class=\"dataframe\">\n",
       "  <thead>\n",
       "    <tr style=\"text-align: right;\">\n",
       "      <th></th>\n",
       "      <th>accountID</th>\n",
       "      <th>createMonth</th>\n",
       "      <th>mean_month</th>\n",
       "      <th>movig_avg</th>\n",
       "    </tr>\n",
       "  </thead>\n",
       "  <tbody>\n",
       "    <tr>\n",
       "      <td>0</td>\n",
       "      <td>7</td>\n",
       "      <td>2021-04</td>\n",
       "      <td>1.00</td>\n",
       "      <td>0.00</td>\n",
       "    </tr>\n",
       "    <tr>\n",
       "      <td>1</td>\n",
       "      <td>7</td>\n",
       "      <td>2021-08</td>\n",
       "      <td>8.00</td>\n",
       "      <td>0.00</td>\n",
       "    </tr>\n",
       "    <tr>\n",
       "      <td>2</td>\n",
       "      <td>7</td>\n",
       "      <td>2021-09</td>\n",
       "      <td>4.00</td>\n",
       "      <td>4.33</td>\n",
       "    </tr>\n",
       "    <tr>\n",
       "      <td>3</td>\n",
       "      <td>7</td>\n",
       "      <td>2021-10</td>\n",
       "      <td>2.33</td>\n",
       "      <td>4.78</td>\n",
       "    </tr>\n",
       "    <tr>\n",
       "      <td>4</td>\n",
       "      <td>7</td>\n",
       "      <td>2021-11</td>\n",
       "      <td>4.00</td>\n",
       "      <td>3.44</td>\n",
       "    </tr>\n",
       "    <tr>\n",
       "      <td>5</td>\n",
       "      <td>11</td>\n",
       "      <td>2021-03</td>\n",
       "      <td>4.50</td>\n",
       "      <td>0.00</td>\n",
       "    </tr>\n",
       "    <tr>\n",
       "      <td>6</td>\n",
       "      <td>11</td>\n",
       "      <td>2021-04</td>\n",
       "      <td>3.00</td>\n",
       "      <td>0.00</td>\n",
       "    </tr>\n",
       "    <tr>\n",
       "      <td>7</td>\n",
       "      <td>11</td>\n",
       "      <td>2021-05</td>\n",
       "      <td>2.00</td>\n",
       "      <td>3.17</td>\n",
       "    </tr>\n",
       "    <tr>\n",
       "      <td>8</td>\n",
       "      <td>11</td>\n",
       "      <td>2021-06</td>\n",
       "      <td>1.50</td>\n",
       "      <td>2.17</td>\n",
       "    </tr>\n",
       "    <tr>\n",
       "      <td>9</td>\n",
       "      <td>13</td>\n",
       "      <td>2021-03</td>\n",
       "      <td>7.00</td>\n",
       "      <td>0.00</td>\n",
       "    </tr>\n",
       "    <tr>\n",
       "      <td>10</td>\n",
       "      <td>13</td>\n",
       "      <td>2021-04</td>\n",
       "      <td>2.50</td>\n",
       "      <td>0.00</td>\n",
       "    </tr>\n",
       "    <tr>\n",
       "      <td>11</td>\n",
       "      <td>13</td>\n",
       "      <td>2021-05</td>\n",
       "      <td>2.00</td>\n",
       "      <td>3.83</td>\n",
       "    </tr>\n",
       "    <tr>\n",
       "      <td>12</td>\n",
       "      <td>13</td>\n",
       "      <td>2021-08</td>\n",
       "      <td>47.00</td>\n",
       "      <td>17.17</td>\n",
       "    </tr>\n",
       "    <tr>\n",
       "      <td>13</td>\n",
       "      <td>15</td>\n",
       "      <td>2021-03</td>\n",
       "      <td>44.92</td>\n",
       "      <td>0.00</td>\n",
       "    </tr>\n",
       "    <tr>\n",
       "      <td>14</td>\n",
       "      <td>15</td>\n",
       "      <td>2021-04</td>\n",
       "      <td>109.39</td>\n",
       "      <td>0.00</td>\n",
       "    </tr>\n",
       "    <tr>\n",
       "      <td>15</td>\n",
       "      <td>15</td>\n",
       "      <td>2021-05</td>\n",
       "      <td>194.30</td>\n",
       "      <td>116.20</td>\n",
       "    </tr>\n",
       "    <tr>\n",
       "      <td>16</td>\n",
       "      <td>15</td>\n",
       "      <td>2021-06</td>\n",
       "      <td>180.38</td>\n",
       "      <td>161.35</td>\n",
       "    </tr>\n",
       "    <tr>\n",
       "      <td>17</td>\n",
       "      <td>15</td>\n",
       "      <td>2021-07</td>\n",
       "      <td>282.82</td>\n",
       "      <td>219.17</td>\n",
       "    </tr>\n",
       "    <tr>\n",
       "      <td>18</td>\n",
       "      <td>15</td>\n",
       "      <td>2021-08</td>\n",
       "      <td>290.16</td>\n",
       "      <td>251.12</td>\n",
       "    </tr>\n",
       "    <tr>\n",
       "      <td>19</td>\n",
       "      <td>15</td>\n",
       "      <td>2021-09</td>\n",
       "      <td>310.35</td>\n",
       "      <td>294.44</td>\n",
       "    </tr>\n",
       "  </tbody>\n",
       "</table>\n",
       "</div>"
      ],
      "text/plain": [
       "    accountID createMonth  mean_month  movig_avg\n",
       "0           7     2021-04        1.00       0.00\n",
       "1           7     2021-08        8.00       0.00\n",
       "2           7     2021-09        4.00       4.33\n",
       "3           7     2021-10        2.33       4.78\n",
       "4           7     2021-11        4.00       3.44\n",
       "5          11     2021-03        4.50       0.00\n",
       "6          11     2021-04        3.00       0.00\n",
       "7          11     2021-05        2.00       3.17\n",
       "8          11     2021-06        1.50       2.17\n",
       "9          13     2021-03        7.00       0.00\n",
       "10         13     2021-04        2.50       0.00\n",
       "11         13     2021-05        2.00       3.83\n",
       "12         13     2021-08       47.00      17.17\n",
       "13         15     2021-03       44.92       0.00\n",
       "14         15     2021-04      109.39       0.00\n",
       "15         15     2021-05      194.30     116.20\n",
       "16         15     2021-06      180.38     161.35\n",
       "17         15     2021-07      282.82     219.17\n",
       "18         15     2021-08      290.16     251.12\n",
       "19         15     2021-09      310.35     294.44"
      ]
     },
     "execution_count": 89,
     "metadata": {},
     "output_type": "execute_result"
    }
   ],
   "source": [
    "mean_jobs.head(20)"
   ]
  },
  {
   "cell_type": "markdown",
   "id": "e5913795",
   "metadata": {},
   "source": [
    "### Графики по кол-ву заказов, среднее и скользящее"
   ]
  },
  {
   "cell_type": "markdown",
   "id": "ea73a869",
   "metadata": {},
   "source": [
    "Построим гистограмму распределения частот количества заказов"
   ]
  },
  {
   "cell_type": "code",
   "execution_count": 90,
   "id": "f7e8587b",
   "metadata": {},
   "outputs": [
    {
     "data": {
      "text/html": [
       "<div>\n",
       "<style scoped>\n",
       "    .dataframe tbody tr th:only-of-type {\n",
       "        vertical-align: middle;\n",
       "    }\n",
       "\n",
       "    .dataframe tbody tr th {\n",
       "        vertical-align: top;\n",
       "    }\n",
       "\n",
       "    .dataframe thead th {\n",
       "        text-align: right;\n",
       "    }\n",
       "</style>\n",
       "<table border=\"1\" class=\"dataframe\">\n",
       "  <thead>\n",
       "    <tr style=\"text-align: right;\">\n",
       "      <th></th>\n",
       "      <th>accountID</th>\n",
       "      <th>createDay</th>\n",
       "      <th>count_job</th>\n",
       "      <th>createMonth</th>\n",
       "      <th>mean_all</th>\n",
       "      <th>mean_month</th>\n",
       "    </tr>\n",
       "  </thead>\n",
       "  <tbody>\n",
       "    <tr>\n",
       "      <td>0</td>\n",
       "      <td>7</td>\n",
       "      <td>2021-04-06</td>\n",
       "      <td>1</td>\n",
       "      <td>2021-04</td>\n",
       "      <td>3.56</td>\n",
       "      <td>1.00</td>\n",
       "    </tr>\n",
       "    <tr>\n",
       "      <td>1</td>\n",
       "      <td>7</td>\n",
       "      <td>2021-08-24</td>\n",
       "      <td>8</td>\n",
       "      <td>2021-08</td>\n",
       "      <td>3.56</td>\n",
       "      <td>8.00</td>\n",
       "    </tr>\n",
       "    <tr>\n",
       "      <td>2</td>\n",
       "      <td>7</td>\n",
       "      <td>2021-09-07</td>\n",
       "      <td>2</td>\n",
       "      <td>2021-09</td>\n",
       "      <td>3.56</td>\n",
       "      <td>4.00</td>\n",
       "    </tr>\n",
       "    <tr>\n",
       "      <td>3</td>\n",
       "      <td>7</td>\n",
       "      <td>2021-09-28</td>\n",
       "      <td>6</td>\n",
       "      <td>2021-09</td>\n",
       "      <td>3.56</td>\n",
       "      <td>4.00</td>\n",
       "    </tr>\n",
       "    <tr>\n",
       "      <td>4</td>\n",
       "      <td>7</td>\n",
       "      <td>2021-10-13</td>\n",
       "      <td>3</td>\n",
       "      <td>2021-10</td>\n",
       "      <td>3.56</td>\n",
       "      <td>2.33</td>\n",
       "    </tr>\n",
       "  </tbody>\n",
       "</table>\n",
       "</div>"
      ],
      "text/plain": [
       "   accountID  createDay  count_job createMonth  mean_all  mean_month\n",
       "0          7 2021-04-06          1     2021-04      3.56        1.00\n",
       "1          7 2021-08-24          8     2021-08      3.56        8.00\n",
       "2          7 2021-09-07          2     2021-09      3.56        4.00\n",
       "3          7 2021-09-28          6     2021-09      3.56        4.00\n",
       "4          7 2021-10-13          3     2021-10      3.56        2.33"
      ]
     },
     "execution_count": 90,
     "metadata": {},
     "output_type": "execute_result"
    }
   ],
   "source": [
    "jobs_group_acc_count.head()"
   ]
  },
  {
   "cell_type": "code",
   "execution_count": 91,
   "id": "e91475e6",
   "metadata": {},
   "outputs": [
    {
     "data": {
      "image/png": "[encoded data removed]",
      "text/plain": [
       "<Figure size 1008x576 with 1 Axes>"
      ]
     },
     "metadata": {
      "needs_background": "light"
     },
     "output_type": "display_data"
    }
   ],
   "source": [
    "plt.figure(figsize=(14, 8))\n",
    "sns.distplot(jobs_group_acc_count['mean_month'], kde=False)\n",
    "plt.title('Частота распределения среднего кол-ва заказов в день')\n",
    "plt.xlabel('Средние значения в день')\n",
    "plt.ylabel('Частота')\n",
    "plt.show() "
   ]
  },
  {
   "cell_type": "markdown",
   "id": "c6d01807",
   "metadata": {},
   "source": [
    "Распределение напоминает нормальное, аномалий не наблюдаетя. Если только небольшие всплески после 250"
   ]
  },
  {
   "cell_type": "code",
   "execution_count": 92,
   "id": "0b966a41",
   "metadata": {},
   "outputs": [
    {
     "data": {
      "text/html": [
       "<div>\n",
       "<style scoped>\n",
       "    .dataframe tbody tr th:only-of-type {\n",
       "        vertical-align: middle;\n",
       "    }\n",
       "\n",
       "    .dataframe tbody tr th {\n",
       "        vertical-align: top;\n",
       "    }\n",
       "\n",
       "    .dataframe thead th {\n",
       "        text-align: right;\n",
       "    }\n",
       "</style>\n",
       "<table border=\"1\" class=\"dataframe\">\n",
       "  <thead>\n",
       "    <tr style=\"text-align: right;\">\n",
       "      <th></th>\n",
       "      <th>accountID</th>\n",
       "      <th>createMonth</th>\n",
       "      <th>mean_month</th>\n",
       "      <th>movig_avg</th>\n",
       "    </tr>\n",
       "  </thead>\n",
       "  <tbody>\n",
       "    <tr>\n",
       "      <td>0</td>\n",
       "      <td>7</td>\n",
       "      <td>2021-04</td>\n",
       "      <td>1.00</td>\n",
       "      <td>0.00</td>\n",
       "    </tr>\n",
       "    <tr>\n",
       "      <td>1</td>\n",
       "      <td>7</td>\n",
       "      <td>2021-08</td>\n",
       "      <td>8.00</td>\n",
       "      <td>0.00</td>\n",
       "    </tr>\n",
       "    <tr>\n",
       "      <td>2</td>\n",
       "      <td>7</td>\n",
       "      <td>2021-09</td>\n",
       "      <td>4.00</td>\n",
       "      <td>4.33</td>\n",
       "    </tr>\n",
       "    <tr>\n",
       "      <td>3</td>\n",
       "      <td>7</td>\n",
       "      <td>2021-10</td>\n",
       "      <td>2.33</td>\n",
       "      <td>4.78</td>\n",
       "    </tr>\n",
       "    <tr>\n",
       "      <td>4</td>\n",
       "      <td>7</td>\n",
       "      <td>2021-11</td>\n",
       "      <td>4.00</td>\n",
       "      <td>3.44</td>\n",
       "    </tr>\n",
       "    <tr>\n",
       "      <td>...</td>\n",
       "      <td>...</td>\n",
       "      <td>...</td>\n",
       "      <td>...</td>\n",
       "      <td>...</td>\n",
       "    </tr>\n",
       "    <tr>\n",
       "      <td>345</td>\n",
       "      <td>253</td>\n",
       "      <td>2022-02</td>\n",
       "      <td>11.00</td>\n",
       "      <td>0.00</td>\n",
       "    </tr>\n",
       "    <tr>\n",
       "      <td>346</td>\n",
       "      <td>254</td>\n",
       "      <td>2022-02</td>\n",
       "      <td>3.00</td>\n",
       "      <td>0.00</td>\n",
       "    </tr>\n",
       "    <tr>\n",
       "      <td>347</td>\n",
       "      <td>260</td>\n",
       "      <td>2022-02</td>\n",
       "      <td>1.00</td>\n",
       "      <td>0.00</td>\n",
       "    </tr>\n",
       "    <tr>\n",
       "      <td>348</td>\n",
       "      <td>262</td>\n",
       "      <td>2022-01</td>\n",
       "      <td>2.00</td>\n",
       "      <td>0.00</td>\n",
       "    </tr>\n",
       "    <tr>\n",
       "      <td>349</td>\n",
       "      <td>274</td>\n",
       "      <td>2022-02</td>\n",
       "      <td>5.00</td>\n",
       "      <td>0.00</td>\n",
       "    </tr>\n",
       "  </tbody>\n",
       "</table>\n",
       "<p>350 rows × 4 columns</p>\n",
       "</div>"
      ],
      "text/plain": [
       "     accountID createMonth  mean_month  movig_avg\n",
       "0            7     2021-04        1.00       0.00\n",
       "1            7     2021-08        8.00       0.00\n",
       "2            7     2021-09        4.00       4.33\n",
       "3            7     2021-10        2.33       4.78\n",
       "4            7     2021-11        4.00       3.44\n",
       "..         ...         ...         ...        ...\n",
       "345        253     2022-02       11.00       0.00\n",
       "346        254     2022-02        3.00       0.00\n",
       "347        260     2022-02        1.00       0.00\n",
       "348        262     2022-01        2.00       0.00\n",
       "349        274     2022-02        5.00       0.00\n",
       "\n",
       "[350 rows x 4 columns]"
      ]
     },
     "execution_count": 92,
     "metadata": {},
     "output_type": "execute_result"
    }
   ],
   "source": [
    "mean_jobs"
   ]
  },
  {
   "cell_type": "code",
   "execution_count": 93,
   "id": "9fa42bbc",
   "metadata": {},
   "outputs": [
    {
     "name": "stdout",
     "output_type": "stream",
     "text": [
      "<class 'pandas.core.frame.DataFrame'>\n",
      "Int64Index: 350 entries, 0 to 349\n",
      "Data columns (total 4 columns):\n",
      "accountID      350 non-null int64\n",
      "createMonth    350 non-null period[M]\n",
      "mean_month     350 non-null float64\n",
      "movig_avg      350 non-null float64\n",
      "dtypes: float64(2), int64(1), period[M](1)\n",
      "memory usage: 13.7 KB\n"
     ]
    }
   ],
   "source": [
    "mean_jobs.info()"
   ]
  },
  {
   "cell_type": "code",
   "execution_count": 94,
   "id": "f46ea405",
   "metadata": {},
   "outputs": [
    {
     "data": {
      "text/html": [
       "<div>\n",
       "<style scoped>\n",
       "    .dataframe tbody tr th:only-of-type {\n",
       "        vertical-align: middle;\n",
       "    }\n",
       "\n",
       "    .dataframe tbody tr th {\n",
       "        vertical-align: top;\n",
       "    }\n",
       "\n",
       "    .dataframe thead th {\n",
       "        text-align: right;\n",
       "    }\n",
       "</style>\n",
       "<table border=\"1\" class=\"dataframe\">\n",
       "  <thead>\n",
       "    <tr style=\"text-align: right;\">\n",
       "      <th></th>\n",
       "      <th>accountID</th>\n",
       "      <th>createMonth</th>\n",
       "      <th>mean_month</th>\n",
       "      <th>movig_avg</th>\n",
       "    </tr>\n",
       "  </thead>\n",
       "  <tbody>\n",
       "    <tr>\n",
       "      <td>0</td>\n",
       "      <td>7</td>\n",
       "      <td>2021-04-01</td>\n",
       "      <td>1.00</td>\n",
       "      <td>0.00</td>\n",
       "    </tr>\n",
       "    <tr>\n",
       "      <td>1</td>\n",
       "      <td>7</td>\n",
       "      <td>2021-08-01</td>\n",
       "      <td>8.00</td>\n",
       "      <td>0.00</td>\n",
       "    </tr>\n",
       "    <tr>\n",
       "      <td>2</td>\n",
       "      <td>7</td>\n",
       "      <td>2021-09-01</td>\n",
       "      <td>4.00</td>\n",
       "      <td>4.33</td>\n",
       "    </tr>\n",
       "    <tr>\n",
       "      <td>3</td>\n",
       "      <td>7</td>\n",
       "      <td>2021-10-01</td>\n",
       "      <td>2.33</td>\n",
       "      <td>4.78</td>\n",
       "    </tr>\n",
       "    <tr>\n",
       "      <td>4</td>\n",
       "      <td>7</td>\n",
       "      <td>2021-11-01</td>\n",
       "      <td>4.00</td>\n",
       "      <td>3.44</td>\n",
       "    </tr>\n",
       "    <tr>\n",
       "      <td>...</td>\n",
       "      <td>...</td>\n",
       "      <td>...</td>\n",
       "      <td>...</td>\n",
       "      <td>...</td>\n",
       "    </tr>\n",
       "    <tr>\n",
       "      <td>345</td>\n",
       "      <td>253</td>\n",
       "      <td>2022-02-01</td>\n",
       "      <td>11.00</td>\n",
       "      <td>0.00</td>\n",
       "    </tr>\n",
       "    <tr>\n",
       "      <td>346</td>\n",
       "      <td>254</td>\n",
       "      <td>2022-02-01</td>\n",
       "      <td>3.00</td>\n",
       "      <td>0.00</td>\n",
       "    </tr>\n",
       "    <tr>\n",
       "      <td>347</td>\n",
       "      <td>260</td>\n",
       "      <td>2022-02-01</td>\n",
       "      <td>1.00</td>\n",
       "      <td>0.00</td>\n",
       "    </tr>\n",
       "    <tr>\n",
       "      <td>348</td>\n",
       "      <td>262</td>\n",
       "      <td>2022-01-01</td>\n",
       "      <td>2.00</td>\n",
       "      <td>0.00</td>\n",
       "    </tr>\n",
       "    <tr>\n",
       "      <td>349</td>\n",
       "      <td>274</td>\n",
       "      <td>2022-02-01</td>\n",
       "      <td>5.00</td>\n",
       "      <td>0.00</td>\n",
       "    </tr>\n",
       "  </tbody>\n",
       "</table>\n",
       "<p>350 rows × 4 columns</p>\n",
       "</div>"
      ],
      "text/plain": [
       "     accountID createMonth  mean_month  movig_avg\n",
       "0            7  2021-04-01        1.00       0.00\n",
       "1            7  2021-08-01        8.00       0.00\n",
       "2            7  2021-09-01        4.00       4.33\n",
       "3            7  2021-10-01        2.33       4.78\n",
       "4            7  2021-11-01        4.00       3.44\n",
       "..         ...         ...         ...        ...\n",
       "345        253  2022-02-01       11.00       0.00\n",
       "346        254  2022-02-01        3.00       0.00\n",
       "347        260  2022-02-01        1.00       0.00\n",
       "348        262  2022-01-01        2.00       0.00\n",
       "349        274  2022-02-01        5.00       0.00\n",
       "\n",
       "[350 rows x 4 columns]"
      ]
     },
     "execution_count": 94,
     "metadata": {},
     "output_type": "execute_result"
    }
   ],
   "source": [
    "# приведём к строковому формату наш месячный период, он у нас сбился, когда выделяли только месяц с годом\n",
    "mean_jobs['createMonth'] = mean_jobs['createMonth'].dt.to_timestamp('s').dt.strftime('%Y-%m-%d')\n",
    "mean_jobs"
   ]
  },
  {
   "cell_type": "code",
   "execution_count": 95,
   "id": "fe9c9de6",
   "metadata": {},
   "outputs": [],
   "source": [
    "# теперь к формату datetime64\n",
    "mean_jobs['createMonth'] = pd.to_datetime(mean_jobs['createMonth'], format=\"%Y-%m-%d\")"
   ]
  },
  {
   "cell_type": "code",
   "execution_count": 96,
   "id": "2e4ec219",
   "metadata": {},
   "outputs": [
    {
     "name": "stdout",
     "output_type": "stream",
     "text": [
      "<class 'pandas.core.frame.DataFrame'>\n",
      "Int64Index: 350 entries, 0 to 349\n",
      "Data columns (total 4 columns):\n",
      "accountID      350 non-null int64\n",
      "createMonth    350 non-null datetime64[ns]\n",
      "mean_month     350 non-null float64\n",
      "movig_avg      350 non-null float64\n",
      "dtypes: datetime64[ns](1), float64(2), int64(1)\n",
      "memory usage: 13.7 KB\n"
     ]
    }
   ],
   "source": [
    "mean_jobs.info()"
   ]
  },
  {
   "cell_type": "code",
   "execution_count": 97,
   "id": "44ab7b02",
   "metadata": {},
   "outputs": [
    {
     "data": {
      "image/png": "[encoded data removed]",
      "text/plain": [
       "<Figure size 1008x576 with 1 Axes>"
      ]
     },
     "metadata": {
      "needs_background": "light"
     },
     "output_type": "display_data"
    }
   ],
   "source": [
    "plt.figure(figsize=(14, 8))\n",
    "sns.set(style=\"darkgrid\")\n",
    "sns.lineplot(data=mean_jobs.query('accountID == 15 and createMonth <\"2022-02-01\"'),\n",
    "             y='mean_month',\n",
    "            x='createMonth',\n",
    "            label='В месяц в среднем')\n",
    "sns.lineplot(data=mean_jobs.query('accountID == 15'),\n",
    "             y='movig_avg',\n",
    "            x='createMonth',\n",
    "            label='Средняя за последние три месяца')\n",
    "plt.title('Значение средней по месяцу и скользящее за последние три месяца')\n",
    "plt.xlabel('Год-месяц')\n",
    "plt.ylabel('Значение средней по кол-ву заказов')\n",
    "plt.show() "
   ]
  },
  {
   "cell_type": "markdown",
   "id": "f8445bf2",
   "metadata": {},
   "source": [
    "График нарисован для заказчика с id=15. Мы видим чёткий рост активности в публикации заказов"
   ]
  },
  {
   "cell_type": "code",
   "execution_count": 98,
   "id": "69e24beb",
   "metadata": {},
   "outputs": [
    {
     "data": {
      "text/html": [
       "<div>\n",
       "<style scoped>\n",
       "    .dataframe tbody tr th:only-of-type {\n",
       "        vertical-align: middle;\n",
       "    }\n",
       "\n",
       "    .dataframe tbody tr th {\n",
       "        vertical-align: top;\n",
       "    }\n",
       "\n",
       "    .dataframe thead th {\n",
       "        text-align: right;\n",
       "    }\n",
       "</style>\n",
       "<table border=\"1\" class=\"dataframe\">\n",
       "  <thead>\n",
       "    <tr style=\"text-align: right;\">\n",
       "      <th></th>\n",
       "      <th>accountID</th>\n",
       "      <th>createDay</th>\n",
       "      <th>count_job</th>\n",
       "      <th>createMonth</th>\n",
       "      <th>mean_all</th>\n",
       "      <th>mean_month</th>\n",
       "    </tr>\n",
       "  </thead>\n",
       "  <tbody>\n",
       "    <tr>\n",
       "      <td>0</td>\n",
       "      <td>7</td>\n",
       "      <td>2021-04-06</td>\n",
       "      <td>1</td>\n",
       "      <td>2021-04</td>\n",
       "      <td>3.56</td>\n",
       "      <td>1.00</td>\n",
       "    </tr>\n",
       "    <tr>\n",
       "      <td>1</td>\n",
       "      <td>7</td>\n",
       "      <td>2021-08-24</td>\n",
       "      <td>8</td>\n",
       "      <td>2021-08</td>\n",
       "      <td>3.56</td>\n",
       "      <td>8.00</td>\n",
       "    </tr>\n",
       "    <tr>\n",
       "      <td>2</td>\n",
       "      <td>7</td>\n",
       "      <td>2021-09-07</td>\n",
       "      <td>2</td>\n",
       "      <td>2021-09</td>\n",
       "      <td>3.56</td>\n",
       "      <td>4.00</td>\n",
       "    </tr>\n",
       "    <tr>\n",
       "      <td>3</td>\n",
       "      <td>7</td>\n",
       "      <td>2021-09-28</td>\n",
       "      <td>6</td>\n",
       "      <td>2021-09</td>\n",
       "      <td>3.56</td>\n",
       "      <td>4.00</td>\n",
       "    </tr>\n",
       "    <tr>\n",
       "      <td>4</td>\n",
       "      <td>7</td>\n",
       "      <td>2021-10-13</td>\n",
       "      <td>3</td>\n",
       "      <td>2021-10</td>\n",
       "      <td>3.56</td>\n",
       "      <td>2.33</td>\n",
       "    </tr>\n",
       "    <tr>\n",
       "      <td>...</td>\n",
       "      <td>...</td>\n",
       "      <td>...</td>\n",
       "      <td>...</td>\n",
       "      <td>...</td>\n",
       "      <td>...</td>\n",
       "      <td>...</td>\n",
       "    </tr>\n",
       "    <tr>\n",
       "      <td>2141</td>\n",
       "      <td>254</td>\n",
       "      <td>2022-02-01</td>\n",
       "      <td>3</td>\n",
       "      <td>2022-02</td>\n",
       "      <td>3.00</td>\n",
       "      <td>3.00</td>\n",
       "    </tr>\n",
       "    <tr>\n",
       "      <td>2142</td>\n",
       "      <td>260</td>\n",
       "      <td>2022-02-02</td>\n",
       "      <td>1</td>\n",
       "      <td>2022-02</td>\n",
       "      <td>1.00</td>\n",
       "      <td>1.00</td>\n",
       "    </tr>\n",
       "    <tr>\n",
       "      <td>2143</td>\n",
       "      <td>260</td>\n",
       "      <td>2022-02-03</td>\n",
       "      <td>1</td>\n",
       "      <td>2022-02</td>\n",
       "      <td>1.00</td>\n",
       "      <td>1.00</td>\n",
       "    </tr>\n",
       "    <tr>\n",
       "      <td>2144</td>\n",
       "      <td>262</td>\n",
       "      <td>2022-01-31</td>\n",
       "      <td>2</td>\n",
       "      <td>2022-01</td>\n",
       "      <td>2.00</td>\n",
       "      <td>2.00</td>\n",
       "    </tr>\n",
       "    <tr>\n",
       "      <td>2145</td>\n",
       "      <td>274</td>\n",
       "      <td>2022-02-03</td>\n",
       "      <td>5</td>\n",
       "      <td>2022-02</td>\n",
       "      <td>5.00</td>\n",
       "      <td>5.00</td>\n",
       "    </tr>\n",
       "  </tbody>\n",
       "</table>\n",
       "<p>2146 rows × 6 columns</p>\n",
       "</div>"
      ],
      "text/plain": [
       "      accountID  createDay  count_job createMonth  mean_all  mean_month\n",
       "0             7 2021-04-06          1     2021-04      3.56        1.00\n",
       "1             7 2021-08-24          8     2021-08      3.56        8.00\n",
       "2             7 2021-09-07          2     2021-09      3.56        4.00\n",
       "3             7 2021-09-28          6     2021-09      3.56        4.00\n",
       "4             7 2021-10-13          3     2021-10      3.56        2.33\n",
       "...         ...        ...        ...         ...       ...         ...\n",
       "2141        254 2022-02-01          3     2022-02      3.00        3.00\n",
       "2142        260 2022-02-02          1     2022-02      1.00        1.00\n",
       "2143        260 2022-02-03          1     2022-02      1.00        1.00\n",
       "2144        262 2022-01-31          2     2022-01      2.00        2.00\n",
       "2145        274 2022-02-03          5     2022-02      5.00        5.00\n",
       "\n",
       "[2146 rows x 6 columns]"
      ]
     },
     "execution_count": 98,
     "metadata": {},
     "output_type": "execute_result"
    }
   ],
   "source": [
    "jobs_group_acc_count"
   ]
  },
  {
   "cell_type": "code",
   "execution_count": 99,
   "id": "0498b577",
   "metadata": {},
   "outputs": [
    {
     "data": {
      "image/png": "[encoded data removed]",
      "text/plain": [
       "<Figure size 1008x576 with 1 Axes>"
      ]
     },
     "metadata": {},
     "output_type": "display_data"
    }
   ],
   "source": [
    "plt.figure(figsize=(14, 8))\n",
    "sns.set(style=\"darkgrid\")\n",
    "sns.lineplot(data=jobs_group_acc_count.query('accountID in (\"15\") and \"2022-01-01\" <= createDay < \"2022-02-01\"'),\n",
    "            y='count_job',\n",
    "            x='createDay',\n",
    "            label='Кол-во заказов')\n",
    "plt.title('Кол-во заданий по дням')\n",
    "plt.xlabel('Даты')\n",
    "plt.ylabel('Кол-во заказов')\n",
    "plt.show()"
   ]
  },
  {
   "cell_type": "markdown",
   "id": "d75c2892",
   "metadata": {},
   "source": [
    "Мы видим пики и спады публикаций ппо кол-ву заданий. В данном случае для заказчика с id = 15"
   ]
  },
  {
   "cell_type": "code",
   "execution_count": 100,
   "id": "ec779a69",
   "metadata": {},
   "outputs": [
    {
     "data": {
      "text/html": [
       "<div>\n",
       "<style scoped>\n",
       "    .dataframe tbody tr th:only-of-type {\n",
       "        vertical-align: middle;\n",
       "    }\n",
       "\n",
       "    .dataframe tbody tr th {\n",
       "        vertical-align: top;\n",
       "    }\n",
       "\n",
       "    .dataframe thead th {\n",
       "        text-align: right;\n",
       "    }\n",
       "</style>\n",
       "<table border=\"1\" class=\"dataframe\">\n",
       "  <thead>\n",
       "    <tr style=\"text-align: right;\">\n",
       "      <th></th>\n",
       "      <th>accountID</th>\n",
       "      <th>count_job</th>\n",
       "      <th>mean_all</th>\n",
       "      <th>mean_month</th>\n",
       "    </tr>\n",
       "  </thead>\n",
       "  <tbody>\n",
       "    <tr>\n",
       "      <td>count</td>\n",
       "      <td>197.00</td>\n",
       "      <td>197.00</td>\n",
       "      <td>197.00</td>\n",
       "      <td>197.00</td>\n",
       "    </tr>\n",
       "    <tr>\n",
       "      <td>mean</td>\n",
       "      <td>15.00</td>\n",
       "      <td>393.23</td>\n",
       "      <td>393.23</td>\n",
       "      <td>393.23</td>\n",
       "    </tr>\n",
       "    <tr>\n",
       "      <td>std</td>\n",
       "      <td>0.00</td>\n",
       "      <td>586.02</td>\n",
       "      <td>0.00</td>\n",
       "      <td>250.99</td>\n",
       "    </tr>\n",
       "    <tr>\n",
       "      <td>min</td>\n",
       "      <td>15.00</td>\n",
       "      <td>1.00</td>\n",
       "      <td>393.23</td>\n",
       "      <td>44.92</td>\n",
       "    </tr>\n",
       "    <tr>\n",
       "      <td>25%</td>\n",
       "      <td>15.00</td>\n",
       "      <td>3.00</td>\n",
       "      <td>393.23</td>\n",
       "      <td>194.30</td>\n",
       "    </tr>\n",
       "    <tr>\n",
       "      <td>50%</td>\n",
       "      <td>15.00</td>\n",
       "      <td>21.00</td>\n",
       "      <td>393.23</td>\n",
       "      <td>310.35</td>\n",
       "    </tr>\n",
       "    <tr>\n",
       "      <td>75%</td>\n",
       "      <td>15.00</td>\n",
       "      <td>637.00</td>\n",
       "      <td>393.23</td>\n",
       "      <td>465.62</td>\n",
       "    </tr>\n",
       "    <tr>\n",
       "      <td>max</td>\n",
       "      <td>15.00</td>\n",
       "      <td>3,021.00</td>\n",
       "      <td>393.23</td>\n",
       "      <td>1,005.75</td>\n",
       "    </tr>\n",
       "  </tbody>\n",
       "</table>\n",
       "</div>"
      ],
      "text/plain": [
       "       accountID  count_job  mean_all  mean_month\n",
       "count     197.00     197.00    197.00      197.00\n",
       "mean       15.00     393.23    393.23      393.23\n",
       "std         0.00     586.02      0.00      250.99\n",
       "min        15.00       1.00    393.23       44.92\n",
       "25%        15.00       3.00    393.23      194.30\n",
       "50%        15.00      21.00    393.23      310.35\n",
       "75%        15.00     637.00    393.23      465.62\n",
       "max        15.00   3,021.00    393.23    1,005.75"
      ]
     },
     "execution_count": 100,
     "metadata": {},
     "output_type": "execute_result"
    }
   ],
   "source": [
    "jobs_group_acc_count.query('accountID == 15').describe()"
   ]
  },
  {
   "cell_type": "code",
   "execution_count": 101,
   "id": "e1f72212",
   "metadata": {},
   "outputs": [
    {
     "data": {
      "text/plain": [
       "155670"
      ]
     },
     "execution_count": 101,
     "metadata": {},
     "output_type": "execute_result"
    }
   ],
   "source": [
    "jobs_group_acc_count['count_job'].sum()"
   ]
  },
  {
   "cell_type": "markdown",
   "id": "a9ec7c21",
   "metadata": {},
   "source": [
    "**Вывод:**\n",
    "\n",
    "Мы построили два графика, где оцениваем кол-во заказов. В абсолютном значение и среднем. Причём среднее сравниваем со скользящим за три месяца. По ним в будущем можно будет построить дашборд с фиьтрами по заказчику, где в режиме онлайн можно будет оценивать активность заказчиков в рамкам публикаций заданий"
   ]
  },
  {
   "cell_type": "markdown",
   "id": "7d17d9dc",
   "metadata": {},
   "source": [
    "### Расчёт задержки публикаций заданий"
   ]
  },
  {
   "cell_type": "code",
   "execution_count": 102,
   "id": "70921177",
   "metadata": {},
   "outputs": [
    {
     "data": {
      "text/html": [
       "<div>\n",
       "<style scoped>\n",
       "    .dataframe tbody tr th:only-of-type {\n",
       "        vertical-align: middle;\n",
       "    }\n",
       "\n",
       "    .dataframe tbody tr th {\n",
       "        vertical-align: top;\n",
       "    }\n",
       "\n",
       "    .dataframe thead th {\n",
       "        text-align: right;\n",
       "    }\n",
       "</style>\n",
       "<table border=\"1\" class=\"dataframe\">\n",
       "  <thead>\n",
       "    <tr style=\"text-align: right;\">\n",
       "      <th></th>\n",
       "      <th>accountID</th>\n",
       "      <th>createDay</th>\n",
       "      <th>count_job</th>\n",
       "      <th>createMonth</th>\n",
       "      <th>pause_job_day</th>\n",
       "    </tr>\n",
       "  </thead>\n",
       "  <tbody>\n",
       "    <tr>\n",
       "      <td>0</td>\n",
       "      <td>7</td>\n",
       "      <td>2021-04-06</td>\n",
       "      <td>1</td>\n",
       "      <td>2021-04</td>\n",
       "      <td>0.00</td>\n",
       "    </tr>\n",
       "    <tr>\n",
       "      <td>1</td>\n",
       "      <td>7</td>\n",
       "      <td>2021-08-24</td>\n",
       "      <td>8</td>\n",
       "      <td>2021-08</td>\n",
       "      <td>140.00</td>\n",
       "    </tr>\n",
       "    <tr>\n",
       "      <td>2</td>\n",
       "      <td>7</td>\n",
       "      <td>2021-09-07</td>\n",
       "      <td>2</td>\n",
       "      <td>2021-09</td>\n",
       "      <td>14.00</td>\n",
       "    </tr>\n",
       "    <tr>\n",
       "      <td>3</td>\n",
       "      <td>7</td>\n",
       "      <td>2021-09-28</td>\n",
       "      <td>6</td>\n",
       "      <td>2021-09</td>\n",
       "      <td>21.00</td>\n",
       "    </tr>\n",
       "    <tr>\n",
       "      <td>4</td>\n",
       "      <td>7</td>\n",
       "      <td>2021-10-13</td>\n",
       "      <td>3</td>\n",
       "      <td>2021-10</td>\n",
       "      <td>15.00</td>\n",
       "    </tr>\n",
       "  </tbody>\n",
       "</table>\n",
       "</div>"
      ],
      "text/plain": [
       "   accountID  createDay  count_job createMonth  pause_job_day\n",
       "0          7 2021-04-06          1     2021-04           0.00\n",
       "1          7 2021-08-24          8     2021-08         140.00\n",
       "2          7 2021-09-07          2     2021-09          14.00\n",
       "3          7 2021-09-28          6     2021-09          21.00\n",
       "4          7 2021-10-13          3     2021-10          15.00"
      ]
     },
     "execution_count": 102,
     "metadata": {},
     "output_type": "execute_result"
    }
   ],
   "source": [
    "# посчитаем разницу в днях между заказами для каждого заказчика. Используем метод diff\n",
    "jobs_group_acc_lag = jobs_group_acc\n",
    "jobs_group_acc_lag['pause_job_day'] = jobs_group_acc_lag.groupby('accountID')['createDay'].diff().dt.days\n",
    "\n",
    "# заменим пустые значения на нули\n",
    "jobs_group_acc_lag['pause_job_day'] = jobs_group_acc_lag['pause_job_day'].fillna(0)\n",
    "jobs_group_acc_lag.head()"
   ]
  },
  {
   "cell_type": "code",
   "execution_count": 103,
   "id": "75b15519",
   "metadata": {},
   "outputs": [
    {
     "data": {
      "text/html": [
       "<div>\n",
       "<style scoped>\n",
       "    .dataframe tbody tr th:only-of-type {\n",
       "        vertical-align: middle;\n",
       "    }\n",
       "\n",
       "    .dataframe tbody tr th {\n",
       "        vertical-align: top;\n",
       "    }\n",
       "\n",
       "    .dataframe thead th {\n",
       "        text-align: right;\n",
       "    }\n",
       "</style>\n",
       "<table border=\"1\" class=\"dataframe\">\n",
       "  <thead>\n",
       "    <tr style=\"text-align: right;\">\n",
       "      <th></th>\n",
       "      <th>accountID</th>\n",
       "      <th>createDay</th>\n",
       "      <th>count_job</th>\n",
       "      <th>createMonth</th>\n",
       "      <th>pause_job_day</th>\n",
       "    </tr>\n",
       "  </thead>\n",
       "  <tbody>\n",
       "    <tr>\n",
       "      <td>0</td>\n",
       "      <td>7</td>\n",
       "      <td>2021-04-06</td>\n",
       "      <td>1</td>\n",
       "      <td>2021-04-01</td>\n",
       "      <td>0.00</td>\n",
       "    </tr>\n",
       "    <tr>\n",
       "      <td>1</td>\n",
       "      <td>7</td>\n",
       "      <td>2021-08-24</td>\n",
       "      <td>8</td>\n",
       "      <td>2021-08-01</td>\n",
       "      <td>140.00</td>\n",
       "    </tr>\n",
       "    <tr>\n",
       "      <td>2</td>\n",
       "      <td>7</td>\n",
       "      <td>2021-09-07</td>\n",
       "      <td>2</td>\n",
       "      <td>2021-09-01</td>\n",
       "      <td>14.00</td>\n",
       "    </tr>\n",
       "    <tr>\n",
       "      <td>3</td>\n",
       "      <td>7</td>\n",
       "      <td>2021-09-28</td>\n",
       "      <td>6</td>\n",
       "      <td>2021-09-01</td>\n",
       "      <td>21.00</td>\n",
       "    </tr>\n",
       "    <tr>\n",
       "      <td>4</td>\n",
       "      <td>7</td>\n",
       "      <td>2021-10-13</td>\n",
       "      <td>3</td>\n",
       "      <td>2021-10-01</td>\n",
       "      <td>15.00</td>\n",
       "    </tr>\n",
       "  </tbody>\n",
       "</table>\n",
       "</div>"
      ],
      "text/plain": [
       "   accountID  createDay  count_job createMonth  pause_job_day\n",
       "0          7 2021-04-06          1  2021-04-01           0.00\n",
       "1          7 2021-08-24          8  2021-08-01         140.00\n",
       "2          7 2021-09-07          2  2021-09-01          14.00\n",
       "3          7 2021-09-28          6  2021-09-01          21.00\n",
       "4          7 2021-10-13          3  2021-10-01          15.00"
      ]
     },
     "execution_count": 103,
     "metadata": {},
     "output_type": "execute_result"
    }
   ],
   "source": [
    "# приведём к строковому формату наш месячный период\n",
    "jobs_group_acc_lag['createMonth'] = jobs_group_acc_lag['createMonth'].dt.to_timestamp('s').dt.strftime('%Y-%m-%d')\n",
    "jobs_group_acc_lag.head()"
   ]
  },
  {
   "cell_type": "code",
   "execution_count": 104,
   "id": "f9181338",
   "metadata": {},
   "outputs": [],
   "source": [
    "# теперь к формату datetime64\n",
    "jobs_group_acc_lag['createMonth'] = pd.to_datetime(jobs_group_acc_lag['createMonth'], format=\"%Y-%m-%d\")"
   ]
  },
  {
   "cell_type": "code",
   "execution_count": 105,
   "id": "08a86f1a",
   "metadata": {},
   "outputs": [
    {
     "name": "stdout",
     "output_type": "stream",
     "text": [
      "<class 'pandas.core.frame.DataFrame'>\n",
      "RangeIndex: 2146 entries, 0 to 2145\n",
      "Data columns (total 5 columns):\n",
      "accountID        2146 non-null int64\n",
      "createDay        2146 non-null datetime64[ns]\n",
      "count_job        2146 non-null int64\n",
      "createMonth      2146 non-null datetime64[ns]\n",
      "pause_job_day    2146 non-null float64\n",
      "dtypes: datetime64[ns](2), float64(1), int64(2)\n",
      "memory usage: 84.0 KB\n"
     ]
    }
   ],
   "source": [
    "jobs_group_acc_lag.info()"
   ]
  },
  {
   "cell_type": "code",
   "execution_count": 106,
   "id": "57621da6",
   "metadata": {},
   "outputs": [],
   "source": [
    "# посчитаем среднее время между заказами по каждому заказчику и месяцу\n",
    "mean_pause_job_day = jobs_group_acc_lag.groupby(['accountID','createMonth']).agg({'pause_job_day':'mean'}).reset_index()\n",
    "mean_pause_job_day = mean_pause_job_day.rename(columns={'pause_job_day':'mean_pause_job_month'})\n",
    "jobs_group_acc_lag = jobs_group_acc_lag.merge(mean_pause_job_day, on=['accountID','createMonth'])"
   ]
  },
  {
   "cell_type": "code",
   "execution_count": 107,
   "id": "42d80a8f",
   "metadata": {},
   "outputs": [],
   "source": [
    "jobs_group_acc_lag.to_csv('jobs_group_acc.csv')"
   ]
  },
  {
   "cell_type": "code",
   "execution_count": 108,
   "id": "b87b0807",
   "metadata": {},
   "outputs": [
    {
     "data": {
      "text/html": [
       "<div>\n",
       "<style scoped>\n",
       "    .dataframe tbody tr th:only-of-type {\n",
       "        vertical-align: middle;\n",
       "    }\n",
       "\n",
       "    .dataframe tbody tr th {\n",
       "        vertical-align: top;\n",
       "    }\n",
       "\n",
       "    .dataframe thead th {\n",
       "        text-align: right;\n",
       "    }\n",
       "</style>\n",
       "<table border=\"1\" class=\"dataframe\">\n",
       "  <thead>\n",
       "    <tr style=\"text-align: right;\">\n",
       "      <th></th>\n",
       "      <th>accountID</th>\n",
       "      <th>createDay</th>\n",
       "      <th>count_job</th>\n",
       "      <th>createMonth</th>\n",
       "      <th>pause_job_day</th>\n",
       "      <th>mean_pause_job_month</th>\n",
       "    </tr>\n",
       "  </thead>\n",
       "  <tbody>\n",
       "    <tr>\n",
       "      <td>0</td>\n",
       "      <td>7</td>\n",
       "      <td>2021-04-06</td>\n",
       "      <td>1</td>\n",
       "      <td>2021-04-01</td>\n",
       "      <td>0.00</td>\n",
       "      <td>0.00</td>\n",
       "    </tr>\n",
       "    <tr>\n",
       "      <td>1</td>\n",
       "      <td>7</td>\n",
       "      <td>2021-08-24</td>\n",
       "      <td>8</td>\n",
       "      <td>2021-08-01</td>\n",
       "      <td>140.00</td>\n",
       "      <td>140.00</td>\n",
       "    </tr>\n",
       "    <tr>\n",
       "      <td>2</td>\n",
       "      <td>7</td>\n",
       "      <td>2021-09-07</td>\n",
       "      <td>2</td>\n",
       "      <td>2021-09-01</td>\n",
       "      <td>14.00</td>\n",
       "      <td>17.50</td>\n",
       "    </tr>\n",
       "    <tr>\n",
       "      <td>3</td>\n",
       "      <td>7</td>\n",
       "      <td>2021-09-28</td>\n",
       "      <td>6</td>\n",
       "      <td>2021-09-01</td>\n",
       "      <td>21.00</td>\n",
       "      <td>17.50</td>\n",
       "    </tr>\n",
       "    <tr>\n",
       "      <td>4</td>\n",
       "      <td>7</td>\n",
       "      <td>2021-10-13</td>\n",
       "      <td>3</td>\n",
       "      <td>2021-10-01</td>\n",
       "      <td>15.00</td>\n",
       "      <td>10.33</td>\n",
       "    </tr>\n",
       "  </tbody>\n",
       "</table>\n",
       "</div>"
      ],
      "text/plain": [
       "   accountID  createDay  count_job createMonth  pause_job_day  \\\n",
       "0          7 2021-04-06          1  2021-04-01           0.00   \n",
       "1          7 2021-08-24          8  2021-08-01         140.00   \n",
       "2          7 2021-09-07          2  2021-09-01          14.00   \n",
       "3          7 2021-09-28          6  2021-09-01          21.00   \n",
       "4          7 2021-10-13          3  2021-10-01          15.00   \n",
       "\n",
       "   mean_pause_job_month  \n",
       "0                  0.00  \n",
       "1                140.00  \n",
       "2                 17.50  \n",
       "3                 17.50  \n",
       "4                 10.33  "
      ]
     },
     "execution_count": 108,
     "metadata": {},
     "output_type": "execute_result"
    }
   ],
   "source": [
    "jobs_group_acc_lag.head()"
   ]
  },
  {
   "cell_type": "code",
   "execution_count": 109,
   "id": "9fef9520",
   "metadata": {},
   "outputs": [
    {
     "data": {
      "text/plain": [
       "array([  7,  11,  13,  15,  16,  17,  18,  20,  23,  25,  26,  29,  30,\n",
       "        32,  33,  34,  35,  37,  38,  41,  46,  48,  49,  53,  55,  58,\n",
       "        59,  60,  65,  69,  75,  76,  80,  91,  98,  99, 100, 106, 108,\n",
       "       110, 112, 118, 129, 132, 134, 143, 145, 146, 152, 159, 167, 169,\n",
       "       171, 175, 176, 178, 179, 181, 184, 187, 188, 190, 193, 199, 201,\n",
       "       216, 219, 220, 223, 225, 228, 229, 242, 253, 254, 260, 262, 274],\n",
       "      dtype=int64)"
      ]
     },
     "execution_count": 109,
     "metadata": {},
     "output_type": "execute_result"
    }
   ],
   "source": [
    "jobs_group_acc_lag['accountID'].unique()"
   ]
  },
  {
   "cell_type": "code",
   "execution_count": 110,
   "id": "a4ee81f6",
   "metadata": {},
   "outputs": [
    {
     "data": {
      "image/png": "[encoded data removed]",
      "text/plain": [
       "<Figure size 864x576 with 1 Axes>"
      ]
     },
     "metadata": {},
     "output_type": "display_data"
    }
   ],
   "source": [
    "# сделаем срез по нескольким id заказчиков\n",
    "jobs_group_acc_lag_new = jobs_group_acc_lag.query('accountID == 53 and \"2021-12-01\"<= createDay < \"2022-02-01\"')\n",
    "\n",
    "plt.figure(figsize=(12,8))\n",
    "sns.lineplot(data=jobs_group_acc_lag_new,\n",
    "            x='createDay',\n",
    "            y='pause_job_day'\n",
    "           )\n",
    "plt.title('Пауза в днях между публикациями заданий')\n",
    "plt.xlabel('Дата, дни')\n",
    "plt.ylabel('Задержка, дни')\n",
    "plt.show()"
   ]
  },
  {
   "cell_type": "code",
   "execution_count": 111,
   "id": "700ae181",
   "metadata": {},
   "outputs": [
    {
     "data": {
      "image/png": "[encoded data removed]",
      "text/plain": [
       "<Figure size 864x576 with 1 Axes>"
      ]
     },
     "metadata": {},
     "output_type": "display_data"
    }
   ],
   "source": [
    "# теперь по второму id\n",
    "jobs_group_acc_lag_new = jobs_group_acc_lag.query('accountID == 15 and \"2021-11-01\"<= createDay < \"2022-02-02\"')\n",
    "\n",
    "\n",
    "plt.figure(figsize=(12,8))\n",
    "sns.lineplot(data=jobs_group_acc_lag_new,\n",
    "            x='createDay',\n",
    "            y='pause_job_day',\n",
    "            label='Задержка в днях'\n",
    "           )\n",
    "sns.lineplot(data=jobs_group_acc_lag_new,\n",
    "            x='createDay',\n",
    "            y='mean_pause_job_month',\n",
    "            label='Средняя задержка за месяц'\n",
    "           )\n",
    "plt.title('Задержка в публикации в днях, средняя в месяц')\n",
    "plt.xlabel('Дата, дни')\n",
    "plt.ylabel('Задержка, дни')\n",
    "plt.show()"
   ]
  },
  {
   "cell_type": "markdown",
   "id": "888096e9",
   "metadata": {},
   "source": [
    "Монж осравнить два графика по задержке между публикацими и выделить, какой более информативный"
   ]
  },
  {
   "cell_type": "markdown",
   "id": "48a794b9",
   "metadata": {},
   "source": [
    "### Сколько времени нужно на выполнение заданий"
   ]
  },
  {
   "cell_type": "markdown",
   "id": "d174d817",
   "metadata": {},
   "source": [
    "Давайте посмотрим, сколько в среднем тратиться на выполнение заданий по каждому заказчику"
   ]
  },
  {
   "cell_type": "code",
   "execution_count": 112,
   "id": "1117f158",
   "metadata": {},
   "outputs": [
    {
     "data": {
      "text/html": [
       "<div>\n",
       "<style scoped>\n",
       "    .dataframe tbody tr th:only-of-type {\n",
       "        vertical-align: middle;\n",
       "    }\n",
       "\n",
       "    .dataframe tbody tr th {\n",
       "        vertical-align: top;\n",
       "    }\n",
       "\n",
       "    .dataframe thead th {\n",
       "        text-align: right;\n",
       "    }\n",
       "</style>\n",
       "<table border=\"1\" class=\"dataframe\">\n",
       "  <thead>\n",
       "    <tr style=\"text-align: right;\">\n",
       "      <th></th>\n",
       "      <th>id</th>\n",
       "      <th>createDate</th>\n",
       "      <th>updateDate</th>\n",
       "      <th>title</th>\n",
       "      <th>stateID</th>\n",
       "      <th>accountID</th>\n",
       "      <th>companyDetailsName</th>\n",
       "      <th>workmanID</th>\n",
       "      <th>price</th>\n",
       "      <th>npd</th>\n",
       "      <th>commission</th>\n",
       "      <th>paymentDate</th>\n",
       "      <th>createDay</th>\n",
       "      <th>updateDay</th>\n",
       "      <th>paymentDay</th>\n",
       "    </tr>\n",
       "  </thead>\n",
       "  <tbody>\n",
       "    <tr>\n",
       "      <td>0</td>\n",
       "      <td>156687</td>\n",
       "      <td>2022-02-07 12:33:59</td>\n",
       "      <td>2022-02-07 12:34:41</td>\n",
       "      <td>Погрузо-разгрузочные работы</td>\n",
       "      <td>INPROGRESS</td>\n",
       "      <td>110</td>\n",
       "      <td>ГРУЗОТЕМА-СИБИРЬ</td>\n",
       "      <td>27000</td>\n",
       "      <td>4,280.00</td>\n",
       "      <td>0.00</td>\n",
       "      <td>85.60</td>\n",
       "      <td>NaT</td>\n",
       "      <td>2022-02-07</td>\n",
       "      <td>2022-02-07</td>\n",
       "      <td>NaT</td>\n",
       "    </tr>\n",
       "    <tr>\n",
       "      <td>1</td>\n",
       "      <td>156686</td>\n",
       "      <td>2022-02-07 12:33:59</td>\n",
       "      <td>2022-02-07 12:34:39</td>\n",
       "      <td>Погрузо-разгрузочные работы</td>\n",
       "      <td>INPROGRESS</td>\n",
       "      <td>110</td>\n",
       "      <td>ГРУЗОТЕМА-СИБИРЬ</td>\n",
       "      <td>27583</td>\n",
       "      <td>8,640.00</td>\n",
       "      <td>518.40</td>\n",
       "      <td>172.80</td>\n",
       "      <td>NaT</td>\n",
       "      <td>2022-02-07</td>\n",
       "      <td>2022-02-07</td>\n",
       "      <td>NaT</td>\n",
       "    </tr>\n",
       "    <tr>\n",
       "      <td>2</td>\n",
       "      <td>156685</td>\n",
       "      <td>2022-02-07 12:33:59</td>\n",
       "      <td>2022-02-07 12:34:40</td>\n",
       "      <td>Погрузо-разгрузочные работы</td>\n",
       "      <td>INPROGRESS</td>\n",
       "      <td>110</td>\n",
       "      <td>ГРУЗОТЕМА-СИБИРЬ</td>\n",
       "      <td>28152</td>\n",
       "      <td>8,520.00</td>\n",
       "      <td>511.20</td>\n",
       "      <td>170.40</td>\n",
       "      <td>NaT</td>\n",
       "      <td>2022-02-07</td>\n",
       "      <td>2022-02-07</td>\n",
       "      <td>NaT</td>\n",
       "    </tr>\n",
       "    <tr>\n",
       "      <td>3</td>\n",
       "      <td>156684</td>\n",
       "      <td>2022-02-07 12:33:58</td>\n",
       "      <td>2022-02-07 12:34:37</td>\n",
       "      <td>Погрузо-разгрузочные работы</td>\n",
       "      <td>INPROGRESS</td>\n",
       "      <td>110</td>\n",
       "      <td>ГРУЗОТЕМА-СИБИРЬ</td>\n",
       "      <td>27756</td>\n",
       "      <td>9,000.00</td>\n",
       "      <td>540.00</td>\n",
       "      <td>180.00</td>\n",
       "      <td>NaT</td>\n",
       "      <td>2022-02-07</td>\n",
       "      <td>2022-02-07</td>\n",
       "      <td>NaT</td>\n",
       "    </tr>\n",
       "    <tr>\n",
       "      <td>4</td>\n",
       "      <td>156683</td>\n",
       "      <td>2022-02-07 12:33:58</td>\n",
       "      <td>2022-02-07 12:34:38</td>\n",
       "      <td>Погрузо-разгрузочные работы</td>\n",
       "      <td>INPROGRESS</td>\n",
       "      <td>110</td>\n",
       "      <td>ГРУЗОТЕМА-СИБИРЬ</td>\n",
       "      <td>27026</td>\n",
       "      <td>7,300.00</td>\n",
       "      <td>438.00</td>\n",
       "      <td>146.00</td>\n",
       "      <td>NaT</td>\n",
       "      <td>2022-02-07</td>\n",
       "      <td>2022-02-07</td>\n",
       "      <td>NaT</td>\n",
       "    </tr>\n",
       "    <tr>\n",
       "      <td>...</td>\n",
       "      <td>...</td>\n",
       "      <td>...</td>\n",
       "      <td>...</td>\n",
       "      <td>...</td>\n",
       "      <td>...</td>\n",
       "      <td>...</td>\n",
       "      <td>...</td>\n",
       "      <td>...</td>\n",
       "      <td>...</td>\n",
       "      <td>...</td>\n",
       "      <td>...</td>\n",
       "      <td>...</td>\n",
       "      <td>...</td>\n",
       "      <td>...</td>\n",
       "      <td>...</td>\n",
       "    </tr>\n",
       "    <tr>\n",
       "      <td>155665</td>\n",
       "      <td>773</td>\n",
       "      <td>2021-03-02 14:22:38</td>\n",
       "      <td>2021-08-25 15:22:13</td>\n",
       "      <td>Доставка товара</td>\n",
       "      <td>COMPLETED</td>\n",
       "      <td>23</td>\n",
       "      <td>АККОРД</td>\n",
       "      <td>618</td>\n",
       "      <td>9,600.00</td>\n",
       "      <td>0.00</td>\n",
       "      <td>192.00</td>\n",
       "      <td>NaT</td>\n",
       "      <td>2021-03-02</td>\n",
       "      <td>2021-08-25</td>\n",
       "      <td>NaT</td>\n",
       "    </tr>\n",
       "    <tr>\n",
       "      <td>155666</td>\n",
       "      <td>772</td>\n",
       "      <td>2021-03-02 14:22:38</td>\n",
       "      <td>2021-08-25 15:22:13</td>\n",
       "      <td>Доставка товара</td>\n",
       "      <td>COMPLETED</td>\n",
       "      <td>23</td>\n",
       "      <td>АККОРД</td>\n",
       "      <td>626</td>\n",
       "      <td>14,910.00</td>\n",
       "      <td>0.00</td>\n",
       "      <td>298.20</td>\n",
       "      <td>NaT</td>\n",
       "      <td>2021-03-02</td>\n",
       "      <td>2021-08-25</td>\n",
       "      <td>NaT</td>\n",
       "    </tr>\n",
       "    <tr>\n",
       "      <td>155667</td>\n",
       "      <td>771</td>\n",
       "      <td>2021-03-02 14:22:38</td>\n",
       "      <td>2021-08-25 15:22:13</td>\n",
       "      <td>Доставка товара</td>\n",
       "      <td>COMPLETED</td>\n",
       "      <td>23</td>\n",
       "      <td>АККОРД</td>\n",
       "      <td>612</td>\n",
       "      <td>2,940.00</td>\n",
       "      <td>0.00</td>\n",
       "      <td>58.80</td>\n",
       "      <td>NaT</td>\n",
       "      <td>2021-03-02</td>\n",
       "      <td>2021-08-25</td>\n",
       "      <td>NaT</td>\n",
       "    </tr>\n",
       "    <tr>\n",
       "      <td>155668</td>\n",
       "      <td>770</td>\n",
       "      <td>2021-03-02 14:22:37</td>\n",
       "      <td>2021-08-25 15:22:13</td>\n",
       "      <td>Доставка товара</td>\n",
       "      <td>COMPLETED</td>\n",
       "      <td>23</td>\n",
       "      <td>АККОРД</td>\n",
       "      <td>634</td>\n",
       "      <td>14,700.00</td>\n",
       "      <td>882.00</td>\n",
       "      <td>294.00</td>\n",
       "      <td>NaT</td>\n",
       "      <td>2021-03-02</td>\n",
       "      <td>2021-08-25</td>\n",
       "      <td>NaT</td>\n",
       "    </tr>\n",
       "    <tr>\n",
       "      <td>155669</td>\n",
       "      <td>769</td>\n",
       "      <td>2021-03-02 14:22:37</td>\n",
       "      <td>2021-08-25 15:22:13</td>\n",
       "      <td>Доставка товара</td>\n",
       "      <td>COMPLETED</td>\n",
       "      <td>23</td>\n",
       "      <td>АККОРД</td>\n",
       "      <td>621</td>\n",
       "      <td>6,900.00</td>\n",
       "      <td>414.00</td>\n",
       "      <td>138.00</td>\n",
       "      <td>NaT</td>\n",
       "      <td>2021-03-02</td>\n",
       "      <td>2021-08-25</td>\n",
       "      <td>NaT</td>\n",
       "    </tr>\n",
       "  </tbody>\n",
       "</table>\n",
       "<p>155670 rows × 15 columns</p>\n",
       "</div>"
      ],
      "text/plain": [
       "            id          createDate          updateDate  \\\n",
       "0       156687 2022-02-07 12:33:59 2022-02-07 12:34:41   \n",
       "1       156686 2022-02-07 12:33:59 2022-02-07 12:34:39   \n",
       "2       156685 2022-02-07 12:33:59 2022-02-07 12:34:40   \n",
       "3       156684 2022-02-07 12:33:58 2022-02-07 12:34:37   \n",
       "4       156683 2022-02-07 12:33:58 2022-02-07 12:34:38   \n",
       "...        ...                 ...                 ...   \n",
       "155665     773 2021-03-02 14:22:38 2021-08-25 15:22:13   \n",
       "155666     772 2021-03-02 14:22:38 2021-08-25 15:22:13   \n",
       "155667     771 2021-03-02 14:22:38 2021-08-25 15:22:13   \n",
       "155668     770 2021-03-02 14:22:37 2021-08-25 15:22:13   \n",
       "155669     769 2021-03-02 14:22:37 2021-08-25 15:22:13   \n",
       "\n",
       "                              title     stateID  accountID companyDetailsName  \\\n",
       "0       Погрузо-разгрузочные работы  INPROGRESS        110   ГРУЗОТЕМА-СИБИРЬ   \n",
       "1       Погрузо-разгрузочные работы  INPROGRESS        110   ГРУЗОТЕМА-СИБИРЬ   \n",
       "2       Погрузо-разгрузочные работы  INPROGRESS        110   ГРУЗОТЕМА-СИБИРЬ   \n",
       "3       Погрузо-разгрузочные работы  INPROGRESS        110   ГРУЗОТЕМА-СИБИРЬ   \n",
       "4       Погрузо-разгрузочные работы  INPROGRESS        110   ГРУЗОТЕМА-СИБИРЬ   \n",
       "...                             ...         ...        ...                ...   \n",
       "155665              Доставка товара   COMPLETED         23             АККОРД   \n",
       "155666              Доставка товара   COMPLETED         23             АККОРД   \n",
       "155667              Доставка товара   COMPLETED         23             АККОРД   \n",
       "155668              Доставка товара   COMPLETED         23             АККОРД   \n",
       "155669              Доставка товара   COMPLETED         23             АККОРД   \n",
       "\n",
       "        workmanID     price    npd  commission paymentDate  createDay  \\\n",
       "0           27000  4,280.00   0.00       85.60         NaT 2022-02-07   \n",
       "1           27583  8,640.00 518.40      172.80         NaT 2022-02-07   \n",
       "2           28152  8,520.00 511.20      170.40         NaT 2022-02-07   \n",
       "3           27756  9,000.00 540.00      180.00         NaT 2022-02-07   \n",
       "4           27026  7,300.00 438.00      146.00         NaT 2022-02-07   \n",
       "...           ...       ...    ...         ...         ...        ...   \n",
       "155665        618  9,600.00   0.00      192.00         NaT 2021-03-02   \n",
       "155666        626 14,910.00   0.00      298.20         NaT 2021-03-02   \n",
       "155667        612  2,940.00   0.00       58.80         NaT 2021-03-02   \n",
       "155668        634 14,700.00 882.00      294.00         NaT 2021-03-02   \n",
       "155669        621  6,900.00 414.00      138.00         NaT 2021-03-02   \n",
       "\n",
       "        updateDay paymentDay  \n",
       "0      2022-02-07        NaT  \n",
       "1      2022-02-07        NaT  \n",
       "2      2022-02-07        NaT  \n",
       "3      2022-02-07        NaT  \n",
       "4      2022-02-07        NaT  \n",
       "...           ...        ...  \n",
       "155665 2021-08-25        NaT  \n",
       "155666 2021-08-25        NaT  \n",
       "155667 2021-08-25        NaT  \n",
       "155668 2021-08-25        NaT  \n",
       "155669 2021-08-25        NaT  \n",
       "\n",
       "[155670 rows x 15 columns]"
      ]
     },
     "execution_count": 112,
     "metadata": {},
     "output_type": "execute_result"
    }
   ],
   "source": [
    "jobs"
   ]
  },
  {
   "cell_type": "code",
   "execution_count": 113,
   "id": "de76c3bb",
   "metadata": {},
   "outputs": [
    {
     "data": {
      "text/plain": [
       "array(['INPROGRESS', 'FINISHED', 'PUBLISHED', 'COMPLETED', 'CANCELED',\n",
       "       'MODERATION', 'DRAFT', 'WORKMANPENDING', 'REJECTED'], dtype=object)"
      ]
     },
     "execution_count": 113,
     "metadata": {},
     "output_type": "execute_result"
    }
   ],
   "source": [
    "jobs['stateID'].unique()"
   ]
  },
  {
   "cell_type": "code",
   "execution_count": 114,
   "id": "37ffa23a",
   "metadata": {},
   "outputs": [],
   "source": [
    "jobs_time = jobs"
   ]
  },
  {
   "cell_type": "code",
   "execution_count": 115,
   "id": "3ca709c6",
   "metadata": {},
   "outputs": [],
   "source": [
    "# удалим строки, где ещё не завершены работы\n",
    "jobs_time.dropna(subset=['paymentDay'], inplace=True)"
   ]
  },
  {
   "cell_type": "code",
   "execution_count": 116,
   "id": "8459c1a7",
   "metadata": {},
   "outputs": [
    {
     "data": {
      "text/plain": [
       "array(['COMPLETED', 'FINISHED'], dtype=object)"
      ]
     },
     "execution_count": 116,
     "metadata": {},
     "output_type": "execute_result"
    }
   ],
   "source": [
    "# проверим статусы заказов\n",
    "jobs_time['stateID'].unique()"
   ]
  },
  {
   "cell_type": "markdown",
   "id": "b6a9b9af",
   "metadata": {},
   "source": [
    "Остались только завершённые"
   ]
  },
  {
   "cell_type": "markdown",
   "id": "cd44364d",
   "metadata": {},
   "source": [
    "Далее идёт сложный момент. Правильно считать время выполнения от предложения выполнить заказ исполнителем до момента его выполнения. В идеале вообще от принятия предложения исполнителя заказчиком, но у них сразу меняются статусы, а дата сохранется только о создание *offers*"
   ]
  },
  {
   "cell_type": "markdown",
   "id": "c0b2692b",
   "metadata": {},
   "source": [
    "<img src=\"http://ldf72.ru/media/objects/3/670/98543649856ac506b44e76_4.jpg\">"
   ]
  },
  {
   "cell_type": "code",
   "execution_count": 128,
   "id": "c08039f3",
   "metadata": {},
   "outputs": [
    {
     "data": {
      "text/html": [
       "<div>\n",
       "<style scoped>\n",
       "    .dataframe tbody tr th:only-of-type {\n",
       "        vertical-align: middle;\n",
       "    }\n",
       "\n",
       "    .dataframe tbody tr th {\n",
       "        vertical-align: top;\n",
       "    }\n",
       "\n",
       "    .dataframe thead th {\n",
       "        text-align: right;\n",
       "    }\n",
       "</style>\n",
       "<table border=\"1\" class=\"dataframe\">\n",
       "  <thead>\n",
       "    <tr style=\"text-align: right;\">\n",
       "      <th></th>\n",
       "      <th>id</th>\n",
       "      <th>jobID</th>\n",
       "      <th>offerPrice</th>\n",
       "      <th>workmanID</th>\n",
       "      <th>stateID</th>\n",
       "      <th>createDate</th>\n",
       "      <th>updateDate</th>\n",
       "      <th>cancelDate</th>\n",
       "      <th>finishExecuteDate</th>\n",
       "      <th>accountID</th>\n",
       "      <th>createDay</th>\n",
       "      <th>updateDay</th>\n",
       "      <th>cancelDay</th>\n",
       "      <th>finishExecuteDay</th>\n",
       "    </tr>\n",
       "  </thead>\n",
       "  <tbody>\n",
       "    <tr>\n",
       "      <td>0</td>\n",
       "      <td>1</td>\n",
       "      <td>1</td>\n",
       "      <td>120.00</td>\n",
       "      <td>3</td>\n",
       "      <td>COMPLETED</td>\n",
       "      <td>2020-10-28 15:00:31</td>\n",
       "      <td>2021-10-07 19:28:05</td>\n",
       "      <td>NaT</td>\n",
       "      <td>2020-10-28 15:03:18</td>\n",
       "      <td>7</td>\n",
       "      <td>2020-10-28</td>\n",
       "      <td>2021-10-07</td>\n",
       "      <td>NaT</td>\n",
       "      <td>2020-10-28</td>\n",
       "    </tr>\n",
       "    <tr>\n",
       "      <td>1</td>\n",
       "      <td>2</td>\n",
       "      <td>2</td>\n",
       "      <td>210.00</td>\n",
       "      <td>19</td>\n",
       "      <td>COMPLETED</td>\n",
       "      <td>2020-10-30 11:15:32</td>\n",
       "      <td>2021-10-07 19:28:05</td>\n",
       "      <td>NaT</td>\n",
       "      <td>2020-10-30 11:55:24</td>\n",
       "      <td>8</td>\n",
       "      <td>2020-10-30</td>\n",
       "      <td>2021-10-07</td>\n",
       "      <td>NaT</td>\n",
       "      <td>2020-10-30</td>\n",
       "    </tr>\n",
       "    <tr>\n",
       "      <td>2</td>\n",
       "      <td>3</td>\n",
       "      <td>3</td>\n",
       "      <td>100.00</td>\n",
       "      <td>31</td>\n",
       "      <td>COMPLETED</td>\n",
       "      <td>2020-11-11 10:38:50</td>\n",
       "      <td>2021-10-07 19:28:05</td>\n",
       "      <td>NaT</td>\n",
       "      <td>2020-11-11 10:41:43</td>\n",
       "      <td>7</td>\n",
       "      <td>2020-11-11</td>\n",
       "      <td>2021-10-07</td>\n",
       "      <td>NaT</td>\n",
       "      <td>2020-11-11</td>\n",
       "    </tr>\n",
       "    <tr>\n",
       "      <td>3</td>\n",
       "      <td>4</td>\n",
       "      <td>5</td>\n",
       "      <td>100.00</td>\n",
       "      <td>31</td>\n",
       "      <td>COMPLETED</td>\n",
       "      <td>2020-11-13 15:37:33</td>\n",
       "      <td>2021-10-07 19:28:05</td>\n",
       "      <td>NaT</td>\n",
       "      <td>2020-11-13 15:54:05</td>\n",
       "      <td>7</td>\n",
       "      <td>2020-11-13</td>\n",
       "      <td>2021-10-07</td>\n",
       "      <td>NaT</td>\n",
       "      <td>2020-11-13</td>\n",
       "    </tr>\n",
       "    <tr>\n",
       "      <td>4</td>\n",
       "      <td>5</td>\n",
       "      <td>6</td>\n",
       "      <td>100.00</td>\n",
       "      <td>31</td>\n",
       "      <td>COMPLETED</td>\n",
       "      <td>2020-11-13 15:48:01</td>\n",
       "      <td>2021-10-07 19:28:05</td>\n",
       "      <td>NaT</td>\n",
       "      <td>2020-11-13 15:54:19</td>\n",
       "      <td>7</td>\n",
       "      <td>2020-11-13</td>\n",
       "      <td>2021-10-07</td>\n",
       "      <td>NaT</td>\n",
       "      <td>2020-11-13</td>\n",
       "    </tr>\n",
       "  </tbody>\n",
       "</table>\n",
       "</div>"
      ],
      "text/plain": [
       "   id  jobID  offerPrice  workmanID    stateID          createDate  \\\n",
       "0   1      1      120.00          3  COMPLETED 2020-10-28 15:00:31   \n",
       "1   2      2      210.00         19  COMPLETED 2020-10-30 11:15:32   \n",
       "2   3      3      100.00         31  COMPLETED 2020-11-11 10:38:50   \n",
       "3   4      5      100.00         31  COMPLETED 2020-11-13 15:37:33   \n",
       "4   5      6      100.00         31  COMPLETED 2020-11-13 15:48:01   \n",
       "\n",
       "           updateDate cancelDate   finishExecuteDate  accountID  createDay  \\\n",
       "0 2021-10-07 19:28:05        NaT 2020-10-28 15:03:18          7 2020-10-28   \n",
       "1 2021-10-07 19:28:05        NaT 2020-10-30 11:55:24          8 2020-10-30   \n",
       "2 2021-10-07 19:28:05        NaT 2020-11-11 10:41:43          7 2020-11-11   \n",
       "3 2021-10-07 19:28:05        NaT 2020-11-13 15:54:05          7 2020-11-13   \n",
       "4 2021-10-07 19:28:05        NaT 2020-11-13 15:54:19          7 2020-11-13   \n",
       "\n",
       "   updateDay cancelDay finishExecuteDay  \n",
       "0 2021-10-07       NaT       2020-10-28  \n",
       "1 2021-10-07       NaT       2020-10-30  \n",
       "2 2021-10-07       NaT       2020-11-11  \n",
       "3 2021-10-07       NaT       2020-11-13  \n",
       "4 2021-10-07       NaT       2020-11-13  "
      ]
     },
     "execution_count": 128,
     "metadata": {},
     "output_type": "execute_result"
    }
   ],
   "source": [
    "jobOffers.head()"
   ]
  },
  {
   "cell_type": "code",
   "execution_count": 129,
   "id": "aa19fb9d",
   "metadata": {},
   "outputs": [
    {
     "data": {
      "text/plain": [
       "array(['COMPLETED', 'PUBLISHED', 'DECLINED', 'CANCELED',\n",
       "       'PAYMENT_WAITING', 'FINISHED', 'ACCEPTED', 'ACCEPTANCE',\n",
       "       'INPROGRESS', 'ARBITRATION', 'ACT_REQUIRED'], dtype=object)"
      ]
     },
     "execution_count": 129,
     "metadata": {},
     "output_type": "execute_result"
    }
   ],
   "source": [
    "jobOffers['stateID'].unique()"
   ]
  },
  {
   "cell_type": "code",
   "execution_count": null,
   "id": "0c9227cc",
   "metadata": {},
   "outputs": [],
   "source": [
    "# сделаю срез по офферам, чтобы не трогать основную таблицу\n",
    "offers = jobOffers[['id','jobID','workmanID','createDate']]"
   ]
  },
  {
   "cell_type": "code",
   "execution_count": 130,
   "id": "9e2241e6",
   "metadata": {},
   "outputs": [
    {
     "data": {
      "text/html": [
       "<div>\n",
       "<style scoped>\n",
       "    .dataframe tbody tr th:only-of-type {\n",
       "        vertical-align: middle;\n",
       "    }\n",
       "\n",
       "    .dataframe tbody tr th {\n",
       "        vertical-align: top;\n",
       "    }\n",
       "\n",
       "    .dataframe thead th {\n",
       "        text-align: right;\n",
       "    }\n",
       "</style>\n",
       "<table border=\"1\" class=\"dataframe\">\n",
       "  <thead>\n",
       "    <tr style=\"text-align: right;\">\n",
       "      <th></th>\n",
       "      <th>id</th>\n",
       "      <th>createDate</th>\n",
       "      <th>updateDate</th>\n",
       "      <th>title</th>\n",
       "      <th>stateID</th>\n",
       "      <th>accountID</th>\n",
       "      <th>companyDetailsName</th>\n",
       "      <th>workmanID</th>\n",
       "      <th>price</th>\n",
       "      <th>npd</th>\n",
       "      <th>commission</th>\n",
       "      <th>paymentDate</th>\n",
       "      <th>createDay</th>\n",
       "      <th>updateDay</th>\n",
       "      <th>paymentDay</th>\n",
       "      <th>working_hours</th>\n",
       "      <th>month</th>\n",
       "    </tr>\n",
       "  </thead>\n",
       "  <tbody>\n",
       "    <tr>\n",
       "      <td>36</td>\n",
       "      <td>156651</td>\n",
       "      <td>2022-02-07 11:52:20</td>\n",
       "      <td>2022-02-07 12:28:24</td>\n",
       "      <td>Разные</td>\n",
       "      <td>COMPLETED</td>\n",
       "      <td>199</td>\n",
       "      <td>ИРЛЕНГРУПП</td>\n",
       "      <td>21965</td>\n",
       "      <td>59,574.47</td>\n",
       "      <td>0.00</td>\n",
       "      <td>1,191.49</td>\n",
       "      <td>2022-02-07 12:26:19</td>\n",
       "      <td>2022-02-07</td>\n",
       "      <td>2022-02-07</td>\n",
       "      <td>2022-02-07</td>\n",
       "      <td>0.57</td>\n",
       "      <td>2022-02-01</td>\n",
       "    </tr>\n",
       "  </tbody>\n",
       "</table>\n",
       "</div>"
      ],
      "text/plain": [
       "        id          createDate          updateDate   title    stateID  \\\n",
       "36  156651 2022-02-07 11:52:20 2022-02-07 12:28:24  Разные  COMPLETED   \n",
       "\n",
       "    accountID companyDetailsName  workmanID     price  npd  commission  \\\n",
       "36        199         ИРЛЕНГРУПП      21965 59,574.47 0.00    1,191.49   \n",
       "\n",
       "           paymentDate  createDay  updateDay paymentDay  working_hours  \\\n",
       "36 2022-02-07 12:26:19 2022-02-07 2022-02-07 2022-02-07           0.57   \n",
       "\n",
       "        month  \n",
       "36 2022-02-01  "
      ]
     },
     "execution_count": 130,
     "metadata": {},
     "output_type": "execute_result"
    }
   ],
   "source": [
    "jobs.query('id == 156651')"
   ]
  },
  {
   "cell_type": "code",
   "execution_count": 131,
   "id": "a3e32cb1",
   "metadata": {},
   "outputs": [
    {
     "data": {
      "text/html": [
       "<div>\n",
       "<style scoped>\n",
       "    .dataframe tbody tr th:only-of-type {\n",
       "        vertical-align: middle;\n",
       "    }\n",
       "\n",
       "    .dataframe tbody tr th {\n",
       "        vertical-align: top;\n",
       "    }\n",
       "\n",
       "    .dataframe thead th {\n",
       "        text-align: right;\n",
       "    }\n",
       "</style>\n",
       "<table border=\"1\" class=\"dataframe\">\n",
       "  <thead>\n",
       "    <tr style=\"text-align: right;\">\n",
       "      <th></th>\n",
       "      <th>id</th>\n",
       "      <th>jobID</th>\n",
       "      <th>offerPrice</th>\n",
       "      <th>workmanID</th>\n",
       "      <th>stateID</th>\n",
       "      <th>createDate</th>\n",
       "      <th>updateDate</th>\n",
       "      <th>cancelDate</th>\n",
       "      <th>finishExecuteDate</th>\n",
       "      <th>accountID</th>\n",
       "      <th>createDay</th>\n",
       "      <th>updateDay</th>\n",
       "      <th>cancelDay</th>\n",
       "      <th>finishExecuteDay</th>\n",
       "    </tr>\n",
       "  </thead>\n",
       "  <tbody>\n",
       "    <tr>\n",
       "      <td>162696</td>\n",
       "      <td>163641</td>\n",
       "      <td>156651</td>\n",
       "      <td>59,574.47</td>\n",
       "      <td>21965</td>\n",
       "      <td>COMPLETED</td>\n",
       "      <td>2022-02-07 11:52:51</td>\n",
       "      <td>2022-02-07 12:28:24</td>\n",
       "      <td>NaT</td>\n",
       "      <td>2022-02-07 11:53:15</td>\n",
       "      <td>199</td>\n",
       "      <td>2022-02-07</td>\n",
       "      <td>2022-02-07</td>\n",
       "      <td>NaT</td>\n",
       "      <td>2022-02-07</td>\n",
       "    </tr>\n",
       "  </tbody>\n",
       "</table>\n",
       "</div>"
      ],
      "text/plain": [
       "            id   jobID  offerPrice  workmanID    stateID          createDate  \\\n",
       "162696  163641  156651   59,574.47      21965  COMPLETED 2022-02-07 11:52:51   \n",
       "\n",
       "                updateDate cancelDate   finishExecuteDate  accountID  \\\n",
       "162696 2022-02-07 12:28:24        NaT 2022-02-07 11:53:15        199   \n",
       "\n",
       "        createDay  updateDay cancelDay finishExecuteDay  \n",
       "162696 2022-02-07 2022-02-07       NaT       2022-02-07  "
      ]
     },
     "execution_count": 131,
     "metadata": {},
     "output_type": "execute_result"
    }
   ],
   "source": [
    "jobOffers.query('jobID == 156651')"
   ]
  },
  {
   "cell_type": "code",
   "execution_count": null,
   "id": "bebca08d",
   "metadata": {},
   "outputs": [],
   "source": []
  },
  {
   "cell_type": "code",
   "execution_count": null,
   "id": "a60f5828",
   "metadata": {},
   "outputs": [],
   "source": []
  },
  {
   "cell_type": "code",
   "execution_count": 117,
   "id": "e1bc2dc8",
   "metadata": {},
   "outputs": [],
   "source": [
    "# посчитаем время, затраченное на выполнение каждого заказа\n",
    "jobs_time['working_hours'] = (\n",
    "    jobs_time['paymentDate'] - jobs_time['createDate']\n",
    ").dt.total_seconds()/3600"
   ]
  },
  {
   "cell_type": "code",
   "execution_count": 118,
   "id": "dba4bb14",
   "metadata": {
    "scrolled": true
   },
   "outputs": [
    {
     "data": {
      "text/html": [
       "<div>\n",
       "<style scoped>\n",
       "    .dataframe tbody tr th:only-of-type {\n",
       "        vertical-align: middle;\n",
       "    }\n",
       "\n",
       "    .dataframe tbody tr th {\n",
       "        vertical-align: top;\n",
       "    }\n",
       "\n",
       "    .dataframe thead th {\n",
       "        text-align: right;\n",
       "    }\n",
       "</style>\n",
       "<table border=\"1\" class=\"dataframe\">\n",
       "  <thead>\n",
       "    <tr style=\"text-align: right;\">\n",
       "      <th></th>\n",
       "      <th>id</th>\n",
       "      <th>createDate</th>\n",
       "      <th>updateDate</th>\n",
       "      <th>title</th>\n",
       "      <th>stateID</th>\n",
       "      <th>accountID</th>\n",
       "      <th>companyDetailsName</th>\n",
       "      <th>workmanID</th>\n",
       "      <th>price</th>\n",
       "      <th>npd</th>\n",
       "      <th>commission</th>\n",
       "      <th>paymentDate</th>\n",
       "      <th>createDay</th>\n",
       "      <th>updateDay</th>\n",
       "      <th>paymentDay</th>\n",
       "      <th>working_hours</th>\n",
       "    </tr>\n",
       "  </thead>\n",
       "  <tbody>\n",
       "    <tr>\n",
       "      <td>36</td>\n",
       "      <td>156651</td>\n",
       "      <td>2022-02-07 11:52:20</td>\n",
       "      <td>2022-02-07 12:28:24</td>\n",
       "      <td>Разные</td>\n",
       "      <td>COMPLETED</td>\n",
       "      <td>199</td>\n",
       "      <td>ИРЛЕНГРУПП</td>\n",
       "      <td>21965</td>\n",
       "      <td>59,574.47</td>\n",
       "      <td>0.00</td>\n",
       "      <td>1,191.49</td>\n",
       "      <td>2022-02-07 12:26:19</td>\n",
       "      <td>2022-02-07</td>\n",
       "      <td>2022-02-07</td>\n",
       "      <td>2022-02-07</td>\n",
       "      <td>0.57</td>\n",
       "    </tr>\n",
       "    <tr>\n",
       "      <td>37</td>\n",
       "      <td>156650</td>\n",
       "      <td>2022-02-07 11:52:20</td>\n",
       "      <td>2022-02-07 12:30:54</td>\n",
       "      <td>Разные</td>\n",
       "      <td>COMPLETED</td>\n",
       "      <td>199</td>\n",
       "      <td>ИРЛЕНГРУПП</td>\n",
       "      <td>22095</td>\n",
       "      <td>51,063.83</td>\n",
       "      <td>0.00</td>\n",
       "      <td>1,021.28</td>\n",
       "      <td>2022-02-07 12:11:21</td>\n",
       "      <td>2022-02-07</td>\n",
       "      <td>2022-02-07</td>\n",
       "      <td>2022-02-07</td>\n",
       "      <td>0.32</td>\n",
       "    </tr>\n",
       "    <tr>\n",
       "      <td>39</td>\n",
       "      <td>156648</td>\n",
       "      <td>2022-02-07 11:43:48</td>\n",
       "      <td>2022-02-07 12:28:24</td>\n",
       "      <td>Погрузо-разгрузочные работы</td>\n",
       "      <td>COMPLETED</td>\n",
       "      <td>110</td>\n",
       "      <td>ГРУЗОТЕМА-СИБИРЬ</td>\n",
       "      <td>27150</td>\n",
       "      <td>5,000.00</td>\n",
       "      <td>300.00</td>\n",
       "      <td>100.00</td>\n",
       "      <td>2022-02-07 12:26:19</td>\n",
       "      <td>2022-02-07</td>\n",
       "      <td>2022-02-07</td>\n",
       "      <td>2022-02-07</td>\n",
       "      <td>0.71</td>\n",
       "    </tr>\n",
       "    <tr>\n",
       "      <td>41</td>\n",
       "      <td>156646</td>\n",
       "      <td>2022-02-07 11:43:47</td>\n",
       "      <td>2022-02-07 12:28:24</td>\n",
       "      <td>Погрузо-разгрузочные работы</td>\n",
       "      <td>COMPLETED</td>\n",
       "      <td>110</td>\n",
       "      <td>ГРУЗОТЕМА-СИБИРЬ</td>\n",
       "      <td>27522</td>\n",
       "      <td>1,700.00</td>\n",
       "      <td>102.00</td>\n",
       "      <td>34.00</td>\n",
       "      <td>2022-02-07 12:26:20</td>\n",
       "      <td>2022-02-07</td>\n",
       "      <td>2022-02-07</td>\n",
       "      <td>2022-02-07</td>\n",
       "      <td>0.71</td>\n",
       "    </tr>\n",
       "    <tr>\n",
       "      <td>43</td>\n",
       "      <td>156644</td>\n",
       "      <td>2022-02-07 11:43:47</td>\n",
       "      <td>2022-02-07 12:23:24</td>\n",
       "      <td>Погрузо-разгрузочные работы</td>\n",
       "      <td>COMPLETED</td>\n",
       "      <td>110</td>\n",
       "      <td>ГРУЗОТЕМА-СИБИРЬ</td>\n",
       "      <td>27758</td>\n",
       "      <td>1,600.00</td>\n",
       "      <td>0.00</td>\n",
       "      <td>32.00</td>\n",
       "      <td>2022-02-07 12:21:16</td>\n",
       "      <td>2022-02-07</td>\n",
       "      <td>2022-02-07</td>\n",
       "      <td>2022-02-07</td>\n",
       "      <td>0.62</td>\n",
       "    </tr>\n",
       "  </tbody>\n",
       "</table>\n",
       "</div>"
      ],
      "text/plain": [
       "        id          createDate          updateDate  \\\n",
       "36  156651 2022-02-07 11:52:20 2022-02-07 12:28:24   \n",
       "37  156650 2022-02-07 11:52:20 2022-02-07 12:30:54   \n",
       "39  156648 2022-02-07 11:43:48 2022-02-07 12:28:24   \n",
       "41  156646 2022-02-07 11:43:47 2022-02-07 12:28:24   \n",
       "43  156644 2022-02-07 11:43:47 2022-02-07 12:23:24   \n",
       "\n",
       "                          title    stateID  accountID companyDetailsName  \\\n",
       "36                       Разные  COMPLETED        199         ИРЛЕНГРУПП   \n",
       "37                       Разные  COMPLETED        199         ИРЛЕНГРУПП   \n",
       "39  Погрузо-разгрузочные работы  COMPLETED        110   ГРУЗОТЕМА-СИБИРЬ   \n",
       "41  Погрузо-разгрузочные работы  COMPLETED        110   ГРУЗОТЕМА-СИБИРЬ   \n",
       "43  Погрузо-разгрузочные работы  COMPLETED        110   ГРУЗОТЕМА-СИБИРЬ   \n",
       "\n",
       "    workmanID     price    npd  commission         paymentDate  createDay  \\\n",
       "36      21965 59,574.47   0.00    1,191.49 2022-02-07 12:26:19 2022-02-07   \n",
       "37      22095 51,063.83   0.00    1,021.28 2022-02-07 12:11:21 2022-02-07   \n",
       "39      27150  5,000.00 300.00      100.00 2022-02-07 12:26:19 2022-02-07   \n",
       "41      27522  1,700.00 102.00       34.00 2022-02-07 12:26:20 2022-02-07   \n",
       "43      27758  1,600.00   0.00       32.00 2022-02-07 12:21:16 2022-02-07   \n",
       "\n",
       "    updateDay paymentDay  working_hours  \n",
       "36 2022-02-07 2022-02-07           0.57  \n",
       "37 2022-02-07 2022-02-07           0.32  \n",
       "39 2022-02-07 2022-02-07           0.71  \n",
       "41 2022-02-07 2022-02-07           0.71  \n",
       "43 2022-02-07 2022-02-07           0.62  "
      ]
     },
     "execution_count": 118,
     "metadata": {},
     "output_type": "execute_result"
    }
   ],
   "source": [
    "jobs_time.head()"
   ]
  },
  {
   "cell_type": "code",
   "execution_count": 119,
   "id": "0029fc25",
   "metadata": {},
   "outputs": [
    {
     "data": {
      "image/png": "[encoded data removed]",
      "text/plain": [
       "<Figure size 576x432 with 1 Axes>"
      ]
     },
     "metadata": {},
     "output_type": "display_data"
    }
   ],
   "source": [
    "# построим гистрграмму\n",
    "plt.figure(figsize=(8,6))\n",
    "jobs_time['working_hours'].hist(bins=100)\n",
    "plt.title('Время выполнения заказов')\n",
    "plt.ylabel('Кол-во исполнителей')\n",
    "plt.xlabel('Длительность, часы')\n",
    "plt.show()"
   ]
  },
  {
   "cell_type": "markdown",
   "id": "1f8738a7",
   "metadata": {},
   "source": [
    "Каких то всплесков по 1000 часов мы не видим, а то что меньше, плохо читается. Нарисуем график по срезу до 1000 часов"
   ]
  },
  {
   "cell_type": "code",
   "execution_count": 120,
   "id": "6ef83726",
   "metadata": {},
   "outputs": [
    {
     "data": {
      "image/png": "[encoded data removed]",
      "text/plain": [
       "<Figure size 1152x576 with 1 Axes>"
      ]
     },
     "metadata": {},
     "output_type": "display_data"
    }
   ],
   "source": [
    "# построим гистограмму\n",
    "# наложим на общие значения данные по 15 id заказчика\n",
    "plt.figure(figsize=(16,8))\n",
    "jobs_time.query('working_hours <= 1000')['working_hours'].hist(bins=150, alpha=0.5, label='Общее')\n",
    "jobs_time.query('working_hours <= 1000 and accountID == 15')['working_hours'].hist(bins=150, label='Заказчик')\n",
    "plt.title('Время выполнения заказов')\n",
    "plt.ylabel('Кол-во исполнителей')\n",
    "plt.xlabel('Длительность, часы')\n",
    "plt.legend(loc='upper right')\n",
    "plt.show()"
   ]
  },
  {
   "cell_type": "markdown",
   "id": "dfb83c36",
   "metadata": {},
   "source": [
    "каждый столбик - это 10 часов. Распределение не похоже на нормальное. Если первые слолбцы говорят о большом кол-ве заказов на короткое время, то вот столбик нв 270 часов интересный, это примерно две недели. Аванс и зарплата?"
   ]
  },
  {
   "cell_type": "code",
   "execution_count": 121,
   "id": "26b7142b",
   "metadata": {},
   "outputs": [
    {
     "data": {
      "text/html": [
       "<div>\n",
       "<style scoped>\n",
       "    .dataframe tbody tr th:only-of-type {\n",
       "        vertical-align: middle;\n",
       "    }\n",
       "\n",
       "    .dataframe tbody tr th {\n",
       "        vertical-align: top;\n",
       "    }\n",
       "\n",
       "    .dataframe thead th {\n",
       "        text-align: right;\n",
       "    }\n",
       "</style>\n",
       "<table border=\"1\" class=\"dataframe\">\n",
       "  <thead>\n",
       "    <tr style=\"text-align: right;\">\n",
       "      <th></th>\n",
       "      <th>id</th>\n",
       "      <th>createDate</th>\n",
       "      <th>updateDate</th>\n",
       "      <th>title</th>\n",
       "      <th>stateID</th>\n",
       "      <th>accountID</th>\n",
       "      <th>companyDetailsName</th>\n",
       "      <th>workmanID</th>\n",
       "      <th>price</th>\n",
       "      <th>npd</th>\n",
       "      <th>commission</th>\n",
       "      <th>paymentDate</th>\n",
       "      <th>createDay</th>\n",
       "      <th>updateDay</th>\n",
       "      <th>paymentDay</th>\n",
       "      <th>working_hours</th>\n",
       "      <th>month</th>\n",
       "    </tr>\n",
       "  </thead>\n",
       "  <tbody>\n",
       "    <tr>\n",
       "      <td>36</td>\n",
       "      <td>156651</td>\n",
       "      <td>2022-02-07 11:52:20</td>\n",
       "      <td>2022-02-07 12:28:24</td>\n",
       "      <td>Разные</td>\n",
       "      <td>COMPLETED</td>\n",
       "      <td>199</td>\n",
       "      <td>ИРЛЕНГРУПП</td>\n",
       "      <td>21965</td>\n",
       "      <td>59,574.47</td>\n",
       "      <td>0.00</td>\n",
       "      <td>1,191.49</td>\n",
       "      <td>2022-02-07 12:26:19</td>\n",
       "      <td>2022-02-07</td>\n",
       "      <td>2022-02-07</td>\n",
       "      <td>2022-02-07</td>\n",
       "      <td>0.57</td>\n",
       "      <td>2022-02-01</td>\n",
       "    </tr>\n",
       "    <tr>\n",
       "      <td>37</td>\n",
       "      <td>156650</td>\n",
       "      <td>2022-02-07 11:52:20</td>\n",
       "      <td>2022-02-07 12:30:54</td>\n",
       "      <td>Разные</td>\n",
       "      <td>COMPLETED</td>\n",
       "      <td>199</td>\n",
       "      <td>ИРЛЕНГРУПП</td>\n",
       "      <td>22095</td>\n",
       "      <td>51,063.83</td>\n",
       "      <td>0.00</td>\n",
       "      <td>1,021.28</td>\n",
       "      <td>2022-02-07 12:11:21</td>\n",
       "      <td>2022-02-07</td>\n",
       "      <td>2022-02-07</td>\n",
       "      <td>2022-02-07</td>\n",
       "      <td>0.32</td>\n",
       "      <td>2022-02-01</td>\n",
       "    </tr>\n",
       "    <tr>\n",
       "      <td>39</td>\n",
       "      <td>156648</td>\n",
       "      <td>2022-02-07 11:43:48</td>\n",
       "      <td>2022-02-07 12:28:24</td>\n",
       "      <td>Погрузо-разгрузочные работы</td>\n",
       "      <td>COMPLETED</td>\n",
       "      <td>110</td>\n",
       "      <td>ГРУЗОТЕМА-СИБИРЬ</td>\n",
       "      <td>27150</td>\n",
       "      <td>5,000.00</td>\n",
       "      <td>300.00</td>\n",
       "      <td>100.00</td>\n",
       "      <td>2022-02-07 12:26:19</td>\n",
       "      <td>2022-02-07</td>\n",
       "      <td>2022-02-07</td>\n",
       "      <td>2022-02-07</td>\n",
       "      <td>0.71</td>\n",
       "      <td>2022-02-01</td>\n",
       "    </tr>\n",
       "    <tr>\n",
       "      <td>41</td>\n",
       "      <td>156646</td>\n",
       "      <td>2022-02-07 11:43:47</td>\n",
       "      <td>2022-02-07 12:28:24</td>\n",
       "      <td>Погрузо-разгрузочные работы</td>\n",
       "      <td>COMPLETED</td>\n",
       "      <td>110</td>\n",
       "      <td>ГРУЗОТЕМА-СИБИРЬ</td>\n",
       "      <td>27522</td>\n",
       "      <td>1,700.00</td>\n",
       "      <td>102.00</td>\n",
       "      <td>34.00</td>\n",
       "      <td>2022-02-07 12:26:20</td>\n",
       "      <td>2022-02-07</td>\n",
       "      <td>2022-02-07</td>\n",
       "      <td>2022-02-07</td>\n",
       "      <td>0.71</td>\n",
       "      <td>2022-02-01</td>\n",
       "    </tr>\n",
       "    <tr>\n",
       "      <td>43</td>\n",
       "      <td>156644</td>\n",
       "      <td>2022-02-07 11:43:47</td>\n",
       "      <td>2022-02-07 12:23:24</td>\n",
       "      <td>Погрузо-разгрузочные работы</td>\n",
       "      <td>COMPLETED</td>\n",
       "      <td>110</td>\n",
       "      <td>ГРУЗОТЕМА-СИБИРЬ</td>\n",
       "      <td>27758</td>\n",
       "      <td>1,600.00</td>\n",
       "      <td>0.00</td>\n",
       "      <td>32.00</td>\n",
       "      <td>2022-02-07 12:21:16</td>\n",
       "      <td>2022-02-07</td>\n",
       "      <td>2022-02-07</td>\n",
       "      <td>2022-02-07</td>\n",
       "      <td>0.62</td>\n",
       "      <td>2022-02-01</td>\n",
       "    </tr>\n",
       "  </tbody>\n",
       "</table>\n",
       "</div>"
      ],
      "text/plain": [
       "        id          createDate          updateDate  \\\n",
       "36  156651 2022-02-07 11:52:20 2022-02-07 12:28:24   \n",
       "37  156650 2022-02-07 11:52:20 2022-02-07 12:30:54   \n",
       "39  156648 2022-02-07 11:43:48 2022-02-07 12:28:24   \n",
       "41  156646 2022-02-07 11:43:47 2022-02-07 12:28:24   \n",
       "43  156644 2022-02-07 11:43:47 2022-02-07 12:23:24   \n",
       "\n",
       "                          title    stateID  accountID companyDetailsName  \\\n",
       "36                       Разные  COMPLETED        199         ИРЛЕНГРУПП   \n",
       "37                       Разные  COMPLETED        199         ИРЛЕНГРУПП   \n",
       "39  Погрузо-разгрузочные работы  COMPLETED        110   ГРУЗОТЕМА-СИБИРЬ   \n",
       "41  Погрузо-разгрузочные работы  COMPLETED        110   ГРУЗОТЕМА-СИБИРЬ   \n",
       "43  Погрузо-разгрузочные работы  COMPLETED        110   ГРУЗОТЕМА-СИБИРЬ   \n",
       "\n",
       "    workmanID     price    npd  commission         paymentDate  createDay  \\\n",
       "36      21965 59,574.47   0.00    1,191.49 2022-02-07 12:26:19 2022-02-07   \n",
       "37      22095 51,063.83   0.00    1,021.28 2022-02-07 12:11:21 2022-02-07   \n",
       "39      27150  5,000.00 300.00      100.00 2022-02-07 12:26:19 2022-02-07   \n",
       "41      27522  1,700.00 102.00       34.00 2022-02-07 12:26:20 2022-02-07   \n",
       "43      27758  1,600.00   0.00       32.00 2022-02-07 12:21:16 2022-02-07   \n",
       "\n",
       "    updateDay paymentDay  working_hours      month  \n",
       "36 2022-02-07 2022-02-07           0.57 2022-02-01  \n",
       "37 2022-02-07 2022-02-07           0.32 2022-02-01  \n",
       "39 2022-02-07 2022-02-07           0.71 2022-02-01  \n",
       "41 2022-02-07 2022-02-07           0.71 2022-02-01  \n",
       "43 2022-02-07 2022-02-07           0.62 2022-02-01  "
      ]
     },
     "execution_count": 121,
     "metadata": {},
     "output_type": "execute_result"
    }
   ],
   "source": [
    "# выделим месяц из даты начала задания. Будем счиать по ним, сколько тратится времени на задания по каждому заказчику\n",
    "jobs_time['month'] = jobs_time['createDate'].dt.strftime('%Y-%m')\n",
    "\n",
    "# сразу приведём в формату даты, чтобы легче было графики строить\n",
    "jobs_time['month'] = pd.to_datetime(jobs_time['month'], format=\"%Y-%m\")\n",
    "jobs_time.head()"
   ]
  },
  {
   "cell_type": "code",
   "execution_count": 124,
   "id": "dc20352c",
   "metadata": {},
   "outputs": [
    {
     "data": {
      "text/html": [
       "<div>\n",
       "<style scoped>\n",
       "    .dataframe tbody tr th:only-of-type {\n",
       "        vertical-align: middle;\n",
       "    }\n",
       "\n",
       "    .dataframe tbody tr th {\n",
       "        vertical-align: top;\n",
       "    }\n",
       "\n",
       "    .dataframe thead th {\n",
       "        text-align: right;\n",
       "    }\n",
       "</style>\n",
       "<table border=\"1\" class=\"dataframe\">\n",
       "  <thead>\n",
       "    <tr style=\"text-align: right;\">\n",
       "      <th></th>\n",
       "      <th>accountID</th>\n",
       "      <th>month</th>\n",
       "      <th>mean_working_hours</th>\n",
       "    </tr>\n",
       "  </thead>\n",
       "  <tbody>\n",
       "    <tr>\n",
       "      <td>0</td>\n",
       "      <td>7</td>\n",
       "      <td>2021-08-01</td>\n",
       "      <td>1.14</td>\n",
       "    </tr>\n",
       "    <tr>\n",
       "      <td>1</td>\n",
       "      <td>7</td>\n",
       "      <td>2021-09-01</td>\n",
       "      <td>2.03</td>\n",
       "    </tr>\n",
       "    <tr>\n",
       "      <td>2</td>\n",
       "      <td>7</td>\n",
       "      <td>2021-10-01</td>\n",
       "      <td>0.39</td>\n",
       "    </tr>\n",
       "    <tr>\n",
       "      <td>3</td>\n",
       "      <td>7</td>\n",
       "      <td>2021-11-01</td>\n",
       "      <td>1.05</td>\n",
       "    </tr>\n",
       "    <tr>\n",
       "      <td>4</td>\n",
       "      <td>11</td>\n",
       "      <td>2021-03-01</td>\n",
       "      <td>68.97</td>\n",
       "    </tr>\n",
       "  </tbody>\n",
       "</table>\n",
       "</div>"
      ],
      "text/plain": [
       "   accountID      month  mean_working_hours\n",
       "0          7 2021-08-01                1.14\n",
       "1          7 2021-09-01                2.03\n",
       "2          7 2021-10-01                0.39\n",
       "3          7 2021-11-01                1.05\n",
       "4         11 2021-03-01               68.97"
      ]
     },
     "execution_count": 124,
     "metadata": {},
     "output_type": "execute_result"
    }
   ],
   "source": [
    "jobs_time_acc = jobs_time.groupby(['accountID','month'])['working_hours'].mean().reset_index()\n",
    "jobs_time_acc = jobs_time_acc.rename(columns={'working_hours':'mean_working_hours'})\n",
    "jobs_time_acc.head()"
   ]
  },
  {
   "cell_type": "code",
   "execution_count": 127,
   "id": "14ffb5e4",
   "metadata": {},
   "outputs": [
    {
     "data": {
      "image/png": "[encoded data removed]",
      "text/plain": [
       "<Figure size 1152x576 with 1 Axes>"
      ]
     },
     "metadata": {},
     "output_type": "display_data"
    }
   ],
   "source": [
    "plt.figure(figsize=(16,8))\n",
    "sns.lineplot(data=jobs_time_acc.query('accountID == 15'),\n",
    "            x='month',\n",
    "            y='mean_working_hours',\n",
    "            label='Среднее время выполнения заказа'\n",
    "           )\n",
    "plt.title('Время выполнения заказов')\n",
    "plt.ylabel('Кол-во исполнителей')\n",
    "plt.xlabel('Длительность, часы')\n",
    "plt.legend(loc='upper right')\n",
    "plt.show()"
   ]
  },
  {
   "cell_type": "code",
   "execution_count": null,
   "id": "289eda01",
   "metadata": {},
   "outputs": [],
   "source": []
  },
  {
   "cell_type": "code",
   "execution_count": null,
   "id": "73b10681",
   "metadata": {},
   "outputs": [],
   "source": []
  },
  {
   "cell_type": "code",
   "execution_count": null,
   "id": "f2b96671",
   "metadata": {},
   "outputs": [],
   "source": []
  },
  {
   "cell_type": "code",
   "execution_count": null,
   "id": "52fd597f",
   "metadata": {},
   "outputs": [],
   "source": []
  },
  {
   "cell_type": "markdown",
   "id": "6ae158ce",
   "metadata": {},
   "source": [
    "### Посмотрим средний чек"
   ]
  },
  {
   "cell_type": "code",
   "execution_count": null,
   "id": "b89c6f15",
   "metadata": {},
   "outputs": [],
   "source": [
    "jobs"
   ]
  },
  {
   "cell_type": "code",
   "execution_count": null,
   "id": "04689ed4",
   "metadata": {},
   "outputs": [],
   "source": [
    "jobs['stateID'].unique()"
   ]
  },
  {
   "cell_type": "markdown",
   "id": "22d1f121",
   "metadata": {},
   "source": [
    "Уберём для дальнейшего анализа статусы с 'CANCELED', 'DRAFT', 'REJECTED' - по ним по сути не идёт выполнение заказа"
   ]
  },
  {
   "cell_type": "code",
   "execution_count": null,
   "id": "17728a70",
   "metadata": {},
   "outputs": [],
   "source": [
    "jobs_work = jobs.query(\"stateID not in ('CANCELED', 'DRAFT', 'REJECTED')\")\n",
    "jobs_work['id'].count()"
   ]
  },
  {
   "cell_type": "code",
   "execution_count": null,
   "id": "f4816605",
   "metadata": {},
   "outputs": [],
   "source": [
    "print('Мы отсеили: {:.0f} строк'.format(jobs['id'].count() - jobs_work['id'].count()))"
   ]
  },
  {
   "cell_type": "code",
   "execution_count": null,
   "id": "0477db20",
   "metadata": {},
   "outputs": [],
   "source": [
    "print('Кол-во пустых значений в цене работ у нас: {:.0f}'.format(jobs_work['price'].isna().sum()))"
   ]
  },
  {
   "cell_type": "code",
   "execution_count": null,
   "id": "7d778417",
   "metadata": {},
   "outputs": [],
   "source": [
    "# сделаем срез без них, неизвестно, как они повлияют на наши расчёты\n",
    "jobs_work.dropna(subset  = ['price'], inplace = True)\n"
   ]
  },
  {
   "cell_type": "code",
   "execution_count": null,
   "id": "3ba28a82",
   "metadata": {},
   "outputs": [],
   "source": [
    "print('Кол-во пустых значений в цене работ у нас: {:.0f}'.format(jobs_work['price'].isna().sum()))\n",
    "print('Кол-во пустых значений в НПД по работам у нас: {:.0f}'.format(jobs_work['npd'].isna().sum()))\n",
    "print('Кол-во пустых значений в комиссии на работы у нас: {:.0f}'.format(jobs_work['commission'].isna().sum()))\n",
    "print()\n",
    "if jobs_work['price'].isna().sum() > 0 or jobs_work[\n",
    "    'npd'].isna().sum() > 0 or jobs_work[\n",
    "    'commission'].isna().sum() > 0:\n",
    "    print('Где то пропуски')\n",
    "else:\n",
    "    print('Все пропуски удалились')"
   ]
  },
  {
   "cell_type": "code",
   "execution_count": null,
   "id": "d42b28a6",
   "metadata": {},
   "outputs": [],
   "source": [
    "jobs_work.info()"
   ]
  },
  {
   "cell_type": "code",
   "execution_count": null,
   "id": "7133728c",
   "metadata": {},
   "outputs": [],
   "source": [
    "average_check_day = jobs_work.groupby(['accountID','paymentDay'])['price'].mean().reset_index()\n",
    "average_check_day = average_check_day.rename(columns={'price':'average_check_day'})\n",
    "average_check_day"
   ]
  },
  {
   "cell_type": "code",
   "execution_count": null,
   "id": "2bd74f8d",
   "metadata": {},
   "outputs": [],
   "source": []
  },
  {
   "cell_type": "code",
   "execution_count": null,
   "id": "86fe0b4f",
   "metadata": {},
   "outputs": [],
   "source": [
    "plt.figure(figsize=(12,6))\n",
    "sns.lineplot(data=average_check_day.query('accountID == 53'), y='average_check_day', x='paymentDay')\n",
    "plt.title('Средний чек по дням')\n",
    "plt.ylabel('Цена, руб')\n",
    "plt.xlabel('Дата')\n",
    "plt.xticks(rotation = 45)\n",
    "plt.show()"
   ]
  },
  {
   "cell_type": "markdown",
   "id": "924a2580",
   "metadata": {},
   "source": [
    "много скачков и провалов"
   ]
  },
  {
   "cell_type": "code",
   "execution_count": null,
   "id": "f20c5bf5",
   "metadata": {},
   "outputs": [],
   "source": [
    "# добавим месяц\n",
    "jobs_work['paymentMonth'] = jobs_work['paymentDay'].dt.to_period('M')\n",
    "\n",
    "# приведём к строковому формату наш месячный период\n",
    "jobs_work['paymentMonth'] = jobs_work['paymentMonth'].dt.to_timestamp('s').dt.strftime('%Y-%m-%d')\n",
    "\n",
    "# теперь к формату datetime64\n",
    "jobs_work['paymentMonth'] = pd.to_datetime(jobs_work['paymentMonth'], format=\"%Y-%m-%d\")"
   ]
  },
  {
   "cell_type": "code",
   "execution_count": null,
   "id": "a7e06b4d",
   "metadata": {},
   "outputs": [],
   "source": [
    "jobs_work.info()"
   ]
  },
  {
   "cell_type": "code",
   "execution_count": null,
   "id": "0969af4d",
   "metadata": {},
   "outputs": [],
   "source": [
    "# посчитаем средний чек за месяц\n",
    "average_check_month = jobs_work.groupby(['accountID','paymentMonth'])['price'].mean().reset_index()\n",
    "average_check_month = average_check_month.rename(columns={'price':'average_check_month'})\n",
    "average_check_month"
   ]
  },
  {
   "cell_type": "code",
   "execution_count": null,
   "id": "8f9ce3f0",
   "metadata": {},
   "outputs": [],
   "source": [
    "plt.figure(figsize=(12,8))\n",
    "sns.lineplot(data=average_check_month.query('accountID == 32'),\n",
    "             y='average_check_month',\n",
    "             x='paymentMonth',\n",
    "            label='Средний чек в месяц')\n",
    "plt.ylabel('Средний чек, руб.')\n",
    "plt.xlabel('Дата, месяц')\n",
    "plt.show()"
   ]
  },
  {
   "cell_type": "markdown",
   "id": "708bb716",
   "metadata": {},
   "source": [
    "По этому заказчику мы видим максимум по среднему чеку в декабре 2021, в январе небольшой спад. А вот февраль пока даёт пике вниз"
   ]
  },
  {
   "cell_type": "code",
   "execution_count": null,
   "id": "30f9eda6",
   "metadata": {},
   "outputs": [],
   "source": [
    "plt.figure(figsize=(12,8))\n",
    "\n",
    "sns.lineplot(data=average_check_day.query('accountID == 32'), \n",
    "             y='average_check_day',\n",
    "             x='paymentDay',\n",
    "            label='Средний чек за день')\n",
    "\n",
    "sns.lineplot(data=average_check_month.query('accountID == 32'),\n",
    "             y='average_check_month',\n",
    "             x='paymentMonth',\n",
    "            label='Средний чек в месяц')\n",
    "\n",
    "\n",
    "plt.title('Средний чек')\n",
    "plt.ylabel('Цена, руб')\n",
    "plt.xlabel('Дата, месяцы')\n",
    "plt.xticks(rotation = 45)\n",
    "plt.show()"
   ]
  },
  {
   "cell_type": "markdown",
   "id": "d91fbc23",
   "metadata": {},
   "source": [
    "Здесь мы видим причину максимума в декабре - были очень дорогие заказы. Далее начиная с января средний чек возвращается к уровню октября. Необходимо так же сравнить ещё и с кол-вом заказов\n",
    "\n",
    "Может заменить на медиану, чтобы выбросы не так влияли?"
   ]
  },
  {
   "cell_type": "markdown",
   "id": "0049002e",
   "metadata": {},
   "source": [
    "**Вывод:**\n",
    "\n",
    "Мы удалили строки, где не приступали к работе. По оставшимся записям расчитали средний чек, по дням и месяцу. Думаю не плохой вариант оставить совмещённый график со средней по дням и месяцу, один позволит видеть общий тренд, другой колебания цены, её диапозон. Делать скользящее среднее умаю не надо. "
   ]
  },
  {
   "cell_type": "markdown",
   "id": "5963b322",
   "metadata": {},
   "source": [
    "### Сколько исполнители получают от заказчиков в месяц, их зарплата"
   ]
  },
  {
   "cell_type": "markdown",
   "id": "f960bb04",
   "metadata": {},
   "source": [
    "Тут пока ничего нет, но я думаю над этим"
   ]
  },
  {
   "cell_type": "markdown",
   "id": "645957ce",
   "metadata": {},
   "source": [
    "<img src=\"https://blagoe21.ru/wp-content/uploads/kakoj-muzhchina-nuzhen-zhenshhine-skorpionu-sobake_15.jpg\">"
   ]
  },
  {
   "cell_type": "markdown",
   "id": "c8e831da",
   "metadata": {},
   "source": [
    "###  Вывод"
   ]
  },
  {
   "cell_type": "markdown",
   "id": "25764d3d",
   "metadata": {},
   "source": [
    "Мы вывели список заказчиков не активных после 1 января с временем последних их публикаций и их обновлений. Мы построили график появления новых аккаунтов заказчиков.\n",
    "\n",
    "Далее мы создали табличку со средним кол-вом публикаций в месяц и скользящим средним за три месяца, построив по этим данным график. Он нам позволит оценивать снижение или увилечение активности отдельного заказчика.\n",
    "\n",
    "Так же мы свели информацию по задержки в днях между публикациями. Построили график с абсолютными величинами и средним за месяц. Их вполне можно соединить и выводить информацию на одном графике по каждому заказчику\n",
    "\n",
    "Пока в раздумьях, как нарисовать затры времени на выполнение заданий..."
   ]
  },
  {
   "cell_type": "markdown",
   "id": "5b088e88",
   "metadata": {},
   "source": [
    "## Изучим таблицу jobOffers"
   ]
  },
  {
   "cell_type": "code",
   "execution_count": null,
   "id": "660d149f",
   "metadata": {},
   "outputs": [],
   "source": [
    "jobOffers"
   ]
  },
  {
   "cell_type": "code",
   "execution_count": null,
   "id": "508a3414",
   "metadata": {},
   "outputs": [],
   "source": [
    "jobOffers['stateID'].unique()"
   ]
  },
  {
   "cell_type": "code",
   "execution_count": null,
   "id": "45ee0685",
   "metadata": {},
   "outputs": [],
   "source": [
    "# сделаю срез, убрав отмены от исполнителей и заказчиков, модераторов (я просто знаю как называется этот статус)\n",
    "jobOffers_work = jobOffers.query('stateID not in (\"DECLINED\",\"CANCELED\",\"REJECTED\")')\n",
    "jobOffers_work['stateID'].unique()"
   ]
  },
  {
   "cell_type": "code",
   "execution_count": null,
   "id": "46924585",
   "metadata": {},
   "outputs": [],
   "source": [
    "plt.figure(figsize=(12,6))\n",
    "jobOffers_work['offerPrice'].hist(bins=100)\n",
    "plt.title('Кол-во заказов относительно стоимости')\n",
    "plt.ylabel('Кол-во заказов')\n",
    "plt.xlabel('Стоимость заказа')\n",
    "plt.show()"
   ]
  },
  {
   "cell_type": "markdown",
   "id": "319a2af1",
   "metadata": {},
   "source": [
    "Распределение нормальное, аномальных всплесков нету"
   ]
  },
  {
   "cell_type": "code",
   "execution_count": null,
   "id": "07ede13b",
   "metadata": {},
   "outputs": [],
   "source": [
    "# посмотрим поближе\n",
    "plt.figure(figsize=(12,6))\n",
    "jobOffers_work.query('offerPrice < 40000')['offerPrice'].hist(bins=100)\n",
    "plt.title('Кол-во заказов относительно стоимости')\n",
    "plt.ylabel('Кол-во заказов')\n",
    "plt.xlabel('Стоимость заказа')\n",
    "plt.show()"
   ]
  },
  {
   "cell_type": "markdown",
   "id": "88ec5794",
   "metadata": {},
   "source": [
    "Есть некоторые всплески в районе 4500, 12500, 17000 и 21500. Думаю связаны они с крупными заказчиками"
   ]
  },
  {
   "cell_type": "markdown",
   "id": "bad5e62a",
   "metadata": {},
   "source": [
    "Пока такое чувство, что эта таблица не сильно полезна, кроме как статусы о принятие отслеживать"
   ]
  },
  {
   "cell_type": "markdown",
   "id": "1aac277a",
   "metadata": {},
   "source": [
    "<img src=\"https://blagoe21.ru/wp-content/uploads/kakoj-muzhchina-nuzhen-zhenshhine-skorpionu-sobake_15.jpg\">"
   ]
  },
  {
   "cell_type": "code",
   "execution_count": null,
   "id": "f15cf3e3",
   "metadata": {},
   "outputs": [],
   "source": []
  }
 ],
 "metadata": {
  "kernelspec": {
   "display_name": "Python 3",
   "language": "python",
   "name": "python3"
  },
  "language_info": {
   "codemirror_mode": {
    "name": "ipython",
    "version": 3
   },
   "file_extension": ".py",
   "mimetype": "text/x-python",
   "name": "python",
   "nbconvert_exporter": "python",
   "pygments_lexer": "ipython3",
   "version": "3.7.11"
  },
  "toc": {
   "base_numbering": 1,
   "nav_menu": {},
   "number_sections": true,
   "sideBar": true,
   "skip_h1_title": false,
   "title_cell": "Содержание",
   "title_sidebar": "Contents",
   "toc_cell": true,
   "toc_position": {
    "height": "calc(100% - 180px)",
    "left": "10px",
    "top": "150px",
    "width": "409.225px"
   },
   "toc_section_display": true,
   "toc_window_display": true
  }
 },
 "nbformat": 4,
 "nbformat_minor": 5
}
